{
 "cells": [
  {
   "cell_type": "markdown",
   "metadata": {},
   "source": [
    "# Linear regression homework with Yelp votes"
   ]
  },
  {
   "cell_type": "markdown",
   "metadata": {},
   "source": [
    "## Introduction\n",
    "\n",
    "This assignment uses a small subset of the data from Kaggle's [Yelp Business Rating Prediction](https://www.kaggle.com/c/yelp-recsys-2013) competition.\n",
    "\n",
    "**Description of the data:**\n",
    "\n",
    "- `yelp.json` is the original format of the file. `yelp.csv` contains the same data, in a more convenient format. Both of the files are in this repo, so there is no need to download the data from the Kaggle website.\n",
    "- Each observation in this dataset is a review of a particular business by a particular user.\n",
    "- The \"stars\" column is the number of stars (1 through 5) assigned by the reviewer to the business. (Higher stars is better.) In other words, it is the rating of the business by the person who wrote the review.\n",
    "- The \"cool\" column is the number of \"cool\" votes this review received from other Yelp users. All reviews start with 0 \"cool\" votes, and there is no limit to how many \"cool\" votes a review can receive. In other words, it is a rating of the review itself, not a rating of the business.\n",
    "- The \"useful\" and \"funny\" columns are similar to the \"cool\" column."
   ]
  },
  {
   "cell_type": "markdown",
   "metadata": {},
   "source": [
    "## Task 1\n",
    "\n",
    "Read `yelp.csv` into a DataFrame."
   ]
  },
  {
   "cell_type": "code",
   "execution_count": 2,
   "metadata": {
    "collapsed": false
   },
   "outputs": [
    {
     "data": {
      "text/html": [
       "<div>\n",
       "<table border=\"1\" class=\"dataframe\">\n",
       "  <thead>\n",
       "    <tr style=\"text-align: right;\">\n",
       "      <th></th>\n",
       "      <th>business_id</th>\n",
       "      <th>date</th>\n",
       "      <th>review_id</th>\n",
       "      <th>stars</th>\n",
       "      <th>text</th>\n",
       "      <th>type</th>\n",
       "      <th>user_id</th>\n",
       "      <th>cool</th>\n",
       "      <th>useful</th>\n",
       "      <th>funny</th>\n",
       "    </tr>\n",
       "  </thead>\n",
       "  <tbody>\n",
       "    <tr>\n",
       "      <th>0</th>\n",
       "      <td>9yKzy9PApeiPPOUJEtnvkg</td>\n",
       "      <td>2011-01-26</td>\n",
       "      <td>fWKvX83p0-ka4JS3dc6E5A</td>\n",
       "      <td>5</td>\n",
       "      <td>My wife took me here on my birthday for breakf...</td>\n",
       "      <td>review</td>\n",
       "      <td>rLtl8ZkDX5vH5nAx9C3q5Q</td>\n",
       "      <td>2</td>\n",
       "      <td>5</td>\n",
       "      <td>0</td>\n",
       "    </tr>\n",
       "  </tbody>\n",
       "</table>\n",
       "</div>"
      ],
      "text/plain": [
       "              business_id        date               review_id  stars  \\\n",
       "0  9yKzy9PApeiPPOUJEtnvkg  2011-01-26  fWKvX83p0-ka4JS3dc6E5A      5   \n",
       "\n",
       "                                                text    type  \\\n",
       "0  My wife took me here on my birthday for breakf...  review   \n",
       "\n",
       "                  user_id  cool  useful  funny  \n",
       "0  rLtl8ZkDX5vH5nAx9C3q5Q     2       5      0  "
      ]
     },
     "execution_count": 2,
     "metadata": {},
     "output_type": "execute_result"
    }
   ],
   "source": [
    "# access yelp.csv using a relative path\n",
    "import pandas as pd\n",
    "yelp = pd.read_csv('/users/teddyandalex/documents/data_science/data-science-class/yelp.csv')\n",
    "yelp.head(1)"
   ]
  },
  {
   "cell_type": "markdown",
   "metadata": {},
   "source": [
    "## Task 1 (Bonus)\n",
    "\n",
    "Ignore the `yelp.csv` file, and construct this DataFrame yourself from `yelp.json`. This involves reading the data into Python, decoding the JSON, converting it to a DataFrame, and adding individual columns for each of the vote types."
   ]
  },
  {
   "cell_type": "code",
   "execution_count": 3,
   "metadata": {
    "collapsed": false
   },
   "outputs": [],
   "source": [
    "# read the data from yelp.json into a list of rows\n",
    "# each row is decoded into a dictionary named \"data\" using using json.loads()\n",
    "import json\n",
    "with open('/users/teddyandalex/documents/data_science/data-science-class/yelp.json', 'rU') as f:\n",
    "    data = [json.loads(row) for row in f]"
   ]
  },
  {
   "cell_type": "code",
   "execution_count": 8,
   "metadata": {
    "collapsed": false
   },
   "outputs": [
    {
     "name": "stdout",
     "output_type": "stream",
     "text": [
      "{u'votes': {u'funny': 0, u'useful': 5, u'cool': 2}, u'user_id': u'rLtl8ZkDX5vH5nAx9C3q5Q', u'review_id': u'fWKvX83p0-ka4JS3dc6E5A', u'text': u'My wife took me here on my birthday for breakfast and it was excellent.  The weather was perfect which made sitting outside overlooking their grounds an absolute pleasure.  Our waitress was excellent and our food arrived quickly on the semi-busy Saturday morning.  It looked like the place fills up pretty quickly so the earlier you get here the better.\\n\\nDo yourself a favor and get their Bloody Mary.  It was phenomenal and simply the best I\\'ve ever had.  I\\'m pretty sure they only use ingredients from their garden and blend them fresh when you order it.  It was amazing.\\n\\nWhile EVERYTHING on the menu looks excellent, I had the white truffle scrambled eggs vegetable skillet and it was tasty and delicious.  It came with 2 pieces of their griddled bread with was amazing and it absolutely made the meal complete.  It was the best \"toast\" I\\'ve ever had.\\n\\nAnyway, I can\\'t wait to go back!', u'business_id': u'9yKzy9PApeiPPOUJEtnvkg', u'stars': 5, u'date': u'2011-01-26', u'type': u'review'}\n"
     ]
    }
   ],
   "source": [
    "# show the first review\n",
    "print data[0]"
   ]
  },
  {
   "cell_type": "code",
   "execution_count": 4,
   "metadata": {
    "collapsed": false
   },
   "outputs": [
    {
     "data": {
      "text/html": [
       "<div>\n",
       "<table border=\"1\" class=\"dataframe\">\n",
       "  <thead>\n",
       "    <tr style=\"text-align: right;\">\n",
       "      <th></th>\n",
       "      <th>business_id</th>\n",
       "      <th>date</th>\n",
       "      <th>review_id</th>\n",
       "      <th>stars</th>\n",
       "      <th>text</th>\n",
       "      <th>type</th>\n",
       "      <th>user_id</th>\n",
       "      <th>votes</th>\n",
       "    </tr>\n",
       "  </thead>\n",
       "  <tbody>\n",
       "    <tr>\n",
       "      <th>0</th>\n",
       "      <td>9yKzy9PApeiPPOUJEtnvkg</td>\n",
       "      <td>2011-01-26</td>\n",
       "      <td>fWKvX83p0-ka4JS3dc6E5A</td>\n",
       "      <td>5</td>\n",
       "      <td>My wife took me here on my birthday for breakf...</td>\n",
       "      <td>review</td>\n",
       "      <td>rLtl8ZkDX5vH5nAx9C3q5Q</td>\n",
       "      <td>{u'funny': 0, u'useful': 5, u'cool': 2}</td>\n",
       "    </tr>\n",
       "    <tr>\n",
       "      <th>1</th>\n",
       "      <td>ZRJwVLyzEJq1VAihDhYiow</td>\n",
       "      <td>2011-07-27</td>\n",
       "      <td>IjZ33sJrzXqU-0X6U8NwyA</td>\n",
       "      <td>5</td>\n",
       "      <td>I have no idea why some people give bad review...</td>\n",
       "      <td>review</td>\n",
       "      <td>0a2KyEL0d3Yb1V6aivbIuQ</td>\n",
       "      <td>{u'funny': 0, u'useful': 0, u'cool': 0}</td>\n",
       "    </tr>\n",
       "    <tr>\n",
       "      <th>2</th>\n",
       "      <td>6oRAC4uyJCsJl1X0WZpVSA</td>\n",
       "      <td>2012-06-14</td>\n",
       "      <td>IESLBzqUCLdSzSqm0eCSxQ</td>\n",
       "      <td>4</td>\n",
       "      <td>love the gyro plate. Rice is so good and I als...</td>\n",
       "      <td>review</td>\n",
       "      <td>0hT2KtfLiobPvh6cDC8JQg</td>\n",
       "      <td>{u'funny': 0, u'useful': 1, u'cool': 0}</td>\n",
       "    </tr>\n",
       "    <tr>\n",
       "      <th>3</th>\n",
       "      <td>_1QQZuf4zZOyFCvXc0o6Vg</td>\n",
       "      <td>2010-05-27</td>\n",
       "      <td>G-WvGaISbqqaMHlNnByodA</td>\n",
       "      <td>5</td>\n",
       "      <td>Rosie, Dakota, and I LOVE Chaparral Dog Park!!...</td>\n",
       "      <td>review</td>\n",
       "      <td>uZetl9T0NcROGOyFfughhg</td>\n",
       "      <td>{u'funny': 0, u'useful': 2, u'cool': 1}</td>\n",
       "    </tr>\n",
       "    <tr>\n",
       "      <th>4</th>\n",
       "      <td>6ozycU1RpktNG2-1BroVtw</td>\n",
       "      <td>2012-01-05</td>\n",
       "      <td>1uJFq2r5QfJG_6ExMRCaGw</td>\n",
       "      <td>5</td>\n",
       "      <td>General Manager Scott Petello is a good egg!!!...</td>\n",
       "      <td>review</td>\n",
       "      <td>vYmM4KTsC8ZfQBg-j5MWkw</td>\n",
       "      <td>{u'funny': 0, u'useful': 0, u'cool': 0}</td>\n",
       "    </tr>\n",
       "  </tbody>\n",
       "</table>\n",
       "</div>"
      ],
      "text/plain": [
       "              business_id        date               review_id  stars  \\\n",
       "0  9yKzy9PApeiPPOUJEtnvkg  2011-01-26  fWKvX83p0-ka4JS3dc6E5A      5   \n",
       "1  ZRJwVLyzEJq1VAihDhYiow  2011-07-27  IjZ33sJrzXqU-0X6U8NwyA      5   \n",
       "2  6oRAC4uyJCsJl1X0WZpVSA  2012-06-14  IESLBzqUCLdSzSqm0eCSxQ      4   \n",
       "3  _1QQZuf4zZOyFCvXc0o6Vg  2010-05-27  G-WvGaISbqqaMHlNnByodA      5   \n",
       "4  6ozycU1RpktNG2-1BroVtw  2012-01-05  1uJFq2r5QfJG_6ExMRCaGw      5   \n",
       "\n",
       "                                                text    type  \\\n",
       "0  My wife took me here on my birthday for breakf...  review   \n",
       "1  I have no idea why some people give bad review...  review   \n",
       "2  love the gyro plate. Rice is so good and I als...  review   \n",
       "3  Rosie, Dakota, and I LOVE Chaparral Dog Park!!...  review   \n",
       "4  General Manager Scott Petello is a good egg!!!...  review   \n",
       "\n",
       "                  user_id                                    votes  \n",
       "0  rLtl8ZkDX5vH5nAx9C3q5Q  {u'funny': 0, u'useful': 5, u'cool': 2}  \n",
       "1  0a2KyEL0d3Yb1V6aivbIuQ  {u'funny': 0, u'useful': 0, u'cool': 0}  \n",
       "2  0hT2KtfLiobPvh6cDC8JQg  {u'funny': 0, u'useful': 1, u'cool': 0}  \n",
       "3  uZetl9T0NcROGOyFfughhg  {u'funny': 0, u'useful': 2, u'cool': 1}  \n",
       "4  vYmM4KTsC8ZfQBg-j5MWkw  {u'funny': 0, u'useful': 0, u'cool': 0}  "
      ]
     },
     "execution_count": 4,
     "metadata": {},
     "output_type": "execute_result"
    }
   ],
   "source": [
    "# convert the list of dictionaries to a DataFrame\n",
    "dataf = pd.DataFrame.from_dict(data, orient = 'columns')\n",
    "dataf.head()\n"
   ]
  },
  {
   "cell_type": "code",
   "execution_count": 22,
   "metadata": {
    "collapsed": false
   },
   "outputs": [
    {
     "data": {
      "text/plain": [
       "0    {u'funny': 0, u'useful': 5, u'cool': 2}\n",
       "1    {u'funny': 0, u'useful': 0, u'cool': 0}\n",
       "2    {u'funny': 0, u'useful': 1, u'cool': 0}\n",
       "3    {u'funny': 0, u'useful': 2, u'cool': 1}\n",
       "4    {u'funny': 0, u'useful': 0, u'cool': 0}\n",
       "Name: votes, dtype: object"
      ]
     },
     "execution_count": 22,
     "metadata": {},
     "output_type": "execute_result"
    }
   ],
   "source": [
    "# add DataFrame columns for cool, useful, and funny\n",
    "votes2 = data['votes']\n",
    "votes2.head()"
   ]
  },
  {
   "cell_type": "code",
   "execution_count": null,
   "metadata": {
    "collapsed": false
   },
   "outputs": [],
   "source": [
    "# drop the votes column and then display the head\n"
   ]
  },
  {
   "cell_type": "markdown",
   "metadata": {},
   "source": [
    "## Task 2\n",
    "\n",
    "Explore the relationship between each of the vote types (cool/useful/funny) and the number of stars."
   ]
  },
  {
   "cell_type": "code",
   "execution_count": 5,
   "metadata": {
    "collapsed": false
   },
   "outputs": [
    {
     "name": "stdout",
     "output_type": "stream",
     "text": [
      "stars\n",
      "1    1.056075\n",
      "2    0.875944\n",
      "3    0.694730\n",
      "4    0.670448\n",
      "5    0.608631\n",
      "Name: funny, dtype: float64\n",
      "stars\n",
      "1    1.604806\n",
      "2    1.563107\n",
      "3    1.306639\n",
      "4    1.395916\n",
      "5    1.381780\n",
      "Name: useful, dtype: float64\n",
      "stars\n",
      "1    0.576769\n",
      "2    0.719525\n",
      "3    0.788501\n",
      "4    0.954623\n",
      "5    0.944261\n",
      "Name: cool, dtype: float64\n"
     ]
    }
   ],
   "source": [
    "# treat stars as a categorical variable and look for differences between groups by comparing the means of the groups\n",
    "yelp.head()\n",
    "print yelp.groupby('stars').funny.mean()\n",
    "print yelp.groupby('stars').useful.mean()\n",
    "print yelp.groupby('stars').cool.mean()\n",
    "    "
   ]
  },
  {
   "cell_type": "code",
   "execution_count": 6,
   "metadata": {
    "collapsed": false
   },
   "outputs": [
    {
     "name": "stderr",
     "output_type": "stream",
     "text": [
      "/Users/TeddyandAlex/anaconda/lib/python2.7/site-packages/matplotlib/__init__.py:872: UserWarning: axes.color_cycle is deprecated and replaced with axes.prop_cycle; please use the latter.\n",
      "  warnings.warn(self.msg_depr % (key, alt_key))\n"
     ]
    },
    {
     "data": {
      "text/html": [
       "<div>\n",
       "<table border=\"1\" class=\"dataframe\">\n",
       "  <thead>\n",
       "    <tr style=\"text-align: right;\">\n",
       "      <th></th>\n",
       "      <th>stars</th>\n",
       "      <th>cool</th>\n",
       "      <th>useful</th>\n",
       "      <th>funny</th>\n",
       "    </tr>\n",
       "  </thead>\n",
       "  <tbody>\n",
       "    <tr>\n",
       "      <th>stars</th>\n",
       "      <td>1.000000</td>\n",
       "      <td>0.052555</td>\n",
       "      <td>-0.023479</td>\n",
       "      <td>-0.061306</td>\n",
       "    </tr>\n",
       "    <tr>\n",
       "      <th>cool</th>\n",
       "      <td>0.052555</td>\n",
       "      <td>1.000000</td>\n",
       "      <td>0.887102</td>\n",
       "      <td>0.764342</td>\n",
       "    </tr>\n",
       "    <tr>\n",
       "      <th>useful</th>\n",
       "      <td>-0.023479</td>\n",
       "      <td>0.887102</td>\n",
       "      <td>1.000000</td>\n",
       "      <td>0.723406</td>\n",
       "    </tr>\n",
       "    <tr>\n",
       "      <th>funny</th>\n",
       "      <td>-0.061306</td>\n",
       "      <td>0.764342</td>\n",
       "      <td>0.723406</td>\n",
       "      <td>1.000000</td>\n",
       "    </tr>\n",
       "  </tbody>\n",
       "</table>\n",
       "</div>"
      ],
      "text/plain": [
       "           stars      cool    useful     funny\n",
       "stars   1.000000  0.052555 -0.023479 -0.061306\n",
       "cool    0.052555  1.000000  0.887102  0.764342\n",
       "useful -0.023479  0.887102  1.000000  0.723406\n",
       "funny  -0.061306  0.764342  0.723406  1.000000"
      ]
     },
     "execution_count": 6,
     "metadata": {},
     "output_type": "execute_result"
    },
    {
     "data": {
      "image/png": "[encoded data removed]",
      "text/plain": [
       "<matplotlib.figure.Figure at 0x10cd58410>"
      ]
     },
     "metadata": {},
     "output_type": "display_data"
    }
   ],
   "source": [
    "# display acorrelation matrix of the vote types (cool/useful/funny) and stars\n",
    "%matplotlib inline\n",
    "import seaborn as sns\n",
    "sns.heatmap(yelp.corr())\n",
    "\n",
    "yelp.corr()"
   ]
  },
  {
   "cell_type": "code",
   "execution_count": 45,
   "metadata": {
    "collapsed": false
   },
   "outputs": [
    {
     "data": {
      "text/plain": [
       "<seaborn.axisgrid.FacetGrid at 0x10f07b610>"
      ]
     },
     "execution_count": 45,
     "metadata": {},
     "output_type": "execute_result"
    },
    {
     "data": {
      "image/png": "[encoded data removed]",
      "text/plain": [
       "<matplotlib.figure.Figure at 0x106e28090>"
      ]
     },
     "metadata": {},
     "output_type": "display_data"
    },
    {
     "data": {
      "image/png": "[encoded data removed]",
      "text/plain": [
       "<matplotlib.figure.Figure at 0x10e5417d0>"
      ]
     },
     "metadata": {},
     "output_type": "display_data"
    },
    {
     "data": {
      "image/png": "[encoded data removed]",
      "text/plain": [
       "<matplotlib.figure.Figure at 0x10f2ac090>"
      ]
     },
     "metadata": {},
     "output_type": "display_data"
    }
   ],
   "source": [
    "# display multiple scatter plots (cool, useful, funny) with linear regression line\n",
    "sns.lmplot(x='cool', y='stars', data=yelp, aspect=1.5, scatter_kws={'alpha':0.2})\n",
    "sns.lmplot(x='useful', y='stars', data=yelp, aspect=1.5, scatter_kws={'alpha':0.2})\n",
    "sns.lmplot(x='funny', y='stars', data=yelp, aspect=1.5, scatter_kws={'alpha':0.2})\n"
   ]
  },
  {
   "cell_type": "markdown",
   "metadata": {},
   "source": [
    "## Task 3\n",
    "\n",
    "Define cool/useful/funny as the feature matrix X, and stars as the response vector y."
   ]
  },
  {
   "cell_type": "code",
   "execution_count": 9,
   "metadata": {
    "collapsed": true
   },
   "outputs": [],
   "source": [
    "feature_cols = ['cool', 'useful', 'funny']\n",
    "X = yelp[feature_cols]\n",
    "y = yelp.stars"
   ]
  },
  {
   "cell_type": "markdown",
   "metadata": {},
   "source": [
    "## Task 4\n",
    "\n",
    "Fit a linear regression model and interpret the coefficients. Do the coefficients make intuitive sense to you? Explore the Yelp website to see if you detect similar trends."
   ]
  },
  {
   "cell_type": "code",
   "execution_count": 10,
   "metadata": {
    "collapsed": false
   },
   "outputs": [
    {
     "name": "stdout",
     "output_type": "stream",
     "text": [
      "3.83989479278\n",
      "[ 0.27435947 -0.14745239 -0.13567449]\n"
     ]
    }
   ],
   "source": [
    "from sklearn.linear_model import LinearRegression\n",
    "linreg = LinearRegression()\n",
    "linreg.fit(X, y)\n",
    "print linreg.intercept_\n",
    "print linreg.coef_\n"
   ]
  },
  {
   "cell_type": "markdown",
   "metadata": {},
   "source": [
    "## Task 5\n",
    "\n",
    "Evaluate the model by splitting it into training and testing sets and computing the RMSE. Does the RMSE make intuitive sense to you?"
   ]
  },
  {
   "cell_type": "code",
   "execution_count": 11,
   "metadata": {
    "collapsed": true
   },
   "outputs": [],
   "source": [
    "from sklearn.cross_validation import train_test_split\n",
    "from sklearn import metrics\n",
    "import numpy as np"
   ]
  },
  {
   "cell_type": "code",
   "execution_count": 12,
   "metadata": {
    "collapsed": true
   },
   "outputs": [],
   "source": [
    "# define a function that accepts a list of features and returns testing RMSE\n",
    "\n",
    "\n",
    "def train_test_rmse(feature_cols):\n",
    "    X = yelp[feature_cols]\n",
    "    y = yelp.stars\n",
    "    X_train, X_test, y_train, y_test = train_test_split(X, y, random_state=123)\n",
    "    linreg = LinearRegression()\n",
    "    linreg.fit(X_train, y_train)\n",
    "    y_pred = linreg.predict(X_test)\n",
    "    return np.sqrt(metrics.mean_squared_error(y_test, y_pred))"
   ]
  },
  {
   "cell_type": "code",
   "execution_count": 13,
   "metadata": {
    "collapsed": false
   },
   "outputs": [
    {
     "name": "stdout",
     "output_type": "stream",
     "text": [
      "1.17336862742\n"
     ]
    }
   ],
   "source": [
    "# calculate RMSE with all three features\n",
    "print train_test_rmse(['cool', 'useful', 'funny'])"
   ]
  },
  {
   "cell_type": "markdown",
   "metadata": {},
   "source": [
    "## Task 6\n",
    "\n",
    "Try removing some of the features and see if the RMSE improves."
   ]
  },
  {
   "cell_type": "code",
   "execution_count": 69,
   "metadata": {
    "collapsed": false,
    "scrolled": true
   },
   "outputs": [
    {
     "name": "stdout",
     "output_type": "stream",
     "text": [
      "1.18537944234\n",
      "1.20070113589\n",
      "1.1851949299\n",
      "1.20049049928\n",
      "1.20143488625\n",
      "1.20043591364\n",
      "              business_id        date               review_id  stars  \\\n",
      "0  9yKzy9PApeiPPOUJEtnvkg  2011-01-26  fWKvX83p0-ka4JS3dc6E5A      5   \n",
      "1  ZRJwVLyzEJq1VAihDhYiow  2011-07-27  IjZ33sJrzXqU-0X6U8NwyA      5   \n",
      "2  6oRAC4uyJCsJl1X0WZpVSA  2012-06-14  IESLBzqUCLdSzSqm0eCSxQ      4   \n",
      "3  _1QQZuf4zZOyFCvXc0o6Vg  2010-05-27  G-WvGaISbqqaMHlNnByodA      5   \n",
      "4  6ozycU1RpktNG2-1BroVtw  2012-01-05  1uJFq2r5QfJG_6ExMRCaGw      5   \n",
      "\n",
      "                                                text    type  \\\n",
      "0  My wife took me here on my birthday for breakf...  review   \n",
      "1  I have no idea why some people give bad review...  review   \n",
      "2  love the gyro plate. Rice is so good and I als...  review   \n",
      "3  Rosie, Dakota, and I LOVE Chaparral Dog Park!!...  review   \n",
      "4  General Manager Scott Petello is a good egg!!!...  review   \n",
      "\n",
      "                  user_id  cool  useful  funny  \n",
      "0  rLtl8ZkDX5vH5nAx9C3q5Q     2       5      0  \n",
      "1  0a2KyEL0d3Yb1V6aivbIuQ     0       0      0  \n",
      "2  0hT2KtfLiobPvh6cDC8JQg     0       1      0  \n",
      "3  uZetl9T0NcROGOyFfughhg     1       2      0  \n",
      "4  vYmM4KTsC8ZfQBg-j5MWkw     0       0      0  \n"
     ]
    }
   ],
   "source": [
    "print train_test_rmse(['cool', 'useful'])\n",
    "print train_test_rmse(['useful', 'funny'])\n",
    "print train_test_rmse(['cool', 'funny'])\n",
    "print train_test_rmse(['cool'])\n",
    "print train_test_rmse(['useful'])\n",
    "print train_test_rmse(['funny'])\n"
   ]
  },
  {
   "cell_type": "markdown",
   "metadata": {},
   "source": [
    "## Task 7 (Bonus)\n",
    "\n",
    "Think of some new features you could create from the existing data that might be predictive of the response. Figure out how to create those features in Pandas, add them to your model, and see if the RMSE improves."
   ]
  },
  {
   "cell_type": "code",
   "execution_count": 74,
   "metadata": {
    "collapsed": false
   },
   "outputs": [
    {
     "data": {
      "text/plain": [
       "business_id    object\n",
       "date           object\n",
       "review_id      object\n",
       "stars           int64\n",
       "text           object\n",
       "type           object\n",
       "user_id        object\n",
       "cool            int64\n",
       "useful          int64\n",
       "funny           int64\n",
       "dtype: object"
      ]
     },
     "execution_count": 74,
     "metadata": {},
     "output_type": "execute_result"
    }
   ],
   "source": [
    "# new feature: \n",
    "yelp.dtypes"
   ]
  },
  {
   "cell_type": "code",
   "execution_count": 15,
   "metadata": {
    "collapsed": false
   },
   "outputs": [],
   "source": [
    "# new features: \n",
    "yelp['newdate'] = pd.to_datetime(yelp['date'])\n",
    "yelp['month'] = yelp.newdate.dt.month\n",
    "yelp['season']=''\n",
    "yelp.loc[(yelp['month'] >= 1) & (yelp['month'] <=3), 'season'] = 1\n",
    "yelp.loc[(yelp['month'] >= 4) & (yelp['month'] <=6), 'season'] = 2\n",
    "yelp.loc[(yelp['month'] >= 7) & (yelp['month'] <=9), 'season'] = 3\n",
    "yelp.loc[(yelp['month'] >= 10) & (yelp['month'] <=12), 'season'] = 4\n",
    "season_dummies = pd.get_dummies(yelp.season, prefix='season')\n",
    "yelp = pd.concat([yelp, season_dummies], axis=1)"
   ]
  },
  {
   "cell_type": "code",
   "execution_count": 18,
   "metadata": {
    "collapsed": false
   },
   "outputs": [
    {
     "name": "stdout",
     "output_type": "stream",
     "text": [
      "3.7993971591\n",
      "[ 0.27525464 -0.14824828 -0.13587929  0.07356968  0.04060035  0.04638145]\n",
      "1.17347975443\n"
     ]
    }
   ],
   "source": [
    "# add new features to the model and calculate RMSE\n",
    "feature_cols = ['cool', 'useful', 'funny', 'season_1', 'season_2', 'season_3']\n",
    "X = yelp[feature_cols]\n",
    "y = yelp.stars\n",
    "\n",
    "linreg = LinearRegression()\n",
    "linreg.fit(X, y)\n",
    "print linreg.intercept_\n",
    "print linreg.coef_\n",
    "\n",
    "\n",
    "print train_test_rmse(['cool', 'useful', 'funny','season_1', 'season_2', 'season_3'])"
   ]
  },
  {
   "cell_type": "markdown",
   "metadata": {},
   "source": [
    "Adding a seasons variable resulted in an RMSE that was slightly higher than the original model."
   ]
  },
  {
   "cell_type": "markdown",
   "metadata": {},
   "source": [
    "## Task 8 (Bonus)\n",
    "\n",
    "Compare your best RMSE on the testing set with the RMSE for the \"null model\", which is the model that ignores all features and simply predicts the mean response value in the testing set."
   ]
  },
  {
   "cell_type": "code",
   "execution_count": 58,
   "metadata": {
    "collapsed": false
   },
   "outputs": [
    {
     "name": "stdout",
     "output_type": "stream",
     "text": [
      "count    2500.000000\n",
      "mean        3.780800\n",
      "std         1.202219\n",
      "min         1.000000\n",
      "25%         3.000000\n",
      "50%         4.000000\n",
      "75%         5.000000\n",
      "max         5.000000\n",
      "Name: stars, dtype: float64\n",
      "count    7500.000000\n",
      "mean        3.776400\n",
      "std         1.218825\n",
      "min         1.000000\n",
      "25%         3.000000\n",
      "50%         4.000000\n",
      "75%         5.000000\n",
      "max         5.000000\n",
      "Name: stars, dtype: float64\n",
      "count    2.500000e+03\n",
      "mean     3.780800e+00\n",
      "std      2.567349e-13\n",
      "min      3.780800e+00\n",
      "25%      3.780800e+00\n",
      "50%      3.780800e+00\n",
      "75%      3.780800e+00\n",
      "max      3.780800e+00\n",
      "Name: meany, dtype: float64\n"
     ]
    },
    {
     "data": {
      "text/plain": [
       "1.2019781029619465"
      ]
     },
     "execution_count": 58,
     "metadata": {},
     "output_type": "execute_result"
    }
   ],
   "source": [
    "feature_cols = ['cool', 'useful', 'funny']\n",
    "y = yelp.stars\n",
    "X_train, X_test, y_train, y_test = train_test_split(X, y, random_state=123)\n",
    "print y_test.describe()\n",
    "print y_train.describe()\n",
    "yelp['meany']=y_test.mean()\n",
    "ypred = yelp.meany[2501:5001]\n",
    "print ypred.describe()\n",
    "np.sqrt(metrics.mean_squared_error(y_test, ypred))\n",
    "\n",
    "#np.sqrt(metrics.mean_squared_error(y_test, y_test.pred))"
   ]
  },
  {
   "cell_type": "code",
   "execution_count": null,
   "metadata": {
    "collapsed": true
   },
   "outputs": [],
   "source": [
    "The original model performed better than the null model, with a lower RMSE."
   ]
  },
  {
   "cell_type": "markdown",
   "metadata": {},
   "source": [
    "## Task 9 (Bonus)\n",
    "\n",
    "Instead of treating this as a regression problem, treat it as a classification problem and see what testing accuracy you can achieve with KNN."
   ]
  },
  {
   "cell_type": "code",
   "execution_count": 19,
   "metadata": {
    "collapsed": false
   },
   "outputs": [
    {
     "name": "stdout",
     "output_type": "stream",
     "text": [
      "0.1976\n"
     ]
    }
   ],
   "source": [
    "# import and instantiate KNN\n",
    "# # neighbors = 1\n",
    "from sklearn.neighbors import KNeighborsClassifier\n",
    "\n",
    "knn = KNeighborsClassifier(n_neighbors=1)\n",
    "type(knn)\n",
    "\n",
    "feature_cols = ['cool', 'useful', 'funny']\n",
    "X = yelp[feature_cols]\n",
    "\n",
    "y = yelp.stars\n",
    "\n",
    "X_train, X_test, y_train, y_test = train_test_split(X, y, random_state=123)\n",
    "knn.fit(X_train, y_train)\n",
    "\n",
    "y_pred_class = knn.predict(X_test)\n",
    "print metrics.accuracy_score(y_test, y_pred_class)"
   ]
  },
  {
   "cell_type": "code",
   "execution_count": 73,
   "metadata": {
    "collapsed": false
   },
   "outputs": [
    {
     "name": "stdout",
     "output_type": "stream",
     "text": [
      "0.32\n"
     ]
    }
   ],
   "source": [
    "# note: classification models will automatically treat the response value (1/2/3/4/5) as unordered categories\n",
    "# # neighbors = 10\n",
    "knn = KNeighborsClassifier(n_neighbors=10)\n",
    "type(knn)\n",
    "\n",
    "feature_cols = ['cool', 'useful', 'funny']\n",
    "X = yelp[feature_cols]\n",
    "y = yelp.stars\n",
    "\n",
    "\n",
    "X_train, X_test, y_train, y_test = train_test_split(X, y, random_state=123)\n",
    "knn.fit(X_train, y_train)\n",
    "\n",
    "y_pred_class = knn.predict(X_test)\n",
    "print metrics.accuracy_score(y_test, y_pred_class)"
   ]
  },
  {
   "cell_type": "markdown",
   "metadata": {},
   "source": [
    "## Task 10 (Bonus)\n",
    "\n",
    "Figure out how to use linear regression for classification, and compare its classification accuracy with KNN's accuracy."
   ]
  },
  {
   "cell_type": "code",
   "execution_count": 25,
   "metadata": {
    "collapsed": false
   },
   "outputs": [
    {
     "name": "stdout",
     "output_type": "stream",
     "text": [
      "3.83989479278\n",
      "[ 0.27435947 -0.14745239 -0.13567449]\n",
      "[ 3.83989479  4.09370895  3.83989479 ...,  3.92872173  3.83989479\n",
      "  3.83989479]\n",
      "[ 4.  4.  4. ...,  4.  4.  4.]\n"
     ]
    }
   ],
   "source": [
    "feature_cols = ['cool', 'useful', 'funny']\n",
    "X = yelp[feature_cols]\n",
    "y = yelp.stars\n",
    "\n",
    "linreg = LinearRegression()\n",
    "linreg.fit(X, y)\n",
    "print linreg.intercept_\n",
    "print linreg.coef_\n",
    "\n",
    "# test: predict the response values for the observations in X (\"test the model\") - make predictions classifications\n",
    "y_pred_lr = linreg.predict(X_test)\n",
    "y_pred_class = np.around(y_pred_lr, decimals = 0)\n",
    "print y_pred_lr\n",
    "print y_pred\n",
    " # STEP 1: split X and y into training and testing sets (using random_state for reproducibility)\n",
    "X_train, X_test, y_train, y_test = train_test_split(X, y, random_state=99)\n",
    "compute classification accuracy\n",
    "from sklearn import metrics\n",
    "print metrics.accuracy_score(y, y_pred_class)\n",
    "def train_test_rmse(feature_cols):\n",
    "    X = yelp[feature_cols]\n",
    "    y = yelp.stars\n",
    "    X_train, X_test, y_train, y_test = train_test_split(X, y, random_state=123)\n",
    "    linreg = LinearRegression()\n",
    "    linreg.fit(X_train, y_train)\n",
    "    y_pred = linreg.predict(X_test)\n",
    "    return np.sqrt(metrics.mean_squared_error(y_test, y_pred))"
   ]
  },
  {
   "cell_type": "code",
   "execution_count": 26,
   "metadata": {
    "collapsed": true
   },
   "outputs": [],
   "source": [
    "# STEP 1: split X and y into training and testing sets (using random_state for reproducibility)\n",
    "X = yelp[feature_cols]\n",
    "y = yelp.stars\n",
    "X_train, X_test, y_train, y_test = train_test_split(X, y, random_state=88)"
   ]
  },
  {
   "cell_type": "code",
   "execution_count": 27,
   "metadata": {
    "collapsed": false
   },
   "outputs": [
    {
     "name": "stdout",
     "output_type": "stream",
     "text": [
      "3.85498832783\n",
      "[ 0.2799588  -0.16532152 -0.12519611]\n"
     ]
    }
   ],
   "source": [
    "# STEP 2: train the model on the training set (using linear regression)\n",
    "linreg.fit(X_train, y_train)\n",
    "print linreg.intercept_\n",
    "print linreg.coef_\n",
    "\n",
    "# test: predict the response values for the observations in X (\"test the model\") - make predictions classifications\n",
    "y_pred_lr = linreg.predict(X_test)\n",
    "y_pred_class = np.around(y_pred_lr, decimals = 0)"
   ]
  },
  {
   "cell_type": "code",
   "execution_count": 28,
   "metadata": {
    "collapsed": false
   },
   "outputs": [
    {
     "name": "stdout",
     "output_type": "stream",
     "text": [
      "0.3496\n"
     ]
    }
   ],
   "source": [
    "# STEP 3: test the model on the testing set, and check the accuracy\n",
    "print metrics.accuracy_score(y_test, y_pred_class)"
   ]
  }
 ],
 "metadata": {
  "kernelspec": {
   "display_name": "Python 2",
   "language": "python",
   "name": "python2"
  },
  "language_info": {
   "codemirror_mode": {
    "name": "ipython",
    "version": 2
   },
   "file_extension": ".py",
   "mimetype": "text/x-python",
   "name": "python",
   "nbconvert_exporter": "python",
   "pygments_lexer": "ipython2",
   "version": "2.7.10"
  }
 },
 "nbformat": 4,
 "nbformat_minor": 0
}
