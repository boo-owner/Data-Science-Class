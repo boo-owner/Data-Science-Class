{
 "cells": [
  {
   "cell_type": "markdown",
   "metadata": {},
   "source": [
    "# Naive Bayes homework with Yelp review text"
   ]
  },
  {
   "cell_type": "markdown",
   "metadata": {},
   "source": [
    "## Task 1\n",
    "\n",
    "Read `yelp.csv` into a DataFrame."
   ]
  },
  {
   "cell_type": "code",
   "execution_count": 1,
   "metadata": {
    "collapsed": false
   },
   "outputs": [
    {
     "data": {
      "text/html": [
       "<div>\n",
       "<table border=\"1\" class=\"dataframe\">\n",
       "  <thead>\n",
       "    <tr style=\"text-align: right;\">\n",
       "      <th></th>\n",
       "      <th>business_id</th>\n",
       "      <th>date</th>\n",
       "      <th>review_id</th>\n",
       "      <th>stars</th>\n",
       "      <th>text</th>\n",
       "      <th>type</th>\n",
       "      <th>user_id</th>\n",
       "      <th>cool</th>\n",
       "      <th>useful</th>\n",
       "      <th>funny</th>\n",
       "    </tr>\n",
       "  </thead>\n",
       "  <tbody>\n",
       "    <tr>\n",
       "      <th>0</th>\n",
       "      <td>9yKzy9PApeiPPOUJEtnvkg</td>\n",
       "      <td>2011-01-26</td>\n",
       "      <td>fWKvX83p0-ka4JS3dc6E5A</td>\n",
       "      <td>5</td>\n",
       "      <td>My wife took me here on my birthday for breakf...</td>\n",
       "      <td>review</td>\n",
       "      <td>rLtl8ZkDX5vH5nAx9C3q5Q</td>\n",
       "      <td>2</td>\n",
       "      <td>5</td>\n",
       "      <td>0</td>\n",
       "    </tr>\n",
       "    <tr>\n",
       "      <th>1</th>\n",
       "      <td>ZRJwVLyzEJq1VAihDhYiow</td>\n",
       "      <td>2011-07-27</td>\n",
       "      <td>IjZ33sJrzXqU-0X6U8NwyA</td>\n",
       "      <td>5</td>\n",
       "      <td>I have no idea why some people give bad review...</td>\n",
       "      <td>review</td>\n",
       "      <td>0a2KyEL0d3Yb1V6aivbIuQ</td>\n",
       "      <td>0</td>\n",
       "      <td>0</td>\n",
       "      <td>0</td>\n",
       "    </tr>\n",
       "    <tr>\n",
       "      <th>2</th>\n",
       "      <td>6oRAC4uyJCsJl1X0WZpVSA</td>\n",
       "      <td>2012-06-14</td>\n",
       "      <td>IESLBzqUCLdSzSqm0eCSxQ</td>\n",
       "      <td>4</td>\n",
       "      <td>love the gyro plate. Rice is so good and I als...</td>\n",
       "      <td>review</td>\n",
       "      <td>0hT2KtfLiobPvh6cDC8JQg</td>\n",
       "      <td>0</td>\n",
       "      <td>1</td>\n",
       "      <td>0</td>\n",
       "    </tr>\n",
       "    <tr>\n",
       "      <th>3</th>\n",
       "      <td>_1QQZuf4zZOyFCvXc0o6Vg</td>\n",
       "      <td>2010-05-27</td>\n",
       "      <td>G-WvGaISbqqaMHlNnByodA</td>\n",
       "      <td>5</td>\n",
       "      <td>Rosie, Dakota, and I LOVE Chaparral Dog Park!!...</td>\n",
       "      <td>review</td>\n",
       "      <td>uZetl9T0NcROGOyFfughhg</td>\n",
       "      <td>1</td>\n",
       "      <td>2</td>\n",
       "      <td>0</td>\n",
       "    </tr>\n",
       "    <tr>\n",
       "      <th>4</th>\n",
       "      <td>6ozycU1RpktNG2-1BroVtw</td>\n",
       "      <td>2012-01-05</td>\n",
       "      <td>1uJFq2r5QfJG_6ExMRCaGw</td>\n",
       "      <td>5</td>\n",
       "      <td>General Manager Scott Petello is a good egg!!!...</td>\n",
       "      <td>review</td>\n",
       "      <td>vYmM4KTsC8ZfQBg-j5MWkw</td>\n",
       "      <td>0</td>\n",
       "      <td>0</td>\n",
       "      <td>0</td>\n",
       "    </tr>\n",
       "  </tbody>\n",
       "</table>\n",
       "</div>"
      ],
      "text/plain": [
       "              business_id        date               review_id  stars  \\\n",
       "0  9yKzy9PApeiPPOUJEtnvkg  2011-01-26  fWKvX83p0-ka4JS3dc6E5A      5   \n",
       "1  ZRJwVLyzEJq1VAihDhYiow  2011-07-27  IjZ33sJrzXqU-0X6U8NwyA      5   \n",
       "2  6oRAC4uyJCsJl1X0WZpVSA  2012-06-14  IESLBzqUCLdSzSqm0eCSxQ      4   \n",
       "3  _1QQZuf4zZOyFCvXc0o6Vg  2010-05-27  G-WvGaISbqqaMHlNnByodA      5   \n",
       "4  6ozycU1RpktNG2-1BroVtw  2012-01-05  1uJFq2r5QfJG_6ExMRCaGw      5   \n",
       "\n",
       "                                                text    type  \\\n",
       "0  My wife took me here on my birthday for breakf...  review   \n",
       "1  I have no idea why some people give bad review...  review   \n",
       "2  love the gyro plate. Rice is so good and I als...  review   \n",
       "3  Rosie, Dakota, and I LOVE Chaparral Dog Park!!...  review   \n",
       "4  General Manager Scott Petello is a good egg!!!...  review   \n",
       "\n",
       "                  user_id  cool  useful  funny  \n",
       "0  rLtl8ZkDX5vH5nAx9C3q5Q     2       5      0  \n",
       "1  0a2KyEL0d3Yb1V6aivbIuQ     0       0      0  \n",
       "2  0hT2KtfLiobPvh6cDC8JQg     0       1      0  \n",
       "3  uZetl9T0NcROGOyFfughhg     1       2      0  \n",
       "4  vYmM4KTsC8ZfQBg-j5MWkw     0       0      0  "
      ]
     },
     "execution_count": 1,
     "metadata": {},
     "output_type": "execute_result"
    }
   ],
   "source": [
    "# access yelp.csv in your data directory and load it into a DataFrame\n",
    "import pandas as pd\n",
    "path = '/Users/arthurkolios/documents/data_science/GA-SEA-DAT1/data/'\n",
    "yelp = pd.read_csv(path + 'yelp.csv')\n",
    "yelp.head()"
   ]
  },
  {
   "cell_type": "markdown",
   "metadata": {},
   "source": [
    "## Task 2\n",
    "\n",
    "Create a new DataFrame that only contains the 5-star and 1-star reviews."
   ]
  },
  {
   "cell_type": "code",
   "execution_count": 2,
   "metadata": {
    "collapsed": false
   },
   "outputs": [],
   "source": [
    "# filter the DataFrame to only rows that have a 5-star or 1-star rating. Using an OR condition\n",
    "yelp51 = yelp[(yelp.stars==1) | (yelp.stars==5)]"
   ]
  },
  {
   "cell_type": "markdown",
   "metadata": {},
   "source": [
    "## Task 3\n",
    "\n",
    "Split the new DataFrame into training and testing sets, using the review text as the only feature and the star rating as the response."
   ]
  },
  {
   "cell_type": "code",
   "execution_count": 3,
   "metadata": {
    "collapsed": true
   },
   "outputs": [],
   "source": [
    "# define X and y\n",
    "X = yelp51['text']\n",
    "y = yelp51.stars"
   ]
  },
  {
   "cell_type": "code",
   "execution_count": 4,
   "metadata": {
    "collapsed": true
   },
   "outputs": [],
   "source": [
    "# split into training and testing sets\n",
    "from sklearn.cross_validation import train_test_split\n",
    "X_train, X_test, y_train, y_test = train_test_split(X, y)"
   ]
  },
  {
   "cell_type": "markdown",
   "metadata": {},
   "source": [
    "## Task 4\n",
    "\n",
    "Use CountVectorizer to create document-term matrices from X_train and X_test."
   ]
  },
  {
   "cell_type": "code",
   "execution_count": 5,
   "metadata": {
    "collapsed": true
   },
   "outputs": [],
   "source": [
    "# import and instantiate the vectorizer\n",
    "from sklearn.feature_extraction.text import CountVectorizer\n",
    "vect = CountVectorizer()"
   ]
  },
  {
   "cell_type": "code",
   "execution_count": 6,
   "metadata": {
    "collapsed": false
   },
   "outputs": [
    {
     "name": "stdout",
     "output_type": "stream",
     "text": [
      "  (0, 802)\t1\n",
      "  (0, 1410)\t1\n",
      "  (0, 1514)\t1\n",
      "  (0, 1561)\t1\n",
      "  (0, 1654)\t1\n",
      "  (0, 2002)\t1\n",
      "  (0, 2300)\t1\n",
      "  (0, 3651)\t1\n",
      "  (0, 4746)\t1\n",
      "  (0, 5620)\t1\n",
      "  (0, 5976)\t1\n",
      "  (0, 6158)\t1\n",
      "  (0, 6556)\t1\n",
      "  (0, 6675)\t1\n",
      "  (0, 8782)\t1\n",
      "  (0, 8816)\t1\n",
      "  (0, 9740)\t1\n",
      "  (0, 9849)\t1\n",
      "  (0, 10268)\t1\n",
      "  (0, 10339)\t1\n",
      "  (0, 10472)\t1\n",
      "  (0, 10835)\t1\n",
      "  (0, 10939)\t1\n",
      "  (0, 11747)\t1\n",
      "  (0, 13117)\t1\n",
      "  :\t:\n",
      "  (3063, 15220)\t3\n",
      "  (3063, 15225)\t1\n",
      "  (3063, 15449)\t1\n",
      "  (3063, 15518)\t1\n",
      "  (3063, 15696)\t1\n",
      "  (3063, 15822)\t1\n",
      "  (3063, 15823)\t1\n",
      "  (3063, 15881)\t1\n",
      "  (3063, 15894)\t1\n",
      "  (3063, 16107)\t2\n",
      "  (3063, 16146)\t2\n",
      "  (3063, 16152)\t1\n",
      "  (3063, 16260)\t1\n",
      "  (3063, 16264)\t1\n",
      "  (3063, 16308)\t1\n",
      "  (3063, 16327)\t1\n",
      "  (3063, 16401)\t1\n",
      "  (3063, 16440)\t1\n",
      "  (3063, 16460)\t1\n",
      "  (3063, 16489)\t1\n",
      "  (3063, 16547)\t1\n",
      "  (3063, 16578)\t1\n",
      "  (3063, 16648)\t1\n",
      "  (3063, 16672)\t7\n",
      "  (3063, 16680)\t4\n",
      "  (0, 72)\t1\n",
      "  (0, 221)\t2\n",
      "  (0, 789)\t1\n",
      "  (0, 802)\t9\n",
      "  (0, 984)\t1\n",
      "  (0, 985)\t1\n",
      "  (0, 1048)\t1\n",
      "  (0, 1064)\t1\n",
      "  (0, 1155)\t1\n",
      "  (0, 1313)\t1\n",
      "  (0, 1410)\t1\n",
      "  (0, 1519)\t1\n",
      "  (0, 1521)\t2\n",
      "  (0, 1556)\t1\n",
      "  (0, 1588)\t1\n",
      "  (0, 1593)\t1\n",
      "  (0, 2226)\t1\n",
      "  (0, 2258)\t2\n",
      "  (0, 2300)\t1\n",
      "  (0, 2408)\t1\n",
      "  (0, 3543)\t1\n",
      "  (0, 3550)\t2\n",
      "  (0, 3651)\t2\n",
      "  (0, 3964)\t1\n",
      "  (0, 4426)\t1\n",
      "  :\t:\n",
      "  (1020, 16672)\t3\n",
      "  (1020, 16680)\t4\n",
      "  (1021, 802)\t2\n",
      "  (1021, 1271)\t1\n",
      "  (1021, 1558)\t2\n",
      "  (1021, 1702)\t1\n",
      "  (1021, 1951)\t1\n",
      "  (1021, 2489)\t1\n",
      "  (1021, 3493)\t1\n",
      "  (1021, 4219)\t1\n",
      "  (1021, 4456)\t1\n",
      "  (1021, 5327)\t1\n",
      "  (1021, 5359)\t1\n",
      "  (1021, 5976)\t1\n",
      "  (1021, 6853)\t1\n",
      "  (1021, 6982)\t1\n",
      "  (1021, 7008)\t2\n",
      "  (1021, 7552)\t1\n",
      "  (1021, 7956)\t2\n",
      "  (1021, 10164)\t1\n",
      "  (1021, 14979)\t2\n",
      "  (1021, 15132)\t1\n",
      "  (1021, 15169)\t1\n",
      "  (1021, 16235)\t3\n",
      "  (1021, 16401)\t1\n"
     ]
    }
   ],
   "source": [
    "# fit and transform X_train, but only transform X_test\n",
    "vect.fit(X_train)\n",
    "X_train_dtm = vect.transform(X_train)\n",
    "print X_train_dtm\n",
    "\n",
    "X_test_dtm = vect.transform(X_test)\n",
    "print X_test_dtm"
   ]
  },
  {
   "cell_type": "markdown",
   "metadata": {},
   "source": [
    "## Task 5\n",
    "\n",
    "Use Naive Bayes to predict the star rating for reviews in the testing set, and calculate the accuracy."
   ]
  },
  {
   "cell_type": "code",
   "execution_count": 7,
   "metadata": {
    "collapsed": false
   },
   "outputs": [
    {
     "data": {
      "text/plain": [
       "MultinomialNB(alpha=1.0, class_prior=None, fit_prior=True)"
      ]
     },
     "execution_count": 7,
     "metadata": {},
     "output_type": "execute_result"
    }
   ],
   "source": [
    "# import/instantiate/fit\n",
    "from sklearn.naive_bayes import MultinomialNB\n",
    "nb = MultinomialNB()\n",
    "nb.fit(X_train_dtm, y_train)"
   ]
  },
  {
   "cell_type": "code",
   "execution_count": 8,
   "metadata": {
    "collapsed": true
   },
   "outputs": [],
   "source": [
    "# make class predictions\n",
    "y_pred_class = nb.predict(X_test_dtm)"
   ]
  },
  {
   "cell_type": "code",
   "execution_count": 9,
   "metadata": {
    "collapsed": false
   },
   "outputs": [
    {
     "name": "stdout",
     "output_type": "stream",
     "text": [
      "0.930528375734\n"
     ]
    }
   ],
   "source": [
    "# calculate accuracy\n",
    "from sklearn import metrics\n",
    "print metrics.accuracy_score(y_test, y_pred_class)"
   ]
  },
  {
   "cell_type": "markdown",
   "metadata": {},
   "source": [
    "## Task 6\n",
    "\n",
    "Calculate the AUC."
   ]
  },
  {
   "cell_type": "code",
   "execution_count": 10,
   "metadata": {
    "collapsed": false
   },
   "outputs": [
    {
     "data": {
      "text/plain": [
       "array([5, 5, 5, 5, 5, 5, 1, 5, 5, 5])"
      ]
     },
     "execution_count": 10,
     "metadata": {},
     "output_type": "execute_result"
    }
   ],
   "source": [
    "# y_test contains fives and ones, which will confuse the roc_auc_score function\n",
    "y_test[:10].values"
   ]
  },
  {
   "cell_type": "code",
   "execution_count": 11,
   "metadata": {
    "collapsed": false
   },
   "outputs": [
    {
     "data": {
      "text/plain": [
       "array([1, 1, 1, 1, 1, 1, 0, 1, 1, 1])"
      ]
     },
     "execution_count": 11,
     "metadata": {},
     "output_type": "execute_result"
    }
   ],
   "source": [
    "# create y_test_binary, which contains ones and zeros instead\n",
    "y_test_binary = y_test.map({5:1,1:0})\n",
    "y_test_binary[:10].values"
   ]
  },
  {
   "cell_type": "code",
   "execution_count": 12,
   "metadata": {
    "collapsed": false
   },
   "outputs": [
    {
     "data": {
      "text/plain": [
       "array([ 1.        ,  0.99970444,  1.        , ...,  1.        ,\n",
       "        0.00812685,  0.99999896])"
      ]
     },
     "execution_count": 12,
     "metadata": {},
     "output_type": "execute_result"
    }
   ],
   "source": [
    "# predict class probabilities\n",
    "nb.predict_proba(X_test_dtm)\n",
    "\n",
    "y_pred_prob = nb.predict_proba(X_test_dtm)[:, 1]\n",
    "y_pred_prob"
   ]
  },
  {
   "cell_type": "code",
   "execution_count": 13,
   "metadata": {
    "collapsed": false
   },
   "outputs": [
    {
     "name": "stdout",
     "output_type": "stream",
     "text": [
      "0.936582864821\n"
     ]
    }
   ],
   "source": [
    "# calculate the AUC using y_test_binary and y_pred_prob\n",
    "from sklearn import metrics\n",
    "print metrics.roc_auc_score(y_test_binary, y_pred_prob)"
   ]
  },
  {
   "cell_type": "markdown",
   "metadata": {},
   "source": [
    "## Task 7\n",
    "\n",
    "Plot the ROC curve."
   ]
  },
  {
   "cell_type": "code",
   "execution_count": 14,
   "metadata": {
    "collapsed": true
   },
   "outputs": [],
   "source": [
    "%matplotlib inline\n",
    "import matplotlib.pyplot as plt"
   ]
  },
  {
   "cell_type": "code",
   "execution_count": 15,
   "metadata": {
    "collapsed": false
   },
   "outputs": [
    {
     "name": "stdout",
     "output_type": "stream",
     "text": [
      "[ 0.          0.03636364  0.03636364  0.03636364  0.03636364  0.03636364\n",
      "  0.04242424  0.04242424  0.04242424  0.04242424  0.04848485  0.04848485\n",
      "  0.05454545  0.06060606  0.06060606  0.06060606  0.06060606  0.06666667\n",
      "  0.06666667  0.06666667  0.06666667  0.06666667  0.06666667  0.06666667\n",
      "  0.06666667  0.06666667  0.06666667  0.06666667  0.06666667  0.06666667\n",
      "  0.06666667  0.06666667  0.06666667  0.06666667  0.06666667  0.06666667\n",
      "  0.06666667  0.06666667  0.06666667  0.06666667  0.06666667  0.06666667\n",
      "  0.06666667  0.06666667  0.06666667  0.07272727  0.07272727  0.07272727\n",
      "  0.07272727  0.07272727  0.07272727  0.07272727  0.07272727  0.07272727\n",
      "  0.07272727  0.07272727  0.07272727  0.07272727  0.07272727  0.07272727\n",
      "  0.07272727  0.07272727  0.07272727  0.07272727  0.07272727  0.07878788\n",
      "  0.07878788  0.07878788  0.07878788  0.07878788  0.07878788  0.07878788\n",
      "  0.07878788  0.07878788  0.07878788  0.07878788  0.07878788  0.07878788\n",
      "  0.07878788  0.07878788  0.07878788  0.07878788  0.07878788  0.07878788\n",
      "  0.07878788  0.07878788  0.07878788  0.07878788  0.07878788  0.07878788\n",
      "  0.07878788  0.07878788  0.07878788  0.07878788  0.07878788  0.07878788\n",
      "  0.07878788  0.07878788  0.07878788  0.07878788  0.07878788  0.07878788\n",
      "  0.07878788  0.07878788  0.07878788  0.07878788  0.07878788  0.07878788\n",
      "  0.07878788  0.07878788  0.07878788  0.07878788  0.07878788  0.07878788\n",
      "  0.07878788  0.07878788  0.07878788  0.07878788  0.07878788  0.07878788\n",
      "  0.08484848  0.08484848  0.08484848  0.08484848  0.08484848  0.08484848\n",
      "  0.08484848  0.08484848  0.08484848  0.08484848  0.09090909  0.09090909\n",
      "  0.09090909  0.0969697   0.0969697   0.0969697   0.0969697   0.0969697\n",
      "  0.0969697   0.0969697   0.0969697   0.0969697   0.0969697   0.0969697\n",
      "  0.0969697   0.0969697   0.0969697   0.0969697   0.0969697   0.0969697\n",
      "  0.0969697   0.0969697   0.0969697   0.0969697   0.0969697   0.0969697\n",
      "  0.0969697   0.0969697   0.0969697   0.0969697   0.0969697   0.0969697\n",
      "  0.0969697   0.1030303   0.1030303   0.1030303   0.1030303   0.10909091\n",
      "  0.10909091  0.11515152  0.11515152  0.11515152  0.11515152  0.11515152\n",
      "  0.11515152  0.11515152  0.11515152  0.12121212  0.12121212  0.12121212\n",
      "  0.12121212  0.12121212  0.12121212  0.12121212  0.12121212  0.12121212\n",
      "  0.12121212  0.12121212  0.12121212  0.12121212  0.12121212  0.12121212\n",
      "  0.12121212  0.12121212  0.12121212  0.12121212  0.12727273  0.12727273\n",
      "  0.13333333  0.13333333  0.13333333  0.13333333  0.13939394  0.13939394\n",
      "  0.13939394  0.14545455  0.14545455  0.14545455  0.14545455  0.14545455\n",
      "  0.14545455  0.14545455  0.14545455  0.15151515  0.15151515  0.15151515\n",
      "  0.15151515  0.15757576  0.15757576  0.15757576  0.15757576  0.15757576\n",
      "  0.15757576  0.15757576  0.16363636  0.16363636  0.16969697  0.16969697\n",
      "  0.16969697  0.16969697  0.16969697  0.16969697  0.16969697  0.16969697\n",
      "  0.16969697  0.16969697  0.16969697  0.16969697  0.16969697  0.16969697\n",
      "  0.17575758  0.17575758  0.17575758  0.17575758  0.17575758  0.17575758\n",
      "  0.17575758  0.17575758  0.17575758  0.17575758  0.17575758  0.17575758\n",
      "  0.17575758  0.18181818  0.18181818  0.18181818  0.18181818  0.18181818\n",
      "  0.18787879  0.18787879  0.18787879  0.19393939  0.2         0.2\n",
      "  0.20606061  0.20606061  0.20606061  0.20606061  0.20606061  0.20606061\n",
      "  0.21212121  0.21818182  0.21818182  0.21818182  0.22424242  0.22424242\n",
      "  0.22424242  0.22424242  0.22424242  0.22424242  0.22424242  0.22424242\n",
      "  0.23030303  0.23030303  0.23030303  0.23030303  0.23636364  0.23636364\n",
      "  0.24242424  0.24848485  0.24848485  0.24848485  0.25454545  0.25454545\n",
      "  0.26060606  0.26060606  0.26060606  0.26666667  0.27272727  0.27878788\n",
      "  0.27878788  0.28484848  0.28484848  0.28484848  0.28484848  0.28484848\n",
      "  0.28484848  0.29090909  0.2969697   0.3030303   0.30909091  0.30909091\n",
      "  0.30909091  0.30909091  0.31515152  0.31515152  0.31515152  0.32121212\n",
      "  0.32121212  0.32121212  0.32727273  0.32727273  0.32727273  0.32727273\n",
      "  0.33333333  0.33939394  0.33939394  0.34545455  0.35151515  0.35151515\n",
      "  0.35757576  0.36363636  0.36363636  0.36969697  0.36969697  0.37575758\n",
      "  0.38181818  0.38181818  0.38787879  0.38787879  0.39393939  0.39393939\n",
      "  0.4         0.40606061  0.41212121  0.41818182  0.41818182  0.42424242\n",
      "  0.43030303  0.43636364  0.44242424  0.44848485  0.45454545  0.45454545\n",
      "  0.46060606  0.46666667  0.47272727  0.47878788  0.48484848  0.49090909\n",
      "  0.4969697   0.5030303   0.50909091  0.51515152  0.52121212  0.52121212\n",
      "  0.52727273  0.53333333  0.53333333  0.53939394  0.54545455  0.55151515\n",
      "  0.55757576  0.56363636  0.56969697  0.57575758  0.58181818  0.58787879\n",
      "  0.59393939  0.59393939  0.59393939  0.6         0.60606061  0.61212121\n",
      "  0.61818182  0.62424242  0.63030303  0.63636364  0.64242424  0.64848485\n",
      "  0.65454545  0.66060606  0.66666667  0.67272727  0.67878788  0.68484848\n",
      "  0.69090909  0.6969697   0.7030303   0.70909091  0.71515152  0.72121212\n",
      "  0.72727273  0.73333333  0.73939394  0.74545455  0.75151515  0.75757576\n",
      "  0.76363636  0.76969697  0.77575758  0.78181818  0.78787879  0.79393939\n",
      "  0.79393939  0.8         0.8         0.80606061  0.81212121  0.81818182\n",
      "  0.82424242  0.83030303  0.83636364  0.84242424  0.84848485  0.85454545\n",
      "  0.85454545  0.86060606  1.        ]\n"
     ]
    },
    {
     "data": {
      "image/png": "[encoded data removed]",
      "text/plain": [
       "<matplotlib.figure.Figure at 0x108ef74d0>"
      ]
     },
     "metadata": {},
     "output_type": "display_data"
    }
   ],
   "source": [
    "# plot ROC curve using y_test_binary and y_pred_prob\n",
    "plt.rcParams['figure.figsize'] = (8, 6)\n",
    "plt.rcParams['font.size'] = 14\n",
    "\n",
    "fpr, tpr, thresholds = metrics.roc_curve(y_test_binary, y_pred_prob)\n",
    "plt.plot(fpr, tpr)\n",
    "plt.xlim([0.0, 1.0])\n",
    "plt.ylim([0.0, 1.0])\n",
    "plt.xlabel('False Positive Rate (1 - Specificity)')\n",
    "plt.ylabel('True Positive Rate (Sensitivity)')\n",
    "print fpr\n",
    "#print(metrics.roc_curve(y_test_binary, y_pred_prob))"
   ]
  },
  {
   "cell_type": "markdown",
   "metadata": {},
   "source": [
    "## Task 8\n",
    "\n",
    "Print the confusion matrix, and calculate the sensitivity and specificity. Comment on the results."
   ]
  },
  {
   "cell_type": "code",
   "execution_count": 16,
   "metadata": {
    "collapsed": false
   },
   "outputs": [
    {
     "name": "stdout",
     "output_type": "stream",
     "text": [
      "[[  0 109  56]\n",
      " [  0  15 842]\n",
      " [  0   0   0]]\n"
     ]
    }
   ],
   "source": [
    "# print the confusion matrix\n",
    "y_test_binary\n",
    "conf_mat =  metrics.confusion_matrix(y_test_binary, y_pred_class)\n",
    "print conf_mat\n"
   ]
  },
  {
   "cell_type": "code",
   "execution_count": 17,
   "metadata": {
    "collapsed": false
   },
   "outputs": [
    {
     "name": "stdout",
     "output_type": "stream",
     "text": [
      "857\n",
      "842\n",
      "0.982497082847\n"
     ]
    }
   ],
   "source": [
    "# calculate sensitivity - True positive rate\n",
    "sum1 = conf_mat[1].sum()\n",
    "print sum1\n",
    "tp = conf_mat[1][2]\n",
    "print tp\n",
    "sensitivity = tp/(sum1*1.0)\n",
    "print sensitivity"
   ]
  },
  {
   "cell_type": "code",
   "execution_count": 18,
   "metadata": {
    "collapsed": false
   },
   "outputs": [
    {
     "name": "stdout",
     "output_type": "stream",
     "text": [
      "0.660606060606\n"
     ]
    }
   ],
   "source": [
    "# calculate specificity (1 - False Positive Rate)\n",
    "sum2 = conf_mat[0].sum()\n",
    "fp = conf_mat[0][2]\n",
    "fpr2 = fp/(sum2*1.0)\n",
    "specificity = 1-fpr2\n",
    "print specificity"
   ]
  },
  {
   "cell_type": "markdown",
   "metadata": {},
   "source": [
    "The model is having a much easier time detecting five-star reviews than one-star reviews."
   ]
  },
  {
   "cell_type": "markdown",
   "metadata": {},
   "source": [
    "## Task 9\n",
    "\n",
    "Browse through the review text for some of the false positives and false negatives. Based on your knowledge of how Naive Bayes works, do you have any theories about why the model is incorrectly classifying these reviews?"
   ]
  },
  {
   "cell_type": "code",
   "execution_count": 19,
   "metadata": {
    "collapsed": false
   },
   "outputs": [
    {
     "name": "stdout",
     "output_type": "stream",
     "text": [
      "5977    You want good food? You'd be better off smuggl...\n",
      "140     Other than the really great happy hour prices,...\n",
      "1372    No offense to everyone who gave this place 5 s...\n",
      "4630    I used to always go here for tires until my me...\n",
      "7513    Closed on Sunday?  Looks like you've not only ...\n",
      "8626                       sslowest drive through ever!!!\n",
      "8943    Went to Sol for restaurant week.  Was less tha...\n",
      "507     HELLISH HELLISH SUMMER WEATHER (March thru Oct...\n",
      "8514                                      Out of business\n",
      "2297    This is a sad excuse for a gay resort.  Sort o...\n",
      "1187    Needs a new name - now.  \\n\\nThe Pischke's of ...\n",
      "3238    Soggy flavorless pizza served on unwarmed cera...\n",
      "7739    So, there's no negative stars, too bad. Tried ...\n",
      "4686                UPDATE: This location is closed. Boo!\n",
      "8532    The bill was 150.00 and that was after a free ...\n",
      "7035    Totally excited to try this place out, my gran...\n",
      "6921    I never knew green chilies were more valuable ...\n",
      "1878    I went here with Friends last Friday.  All my ...\n",
      "5955    I've now tried Thai Elephant three times.  My ...\n",
      "1406    From my door, it's a five minute stroll throug...\n",
      "3677    Hands down, the single worst public mass trans...\n",
      "457     I was here for a conference and saw their sign...\n",
      "9640    Went here one night with a group of friends. T...\n",
      "3339    New N. Scottsdale location, Baaaaaaad!  The we...\n",
      "5121    Just isn't very good.\\n\\nI don't understand wh...\n",
      "6045    The cool name of the place is the only good th...\n",
      "8072    This place is the white-trash Chipotle. The fo...\n",
      "3755    Have been going to LGO since 2003 and have alw...\n",
      "8596    Nice facilities, nice AC, but two FATAL flaws:...\n",
      "1297    I dined at this restaurant on a Saturday morni...\n",
      "8910    Im going to have to agree Whole heartedly. And...\n",
      "7382    Thank you to Sarah L for bringing to my attent...\n",
      "4165    OMG! what is the rave about? this place is dis...\n",
      "4562    despite it's billing as the 'largest thrift st...\n",
      "7447    Ok..I told Amanda that anyplace that serves be...\n",
      "9396    Pros: \\n-No breed restrictions on dogs\\n-Washe...\n",
      "3723    When owners/staff changed we kept hoping for t...\n",
      "1159    I don't like the pizza hear and if you go for ...\n",
      "9846    NO.  Don't go. Don't do it.  This was my first...\n",
      "7975    What are you all talking about?! This place is...\n",
      "2084    Easily the worst \"burrito\" I have ever had.\\nI...\n",
      "2869    This used to be one of my favorite restaurants...\n",
      "2462    Every time I've been there they have messed up...\n",
      "5811    Not a company to do business with ... From my ...\n",
      "1270    Maybe I should have had a hot dog but I crave ...\n",
      "9953    \"Hipster,Trendy\" ????-I think NOT !!!! Very di...\n",
      "7397    This place sucks!! I moved to the valley and h...\n",
      "8569    This place has the oiliest food I've ever eate...\n",
      "4249    AMC Theaters has the distinct disadvantage in ...\n",
      "9287    I don't intend to return, but based on the way...\n",
      "7579    Ok, im not getting the great reviews on this p...\n",
      "4842    My fiance and I tried the place because of a G...\n",
      "5882    Tried Shorty's today, sadly it will be my one ...\n",
      "3357    I wrote a less than stellar review about this ...\n",
      "3028    My office moved to the area so I was driving a...\n",
      "113     Unless you are a regular or look like your wal...\n",
      "Name: text, dtype: object\n"
     ]
    }
   ],
   "source": [
    "# print message text for the false positives\n",
    "pd.set_option('display.max_seq_items', 100)\n",
    "print X_test[y_test < y_pred_class]"
   ]
  },
  {
   "cell_type": "markdown",
   "metadata": {},
   "source": [
    "I think that words like \"crave\", \"cool\", \"good\", \"enjoy\", \"rave\" and \"OMG\" were associated in the training model with good reviews."
   ]
  },
  {
   "cell_type": "code",
   "execution_count": 20,
   "metadata": {
    "collapsed": false
   },
   "outputs": [
    {
     "data": {
      "text/plain": [
       "6376       They have a mechanical bull.  Need I say more?\n",
       "9622    I always buy my tires at Walmart, but they did...\n",
       "750     This store has the most pleasant employees of ...\n",
       "3052    When I met some friends for dinner at this res...\n",
       "4034    \"Fine dining\" is not just a setting.  it isn't...\n",
       "1323    I just wanted to add that in addition to party...\n",
       "5332    I had a great experience.  Nice people.   My m...\n",
       "6779    I had the terrible decision to make to euthani...\n",
       "9636    OK OK... as a Proud Italian I hope my momma do...\n",
       "6334    I came here today for a manicure and pedicure....\n",
       "7531    This was such a good experience\\nI was up all ...\n",
       "8053    My wife called to have our vent cleaned since ...\n",
       "1404    Excellent customer service, super clean, and t...\n",
       "2626    I highly reccomend this place. They helped my ...\n",
       "7148    I now consider myself an Arizonian. If you dri...\n",
       "Name: text, dtype: object"
      ]
     },
     "execution_count": 20,
     "metadata": {},
     "output_type": "execute_result"
    }
   ],
   "source": [
    "# print message text for the false negatives\n",
    "X_test[y_test > y_pred_class]"
   ]
  },
  {
   "cell_type": "markdown",
   "metadata": {
    "collapsed": false
   },
   "source": [
    "For the false negatives, it looks like, in some cases, words like \"horribly\", \"terrible\" and \"hate\" were associated with negative reviews in the training model."
   ]
  },
  {
   "cell_type": "markdown",
   "metadata": {},
   "source": [
    "## Task 10\n",
    "\n",
    "Let's pretend that you want to balance sensitivity and specificity. You can achieve this by changing the threshold for predicting a 5-star review. What threshold approximately balances sensitivity and specificity?"
   ]
  },
  {
   "cell_type": "code",
   "execution_count": 21,
   "metadata": {
    "collapsed": false
   },
   "outputs": [
    {
     "name": "stdout",
     "output_type": "stream",
     "text": [
      "         thresholds        diff\n",
      "count  4.290000e+02  429.000000\n",
      "mean   7.533549e-01    0.111128\n",
      "std    4.014394e-01    0.319762\n",
      "min    7.378070e-34   -1.000000\n",
      "25%    5.990707e-01   -0.144083\n",
      "50%    9.981564e-01    0.039496\n",
      "75%    9.999734e-01    0.306269\n",
      "max    2.000000e+00    1.000000\n"
     ]
    }
   ],
   "source": [
    "# create a list that will store the results of the process below\n",
    "# loop through the thresholds returned by the metrics.roc_curve function\n",
    "#fpr, tpr, thresholds = metrics.roc_curve(y_test, y_pred_prob)\n",
    "#y_pred_prob = nb.predict_proba(X_test_dtm)[:, 1]\n",
    "tup = []\n",
    "for index, values in enumerate(thresholds):\n",
    "    sens = tpr[index]\n",
    "    spec = (1-fpr[index])\n",
    "    diff = sens - spec\n",
    "    X = [values,(sens-spec)]\n",
    "    tup.append(X)\n",
    "\n",
    "tup2 = pd.DataFrame(tup, columns = (['thresholds','diff']))\n",
    "print tup2.describe()"
   ]
  },
  {
   "cell_type": "code",
   "execution_count": 22,
   "metadata": {
    "collapsed": false
   },
   "outputs": [
    {
     "name": "stdout",
     "output_type": "stream",
     "text": [
      "       thresholds      diff\n",
      "197  9.992959e-01  0.000085\n",
      "198  9.992907e-01  0.006145\n",
      "199  9.992675e-01  0.007312\n",
      "200  9.992113e-01  0.008479\n",
      "201  9.991539e-01  0.009646\n",
      "202  9.990188e-01  0.015707\n",
      "203  9.989971e-01  0.016874\n",
      "204  9.989804e-01  0.018040\n",
      "205  9.989342e-01  0.024101\n",
      "206  9.989260e-01  0.025268\n",
      "207  9.989067e-01  0.026435\n",
      "208  9.988824e-01  0.027602\n",
      "209  9.987814e-01  0.028768\n",
      "210  9.986288e-01  0.029935\n",
      "211  9.985812e-01  0.031102\n",
      "212  9.984684e-01  0.032269\n",
      "213  9.984102e-01  0.038330\n",
      "214  9.981564e-01  0.039496\n",
      "215  9.980696e-01  0.040663\n",
      "216  9.979370e-01  0.041830\n",
      "217  9.979265e-01  0.047891\n",
      "218  9.976636e-01  0.049058\n",
      "219  9.975982e-01  0.050225\n",
      "220  9.975611e-01  0.051391\n",
      "221  9.975466e-01  0.052558\n",
      "222  9.975335e-01  0.053725\n",
      "223  9.975272e-01  0.054892\n",
      "224  9.974970e-01  0.060953\n",
      "225  9.974948e-01  0.062119\n",
      "226  9.973739e-01  0.068180\n",
      "..            ...       ...\n",
      "399  7.456037e-05  0.705590\n",
      "400  6.048523e-05  0.711651\n",
      "401  5.634746e-05  0.717712\n",
      "402  4.639998e-05  0.723772\n",
      "403  3.891081e-05  0.729833\n",
      "404  3.081302e-05  0.735893\n",
      "405  2.292778e-05  0.741954\n",
      "406  2.163111e-05  0.748015\n",
      "407  2.124242e-05  0.754075\n",
      "408  1.467364e-05  0.760136\n",
      "409  1.181395e-05  0.766196\n",
      "410  5.551929e-06  0.772257\n",
      "411  3.598025e-06  0.778318\n",
      "412  3.370959e-06  0.784378\n",
      "413  2.835042e-06  0.790439\n",
      "414  2.648374e-06  0.791606\n",
      "415  2.436048e-06  0.797666\n",
      "416  2.182397e-06  0.798833\n",
      "417  1.369501e-06  0.804894\n",
      "418  1.287042e-06  0.810954\n",
      "419  9.758081e-07  0.817015\n",
      "420  8.536657e-07  0.823076\n",
      "421  3.799382e-07  0.829136\n",
      "422  2.600933e-07  0.835197\n",
      "423  2.167570e-07  0.841257\n",
      "424  1.632219e-07  0.847318\n",
      "425  1.462241e-07  0.853379\n",
      "426  6.825316e-08  0.854545\n",
      "427  3.837549e-08  0.860606\n",
      "428  7.378070e-34  1.000000\n",
      "\n",
      "[232 rows x 2 columns]\n"
     ]
    }
   ],
   "source": [
    "# locate the minimum difference (at which sensitivity and specificity are balanced)\n",
    "# pick rows>0\n",
    "print tup2[tup2['diff']>0]\n"
   ]
  },
  {
   "cell_type": "markdown",
   "metadata": {},
   "source": [
    "Sensitivity and specificity are balanced with threshold = 9.985983e-01 , with a sensitivity-specificity difference of 0.002253"
   ]
  },
  {
   "cell_type": "markdown",
   "metadata": {},
   "source": [
    "## Task 11\n",
    "\n",
    "Let's see how well Naive Bayes performs when all reviews are included, rather than just 1-star and 5-star reviews:\n",
    "\n",
    "- Define X and y using the original DataFrame from step 1. (y should contain 5 different classes.)\n",
    "- Split the data into training and testing sets.\n",
    "- Calculate the testing accuracy of a Naive Bayes model.\n",
    "- Compare the testing accuracy with the null accuracy.\n",
    "- Print the confusion matrix.\n",
    "- Comment on the results."
   ]
  },
  {
   "cell_type": "code",
   "execution_count": 23,
   "metadata": {
    "collapsed": true
   },
   "outputs": [],
   "source": [
    "# define X and y using the original DataFrame\n",
    "# define X and y\n",
    "X = yelp['text']\n",
    "y = yelp.stars"
   ]
  },
  {
   "cell_type": "code",
   "execution_count": 24,
   "metadata": {
    "collapsed": true
   },
   "outputs": [],
   "source": [
    "# split into training and testing sets\n",
    "\n",
    "from sklearn.cross_validation import train_test_split\n",
    "X_train, X_test, y_train, y_test = train_test_split(X, y)"
   ]
  },
  {
   "cell_type": "code",
   "execution_count": 25,
   "metadata": {
    "collapsed": false
   },
   "outputs": [
    {
     "name": "stdout",
     "output_type": "stream",
     "text": [
      "  (0, 423)\t1\n",
      "  (0, 474)\t1\n",
      "  (0, 562)\t1\n",
      "  (0, 633)\t1\n",
      "  (0, 743)\t1\n",
      "  (0, 761)\t1\n",
      "  (0, 912)\t1\n",
      "  (0, 990)\t1\n",
      "  (0, 1080)\t2\n",
      "  (0, 1112)\t1\n",
      "  (0, 1145)\t1\n",
      "  (0, 1158)\t1\n",
      "  (0, 1204)\t1\n",
      "  (0, 1254)\t3\n",
      "  (0, 1275)\t13\n",
      "  (0, 1401)\t1\n",
      "  (0, 1461)\t2\n",
      "  (0, 1561)\t2\n",
      "  (0, 1562)\t1\n",
      "  (0, 1697)\t1\n",
      "  (0, 1749)\t1\n",
      "  (0, 1778)\t5\n",
      "  (0, 2386)\t1\n",
      "  (0, 2559)\t1\n",
      "  (0, 2711)\t1\n",
      "  :\t:\n",
      "  (7499, 1275)\t2\n",
      "  (7499, 2386)\t1\n",
      "  (7499, 3368)\t1\n",
      "  (7499, 3887)\t1\n",
      "  (7499, 8520)\t1\n",
      "  (7499, 8983)\t1\n",
      "  (7499, 9299)\t1\n",
      "  (7499, 10236)\t1\n",
      "  (7499, 11625)\t3\n",
      "  (7499, 12156)\t1\n",
      "  (7499, 12622)\t1\n",
      "  (7499, 13537)\t1\n",
      "  (7499, 14574)\t1\n",
      "  (7499, 15060)\t1\n",
      "  (7499, 15097)\t1\n",
      "  (7499, 15323)\t1\n",
      "  (7499, 16488)\t1\n",
      "  (7499, 16677)\t1\n",
      "  (7499, 17630)\t1\n",
      "  (7499, 18751)\t1\n",
      "  (7499, 20402)\t1\n",
      "  (7499, 22943)\t1\n",
      "  (7499, 22987)\t1\n",
      "  (7499, 23208)\t3\n",
      "  (7499, 24461)\t2\n",
      "  (0, 307)\t1\n",
      "  (0, 562)\t2\n",
      "  (0, 874)\t1\n",
      "  (0, 900)\t1\n",
      "  (0, 1150)\t1\n",
      "  (0, 1254)\t1\n",
      "  (0, 1275)\t5\n",
      "  (0, 1387)\t1\n",
      "  (0, 1561)\t4\n",
      "  (0, 1608)\t1\n",
      "  (0, 1698)\t1\n",
      "  (0, 1778)\t3\n",
      "  (0, 1971)\t1\n",
      "  (0, 2185)\t9\n",
      "  (0, 2252)\t1\n",
      "  (0, 2339)\t4\n",
      "  (0, 2386)\t1\n",
      "  (0, 2421)\t3\n",
      "  (0, 2424)\t1\n",
      "  (0, 2432)\t2\n",
      "  (0, 2637)\t2\n",
      "  (0, 3102)\t3\n",
      "  (0, 3103)\t1\n",
      "  (0, 3598)\t1\n",
      "  (0, 3600)\t3\n",
      "  :\t:\n",
      "  (2499, 22962)\t1\n",
      "  (2499, 22973)\t1\n",
      "  (2499, 23008)\t2\n",
      "  (2499, 23232)\t7\n",
      "  (2499, 23338)\t1\n",
      "  (2499, 23383)\t1\n",
      "  (2499, 23679)\t2\n",
      "  (2499, 23739)\t1\n",
      "  (2499, 24348)\t1\n",
      "  (2499, 24366)\t1\n",
      "  (2499, 24461)\t2\n",
      "  (2499, 24695)\t1\n",
      "  (2499, 24717)\t1\n",
      "  (2499, 24748)\t1\n",
      "  (2499, 24750)\t1\n",
      "  (2499, 24789)\t8\n",
      "  (2499, 24860)\t3\n",
      "  (2499, 24931)\t1\n",
      "  (2499, 24940)\t4\n",
      "  (2499, 25009)\t1\n",
      "  (2499, 25037)\t1\n",
      "  (2499, 25209)\t1\n",
      "  (2499, 25376)\t1\n",
      "  (2499, 25533)\t2\n",
      "  (2499, 25547)\t1\n"
     ]
    }
   ],
   "source": [
    "# create document-term matrices\n",
    "# import and instantiate the vectorizer\n",
    "from sklearn.feature_extraction.text import CountVectorizer\n",
    "vect = CountVectorizer()\n",
    "# fit and transform X_train, but only transform X_test\n",
    "vect.fit(X_train)\n",
    "X_train_dtm = vect.transform(X_train)\n",
    "print X_train_dtm\n",
    "\n",
    "X_test_dtm = vect.transform(X_test)\n",
    "print X_test_dtm"
   ]
  },
  {
   "cell_type": "code",
   "execution_count": 26,
   "metadata": {
    "collapsed": false
   },
   "outputs": [
    {
     "data": {
      "text/plain": [
       "MultinomialNB(alpha=1.0, class_prior=None, fit_prior=True)"
      ]
     },
     "execution_count": 26,
     "metadata": {},
     "output_type": "execute_result"
    }
   ],
   "source": [
    "# fit a Naive Bayes model\n",
    "from sklearn.naive_bayes import MultinomialNB\n",
    "nb = MultinomialNB()\n",
    "nb.fit(X_train_dtm, y_train)"
   ]
  },
  {
   "cell_type": "code",
   "execution_count": 27,
   "metadata": {
    "collapsed": true
   },
   "outputs": [],
   "source": [
    "# make class predictions\n",
    "y_pred_class = nb.predict(X_test_dtm)"
   ]
  },
  {
   "cell_type": "code",
   "execution_count": 28,
   "metadata": {
    "collapsed": false
   },
   "outputs": [
    {
     "name": "stdout",
     "output_type": "stream",
     "text": [
      "0.4912\n"
     ]
    }
   ],
   "source": [
    "# calculate the testing accuary\n",
    "from sklearn import metrics\n",
    "print metrics.accuracy_score(y_test, y_pred_class)"
   ]
  },
  {
   "cell_type": "code",
   "execution_count": 29,
   "metadata": {
    "collapsed": false
   },
   "outputs": [
    {
     "name": "stdout",
     "output_type": "stream",
     "text": [
      "4    855\n",
      "5    838\n",
      "3    384\n",
      "2    244\n",
      "1    179\n",
      "Name: stars, dtype: int64\n"
     ]
    },
    {
     "data": {
      "text/plain": [
       "4    0.342\n",
       "Name: stars, dtype: float64"
      ]
     },
     "execution_count": 29,
     "metadata": {},
     "output_type": "execute_result"
    }
   ],
   "source": [
    "# calculate the null accuracy\n",
    "print y_test.value_counts()\n",
    "y_test.value_counts().head(1) / len(y_test)"
   ]
  },
  {
   "cell_type": "code",
   "execution_count": 30,
   "metadata": {
    "collapsed": false
   },
   "outputs": [
    {
     "name": "stdout",
     "output_type": "stream",
     "text": [
      "[[ 58  22  16  65  18]\n",
      " [ 16  27  41 140  20]\n",
      " [  6   6  33 304  35]\n",
      " [  5   1  18 637 194]\n",
      " [  6   0   7 352 473]]\n"
     ]
    }
   ],
   "source": [
    "# print the confusion matrix\n",
    "conf_mat=metrics.confusion_matrix(y_test, y_pred_class)\n",
    "print conf_mat"
   ]
  },
  {
   "cell_type": "code",
   "execution_count": 31,
   "metadata": {
    "collapsed": false
   },
   "outputs": [
    {
     "name": "stdout",
     "output_type": "stream",
     "text": [
      "sensitivity =0.324022346369\n"
     ]
    }
   ],
   "source": [
    " #calculate sensitivity - True positive rate (for 1 star reviews)\n",
    "sum1 = conf_mat[0].sum()\n",
    "tp = conf_mat[0][0]\n",
    "sensitivity = tp/(sum1*1.0)\n",
    "print 'sensitivity =' + str(sensitivity)\n"
   ]
  },
  {
   "cell_type": "code",
   "execution_count": 52,
   "metadata": {
    "collapsed": false
   },
   "outputs": [
    {
     "name": "stdout",
     "output_type": "stream",
     "text": [
      "33\n",
      "specificity = 0.985981308411\n"
     ]
    }
   ],
   "source": [
    "# calculate specificity (1 - False Positive Rate)\n",
    "def sumf(l,n): \n",
    "    return l[n].sum()\n",
    "sum2 = 0\n",
    "for nl in range(1,5):\n",
    "    sum2 = sum2+sumf(conf_mat,nl)\n",
    "fp=0\n",
    "for x in range(1,5):\n",
    "    fp = fp+ conf_mat[x][0]\n",
    "print fp\n",
    "fpr2 = (fp*1.0)/(fp+sum2)\n",
    "specificity = 1-fpr2\n",
    "print 'specificity = ' + str(specificity)"
   ]
  },
  {
   "cell_type": "markdown",
   "metadata": {},
   "source": [
    "Comments: This model has a far lower accuracy rate (0.47) than the previous model (0.93). The problems seem to lie on the sensitivity side, with a very low true positive rate of 0.27. It does much better on the specificity side, with a specificity level of 0.985.\n",
    "\n"
   ]
  }
 ],
 "metadata": {
  "kernelspec": {
   "display_name": "Python 2",
   "language": "python",
   "name": "python2"
  },
  "language_info": {
   "codemirror_mode": {
    "name": "ipython",
    "version": 2
   },
   "file_extension": ".py",
   "mimetype": "text/x-python",
   "name": "python",
   "nbconvert_exporter": "python",
   "pygments_lexer": "ipython2",
   "version": "2.7.10"
  }
 },
 "nbformat": 4,
 "nbformat_minor": 0
}
