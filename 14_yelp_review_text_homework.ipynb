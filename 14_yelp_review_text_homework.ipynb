{
 "cells": [
  {
   "cell_type": "markdown",
   "metadata": {},
   "source": [
    "# Naive Bayes homework with Yelp review text"
   ]
  },
  {
   "cell_type": "markdown",
   "metadata": {},
   "source": [
    "## Task 1\n",
    "\n",
    "Read `yelp.csv` into a DataFrame."
   ]
  },
  {
   "cell_type": "code",
   "execution_count": 1,
   "metadata": {
    "collapsed": false
   },
   "outputs": [
    {
     "data": {
      "text/html": [
       "<div>\n",
       "<table border=\"1\" class=\"dataframe\">\n",
       "  <thead>\n",
       "    <tr style=\"text-align: right;\">\n",
       "      <th></th>\n",
       "      <th>business_id</th>\n",
       "      <th>date</th>\n",
       "      <th>review_id</th>\n",
       "      <th>stars</th>\n",
       "      <th>text</th>\n",
       "      <th>type</th>\n",
       "      <th>user_id</th>\n",
       "      <th>cool</th>\n",
       "      <th>useful</th>\n",
       "      <th>funny</th>\n",
       "    </tr>\n",
       "  </thead>\n",
       "  <tbody>\n",
       "    <tr>\n",
       "      <th>0</th>\n",
       "      <td>9yKzy9PApeiPPOUJEtnvkg</td>\n",
       "      <td>2011-01-26</td>\n",
       "      <td>fWKvX83p0-ka4JS3dc6E5A</td>\n",
       "      <td>5</td>\n",
       "      <td>My wife took me here on my birthday for breakf...</td>\n",
       "      <td>review</td>\n",
       "      <td>rLtl8ZkDX5vH5nAx9C3q5Q</td>\n",
       "      <td>2</td>\n",
       "      <td>5</td>\n",
       "      <td>0</td>\n",
       "    </tr>\n",
       "    <tr>\n",
       "      <th>1</th>\n",
       "      <td>ZRJwVLyzEJq1VAihDhYiow</td>\n",
       "      <td>2011-07-27</td>\n",
       "      <td>IjZ33sJrzXqU-0X6U8NwyA</td>\n",
       "      <td>5</td>\n",
       "      <td>I have no idea why some people give bad review...</td>\n",
       "      <td>review</td>\n",
       "      <td>0a2KyEL0d3Yb1V6aivbIuQ</td>\n",
       "      <td>0</td>\n",
       "      <td>0</td>\n",
       "      <td>0</td>\n",
       "    </tr>\n",
       "    <tr>\n",
       "      <th>2</th>\n",
       "      <td>6oRAC4uyJCsJl1X0WZpVSA</td>\n",
       "      <td>2012-06-14</td>\n",
       "      <td>IESLBzqUCLdSzSqm0eCSxQ</td>\n",
       "      <td>4</td>\n",
       "      <td>love the gyro plate. Rice is so good and I als...</td>\n",
       "      <td>review</td>\n",
       "      <td>0hT2KtfLiobPvh6cDC8JQg</td>\n",
       "      <td>0</td>\n",
       "      <td>1</td>\n",
       "      <td>0</td>\n",
       "    </tr>\n",
       "    <tr>\n",
       "      <th>3</th>\n",
       "      <td>_1QQZuf4zZOyFCvXc0o6Vg</td>\n",
       "      <td>2010-05-27</td>\n",
       "      <td>G-WvGaISbqqaMHlNnByodA</td>\n",
       "      <td>5</td>\n",
       "      <td>Rosie, Dakota, and I LOVE Chaparral Dog Park!!...</td>\n",
       "      <td>review</td>\n",
       "      <td>uZetl9T0NcROGOyFfughhg</td>\n",
       "      <td>1</td>\n",
       "      <td>2</td>\n",
       "      <td>0</td>\n",
       "    </tr>\n",
       "    <tr>\n",
       "      <th>4</th>\n",
       "      <td>6ozycU1RpktNG2-1BroVtw</td>\n",
       "      <td>2012-01-05</td>\n",
       "      <td>1uJFq2r5QfJG_6ExMRCaGw</td>\n",
       "      <td>5</td>\n",
       "      <td>General Manager Scott Petello is a good egg!!!...</td>\n",
       "      <td>review</td>\n",
       "      <td>vYmM4KTsC8ZfQBg-j5MWkw</td>\n",
       "      <td>0</td>\n",
       "      <td>0</td>\n",
       "      <td>0</td>\n",
       "    </tr>\n",
       "  </tbody>\n",
       "</table>\n",
       "</div>"
      ],
      "text/plain": [
       "              business_id        date               review_id  stars  \\\n",
       "0  9yKzy9PApeiPPOUJEtnvkg  2011-01-26  fWKvX83p0-ka4JS3dc6E5A      5   \n",
       "1  ZRJwVLyzEJq1VAihDhYiow  2011-07-27  IjZ33sJrzXqU-0X6U8NwyA      5   \n",
       "2  6oRAC4uyJCsJl1X0WZpVSA  2012-06-14  IESLBzqUCLdSzSqm0eCSxQ      4   \n",
       "3  _1QQZuf4zZOyFCvXc0o6Vg  2010-05-27  G-WvGaISbqqaMHlNnByodA      5   \n",
       "4  6ozycU1RpktNG2-1BroVtw  2012-01-05  1uJFq2r5QfJG_6ExMRCaGw      5   \n",
       "\n",
       "                                                text    type  \\\n",
       "0  My wife took me here on my birthday for breakf...  review   \n",
       "1  I have no idea why some people give bad review...  review   \n",
       "2  love the gyro plate. Rice is so good and I als...  review   \n",
       "3  Rosie, Dakota, and I LOVE Chaparral Dog Park!!...  review   \n",
       "4  General Manager Scott Petello is a good egg!!!...  review   \n",
       "\n",
       "                  user_id  cool  useful  funny  \n",
       "0  rLtl8ZkDX5vH5nAx9C3q5Q     2       5      0  \n",
       "1  0a2KyEL0d3Yb1V6aivbIuQ     0       0      0  \n",
       "2  0hT2KtfLiobPvh6cDC8JQg     0       1      0  \n",
       "3  uZetl9T0NcROGOyFfughhg     1       2      0  \n",
       "4  vYmM4KTsC8ZfQBg-j5MWkw     0       0      0  "
      ]
     },
     "execution_count": 1,
     "metadata": {},
     "output_type": "execute_result"
    }
   ],
   "source": [
    "# access yelp.csv in your data directory and load it into a DataFrame\n",
    "import pandas as pd\n",
    "path = '/Users/arthurkolios/documents/data_science/GA-SEA-DAT1/data/'\n",
    "yelp = pd.read_csv(path + 'yelp.csv')\n",
    "yelp.head()"
   ]
  },
  {
   "cell_type": "markdown",
   "metadata": {},
   "source": [
    "## Task 2\n",
    "\n",
    "Create a new DataFrame that only contains the 5-star and 1-star reviews."
   ]
  },
  {
   "cell_type": "code",
   "execution_count": 2,
   "metadata": {
    "collapsed": false
   },
   "outputs": [],
   "source": [
    "# filter the DataFrame to only rows that have a 5-star or 1-star rating. Using an OR condition\n",
    "yelp51 = yelp[(yelp.stars==1) | (yelp.stars==5)]"
   ]
  },
  {
   "cell_type": "markdown",
   "metadata": {},
   "source": [
    "## Task 3\n",
    "\n",
    "Split the new DataFrame into training and testing sets, using the review text as the only feature and the star rating as the response."
   ]
  },
  {
   "cell_type": "code",
   "execution_count": 3,
   "metadata": {
    "collapsed": true
   },
   "outputs": [],
   "source": [
    "# define X and y\n",
    "X = yelp51['text']\n",
    "y = yelp51.stars"
   ]
  },
  {
   "cell_type": "code",
   "execution_count": 4,
   "metadata": {
    "collapsed": true
   },
   "outputs": [],
   "source": [
    "# split into training and testing sets\n",
    "from sklearn.cross_validation import train_test_split\n",
    "X_train, X_test, y_train, y_test = train_test_split(X, y)"
   ]
  },
  {
   "cell_type": "markdown",
   "metadata": {},
   "source": [
    "## Task 4\n",
    "\n",
    "Use CountVectorizer to create document-term matrices from X_train and X_test."
   ]
  },
  {
   "cell_type": "code",
   "execution_count": 5,
   "metadata": {
    "collapsed": true
   },
   "outputs": [],
   "source": [
    "# import and instantiate the vectorizer\n",
    "from sklearn.feature_extraction.text import CountVectorizer\n",
    "vect = CountVectorizer()"
   ]
  },
  {
   "cell_type": "code",
   "execution_count": 6,
   "metadata": {
    "collapsed": false
   },
   "outputs": [
    {
     "name": "stdout",
     "output_type": "stream",
     "text": [
      "  (0, 16)\t1\n",
      "  (0, 301)\t1\n",
      "  (0, 670)\t1\n",
      "  (0, 723)\t1\n",
      "  (0, 798)\t3\n",
      "  (0, 997)\t2\n",
      "  (0, 1971)\t2\n",
      "  (0, 3625)\t1\n",
      "  (0, 4647)\t5\n",
      "  (0, 4699)\t1\n",
      "  (0, 4791)\t1\n",
      "  (0, 5282)\t2\n",
      "  (0, 5955)\t1\n",
      "  (0, 6081)\t1\n",
      "  (0, 6497)\t1\n",
      "  (0, 6800)\t2\n",
      "  (0, 6957)\t2\n",
      "  (0, 7555)\t2\n",
      "  (0, 7912)\t1\n",
      "  (0, 8317)\t2\n",
      "  (0, 8318)\t2\n",
      "  (0, 8613)\t1\n",
      "  (0, 9428)\t1\n",
      "  (0, 9783)\t1\n",
      "  (0, 10202)\t1\n",
      "  :\t:\n",
      "  (3063, 5017)\t1\n",
      "  (3063, 5577)\t1\n",
      "  (3063, 5757)\t1\n",
      "  (3063, 6403)\t1\n",
      "  (3063, 6504)\t2\n",
      "  (3063, 6623)\t1\n",
      "  (3063, 7895)\t2\n",
      "  (3063, 7912)\t1\n",
      "  (3063, 8717)\t1\n",
      "  (3063, 8925)\t1\n",
      "  (3063, 9783)\t1\n",
      "  (3063, 10128)\t1\n",
      "  (3063, 10202)\t1\n",
      "  (3063, 10274)\t1\n",
      "  (3063, 10389)\t1\n",
      "  (3063, 12509)\t1\n",
      "  (3063, 13412)\t1\n",
      "  (3063, 14021)\t1\n",
      "  (3063, 14450)\t2\n",
      "  (3063, 14858)\t4\n",
      "  (3063, 14865)\t1\n",
      "  (3063, 14913)\t1\n",
      "  (3063, 15716)\t1\n",
      "  (3063, 15843)\t1\n",
      "  (3063, 16063)\t1\n",
      "  (0, 16)\t1\n",
      "  (0, 869)\t3\n",
      "  (0, 1262)\t1\n",
      "  (0, 1554)\t1\n",
      "  (0, 3899)\t1\n",
      "  (0, 4763)\t1\n",
      "  (0, 5282)\t2\n",
      "  (0, 5429)\t1\n",
      "  (0, 6464)\t1\n",
      "  (0, 6678)\t2\n",
      "  (0, 7555)\t1\n",
      "  (0, 8129)\t1\n",
      "  (0, 8734)\t1\n",
      "  (0, 9428)\t1\n",
      "  (0, 10202)\t1\n",
      "  (0, 10341)\t1\n",
      "  (0, 10412)\t2\n",
      "  (0, 11112)\t1\n",
      "  (0, 11883)\t1\n",
      "  (0, 12653)\t1\n",
      "  (0, 13072)\t1\n",
      "  (0, 14149)\t2\n",
      "  (0, 14858)\t1\n",
      "  (0, 14913)\t1\n",
      "  (0, 15047)\t2\n",
      "  :\t:\n",
      "  (1021, 13671)\t1\n",
      "  (1021, 13835)\t2\n",
      "  (1021, 14021)\t1\n",
      "  (1021, 14051)\t1\n",
      "  (1021, 14555)\t1\n",
      "  (1021, 14697)\t1\n",
      "  (1021, 14853)\t3\n",
      "  (1021, 14858)\t9\n",
      "  (1021, 14865)\t2\n",
      "  (1021, 14868)\t1\n",
      "  (1021, 14881)\t7\n",
      "  (1021, 14913)\t1\n",
      "  (1021, 15047)\t4\n",
      "  (1021, 15068)\t2\n",
      "  (1021, 15706)\t1\n",
      "  (1021, 16087)\t1\n",
      "  (1021, 16136)\t1\n",
      "  (1021, 16144)\t1\n",
      "  (1021, 16195)\t2\n",
      "  (1021, 16230)\t1\n",
      "  (1021, 16272)\t1\n",
      "  (1021, 16336)\t1\n",
      "  (1021, 16395)\t2\n",
      "  (1021, 16416)\t1\n",
      "  (1021, 16540)\t3\n"
     ]
    }
   ],
   "source": [
    "# fit and transform X_train, but only transform X_test\n",
    "vect.fit(X_train)\n",
    "X_train_dtm = vect.transform(X_train)\n",
    "print X_train_dtm\n",
    "\n",
    "X_test_dtm = vect.transform(X_test)\n",
    "print X_test_dtm"
   ]
  },
  {
   "cell_type": "markdown",
   "metadata": {},
   "source": [
    "## Task 5\n",
    "\n",
    "Use Naive Bayes to predict the star rating for reviews in the testing set, and calculate the accuracy."
   ]
  },
  {
   "cell_type": "code",
   "execution_count": 7,
   "metadata": {
    "collapsed": false
   },
   "outputs": [
    {
     "data": {
      "text/plain": [
       "MultinomialNB(alpha=1.0, class_prior=None, fit_prior=True)"
      ]
     },
     "execution_count": 7,
     "metadata": {},
     "output_type": "execute_result"
    }
   ],
   "source": [
    "# import/instantiate/fit\n",
    "from sklearn.naive_bayes import MultinomialNB\n",
    "nb = MultinomialNB()\n",
    "nb.fit(X_train_dtm, y_train)"
   ]
  },
  {
   "cell_type": "code",
   "execution_count": 8,
   "metadata": {
    "collapsed": true
   },
   "outputs": [],
   "source": [
    "# make class predictions\n",
    "y_pred_class = nb.predict(X_test_dtm)"
   ]
  },
  {
   "cell_type": "code",
   "execution_count": 9,
   "metadata": {
    "collapsed": false
   },
   "outputs": [
    {
     "name": "stdout",
     "output_type": "stream",
     "text": [
      "0.931506849315\n"
     ]
    }
   ],
   "source": [
    "# calculate accuracy\n",
    "from sklearn import metrics\n",
    "print metrics.accuracy_score(y_test, y_pred_class)"
   ]
  },
  {
   "cell_type": "markdown",
   "metadata": {},
   "source": [
    "## Task 6\n",
    "\n",
    "Calculate the AUC."
   ]
  },
  {
   "cell_type": "code",
   "execution_count": 10,
   "metadata": {
    "collapsed": false
   },
   "outputs": [
    {
     "data": {
      "text/plain": [
       "array([1, 5, 5, 5, 1, 5, 5, 5, 5, 5])"
      ]
     },
     "execution_count": 10,
     "metadata": {},
     "output_type": "execute_result"
    }
   ],
   "source": [
    "# y_test contains fives and ones, which will confuse the roc_auc_score function\n",
    "y_test[:10].values"
   ]
  },
  {
   "cell_type": "code",
   "execution_count": 13,
   "metadata": {
    "collapsed": false
   },
   "outputs": [
    {
     "data": {
      "text/plain": [
       "array([0, 1, 1, 1, 0, 1, 1, 1, 1, 1])"
      ]
     },
     "execution_count": 13,
     "metadata": {},
     "output_type": "execute_result"
    }
   ],
   "source": [
    "# create y_test_binary, which contains ones and zeros instead\n",
    "y_test_binary = y_test.map({5:1,1:0})\n",
    "y_test_binary[:10].values"
   ]
  },
  {
   "cell_type": "code",
   "execution_count": 14,
   "metadata": {
    "collapsed": false
   },
   "outputs": [
    {
     "data": {
      "text/plain": [
       "array([ 0.0398561,  0.9999238,  1.       , ...,  0.9999992,  1.       ,  1.       ])"
      ]
     },
     "execution_count": 14,
     "metadata": {},
     "output_type": "execute_result"
    }
   ],
   "source": [
    "# predict class probabilities\n",
    "nb.predict_proba(X_test_dtm)\n",
    "\n",
    "y_pred_prob = nb.predict_proba(X_test_dtm)[:, 1]\n",
    "y_pred_prob"
   ]
  },
  {
   "cell_type": "code",
   "execution_count": 15,
   "metadata": {
    "collapsed": false
   },
   "outputs": [
    {
     "name": "stdout",
     "output_type": "stream",
     "text": [
      "0.950356865942\n"
     ]
    }
   ],
   "source": [
    "# calculate the AUC using y_test_binary and y_pred_prob\n",
    "from sklearn import metrics\n",
    "print metrics.roc_auc_score(y_test_binary, y_pred_prob)"
   ]
  },
  {
   "cell_type": "markdown",
   "metadata": {},
   "source": [
    "## Task 7\n",
    "\n",
    "Plot the ROC curve."
   ]
  },
  {
   "cell_type": "code",
   "execution_count": 16,
   "metadata": {
    "collapsed": true
   },
   "outputs": [],
   "source": [
    "%matplotlib inline\n",
    "import matplotlib.pyplot as plt"
   ]
  },
  {
   "cell_type": "code",
   "execution_count": 36,
   "metadata": {
    "collapsed": false
   },
   "outputs": [
    {
     "name": "stdout",
     "output_type": "stream",
     "text": [
      "[ 0.          0.03351955  0.03351955  0.03351955  0.03910615  0.03910615\n",
      "  0.03910615  0.03910615  0.03910615  0.03910615  0.03910615  0.03910615\n",
      "  0.03910615  0.03910615  0.03910615  0.03910615  0.03910615  0.03910615\n",
      "  0.03910615  0.03910615  0.03910615  0.03910615  0.03910615  0.03910615\n",
      "  0.03910615  0.03910615  0.03910615  0.03910615  0.03910615  0.03910615\n",
      "  0.03910615  0.03910615  0.03910615  0.03910615  0.04469274  0.04469274\n",
      "  0.04469274  0.04469274  0.04469274  0.04469274  0.04469274  0.04469274\n",
      "  0.04469274  0.04469274  0.04469274  0.04469274  0.05027933  0.05027933\n",
      "  0.05027933  0.05027933  0.05027933  0.05027933  0.05027933  0.05027933\n",
      "  0.05027933  0.05027933  0.05027933  0.05027933  0.05027933  0.05027933\n",
      "  0.05027933  0.05027933  0.05027933  0.05027933  0.05027933  0.05027933\n",
      "  0.05027933  0.05027933  0.05027933  0.05027933  0.05027933  0.05027933\n",
      "  0.05027933  0.05027933  0.05027933  0.05027933  0.05027933  0.05027933\n",
      "  0.05027933  0.05027933  0.05027933  0.05027933  0.05027933  0.05027933\n",
      "  0.05027933  0.05027933  0.05027933  0.05027933  0.05027933  0.05027933\n",
      "  0.05027933  0.05027933  0.05586592  0.05586592  0.05586592  0.05586592\n",
      "  0.05586592  0.05586592  0.05586592  0.05586592  0.05586592  0.05586592\n",
      "  0.05586592  0.06145251  0.06145251  0.06703911  0.06703911  0.06703911\n",
      "  0.06703911  0.06703911  0.06703911  0.06703911  0.06703911  0.06703911\n",
      "  0.06703911  0.06703911  0.06703911  0.06703911  0.06703911  0.06703911\n",
      "  0.06703911  0.06703911  0.06703911  0.06703911  0.06703911  0.06703911\n",
      "  0.06703911  0.06703911  0.06703911  0.06703911  0.0726257   0.0726257\n",
      "  0.0726257   0.0726257   0.0726257   0.0726257   0.0726257   0.07821229\n",
      "  0.07821229  0.07821229  0.08379888  0.08379888  0.08379888  0.08379888\n",
      "  0.08379888  0.08379888  0.08379888  0.08379888  0.08379888  0.08379888\n",
      "  0.08379888  0.08379888  0.08379888  0.08379888  0.08379888  0.08379888\n",
      "  0.08379888  0.08379888  0.08379888  0.08379888  0.08379888  0.08379888\n",
      "  0.08379888  0.08379888  0.08379888  0.08938547  0.08938547  0.08938547\n",
      "  0.08938547  0.08938547  0.08938547  0.08938547  0.08938547  0.08938547\n",
      "  0.08938547  0.09497207  0.09497207  0.09497207  0.09497207  0.09497207\n",
      "  0.09497207  0.09497207  0.09497207  0.09497207  0.10055866  0.10055866\n",
      "  0.10055866  0.10055866  0.10055866  0.10055866  0.10055866  0.10055866\n",
      "  0.10055866  0.10055866  0.10055866  0.10055866  0.10614525  0.10614525\n",
      "  0.10614525  0.10614525  0.10614525  0.11173184  0.11173184  0.11173184\n",
      "  0.11173184  0.11173184  0.11731844  0.11731844  0.11731844  0.11731844\n",
      "  0.11731844  0.11731844  0.11731844  0.12290503  0.12290503  0.12290503\n",
      "  0.12290503  0.12290503  0.12290503  0.12290503  0.12290503  0.12290503\n",
      "  0.12290503  0.12290503  0.12290503  0.12290503  0.12290503  0.12290503\n",
      "  0.12290503  0.12290503  0.12290503  0.12290503  0.12290503  0.12290503\n",
      "  0.12290503  0.12290503  0.12290503  0.12290503  0.12290503  0.12290503\n",
      "  0.12290503  0.12290503  0.12290503  0.12290503  0.12849162  0.12849162\n",
      "  0.12849162  0.12849162  0.12849162  0.13407821  0.13407821  0.13407821\n",
      "  0.1396648   0.1396648   0.1396648   0.1396648   0.1452514   0.15083799\n",
      "  0.15083799  0.15642458  0.15642458  0.15642458  0.15642458  0.15642458\n",
      "  0.15642458  0.15642458  0.15642458  0.15642458  0.15642458  0.15642458\n",
      "  0.15642458  0.15642458  0.16201117  0.16759777  0.16759777  0.17318436\n",
      "  0.17318436  0.17877095  0.17877095  0.18435754  0.18994413  0.18994413\n",
      "  0.18994413  0.19553073  0.19553073  0.19553073  0.20111732  0.20111732\n",
      "  0.20111732  0.20111732  0.20670391  0.2122905   0.21787709  0.21787709\n",
      "  0.21787709  0.21787709  0.22346369  0.22905028  0.23463687  0.23463687\n",
      "  0.23463687  0.24022346  0.24022346  0.24022346  0.24022346  0.24581006\n",
      "  0.25139665  0.25698324  0.26256983  0.26256983  0.26256983  0.26256983\n",
      "  0.26815642  0.27374302  0.27374302  0.27932961  0.2849162   0.29050279\n",
      "  0.29050279  0.29608939  0.30167598  0.30167598  0.30726257  0.31284916\n",
      "  0.31284916  0.31284916  0.31843575  0.32402235  0.32960894  0.32960894\n",
      "  0.32960894  0.33519553  0.34078212  0.34636872  0.35195531  0.35195531\n",
      "  0.3575419   0.36312849  0.36871508  0.36871508  0.36871508  0.37430168\n",
      "  0.37430168  0.37988827  0.38547486  0.39106145  0.39664804  0.40223464\n",
      "  0.40223464  0.40782123  0.41340782  0.41899441  0.42458101  0.4301676\n",
      "  0.4301676   0.43575419  0.44134078  0.44692737  0.45251397  0.45810056\n",
      "  0.46368715  0.46927374  0.46927374  0.47486034  0.48044693  0.48603352\n",
      "  0.49162011  0.4972067   0.4972067   0.5027933   0.50837989  0.51396648\n",
      "  0.51955307  0.52513966  0.53072626  0.53631285  0.54189944  0.54748603\n",
      "  0.55307263  0.55865922  0.55865922  0.56424581  0.5698324   0.57541899\n",
      "  0.58100559  0.58659218  0.59217877  0.59776536  0.60335196  0.60893855\n",
      "  0.61452514  0.62011173  0.62011173  0.62011173  0.62569832  0.63128492\n",
      "  0.63687151  0.6424581   0.64804469  0.65363128  0.65921788  0.66480447\n",
      "  0.67039106  0.67597765  0.68156425  0.68715084  0.69273743  0.69832402\n",
      "  0.70391061  0.70949721  0.7150838   0.72067039  0.72625698  0.73184358\n",
      "  0.73743017  0.74301676  0.74860335  0.75418994  0.75977654  0.76536313\n",
      "  0.77094972  0.77653631  0.78212291  0.7877095   0.80446927  1.        ]\n"
     ]
    },
    {
     "data": {
      "image/png": "[encoded data removed]",
      "text/plain": [
       "<matplotlib.figure.Figure at 0x109c35a10>"
      ]
     },
     "metadata": {},
     "output_type": "display_data"
    }
   ],
   "source": [
    "# plot ROC curve using y_test_binary and y_pred_prob\n",
    "plt.rcParams['figure.figsize'] = (8, 6)\n",
    "plt.rcParams['font.size'] = 14\n",
    "\n",
    "fpr, tpr, thresholds = metrics.roc_curve(y_test_binary, y_pred_prob)\n",
    "plt.plot(fpr, tpr)\n",
    "plt.xlim([0.0, 1.0])\n",
    "plt.ylim([0.0, 1.0])\n",
    "plt.xlabel('False Positive Rate (1 - Specificity)')\n",
    "plt.ylabel('True Positive Rate (Sensitivity)')\n",
    "print fpr\n",
    "#print(metrics.roc_curve(y_test_binary, y_pred_prob))"
   ]
  },
  {
   "cell_type": "markdown",
   "metadata": {},
   "source": [
    "## Task 8\n",
    "\n",
    "Print the confusion matrix, and calculate the sensitivity and specificity. Comment on the results."
   ]
  },
  {
   "cell_type": "code",
   "execution_count": 37,
   "metadata": {
    "collapsed": false
   },
   "outputs": [
    {
     "name": "stdout",
     "output_type": "stream",
     "text": [
      "[[  0 125  54]\n",
      " [  0  16 827]\n",
      " [  0   0   0]]\n",
      "[ 0.          0.03351955  0.03351955  0.03351955  0.03910615  0.03910615\n",
      "  0.03910615  0.03910615  0.03910615  0.03910615  0.03910615  0.03910615\n",
      "  0.03910615  0.03910615  0.03910615  0.03910615  0.03910615  0.03910615\n",
      "  0.03910615  0.03910615  0.03910615  0.03910615  0.03910615  0.03910615\n",
      "  0.03910615  0.03910615  0.03910615  0.03910615  0.03910615  0.03910615\n",
      "  0.03910615  0.03910615  0.03910615  0.03910615  0.04469274  0.04469274\n",
      "  0.04469274  0.04469274  0.04469274  0.04469274  0.04469274  0.04469274\n",
      "  0.04469274  0.04469274  0.04469274  0.04469274  0.05027933  0.05027933\n",
      "  0.05027933  0.05027933  0.05027933  0.05027933  0.05027933  0.05027933\n",
      "  0.05027933  0.05027933  0.05027933  0.05027933  0.05027933  0.05027933\n",
      "  0.05027933  0.05027933  0.05027933  0.05027933  0.05027933  0.05027933\n",
      "  0.05027933  0.05027933  0.05027933  0.05027933  0.05027933  0.05027933\n",
      "  0.05027933  0.05027933  0.05027933  0.05027933  0.05027933  0.05027933\n",
      "  0.05027933  0.05027933  0.05027933  0.05027933  0.05027933  0.05027933\n",
      "  0.05027933  0.05027933  0.05027933  0.05027933  0.05027933  0.05027933\n",
      "  0.05027933  0.05027933  0.05586592  0.05586592  0.05586592  0.05586592\n",
      "  0.05586592  0.05586592  0.05586592  0.05586592  0.05586592  0.05586592\n",
      "  0.05586592  0.06145251  0.06145251  0.06703911  0.06703911  0.06703911\n",
      "  0.06703911  0.06703911  0.06703911  0.06703911  0.06703911  0.06703911\n",
      "  0.06703911  0.06703911  0.06703911  0.06703911  0.06703911  0.06703911\n",
      "  0.06703911  0.06703911  0.06703911  0.06703911  0.06703911  0.06703911\n",
      "  0.06703911  0.06703911  0.06703911  0.06703911  0.0726257   0.0726257\n",
      "  0.0726257   0.0726257   0.0726257   0.0726257   0.0726257   0.07821229\n",
      "  0.07821229  0.07821229  0.08379888  0.08379888  0.08379888  0.08379888\n",
      "  0.08379888  0.08379888  0.08379888  0.08379888  0.08379888  0.08379888\n",
      "  0.08379888  0.08379888  0.08379888  0.08379888  0.08379888  0.08379888\n",
      "  0.08379888  0.08379888  0.08379888  0.08379888  0.08379888  0.08379888\n",
      "  0.08379888  0.08379888  0.08379888  0.08938547  0.08938547  0.08938547\n",
      "  0.08938547  0.08938547  0.08938547  0.08938547  0.08938547  0.08938547\n",
      "  0.08938547  0.09497207  0.09497207  0.09497207  0.09497207  0.09497207\n",
      "  0.09497207  0.09497207  0.09497207  0.09497207  0.10055866  0.10055866\n",
      "  0.10055866  0.10055866  0.10055866  0.10055866  0.10055866  0.10055866\n",
      "  0.10055866  0.10055866  0.10055866  0.10055866  0.10614525  0.10614525\n",
      "  0.10614525  0.10614525  0.10614525  0.11173184  0.11173184  0.11173184\n",
      "  0.11173184  0.11173184  0.11731844  0.11731844  0.11731844  0.11731844\n",
      "  0.11731844  0.11731844  0.11731844  0.12290503  0.12290503  0.12290503\n",
      "  0.12290503  0.12290503  0.12290503  0.12290503  0.12290503  0.12290503\n",
      "  0.12290503  0.12290503  0.12290503  0.12290503  0.12290503  0.12290503\n",
      "  0.12290503  0.12290503  0.12290503  0.12290503  0.12290503  0.12290503\n",
      "  0.12290503  0.12290503  0.12290503  0.12290503  0.12290503  0.12290503\n",
      "  0.12290503  0.12290503  0.12290503  0.12290503  0.12849162  0.12849162\n",
      "  0.12849162  0.12849162  0.12849162  0.13407821  0.13407821  0.13407821\n",
      "  0.1396648   0.1396648   0.1396648   0.1396648   0.1452514   0.15083799\n",
      "  0.15083799  0.15642458  0.15642458  0.15642458  0.15642458  0.15642458\n",
      "  0.15642458  0.15642458  0.15642458  0.15642458  0.15642458  0.15642458\n",
      "  0.15642458  0.15642458  0.16201117  0.16759777  0.16759777  0.17318436\n",
      "  0.17318436  0.17877095  0.17877095  0.18435754  0.18994413  0.18994413\n",
      "  0.18994413  0.19553073  0.19553073  0.19553073  0.20111732  0.20111732\n",
      "  0.20111732  0.20111732  0.20670391  0.2122905   0.21787709  0.21787709\n",
      "  0.21787709  0.21787709  0.22346369  0.22905028  0.23463687  0.23463687\n",
      "  0.23463687  0.24022346  0.24022346  0.24022346  0.24022346  0.24581006\n",
      "  0.25139665  0.25698324  0.26256983  0.26256983  0.26256983  0.26256983\n",
      "  0.26815642  0.27374302  0.27374302  0.27932961  0.2849162   0.29050279\n",
      "  0.29050279  0.29608939  0.30167598  0.30167598  0.30726257  0.31284916\n",
      "  0.31284916  0.31284916  0.31843575  0.32402235  0.32960894  0.32960894\n",
      "  0.32960894  0.33519553  0.34078212  0.34636872  0.35195531  0.35195531\n",
      "  0.3575419   0.36312849  0.36871508  0.36871508  0.36871508  0.37430168\n",
      "  0.37430168  0.37988827  0.38547486  0.39106145  0.39664804  0.40223464\n",
      "  0.40223464  0.40782123  0.41340782  0.41899441  0.42458101  0.4301676\n",
      "  0.4301676   0.43575419  0.44134078  0.44692737  0.45251397  0.45810056\n",
      "  0.46368715  0.46927374  0.46927374  0.47486034  0.48044693  0.48603352\n",
      "  0.49162011  0.4972067   0.4972067   0.5027933   0.50837989  0.51396648\n",
      "  0.51955307  0.52513966  0.53072626  0.53631285  0.54189944  0.54748603\n",
      "  0.55307263  0.55865922  0.55865922  0.56424581  0.5698324   0.57541899\n",
      "  0.58100559  0.58659218  0.59217877  0.59776536  0.60335196  0.60893855\n",
      "  0.61452514  0.62011173  0.62011173  0.62011173  0.62569832  0.63128492\n",
      "  0.63687151  0.6424581   0.64804469  0.65363128  0.65921788  0.66480447\n",
      "  0.67039106  0.67597765  0.68156425  0.68715084  0.69273743  0.69832402\n",
      "  0.70391061  0.70949721  0.7150838   0.72067039  0.72625698  0.73184358\n",
      "  0.73743017  0.74301676  0.74860335  0.75418994  0.75977654  0.76536313\n",
      "  0.77094972  0.77653631  0.78212291  0.7877095   0.80446927  1.        ]\n"
     ]
    }
   ],
   "source": [
    "# print the confusion matrix\n",
    "y_test_binary\n",
    "conf_mat =  metrics.confusion_matrix(y_test_binary, y_pred_class)\n",
    "print conf_mat\n"
   ]
  },
  {
   "cell_type": "code",
   "execution_count": 33,
   "metadata": {
    "collapsed": false
   },
   "outputs": [
    {
     "name": "stdout",
     "output_type": "stream",
     "text": [
      "843\n",
      "827\n",
      "0.981020166074\n"
     ]
    }
   ],
   "source": [
    "# calculate sensitivity - True positive rate\n",
    "sum1 = conf_mat[1].sum()\n",
    "print sum1\n",
    "tp = conf_mat[1][2]\n",
    "print tp\n",
    "sensitivity = tp/(sum1*1.0)\n",
    "print sensitivity"
   ]
  },
  {
   "cell_type": "code",
   "execution_count": 38,
   "metadata": {
    "collapsed": false
   },
   "outputs": [
    {
     "name": "stdout",
     "output_type": "stream",
     "text": [
      "0.698324022346\n"
     ]
    }
   ],
   "source": [
    "# calculate specificity (1 - False Positive Rate)\n",
    "sum2 = conf_mat[0].sum()\n",
    "fp = conf_mat[0][2]\n",
    "fpr2 = fp/(sum2*1.0)\n",
    "specificity = 1-fpr2\n",
    "print specificity"
   ]
  },
  {
   "cell_type": "markdown",
   "metadata": {},
   "source": [
    "The model is having a much easier time detecting five-star reviews than one-star reviews."
   ]
  },
  {
   "cell_type": "markdown",
   "metadata": {},
   "source": [
    "## Task 9\n",
    "\n",
    "Browse through the review text for some of the false positives and false negatives. Based on your knowledge of how Naive Bayes works, do you have any theories about why the model is incorrectly classifying these reviews?"
   ]
  },
  {
   "cell_type": "code",
   "execution_count": 21,
   "metadata": {
    "collapsed": false
   },
   "outputs": [
    {
     "name": "stdout",
     "output_type": "stream",
     "text": [
      "6820    There are few resources in Arizona for dancers...\n",
      "9846    NO.  Don't go. Don't do it.  This was my first...\n",
      "3647    I went in once looking for Canidae.  Which acc...\n",
      "5121    Just isn't very good.\\n\\nI don't understand wh...\n",
      "765     I am not a fan of this place. I like to try to...\n",
      "7130    I was not impressed. The food was bad & expens...\n",
      "3654    pretentious and bad service - attendants are t...\n",
      "4227    I have literally never seen this place open an...\n",
      "5882    Tried Shorty's today, sadly it will be my one ...\n",
      "7188    Simply stated..............a GREASY burger fro...\n",
      "7141    Let me first say that we are fans of the W Hot...\n",
      "753     I went today to meet my daughter for lunch.  W...\n",
      "289     I'd say I've been to the Clubhouse a few times...\n",
      "4686                UPDATE: This location is closed. Boo!\n",
      "7803    I'm sad to report that we dined here for lunch...\n",
      "4249    AMC Theaters has the distinct disadvantage in ...\n",
      "1608    The reviews were so good that my friend and I ...\n",
      "8955    I would not recommend this place to anyone.  I...\n",
      "190     What a load of absolutely hideous, uninteresti...\n",
      "8910    Im going to have to agree Whole heartedly. And...\n",
      "6229    Forget the yogurt and the berry berry bad serv...\n",
      "4031    One star would be giving it a holiday gift!\\n\\...\n",
      "9296    My boyfriend and I tried this place last year ...\n",
      "8291    Hot Breakfast..........NOT, Again cold food wh...\n",
      "5079    Banfield is okay for routine check ups for mai...\n",
      "7827    As you walk in you are greeted by a sign that ...\n",
      "3357    I wrote a less than stellar review about this ...\n",
      "1963                       Prices are often way too high!\n",
      "3634    Seriously?! With grocery stores like Fresh & E...\n",
      "7035    Totally excited to try this place out, my gran...\n",
      "5955    I've now tried Thai Elephant three times.  My ...\n",
      "1270    Maybe I should have had a hot dog but I crave ...\n",
      "1747    This dog park gets one star.Why?Because the la...\n",
      "5257    Remember how I said that the Trivia was the be...\n",
      "2725    I have heard so many good reviews for this pla...\n",
      "3938    We were so disappointed!  We were on vacation ...\n",
      "4374    Cadillac Ranch looked really awesome from the ...\n",
      "4842    My fiance and I tried the place because of a G...\n",
      "2999    I can't even believe I actually went to this r...\n",
      "4562    despite it's billing as the 'largest thrift st...\n",
      "5185    We were driving around Chandler area to find a...\n",
      "943     Don't waste your time...Arrowhead mall on the ...\n",
      "7631    this is a business located in the fry's grocer...\n",
      "4766                                       Very bad food!\n",
      "8741    They served us stale rice.  Average main dishe...\n",
      "6076    Lots of \"gay on gay\" homophobia here.  Hick ba...\n",
      "1527    The portions are too small, the plasticware ju...\n",
      "8441    NOTE: This review concerns the Roberto's on Un...\n",
      "7579    Ok, im not getting the great reviews on this p...\n",
      "8507                         This location is now closed.\n",
      "5011                   Poor service-small portions-pricey\n",
      "1159    I don't like the pizza hear and if you go for ...\n",
      "528                 food is ok, but service is very slow!\n",
      "948     Hey Thai Elephant! Stop sucking! You used to b...\n",
      "Name: text, dtype: object\n"
     ]
    }
   ],
   "source": [
    "# print message text for the false positives\n",
    "pd.set_option('display.max_seq_items', 100)\n",
    "print X_test[y_test < y_pred_class]"
   ]
  },
  {
   "cell_type": "markdown",
   "metadata": {},
   "source": [
    "I think that words like \"crave\", \"cool\", \"good\", \"enjoy\", \"rave\" and \"OMG\" were associated in the training model with good reviews."
   ]
  },
  {
   "cell_type": "code",
   "execution_count": 22,
   "metadata": {
    "collapsed": false
   },
   "outputs": [
    {
     "data": {
      "text/plain": [
       "2902    Southwest blows its competitors so far out of ...\n",
       "6355                   Yeah, its BBB....what else to say?\n",
       "9765    You can't give anything less than 5 stars to a...\n",
       "3052    When I met some friends for dinner at this res...\n",
       "696     This is the only auto repair place I've ever s...\n",
       "8404    Bruce saved my day, my computer crashed this m...\n",
       "9937    I know Kerrie through my networking and we ben...\n",
       "7300    Decided to call CityWide based on positive onl...\n",
       "357     Called these guys when an evap cooler water pr...\n",
       "1404    Excellent customer service, super clean, and t...\n",
       "9622    I always buy my tires at Walmart, but they did...\n",
       "921     Just because i feel like doing something diffe...\n",
       "2790    John did a fantastic job on figuring out my ov...\n",
       "4938    DUDE..where is the manga....where are the card...\n",
       "2504    I've passed by prestige nails in walmart 100s ...\n",
       "402     Once again Wildflower proves why it's my favor...\n",
       "Name: text, dtype: object"
      ]
     },
     "execution_count": 22,
     "metadata": {},
     "output_type": "execute_result"
    }
   ],
   "source": [
    "# print message text for the false negatives\n",
    "X_test[y_test > y_pred_class]"
   ]
  },
  {
   "cell_type": "markdown",
   "metadata": {
    "collapsed": false
   },
   "source": [
    "For the false negatives, it looks like, in some cases, words like \"horribly\", \"terrible\" and \"hate\" were associated with negative reviews in the training model."
   ]
  },
  {
   "cell_type": "markdown",
   "metadata": {},
   "source": [
    "## Task 10\n",
    "\n",
    "Let's pretend that you want to balance sensitivity and specificity. You can achieve this by changing the threshold for predicting a 5-star review. What threshold approximately balances sensitivity and specificity?"
   ]
  },
  {
   "cell_type": "code",
   "execution_count": 67,
   "metadata": {
    "collapsed": false
   },
   "outputs": [
    {
     "name": "stdout",
     "output_type": "stream",
     "text": [
      "         thresholds        diff\n",
      "count  4.260000e+02  426.000000\n",
      "mean   7.517791e-01    0.079560\n",
      "std    3.982111e-01    0.305886\n",
      "min    1.942358e-34   -1.000000\n",
      "25%    5.337807e-01   -0.155677\n",
      "50%    9.983440e-01    0.012164\n",
      "75%    9.999780e-01    0.275713\n",
      "max    2.000000e+00    1.000000\n"
     ]
    }
   ],
   "source": [
    "# create a list that will store the results of the process below\n",
    "# loop through the thresholds returned by the metrics.roc_curve function\n",
    "#fpr, tpr, thresholds = metrics.roc_curve(y_test, y_pred_prob)\n",
    "#y_pred_prob = nb.predict_proba(X_test_dtm)[:, 1]\n",
    "tup = []\n",
    "for index, values in enumerate(thresholds):\n",
    "    sens = tpr[index]\n",
    "    spec = (1-fpr[index])\n",
    "    diff = sens - spec\n",
    "    X = [values,(sens-spec)]\n",
    "    tup.append(X)\n",
    "\n",
    "tup2 = pd.DataFrame(tup, columns = (['thresholds','diff']))\n",
    "print tup2.describe()"
   ]
  },
  {
   "cell_type": "code",
   "execution_count": 90,
   "metadata": {
    "collapsed": false
   },
   "outputs": [
    {
     "name": "stdout",
     "output_type": "stream",
     "text": [
      "       thresholds      diff\n",
      "206  9.985983e-01  0.002253\n",
      "207  9.985761e-01  0.003439\n",
      "208  9.985456e-01  0.004626\n",
      "209  9.984385e-01  0.005812\n",
      "210  9.984059e-01  0.006998\n",
      "211  9.984008e-01  0.008184\n",
      "212  9.983633e-01  0.009371\n",
      "213  9.983247e-01  0.014957\n",
      "214  9.982801e-01  0.016143\n",
      "215  9.981286e-01  0.017330\n",
      "216  9.980586e-01  0.018516\n",
      "217  9.980081e-01  0.019702\n",
      "218  9.979851e-01  0.020888\n",
      "219  9.977156e-01  0.022075\n",
      "220  9.975290e-01  0.023261\n",
      "221  9.975280e-01  0.024447\n",
      "222  9.972252e-01  0.025633\n",
      "223  9.968247e-01  0.026820\n",
      "224  9.966896e-01  0.028006\n",
      "225  9.966687e-01  0.029192\n",
      "226  9.960426e-01  0.030378\n",
      "227  9.958523e-01  0.031565\n",
      "228  9.957291e-01  0.032751\n",
      "229  9.954480e-01  0.033937\n",
      "230  9.953947e-01  0.035123\n",
      "231  9.952793e-01  0.036310\n",
      "232  9.948605e-01  0.037496\n",
      "233  9.948268e-01  0.038682\n",
      "234  9.945539e-01  0.039868\n",
      "235  9.933298e-01  0.041054\n",
      "..            ...       ...\n",
      "396  7.740658e-05  0.636872\n",
      "397  6.287978e-05  0.642458\n",
      "398  5.336824e-05  0.648045\n",
      "399  4.258053e-05  0.653631\n",
      "400  3.863692e-05  0.659218\n",
      "401  2.742199e-05  0.664804\n",
      "402  1.524873e-05  0.670391\n",
      "403  6.924004e-06  0.675978\n",
      "404  5.800302e-06  0.681564\n",
      "405  5.635360e-06  0.687151\n",
      "406  4.433656e-06  0.692737\n",
      "407  3.097017e-06  0.698324\n",
      "408  2.473627e-06  0.703911\n",
      "409  2.255361e-06  0.709497\n",
      "410  2.118619e-06  0.715084\n",
      "411  1.901249e-06  0.720670\n",
      "412  1.873873e-06  0.726257\n",
      "413  1.307399e-06  0.731844\n",
      "414  1.234746e-06  0.737430\n",
      "415  9.558343e-07  0.743017\n",
      "416  9.170203e-07  0.748603\n",
      "417  7.907947e-07  0.754190\n",
      "418  5.441042e-07  0.759777\n",
      "419  4.572900e-07  0.765363\n",
      "420  1.413880e-07  0.770950\n",
      "421  9.479122e-08  0.776536\n",
      "422  8.007044e-08  0.782123\n",
      "423  6.288441e-08  0.787709\n",
      "424  2.602244e-08  0.804469\n",
      "425  1.942358e-34  1.000000\n",
      "\n",
      "[220 rows x 2 columns]\n"
     ]
    }
   ],
   "source": [
    "# locate the minimum difference (at which sensitivity and specificity are balanced)\n",
    "# pick rows>0\n",
    "print tup2[tup2['diff']>0]\n"
   ]
  },
  {
   "cell_type": "markdown",
   "metadata": {},
   "source": [
    "Sensitivity and specificity are balanced with threshold = 9.985983e-01 , with a sensitivity-specificity difference of 0.002253"
   ]
  },
  {
   "cell_type": "markdown",
   "metadata": {},
   "source": [
    "## Task 11\n",
    "\n",
    "Let's see how well Naive Bayes performs when all reviews are included, rather than just 1-star and 5-star reviews:\n",
    "\n",
    "- Define X and y using the original DataFrame from step 1. (y should contain 5 different classes.)\n",
    "- Split the data into training and testing sets.\n",
    "- Calculate the testing accuracy of a Naive Bayes model.\n",
    "- Compare the testing accuracy with the null accuracy.\n",
    "- Print the confusion matrix.\n",
    "- Comment on the results."
   ]
  },
  {
   "cell_type": "code",
   "execution_count": 91,
   "metadata": {
    "collapsed": true
   },
   "outputs": [],
   "source": [
    "# define X and y using the original DataFrame\n",
    "# define X and y\n",
    "X = yelp['text']\n",
    "y = yelp.stars"
   ]
  },
  {
   "cell_type": "code",
   "execution_count": 92,
   "metadata": {
    "collapsed": true
   },
   "outputs": [],
   "source": [
    "# split into training and testing sets\n",
    "\n",
    "from sklearn.cross_validation import train_test_split\n",
    "X_train, X_test, y_train, y_test = train_test_split(X, y)"
   ]
  },
  {
   "cell_type": "code",
   "execution_count": 93,
   "metadata": {
    "collapsed": false
   },
   "outputs": [
    {
     "name": "stdout",
     "output_type": "stream",
     "text": [
      "  (0, 898)\t1\n",
      "  (0, 1101)\t1\n",
      "  (0, 1120)\t2\n",
      "  (0, 1122)\t2\n",
      "  (0, 1262)\t5\n",
      "  (0, 1371)\t1\n",
      "  (0, 1392)\t1\n",
      "  (0, 2328)\t2\n",
      "  (0, 2341)\t1\n",
      "  (0, 2398)\t1\n",
      "  (0, 2642)\t1\n",
      "  (0, 2711)\t1\n",
      "  (0, 3105)\t2\n",
      "  (0, 3779)\t1\n",
      "  (0, 3785)\t1\n",
      "  (0, 3916)\t1\n",
      "  (0, 4307)\t1\n",
      "  (0, 4352)\t2\n",
      "  (0, 4454)\t3\n",
      "  (0, 4475)\t1\n",
      "  (0, 4995)\t1\n",
      "  (0, 5642)\t1\n",
      "  (0, 6218)\t1\n",
      "  (0, 7130)\t1\n",
      "  (0, 7607)\t2\n",
      "  :\t:\n",
      "  (7499, 21340)\t1\n",
      "  (7499, 21698)\t1\n",
      "  (7499, 21816)\t1\n",
      "  (7499, 22010)\t1\n",
      "  (7499, 22115)\t2\n",
      "  (7499, 22426)\t1\n",
      "  (7499, 22709)\t1\n",
      "  (7499, 22834)\t11\n",
      "  (7499, 22879)\t1\n",
      "  (7499, 22920)\t2\n",
      "  (7499, 22935)\t1\n",
      "  (7499, 23064)\t1\n",
      "  (7499, 23125)\t2\n",
      "  (7499, 23509)\t1\n",
      "  (7499, 24078)\t1\n",
      "  (7499, 24143)\t1\n",
      "  (7499, 24272)\t1\n",
      "  (7499, 24632)\t1\n",
      "  (7499, 24701)\t3\n",
      "  (7499, 24762)\t2\n",
      "  (7499, 24843)\t2\n",
      "  (7499, 24904)\t1\n",
      "  (7499, 24967)\t1\n",
      "  (7499, 25156)\t1\n",
      "  (7499, 25362)\t1\n",
      "  (0, 1064)\t1\n",
      "  (0, 1262)\t5\n",
      "  (0, 1951)\t1\n",
      "  (0, 2016)\t1\n",
      "  (0, 2373)\t1\n",
      "  (0, 2563)\t1\n",
      "  (0, 2702)\t1\n",
      "  (0, 3294)\t1\n",
      "  (0, 3779)\t1\n",
      "  (0, 4335)\t1\n",
      "  (0, 4425)\t1\n",
      "  (0, 4559)\t1\n",
      "  (0, 4680)\t1\n",
      "  (0, 5032)\t1\n",
      "  (0, 6234)\t1\n",
      "  (0, 6491)\t1\n",
      "  (0, 8178)\t1\n",
      "  (0, 8201)\t1\n",
      "  (0, 8690)\t1\n",
      "  (0, 9167)\t1\n",
      "  (0, 9415)\t1\n",
      "  (0, 10008)\t1\n",
      "  (0, 10238)\t1\n",
      "  (0, 10521)\t1\n",
      "  (0, 10927)\t2\n",
      "  :\t:\n",
      "  (2499, 13385)\t3\n",
      "  (2499, 13441)\t1\n",
      "  (2499, 13509)\t1\n",
      "  (2499, 15035)\t1\n",
      "  (2499, 15375)\t1\n",
      "  (2499, 15688)\t1\n",
      "  (2499, 15689)\t1\n",
      "  (2499, 15989)\t1\n",
      "  (2499, 17050)\t1\n",
      "  (2499, 17111)\t1\n",
      "  (2499, 17113)\t1\n",
      "  (2499, 17516)\t1\n",
      "  (2499, 18958)\t1\n",
      "  (2499, 19086)\t1\n",
      "  (2499, 19184)\t1\n",
      "  (2499, 19456)\t1\n",
      "  (2499, 19579)\t1\n",
      "  (2499, 19863)\t1\n",
      "  (2499, 19957)\t1\n",
      "  (2499, 22834)\t6\n",
      "  (2499, 22920)\t2\n",
      "  (2499, 23068)\t1\n",
      "  (2499, 23651)\t1\n",
      "  (2499, 25432)\t2\n",
      "  (2499, 25446)\t1\n"
     ]
    }
   ],
   "source": [
    "# create document-term matrices\n",
    "# import and instantiate the vectorizer\n",
    "from sklearn.feature_extraction.text import CountVectorizer\n",
    "vect = CountVectorizer()\n",
    "# fit and transform X_train, but only transform X_test\n",
    "vect.fit(X_train)\n",
    "X_train_dtm = vect.transform(X_train)\n",
    "print X_train_dtm\n",
    "\n",
    "X_test_dtm = vect.transform(X_test)\n",
    "print X_test_dtm"
   ]
  },
  {
   "cell_type": "code",
   "execution_count": 94,
   "metadata": {
    "collapsed": false
   },
   "outputs": [
    {
     "data": {
      "text/plain": [
       "MultinomialNB(alpha=1.0, class_prior=None, fit_prior=True)"
      ]
     },
     "execution_count": 94,
     "metadata": {},
     "output_type": "execute_result"
    }
   ],
   "source": [
    "# fit a Naive Bayes model\n",
    "from sklearn.naive_bayes import MultinomialNB\n",
    "nb = MultinomialNB()\n",
    "nb.fit(X_train_dtm, y_train)"
   ]
  },
  {
   "cell_type": "code",
   "execution_count": 95,
   "metadata": {
    "collapsed": true
   },
   "outputs": [],
   "source": [
    "# make class predictions\n",
    "y_pred_class = nb.predict(X_test_dtm)"
   ]
  },
  {
   "cell_type": "code",
   "execution_count": 96,
   "metadata": {
    "collapsed": false
   },
   "outputs": [
    {
     "name": "stdout",
     "output_type": "stream",
     "text": [
      "0.4692\n"
     ]
    }
   ],
   "source": [
    "# calculate the testing accuary\n",
    "from sklearn import metrics\n",
    "print metrics.accuracy_score(y_test, y_pred_class)"
   ]
  },
  {
   "cell_type": "code",
   "execution_count": 98,
   "metadata": {
    "collapsed": false
   },
   "outputs": [
    {
     "name": "stdout",
     "output_type": "stream",
     "text": [
      "4    832\n",
      "5    819\n",
      "3    396\n",
      "2    248\n",
      "1    205\n",
      "Name: stars, dtype: int64\n"
     ]
    },
    {
     "data": {
      "text/plain": [
       "4    0.3328\n",
       "Name: stars, dtype: float64"
      ]
     },
     "execution_count": 98,
     "metadata": {},
     "output_type": "execute_result"
    }
   ],
   "source": [
    "# calculate the null accuracy\n",
    "print y_test.value_counts()\n",
    "y_test.value_counts().head(1) / len(y_test)"
   ]
  },
  {
   "cell_type": "code",
   "execution_count": 104,
   "metadata": {
    "collapsed": false
   },
   "outputs": [],
   "source": [
    "# print the confusion matrix\n",
    "conf_mat=metrics.confusion_matrix(y_test, y_pred_class)\n",
    "print conf_mat"
   ]
  },
  {
   "cell_type": "code",
   "execution_count": 106,
   "metadata": {
    "collapsed": false
   },
   "outputs": [
    {
     "name": "stdout",
     "output_type": "stream",
     "text": [
      "sensitivity =0.273170731707\n"
     ]
    }
   ],
   "source": [
    " #calculate sensitivity - True positive rate (for 1 star reviews)\n",
    "sum1 = conf_mat[0].sum()\n",
    "tp = conf_mat[0][0]\n",
    "sensitivity = tp/(sum1*1.0)\n",
    "print 'sensitivity =' + str(sensitivity)\n"
   ]
  },
  {
   "cell_type": "code",
   "execution_count": 107,
   "metadata": {
    "collapsed": false
   },
   "outputs": [
    {
     "name": "stdout",
     "output_type": "stream",
     "text": [
      "specificity = 0.90243902439\n"
     ]
    }
   ],
   "source": [
    "# calculate specificity (1 - False Positive Rate)\n",
    "sum2 = conf_mat[0].sum()\n",
    "fp = conf_mat[0][2]\n",
    "fpr2 = fp/(sum2*1.0)\n",
    "specificity = 1-fpr2\n",
    "print 'specificity = ' + str(specificity)"
   ]
  },
  {
   "cell_type": "markdown",
   "metadata": {},
   "source": [
    "Comments: This model has a far lower accuracy rate (0.47) than the previous model (0.93). The problems seem to lie on the sensitivity side, with a very low true positive rate of 0.27. It does much better on the specificity side, with a specificity level of 0.902.\n",
    "\n"
   ]
  }
 ],
 "metadata": {
  "kernelspec": {
   "display_name": "Python 2",
   "language": "python",
   "name": "python2"
  },
  "language_info": {
   "codemirror_mode": {
    "name": "ipython",
    "version": 2
   },
   "file_extension": ".py",
   "mimetype": "text/x-python",
   "name": "python",
   "nbconvert_exporter": "python",
   "pygments_lexer": "ipython2",
   "version": "2.7.10"
  }
 },
 "nbformat": 4,
 "nbformat_minor": 0
}
