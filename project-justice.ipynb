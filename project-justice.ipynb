{
 "cells": [
  {
   "cell_type": "code",
   "execution_count": 1,
   "metadata": {
    "collapsed": false
   },
   "outputs": [
    {
     "name": "stderr",
     "output_type": "stream",
     "text": [
      "/Users/TeddyandAlex/anaconda/lib/python2.7/site-packages/matplotlib/__init__.py:872: UserWarning: axes.color_cycle is deprecated and replaced with axes.prop_cycle; please use the latter.\n",
      "  warnings.warn(self.msg_depr % (key, alt_key))\n"
     ]
    },
    {
     "data": {
      "text/html": [
       "<div>\n",
       "<table border=\"1\" class=\"dataframe\">\n",
       "  <thead>\n",
       "    <tr style=\"text-align: right;\">\n",
       "      <th></th>\n",
       "      <th>course_id</th>\n",
       "      <th>userid_di</th>\n",
       "      <th>registered</th>\n",
       "      <th>viewed</th>\n",
       "      <th>explored</th>\n",
       "      <th>certified</th>\n",
       "      <th>final_cc_cname_di</th>\n",
       "      <th>loe_di</th>\n",
       "      <th>yob</th>\n",
       "      <th>gender</th>\n",
       "      <th>grade</th>\n",
       "      <th>start_time_di</th>\n",
       "      <th>last_event_di</th>\n",
       "      <th>nevents</th>\n",
       "      <th>ndays_act</th>\n",
       "      <th>nplay_video</th>\n",
       "      <th>nchapters</th>\n",
       "      <th>nforum_posts</th>\n",
       "      <th>roles</th>\n",
       "      <th>incomplete_flag</th>\n",
       "    </tr>\n",
       "  </thead>\n",
       "  <tbody>\n",
       "    <tr>\n",
       "      <th>0</th>\n",
       "      <td>HarvardX/CB22x/2013_Spring</td>\n",
       "      <td>MHxPC130442623</td>\n",
       "      <td>1</td>\n",
       "      <td>0</td>\n",
       "      <td>0</td>\n",
       "      <td>0</td>\n",
       "      <td>United States</td>\n",
       "      <td>NaN</td>\n",
       "      <td>NaN</td>\n",
       "      <td>NaN</td>\n",
       "      <td>0</td>\n",
       "      <td>2012-12-19</td>\n",
       "      <td>2013-11-17</td>\n",
       "      <td>NaN</td>\n",
       "      <td>9</td>\n",
       "      <td>NaN</td>\n",
       "      <td>NaN</td>\n",
       "      <td>0</td>\n",
       "      <td>NaN</td>\n",
       "      <td>1</td>\n",
       "    </tr>\n",
       "    <tr>\n",
       "      <th>1</th>\n",
       "      <td>HarvardX/CS50x/2012</td>\n",
       "      <td>MHxPC130442623</td>\n",
       "      <td>1</td>\n",
       "      <td>1</td>\n",
       "      <td>0</td>\n",
       "      <td>0</td>\n",
       "      <td>United States</td>\n",
       "      <td>NaN</td>\n",
       "      <td>NaN</td>\n",
       "      <td>NaN</td>\n",
       "      <td>0</td>\n",
       "      <td>2012-10-15</td>\n",
       "      <td>NaN</td>\n",
       "      <td>NaN</td>\n",
       "      <td>9</td>\n",
       "      <td>NaN</td>\n",
       "      <td>1</td>\n",
       "      <td>0</td>\n",
       "      <td>NaN</td>\n",
       "      <td>1</td>\n",
       "    </tr>\n",
       "    <tr>\n",
       "      <th>2</th>\n",
       "      <td>HarvardX/CB22x/2013_Spring</td>\n",
       "      <td>MHxPC130275857</td>\n",
       "      <td>1</td>\n",
       "      <td>0</td>\n",
       "      <td>0</td>\n",
       "      <td>0</td>\n",
       "      <td>United States</td>\n",
       "      <td>NaN</td>\n",
       "      <td>NaN</td>\n",
       "      <td>NaN</td>\n",
       "      <td>0</td>\n",
       "      <td>2013-02-08</td>\n",
       "      <td>2013-11-17</td>\n",
       "      <td>NaN</td>\n",
       "      <td>16</td>\n",
       "      <td>NaN</td>\n",
       "      <td>NaN</td>\n",
       "      <td>0</td>\n",
       "      <td>NaN</td>\n",
       "      <td>1</td>\n",
       "    </tr>\n",
       "    <tr>\n",
       "      <th>3</th>\n",
       "      <td>HarvardX/CS50x/2012</td>\n",
       "      <td>MHxPC130275857</td>\n",
       "      <td>1</td>\n",
       "      <td>0</td>\n",
       "      <td>0</td>\n",
       "      <td>0</td>\n",
       "      <td>United States</td>\n",
       "      <td>NaN</td>\n",
       "      <td>NaN</td>\n",
       "      <td>NaN</td>\n",
       "      <td>0</td>\n",
       "      <td>2012-09-17</td>\n",
       "      <td>NaN</td>\n",
       "      <td>NaN</td>\n",
       "      <td>16</td>\n",
       "      <td>NaN</td>\n",
       "      <td>NaN</td>\n",
       "      <td>0</td>\n",
       "      <td>NaN</td>\n",
       "      <td>1</td>\n",
       "    </tr>\n",
       "    <tr>\n",
       "      <th>4</th>\n",
       "      <td>HarvardX/ER22x/2013_Spring</td>\n",
       "      <td>MHxPC130275857</td>\n",
       "      <td>1</td>\n",
       "      <td>0</td>\n",
       "      <td>0</td>\n",
       "      <td>0</td>\n",
       "      <td>United States</td>\n",
       "      <td>NaN</td>\n",
       "      <td>NaN</td>\n",
       "      <td>NaN</td>\n",
       "      <td>0</td>\n",
       "      <td>2012-12-19</td>\n",
       "      <td>NaN</td>\n",
       "      <td>NaN</td>\n",
       "      <td>16</td>\n",
       "      <td>NaN</td>\n",
       "      <td>NaN</td>\n",
       "      <td>0</td>\n",
       "      <td>NaN</td>\n",
       "      <td>1</td>\n",
       "    </tr>\n",
       "  </tbody>\n",
       "</table>\n",
       "</div>"
      ],
      "text/plain": [
       "                    course_id       userid_di  registered  viewed  explored  \\\n",
       "0  HarvardX/CB22x/2013_Spring  MHxPC130442623           1       0         0   \n",
       "1         HarvardX/CS50x/2012  MHxPC130442623           1       1         0   \n",
       "2  HarvardX/CB22x/2013_Spring  MHxPC130275857           1       0         0   \n",
       "3         HarvardX/CS50x/2012  MHxPC130275857           1       0         0   \n",
       "4  HarvardX/ER22x/2013_Spring  MHxPC130275857           1       0         0   \n",
       "\n",
       "   certified final_cc_cname_di loe_di  yob gender grade start_time_di  \\\n",
       "0          0     United States    NaN  NaN    NaN     0    2012-12-19   \n",
       "1          0     United States    NaN  NaN    NaN     0    2012-10-15   \n",
       "2          0     United States    NaN  NaN    NaN     0    2013-02-08   \n",
       "3          0     United States    NaN  NaN    NaN     0    2012-09-17   \n",
       "4          0     United States    NaN  NaN    NaN     0    2012-12-19   \n",
       "\n",
       "  last_event_di  nevents  ndays_act  nplay_video  nchapters  nforum_posts  \\\n",
       "0    2013-11-17      NaN          9          NaN        NaN             0   \n",
       "1           NaN      NaN          9          NaN          1             0   \n",
       "2    2013-11-17      NaN         16          NaN        NaN             0   \n",
       "3           NaN      NaN         16          NaN        NaN             0   \n",
       "4           NaN      NaN         16          NaN        NaN             0   \n",
       "\n",
       "   roles  incomplete_flag  \n",
       "0    NaN                1  \n",
       "1    NaN                1  \n",
       "2    NaN                1  \n",
       "3    NaN                1  \n",
       "4    NaN                1  "
      ]
     },
     "execution_count": 1,
     "metadata": {},
     "output_type": "execute_result"
    }
   ],
   "source": [
    "import numpy as np\n",
    "import pandas as pd\n",
    "import matplotlib.pyplot as plt\n",
    "from mpl_toolkits.mplot3d import Axes3D\n",
    "import seaborn as sns\n",
    "from pandas import DataFrame\n",
    "\n",
    "path = '/users/teddyandalex/documents/data_science/'\n",
    "mooc_cols = ['course_id', 'userid_di', 'registered', 'viewed', 'explored', 'certified', 'final_cc_cname_di', 'loe_di', 'yob', 'gender', 'grade', 'start_time_di', \n",
    "'last_event_di', 'nevents', 'ndays_act', 'nplay_video', 'nchapters', 'nforum_posts', 'roles', 'incomplete_flag']\n",
    "mooc = path + 'HMXPC13_DI_v2_5-14-14.csv'\n",
    "mooc_data = pd.read_csv(mooc, header=0, names=mooc_cols, na_values='NAN')\n",
    "mooc_data.head()"
   ]
  },
  {
   "cell_type": "code",
   "execution_count": 2,
   "metadata": {
    "collapsed": false
   },
   "outputs": [
    {
     "name": "stderr",
     "output_type": "stream",
     "text": [
      "/Users/TeddyandAlex/anaconda/lib/python2.7/site-packages/IPython/kernel/__main__.py:4: FutureWarning: convert_objects is deprecated.  Use the data-type specific converters pd.to_datetime, pd.to_timedelta and pd.to_numeric.\n"
     ]
    }
   ],
   "source": [
    "# create age variable\n",
    "\n",
    "mooc_data['yob'].dtype\n",
    "mooc_data['new_yob']=mooc_data.yob.convert_objects(convert_numeric=True)\n",
    "\n",
    "mooc_data['age'] = 2013 - mooc_data['new_yob']"
   ]
  },
  {
   "cell_type": "code",
   "execution_count": 3,
   "metadata": {
    "collapsed": false
   },
   "outputs": [
    {
     "name": "stdout",
     "output_type": "stream",
     "text": [
      "0    240868\n",
      "1    359894\n",
      "2     22689\n",
      "3     17687\n",
      "Name: outcome, dtype: int64\n"
     ]
    }
   ],
   "source": [
    "mooc_data['outcome']=''\n",
    "\n",
    "mooc_data.loc[(mooc_data['viewed'] == 1) & (mooc_data['explored'] == 0) & (mooc_data['certified'] == 0),'outcome']=1\n",
    "mooc_data.loc[(mooc_data['viewed'] == 1) & (mooc_data['explored'] == 1) & (mooc_data['certified'] == 0),'outcome']=2\n",
    "mooc_data.loc[(mooc_data['viewed'] == 0) & (mooc_data['explored'] == 1) & (mooc_data['certified'] == 0),'outcome']=2\n",
    "mooc_data.loc[(mooc_data['viewed'] == 1) & (mooc_data['explored'] == 1) & (mooc_data['certified'] == 1),'outcome']=3\n",
    "mooc_data.loc[(mooc_data['viewed'] == 1) & (mooc_data['explored'] == 0) & (mooc_data['certified'] == 1),'outcome']=3\n",
    "mooc_data.loc[(mooc_data['viewed'] == 0) & (mooc_data['explored'] == 0) & (mooc_data['certified'] == 0),'outcome']=0\n",
    "\n",
    "counts = mooc_data['outcome'].value_counts(sort = False)  \n",
    "print counts"
   ]
  },
  {
   "cell_type": "code",
   "execution_count": 4,
   "metadata": {
    "collapsed": false
   },
   "outputs": [
    {
     "data": {
      "text/html": [
       "<div>\n",
       "<table border=\"1\" class=\"dataframe\">\n",
       "  <thead>\n",
       "    <tr style=\"text-align: right;\">\n",
       "      <th></th>\n",
       "      <th>registered</th>\n",
       "      <th>viewed</th>\n",
       "      <th>explored</th>\n",
       "      <th>certified</th>\n",
       "      <th>yob</th>\n",
       "      <th>nevents</th>\n",
       "      <th>ndays_act</th>\n",
       "      <th>nplay_video</th>\n",
       "      <th>nchapters</th>\n",
       "      <th>nforum_posts</th>\n",
       "      <th>roles</th>\n",
       "      <th>incomplete_flag</th>\n",
       "      <th>new_yob</th>\n",
       "      <th>age</th>\n",
       "    </tr>\n",
       "  </thead>\n",
       "  <tbody>\n",
       "    <tr>\n",
       "      <th>count</th>\n",
       "      <td>57406</td>\n",
       "      <td>57406.000000</td>\n",
       "      <td>57406.000000</td>\n",
       "      <td>57406.000000</td>\n",
       "      <td>50020.000000</td>\n",
       "      <td>42332.000000</td>\n",
       "      <td>44848.000000</td>\n",
       "      <td>0</td>\n",
       "      <td>32108.000000</td>\n",
       "      <td>57406.000000</td>\n",
       "      <td>0</td>\n",
       "      <td>2685</td>\n",
       "      <td>50020.000000</td>\n",
       "      <td>50020.000000</td>\n",
       "    </tr>\n",
       "    <tr>\n",
       "      <th>mean</th>\n",
       "      <td>1</td>\n",
       "      <td>0.560238</td>\n",
       "      <td>0.061527</td>\n",
       "      <td>0.040867</td>\n",
       "      <td>1983.372871</td>\n",
       "      <td>171.887626</td>\n",
       "      <td>4.789355</td>\n",
       "      <td>NaN</td>\n",
       "      <td>6.480970</td>\n",
       "      <td>0.048862</td>\n",
       "      <td>NaN</td>\n",
       "      <td>1</td>\n",
       "      <td>1983.372871</td>\n",
       "      <td>29.627129</td>\n",
       "    </tr>\n",
       "    <tr>\n",
       "      <th>std</th>\n",
       "      <td>0</td>\n",
       "      <td>0.496362</td>\n",
       "      <td>0.240296</td>\n",
       "      <td>0.197983</td>\n",
       "      <td>11.053471</td>\n",
       "      <td>401.490641</td>\n",
       "      <td>8.343541</td>\n",
       "      <td>NaN</td>\n",
       "      <td>8.420597</td>\n",
       "      <td>0.320698</td>\n",
       "      <td>NaN</td>\n",
       "      <td>0</td>\n",
       "      <td>11.053471</td>\n",
       "      <td>11.053471</td>\n",
       "    </tr>\n",
       "    <tr>\n",
       "      <th>min</th>\n",
       "      <td>1</td>\n",
       "      <td>0.000000</td>\n",
       "      <td>0.000000</td>\n",
       "      <td>0.000000</td>\n",
       "      <td>1931.000000</td>\n",
       "      <td>1.000000</td>\n",
       "      <td>1.000000</td>\n",
       "      <td>NaN</td>\n",
       "      <td>1.000000</td>\n",
       "      <td>0.000000</td>\n",
       "      <td>NaN</td>\n",
       "      <td>1</td>\n",
       "      <td>1931.000000</td>\n",
       "      <td>0.000000</td>\n",
       "    </tr>\n",
       "    <tr>\n",
       "      <th>25%</th>\n",
       "      <td>1</td>\n",
       "      <td>0.000000</td>\n",
       "      <td>0.000000</td>\n",
       "      <td>0.000000</td>\n",
       "      <td>1980.000000</td>\n",
       "      <td>4.000000</td>\n",
       "      <td>1.000000</td>\n",
       "      <td>NaN</td>\n",
       "      <td>2.000000</td>\n",
       "      <td>0.000000</td>\n",
       "      <td>NaN</td>\n",
       "      <td>1</td>\n",
       "      <td>1980.000000</td>\n",
       "      <td>22.000000</td>\n",
       "    </tr>\n",
       "    <tr>\n",
       "      <th>50%</th>\n",
       "      <td>1</td>\n",
       "      <td>1.000000</td>\n",
       "      <td>0.000000</td>\n",
       "      <td>0.000000</td>\n",
       "      <td>1987.000000</td>\n",
       "      <td>26.000000</td>\n",
       "      <td>2.000000</td>\n",
       "      <td>NaN</td>\n",
       "      <td>3.000000</td>\n",
       "      <td>0.000000</td>\n",
       "      <td>NaN</td>\n",
       "      <td>1</td>\n",
       "      <td>1987.000000</td>\n",
       "      <td>26.000000</td>\n",
       "    </tr>\n",
       "    <tr>\n",
       "      <th>75%</th>\n",
       "      <td>1</td>\n",
       "      <td>1.000000</td>\n",
       "      <td>0.000000</td>\n",
       "      <td>0.000000</td>\n",
       "      <td>1991.000000</td>\n",
       "      <td>128.000000</td>\n",
       "      <td>4.000000</td>\n",
       "      <td>NaN</td>\n",
       "      <td>6.000000</td>\n",
       "      <td>0.000000</td>\n",
       "      <td>NaN</td>\n",
       "      <td>1</td>\n",
       "      <td>1991.000000</td>\n",
       "      <td>33.000000</td>\n",
       "    </tr>\n",
       "    <tr>\n",
       "      <th>max</th>\n",
       "      <td>1</td>\n",
       "      <td>1.000000</td>\n",
       "      <td>1.000000</td>\n",
       "      <td>1.000000</td>\n",
       "      <td>2013.000000</td>\n",
       "      <td>5926.000000</td>\n",
       "      <td>128.000000</td>\n",
       "      <td>NaN</td>\n",
       "      <td>34.000000</td>\n",
       "      <td>7.000000</td>\n",
       "      <td>NaN</td>\n",
       "      <td>1</td>\n",
       "      <td>2013.000000</td>\n",
       "      <td>82.000000</td>\n",
       "    </tr>\n",
       "  </tbody>\n",
       "</table>\n",
       "</div>"
      ],
      "text/plain": [
       "       registered        viewed      explored     certified           yob  \\\n",
       "count       57406  57406.000000  57406.000000  57406.000000  50020.000000   \n",
       "mean            1      0.560238      0.061527      0.040867   1983.372871   \n",
       "std             0      0.496362      0.240296      0.197983     11.053471   \n",
       "min             1      0.000000      0.000000      0.000000   1931.000000   \n",
       "25%             1      0.000000      0.000000      0.000000   1980.000000   \n",
       "50%             1      1.000000      0.000000      0.000000   1987.000000   \n",
       "75%             1      1.000000      0.000000      0.000000   1991.000000   \n",
       "max             1      1.000000      1.000000      1.000000   2013.000000   \n",
       "\n",
       "            nevents     ndays_act  nplay_video     nchapters  nforum_posts  \\\n",
       "count  42332.000000  44848.000000            0  32108.000000  57406.000000   \n",
       "mean     171.887626      4.789355          NaN      6.480970      0.048862   \n",
       "std      401.490641      8.343541          NaN      8.420597      0.320698   \n",
       "min        1.000000      1.000000          NaN      1.000000      0.000000   \n",
       "25%        4.000000      1.000000          NaN      2.000000      0.000000   \n",
       "50%       26.000000      2.000000          NaN      3.000000      0.000000   \n",
       "75%      128.000000      4.000000          NaN      6.000000      0.000000   \n",
       "max     5926.000000    128.000000          NaN     34.000000      7.000000   \n",
       "\n",
       "       roles  incomplete_flag       new_yob           age  \n",
       "count      0             2685  50020.000000  50020.000000  \n",
       "mean     NaN                1   1983.372871     29.627129  \n",
       "std      NaN                0     11.053471     11.053471  \n",
       "min      NaN                1   1931.000000      0.000000  \n",
       "25%      NaN                1   1980.000000     22.000000  \n",
       "50%      NaN                1   1987.000000     26.000000  \n",
       "75%      NaN                1   1991.000000     33.000000  \n",
       "max      NaN                1   2013.000000     82.000000  "
      ]
     },
     "execution_count": 4,
     "metadata": {},
     "output_type": "execute_result"
    }
   ],
   "source": [
    "# look at courses - JUSTICE\n",
    "mooc_data.course_id.value_counts()   \n",
    "justice = mooc_data.loc[mooc_data.course_id == \"HarvardX/ER22x/2013_Spring\"]\n",
    "\n",
    "# Look at class interaction variables\n",
    " #'start_time_di', 'last_event_di', 'nevents', 'ndays_act', 'nplay_video', 'nchapters', 'nforum_posts', 'roles', 'time_elapse',  \n",
    "\n",
    "justice.describe()\n",
    "\n",
    "\n"
   ]
  },
  {
   "cell_type": "code",
   "execution_count": 5,
   "metadata": {
    "collapsed": false
   },
   "outputs": [
    {
     "name": "stdout",
     "output_type": "stream",
     "text": [
      "False    57406\n",
      "Name: nevents, dtype: int64\n",
      "False    57406\n",
      "Name: ndays_act, dtype: int64\n",
      "False    57406\n",
      "Name: nchapters, dtype: int64\n",
      "False    57406\n",
      "Name: nforum_posts, dtype: int64\n"
     ]
    },
    {
     "name": "stderr",
     "output_type": "stream",
     "text": [
      "/Users/TeddyandAlex/anaconda/lib/python2.7/site-packages/pandas/core/generic.py:2862: SettingWithCopyWarning: \n",
      "A value is trying to be set on a copy of a slice from a DataFrame\n",
      "\n",
      "See the caveats in the documentation: http://pandas.pydata.org/pandas-docs/stable/indexing.html#indexing-view-versus-copy\n",
      "  self._update_inplace(new_data)\n"
     ]
    }
   ],
   "source": [
    "#run model on Justice course dataset\n",
    "from pandas import DataFrame\n",
    "\n",
    "from sklearn.cluster import KMeans\n",
    "#preprocessing\n",
    "#replace NaNs to 0s\n",
    "\n",
    "list = ['nevents', 'ndays_act', 'nchapters', 'nforum_posts']\n",
    "for what in range(0,len(list)):\n",
    "    justice[list[what]].fillna(0, inplace = True)\n",
    "for what in range(0,len(list)):\n",
    "    print pd.isnull(justice[list[what]]).value_counts()\n"
   ]
  },
  {
   "cell_type": "code",
   "execution_count": 6,
   "metadata": {
    "collapsed": false
   },
   "outputs": [
    {
     "name": "stdout",
     "output_type": "stream",
     "text": [
      "count    5.740600e+04\n",
      "mean     1.856490e-16\n",
      "std      1.000009e+00\n",
      "min     -3.591058e-01\n",
      "25%     -3.591058e-01\n",
      "50%     -3.364408e-01\n",
      "75%     -1.522874e-01\n",
      "max      1.643001e+01\n",
      "Name: znevents, dtype: float64\n",
      "count    5.740600e+04\n",
      "mean     1.239116e-14\n",
      "std      1.000009e+00\n",
      "min     -4.900162e-01\n",
      "25%     -3.590535e-01\n",
      "50%     -3.590535e-01\n",
      "75%     -9.712811e-02\n",
      "max      1.627321e+01\n",
      "Name: zndays_act, dtype: float64\n",
      "count    5.740600e+04\n",
      "mean    -1.561590e-15\n",
      "std      1.000009e+00\n",
      "min     -5.125833e-01\n",
      "25%     -5.125833e-01\n",
      "50%     -3.711771e-01\n",
      "75%     -8.836470e-02\n",
      "max      4.295227e+00\n",
      "Name: znchapters, dtype: float64\n",
      "count    5.740600e+04\n",
      "mean    -1.091273e-14\n",
      "std      1.000009e+00\n",
      "min     -1.523643e-01\n",
      "25%     -1.523643e-01\n",
      "50%     -1.523643e-01\n",
      "75%     -1.523643e-01\n",
      "max      2.167522e+01\n",
      "Name: znforum_posts, dtype: float64\n"
     ]
    },
    {
     "name": "stderr",
     "output_type": "stream",
     "text": [
      "/Users/TeddyandAlex/anaconda/lib/python2.7/site-packages/IPython/kernel/__main__.py:2: SettingWithCopyWarning: \n",
      "A value is trying to be set on a copy of a slice from a DataFrame.\n",
      "Try using .loc[row_indexer,col_indexer] = value instead\n",
      "\n",
      "See the caveats in the documentation: http://pandas.pydata.org/pandas-docs/stable/indexing.html#indexing-view-versus-copy\n",
      "  from IPython.kernel.zmq import kernelapp as app\n",
      "/Users/TeddyandAlex/anaconda/lib/python2.7/site-packages/IPython/kernel/__main__.py:8: SettingWithCopyWarning: \n",
      "A value is trying to be set on a copy of a slice from a DataFrame.\n",
      "Try using .loc[row_indexer,col_indexer] = value instead\n",
      "\n",
      "See the caveats in the documentation: http://pandas.pydata.org/pandas-docs/stable/indexing.html#indexing-view-versus-copy\n"
     ]
    }
   ],
   "source": [
    "#converting variables into z-scores\n",
    "justice['nfor_posts']=pd.Series.astype(justice['nforum_posts'],'float64')\n",
    "list = ['nevents', 'ndays_act', 'nchapters', 'nfor_posts']\n",
    "from sklearn import preprocessing\n",
    "listz = ['znevents', 'zndays_act', 'znchapters', 'znforum_posts']\n",
    "\n",
    "for what in range(0,len(listz)):\n",
    "    justice[listz[what]] = preprocessing.scale(justice[list[what]])\n",
    "    \n",
    "for X in range(0, len(listz)):\n",
    "    print justice[listz[X]].describe()"
   ]
  },
  {
   "cell_type": "code",
   "execution_count": 7,
   "metadata": {
    "collapsed": false
   },
   "outputs": [
    {
     "name": "stdout",
     "output_type": "stream",
     "text": [
      "(57406, 28)\n",
      "(57336, 28)\n"
     ]
    }
   ],
   "source": [
    "#drop outliers\n",
    "print justice.shape\n",
    "justice['nevents'].describe()\n",
    "justice = justice[justice['nevents'] < 3000]\n",
    "print justice.shape"
   ]
  },
  {
   "cell_type": "code",
   "execution_count": 8,
   "metadata": {
    "collapsed": false
   },
   "outputs": [
    {
     "name": "stdout",
     "output_type": "stream",
     "text": [
      "(2, 4)\n",
      "[[-0.22000397 -0.20123288 -0.23012773 -0.04587036]\n",
      " [ 2.88599658  2.67546115  3.13017262  0.61988396]]\n",
      "(57336,)\n"
     ]
    }
   ],
   "source": [
    "#Run kmeans model\n",
    "from scipy.spatial import distance\n",
    "from sklearn.cluster import KMeans\n",
    "feature_cols = listz\n",
    "X = justice[feature_cols]\n",
    "k_means = KMeans(n_clusters=2)\n",
    "k_means.fit(X)\n",
    "labels = k_means.labels_\n",
    "centroids = k_means.cluster_centers_\n",
    "iner = k_means.inertia_\n",
    "pd.value_counts(labels)\n",
    "justice['Cluster Class_KM'] = pd.Series(labels, index=justice.index)\n",
    "print centroids.shape\n",
    "print centroids\n",
    "print labels.shape\n",
    "\n",
    "#tss = sum(distance.pdist(X)**2)/X.shape[0]\n"
   ]
  },
  {
   "cell_type": "code",
   "execution_count": 9,
   "metadata": {
    "collapsed": false
   },
   "outputs": [],
   "source": [
    "# set up function to plot silhouette score against number of clusters\n",
    "from sklearn import metrics\n",
    "from sklearn.cluster import KMeans\n",
    "feature_cols = ['znevents', 'zndays_act', 'znchapters']\n",
    "X = justice[feature_cols]\n",
    "X_samp = X.sample(n=10000, replace=False, random_state=3, axis=0)\n",
    "ran = range(0,10000)\n",
    "key = [ran]\n",
    "X_samp.set_index(key, drop=True, inplace = True)\n",
    "\n",
    "def k_sil(xv,kran):\n",
    "    ksil_tuple = []\n",
    "    for kr in kran:\n",
    "        k_means = KMeans(n_clusters = kr)\n",
    "        k_means.fit(xv)\n",
    "        labels = k_means.labels_\n",
    "        sil = metrics.silhouette_score(xv, labels)\n",
    "        ksil_tuple.append((kr,sil))\n",
    "        print kr\n",
    "    return ksil_tuple"
   ]
  },
  {
   "cell_type": "code",
   "execution_count": 10,
   "metadata": {
    "collapsed": false
   },
   "outputs": [
    {
     "name": "stdout",
     "output_type": "stream",
     "text": [
      "2\n",
      "3\n",
      "4\n",
      "5\n",
      "6\n",
      "7\n",
      "8\n",
      "9\n",
      "10\n",
      "[(2, 0.84271701017892142), (3, 0.7489270466625132), (4, 0.67490206790986662), (5, 0.62406591491558572), (6, 0.62789024988329289), (7, 0.53169612138879652), (8, 0.49365736569603708), (9, 0.49541734938368209), (10, 0.49599273233348878)]\n"
     ]
    }
   ],
   "source": [
    "k_range = range(2,11)\n",
    "k_sil2 = k_sil(X_samp,k_range)\n",
    "print k_sil2"
   ]
  },
  {
   "cell_type": "code",
   "execution_count": 11,
   "metadata": {
    "collapsed": false
   },
   "outputs": [
    {
     "data": {
      "text/plain": [
       "[<matplotlib.lines.Line2D at 0x1078fcf50>]"
      ]
     },
     "execution_count": 11,
     "metadata": {},
     "output_type": "execute_result"
    },
    {
     "data": {
      "image/png": "[encoded data removed]",
      "text/plain": [
       "<matplotlib.figure.Figure at 0x10d936610>"
      ]
     },
     "metadata": {},
     "output_type": "display_data"
    }
   ],
   "source": [
    "#graph silhouette score against # of clusters\n",
    "import matplotlib.pyplot as plt\n",
    "%matplotlib inline \n",
    "r = []\n",
    "s = []\n",
    "for km, ss in k_sil2:\n",
    "    r.append(km)\n",
    "    s.append(ss)\n",
    "\n",
    "plt.title('Determining optimal # of clusters using silhouette score')\n",
    "plt.ylabel('Silhouette Score')\n",
    "plt.xlabel('Number of clusters')\n",
    "plt.scatter(r, s, linewidths = 1)\n",
    "plt.plot(r,s,'.g')"
   ]
  },
  {
   "cell_type": "code",
   "execution_count": 12,
   "metadata": {
    "collapsed": false
   },
   "outputs": [
    {
     "name": "stdout",
     "output_type": "stream",
     "text": [
      "0    25245\n",
      "1    28175\n",
      "2     1632\n",
      "3     2284\n",
      "Name: outcome, dtype: int64\n"
     ]
    },
    {
     "data": {
      "text/plain": [
       "0    53496\n",
       "1     3840\n",
       "Name: Cluster Class_KM, dtype: int64"
      ]
     },
     "execution_count": 12,
     "metadata": {},
     "output_type": "execute_result"
    }
   ],
   "source": [
    "#Set variables for plot\n",
    "#print tss\n",
    "rkm = justice['Cluster Class_KM']\n",
    "x=justice['znevents']\n",
    "y=justice['zndays_act']\n",
    "z=justice['znchapters']\n",
    "list = [x,y,z]\n",
    "print justice['outcome'].value_counts(sort = False)\n",
    "justice['Cluster Class_KM'].value_counts()"
   ]
  },
  {
   "cell_type": "code",
   "execution_count": 13,
   "metadata": {
    "collapsed": false
   },
   "outputs": [
    {
     "name": "stdout",
     "output_type": "stream",
     "text": [
      "<mpl_toolkits.mplot3d.art3d.Path3DCollection object at 0x10ca96490>\n"
     ]
    },
    {
     "data": {
      "image/png": "[encoded data removed]",
      "text/plain": [
       "<matplotlib.figure.Figure at 0x107999e50>"
      ]
     },
     "metadata": {},
     "output_type": "display_data"
    }
   ],
   "source": [
    "#plot justice Kmeans results \n",
    "\n",
    "%matplotlib inline\n",
    "import matplotlib.pyplot as plt\n",
    "from mpl_toolkits.mplot3d import Axes3D\n",
    "fig = plt.figure()\n",
    "ax = Axes3D(fig)\n",
    "ax.set_xlim([-5,30])\n",
    "ax.set_ylim([-5, 35])\n",
    "\n",
    "ax.set_xlabel('znevents')\n",
    "ax.set_ylabel('zndays_act')\n",
    "ax.set_zlabel('znchapters')\n",
    "print ax.scatter(x,y,z, c=rkm, cmap=plt.cm.Pastel2)\n"
   ]
  },
  {
   "cell_type": "code",
   "execution_count": 14,
   "metadata": {
    "collapsed": false
   },
   "outputs": [
    {
     "data": {
      "text/plain": [
       "0    25245\n",
       "1    28175\n",
       "2     1632\n",
       "3     2284\n",
       "Name: outcome, dtype: int64"
      ]
     },
     "execution_count": 14,
     "metadata": {},
     "output_type": "execute_result"
    }
   ],
   "source": [
    "# Compare clusters with course outcomes\n",
    "#Set variables for plot\n",
    "\n",
    "rkm = justice['outcome']\n",
    "x=justice['znevents']\n",
    "y=justice['zndays_act']\n",
    "z=justice['znchapters']\n",
    "list = [x,y,z]\n",
    "\n",
    "justice['Cluster Class_KM'].value_counts()\n",
    "justice['outcome'].value_counts(sort = False)\n"
   ]
  },
  {
   "cell_type": "code",
   "execution_count": 15,
   "metadata": {
    "collapsed": false
   },
   "outputs": [
    {
     "name": "stdout",
     "output_type": "stream",
     "text": [
      "<mpl_toolkits.mplot3d.art3d.Path3DCollection object at 0x10d28e710>\n"
     ]
    },
    {
     "name": "stderr",
     "output_type": "stream",
     "text": [
      "/Users/TeddyandAlex/anaconda/lib/python2.7/site-packages/matplotlib/axes/_axes.py:519: UserWarning: No labelled objects found. Use label='...' kwarg on individual plots.\n",
      "  warnings.warn(\"No labelled objects found. \"\n"
     ]
    },
    {
     "data": {
      "image/png": "[encoded data removed]",
      "text/plain": [
       "<matplotlib.figure.Figure at 0x10d9980d0>"
      ]
     },
     "metadata": {},
     "output_type": "display_data"
    }
   ],
   "source": [
    "#plot Justice outcomes against course interaction vars - \n",
    "%matplotlib inline\n",
    "import matplotlib.pyplot as plt\n",
    "from mpl_toolkits.mplot3d import Axes3D\n",
    "fig = plt.figure()\n",
    "plt.title('Justice Course Outcomes against Course Interaction Vars')\n",
    "ax = Axes3D(fig)\n",
    "ax.set_xlim([-5,10])\n",
    "ax.set_ylim([-5, 20])\n",
    "ax.set_xlabel('znevents')\n",
    "ax.set_ylabel('zndays_act')\n",
    "ax.set_zlabel('znchapters')\n",
    "print ax.scatter(x,y,z, c=rkm, cmap=plt.cm.Set3)\n",
    "plt.grid(True)\n",
    "plt.legend()\n",
    "plt.show()\n",
    "\n"
   ]
  },
  {
   "cell_type": "code",
   "execution_count": 16,
   "metadata": {
    "collapsed": false
   },
   "outputs": [
    {
     "name": "stdout",
     "output_type": "stream",
     "text": [
      "(25245,)\n",
      "(2284,)\n"
     ]
    },
    {
     "data": {
      "image/png": "[encoded data removed]",
      "text/plain": [
       "<matplotlib.figure.Figure at 0x10fb0bad0>"
      ]
     },
     "metadata": {},
     "output_type": "display_data"
    }
   ],
   "source": [
    "#show groups separately\n",
    "\n",
    "r0 = justice[justice['outcome']==0]\n",
    "r1 = justice[justice['outcome']==1]\n",
    "r2 = justice[justice['outcome']==2]\n",
    "r3 = justice[justice['outcome']==3]\n",
    "x0 = r0['znevents']\n",
    "x1 = r1['znevents']\n",
    "x2 = r2['znevents']\n",
    "x3 = r3['znevents']\n",
    "y0 = r0['zndays_act']\n",
    "y1 = r1['zndays_act']\n",
    "y2 = r2['zndays_act']\n",
    "y3 = r3['zndays_act']\n",
    "z0 = r0['znchapters']\n",
    "z1 = r1['znchapters']\n",
    "z2 = r2['znchapters']\n",
    "z3 = r3['znchapters']\n",
    "print y0.shape\n",
    "print y3.shape\n",
    "colors = ['blue', 'green', 'magenta', 'cyan']\n",
    "fig = plt.figure()\n",
    "ax = Axes3D(fig)\n",
    "ax.set_xlim([-5,10])\n",
    "ax.set_ylim([-5, 20])\n",
    "ax.set_xlabel('znevents')\n",
    "ax.set_ylabel('zndays_act')\n",
    "ax.set_zlabel('znchapters')\n",
    "#first =  ax.scatter(x0,y0,z0, c = 'g')\n",
    "second = ax.scatter(x1,y1,z1,  c = 'c')\n",
    "third = ax.scatter(x2,y2,z2, c = 'y')\n",
    "#fourth = ax.scatter(x3,y3,z3, c = 'm')\n",
    "plt.legend((second, third),('viewed','explored'))\n",
    "plt.show()"
   ]
  },
  {
   "cell_type": "code",
   "execution_count": 17,
   "metadata": {
    "collapsed": false
   },
   "outputs": [
    {
     "data": {
      "image/png": "[encoded data removed]",
      "text/plain": [
       "<matplotlib.figure.Figure at 0x10ca90f10>"
      ]
     },
     "metadata": {},
     "output_type": "display_data"
    }
   ],
   "source": [
    "# show registered and certified groups separately\n",
    "fig = plt.figure()\n",
    "ax = Axes3D(fig)\n",
    "ax.set_xlim([-5,10])\n",
    "ax.set_ylim([-5, 20])\n",
    "ax.set_xlabel('znevents')\n",
    "ax.set_ylabel('zndays_act')\n",
    "ax.set_zlabel('znchapters')\n",
    "first =  ax.scatter(x0,y0,z0, c = 'g')\n",
    "fourth = ax.scatter(x3,y3,z3, c = 'm')\n",
    "plt.legend((second, third),('viewed','explored'))\n",
    "plt.show()"
   ]
  },
  {
   "cell_type": "code",
   "execution_count": 18,
   "metadata": {
    "collapsed": false
   },
   "outputs": [
    {
     "name": "stdout",
     "output_type": "stream",
     "text": [
      "nevents\n",
      "Cluster Class_KM       \n",
      "0                 count    53496.000000\n",
      "                  mean        49.098306\n",
      "                  std         97.410686\n",
      "                  min          0.000000\n",
      "                  25%          0.000000\n",
      "                  50%          5.000000\n",
      "                  75%         48.000000\n",
      "                  max       1022.000000\n",
      "1                 count     3840.000000\n",
      "                  mean      1145.413021\n",
      "                  std        619.213299\n",
      "                  min          0.000000\n",
      "                  25%        651.750000\n",
      "                  50%       1062.000000\n",
      "                  75%       1538.500000\n",
      "                  max       2988.000000\n",
      "dtype: float64\n",
      "Cluster Class_KM   \n",
      "0                 1    27675\n",
      "                  0    25185\n",
      "                  3      374\n",
      "                  2      262\n",
      "1                 3     1910\n",
      "                  2     1370\n",
      "                  1      500\n",
      "                  0       60\n",
      "dtype: int64\n",
      "ndays_act\n",
      "Cluster Class_KM       \n",
      "0                 count    53496.000000\n",
      "                  mean         2.205081\n",
      "                  std          3.140255\n",
      "                  min          0.000000\n",
      "                  25%          1.000000\n",
      "                  50%          1.000000\n",
      "                  75%          3.000000\n",
      "                  max         45.000000\n",
      "1                 count     3840.000000\n",
      "                  mean        24.170833\n",
      "                  std         14.904506\n",
      "                  min          1.000000\n",
      "                  25%         14.000000\n",
      "                  50%         21.000000\n",
      "                  75%         31.000000\n",
      "                  max        128.000000\n",
      "dtype: float64\n",
      "Cluster Class_KM   \n",
      "0                 1    27675\n",
      "                  0    25185\n",
      "                  3      374\n",
      "                  2      262\n",
      "1                 3     1910\n",
      "                  2     1370\n",
      "                  1      500\n",
      "                  0       60\n",
      "dtype: int64\n",
      "nchapters\n",
      "Cluster Class_KM       \n",
      "0                 count    53496.000000\n",
      "                  mean         1.997476\n",
      "                  std          3.208733\n",
      "                  min          0.000000\n",
      "                  25%          0.000000\n",
      "                  50%          1.000000\n",
      "                  75%          3.000000\n",
      "                  max         34.000000\n",
      "1                 count     3840.000000\n",
      "                  mean        25.760938\n",
      "                  std          7.844652\n",
      "                  min          0.000000\n",
      "                  25%         20.000000\n",
      "                  50%         29.000000\n",
      "                  75%         32.000000\n",
      "                  max         34.000000\n",
      "dtype: float64\n",
      "Cluster Class_KM   \n",
      "0                 1    27675\n",
      "                  0    25185\n",
      "                  3      374\n",
      "                  2      262\n",
      "1                 3     1910\n",
      "                  2     1370\n",
      "                  1      500\n",
      "                  0       60\n",
      "dtype: int64\n",
      "nforum_posts\n",
      "Cluster Class_KM       \n",
      "0                 count    53496.000000\n",
      "                  mean         0.034152\n",
      "                  std          0.245593\n",
      "                  min          0.000000\n",
      "                  25%          0.000000\n",
      "                  50%          0.000000\n",
      "                  75%          0.000000\n",
      "                  max          5.000000\n",
      "1                 count     3840.000000\n",
      "                  mean         0.247656\n",
      "                  std          0.794858\n",
      "                  min          0.000000\n",
      "                  25%          0.000000\n",
      "                  50%          0.000000\n",
      "                  75%          0.000000\n",
      "                  max          7.000000\n",
      "dtype: float64\n",
      "Cluster Class_KM   \n",
      "0                 1    27675\n",
      "                  0    25185\n",
      "                  3      374\n",
      "                  2      262\n",
      "1                 3     1910\n",
      "                  2     1370\n",
      "                  1      500\n",
      "                  0       60\n",
      "dtype: int64\n"
     ]
    }
   ],
   "source": [
    "#characterize kmeans groups\n",
    "\n",
    "#cs50.nevents.groupby('Cluster_labels').mean()\n",
    "list = ['nevents', 'ndays_act', 'nchapters', 'nforum_posts']\n",
    "for Z in range(0,len(list)):\n",
    "    print list[Z]\n",
    "    print justice[list[Z]].groupby(justice['Cluster Class_KM']).describe()\n",
    "    print justice['outcome'].groupby(justice['Cluster Class_KM']).value_counts()"
   ]
  },
  {
   "cell_type": "code",
   "execution_count": 19,
   "metadata": {
    "collapsed": false
   },
   "outputs": [
    {
     "name": "stdout",
     "output_type": "stream",
     "text": [
      "0     25298\n",
      "1      5366\n",
      "2      8463\n",
      "3      5105\n",
      "4      2341\n",
      "5      1691\n",
      "6      1162\n",
      "7       966\n",
      "8       677\n",
      "9       530\n",
      "10      492\n",
      "11      398\n",
      "12      296\n",
      "13      257\n",
      "14      251\n",
      "15      229\n",
      "16      214\n",
      "17      146\n",
      "18      151\n",
      "19      123\n",
      "20      116\n",
      "21      107\n",
      "22      102\n",
      "23      114\n",
      "24      117\n",
      "25      157\n",
      "26      152\n",
      "27      198\n",
      "28      169\n",
      "29      157\n",
      "30      146\n",
      "31      350\n",
      "32      611\n",
      "33      455\n",
      "34      229\n",
      "Name: nchapters, dtype: int64\n"
     ]
    }
   ],
   "source": [
    "#create survival function\n",
    "%matplotlib inline \n",
    "chapters = justice['nchapters']\n",
    "table1 = pd.Series.value_counts(chapters, sort = False)\n",
    "print table1\n"
   ]
  },
  {
   "cell_type": "code",
   "execution_count": 20,
   "metadata": {
    "collapsed": false
   },
   "outputs": [
    {
     "name": "stdout",
     "output_type": "stream",
     "text": [
      "[(0, 0.44122366401562718), (1, 0.16748860727885637), (2, 0.31729904019196159), (3, 0.28035586797737383), (4, 0.17864774114774115), (5, 0.15711232927622409), (6, 0.12808641975308643), (7, 0.12212389380530973), (8, 0.09749423963133641), (9, 0.084569969682463705), (10, 0.085759107547498686), (11, 0.075881792183031455), (12, 0.061068702290076333), (13, 0.056471105251593059), (14, 0.05845365626455519), (15, 0.056641108088053428), (16, 0.056109071840587312), (17, 0.040555555555555553), (18, 0.043717429067747539), (19, 0.037238873751135333), (20, 0.036477987421383647), (21, 0.034921671018276763), (22, 0.034494420020290836), (23, 0.039929947460595444), (24, 0.042685151404596861), (25, 0.059832317073170729), (26, 0.061613295500608026), (27, 0.085529157667386613), (28, 0.079829948039678786), (29, 0.080595482546201233), (30, 0.081518704634282527), (31, 0.21276595744680851), (32, 0.47181467181467179), (33, 0.66520467836257313), (34, 1.0)]\n"
     ]
    }
   ],
   "source": [
    "sum1 = pd.Series.sum(table1)\n",
    "zero = 0\n",
    "sum = sum1\n",
    "table2 = []\n",
    "for k in range(0,35):\n",
    "    index_tot = (table1.ix[k:34].sum())\n",
    "    per_drop = table1.ix[k]/(index_tot*1.0)\n",
    "    table2.append((k,per_drop))\n",
    "print table2"
   ]
  },
  {
   "cell_type": "code",
   "execution_count": 21,
   "metadata": {
    "collapsed": false
   },
   "outputs": [
    {
     "data": {
      "text/plain": [
       "[<matplotlib.lines.Line2D at 0x10fb02390>]"
      ]
     },
     "execution_count": 21,
     "metadata": {},
     "output_type": "execute_result"
    },
    {
     "data": {
      "image/png": "[encoded data removed]",
      "text/plain": [
       "<matplotlib.figure.Figure at 0x10fabbd10>"
      ]
     },
     "metadata": {},
     "output_type": "display_data"
    }
   ],
   "source": [
    "#plot survival function\n",
    "r = []\n",
    "s = []\n",
    "for i,va in table2:\n",
    "    r.append(i)\n",
    "    s.append(va)\n",
    "plt.minorticks_on()\n",
    "plt.title('Dropouts in Justice Course by chapter')\n",
    "plt.ylabel('% dropouts as proportion of students left in course')\n",
    "plt.xlim(xmax=33)\n",
    "plt.xlim(xmin=-.5)\n",
    "plt.xlabel('Chapters')\n",
    "plt.scatter(r, s, linewidths = 1)\n",
    "plt.plot(r,s,'.b',linestyle='solid')"
   ]
  },
  {
   "cell_type": "code",
   "execution_count": 22,
   "metadata": {
    "collapsed": false,
    "scrolled": true
   },
   "outputs": [
    {
     "name": "stdout",
     "output_type": "stream",
     "text": [
      "1\n",
      "2\n",
      "3\n",
      "4\n",
      "5\n",
      "6\n",
      "7\n",
      "8\n",
      "9\n",
      "10\n"
     ]
    }
   ],
   "source": [
    "# determining optimal number of clusters\n",
    "from sklearn.cluster import KMeans\n",
    "k_range = range(1,11)\n",
    "feature_cols = listz\n",
    "X = justice[feature_cols]\n",
    "def k_var(xv,kran):\n",
    "    kiner_tuple = []\n",
    "    kiner_perc = []\n",
    "    for kr in kran:\n",
    "        k_means = KMeans(n_clusters = kr)\n",
    "        k_means.fit(xv)\n",
    "        iner = k_means.inertia_\n",
    "        #perc = iner/tss\n",
    "        kiner_tuple.append((kr,iner))\n",
    "        #kiner_perc.append(perc)\n",
    "        print kr\n",
    "        #print perc\n",
    "    return kiner_tuple\n",
    "    \n",
    "k_tup = k_var(X,k_range)\n"
   ]
  },
  {
   "cell_type": "code",
   "execution_count": 23,
   "metadata": {
    "collapsed": false
   },
   "outputs": [
    {
     "data": {
      "image/png": "[encoded data removed]",
      "text/plain": [
       "<matplotlib.figure.Figure at 0x10ca96a90>"
      ]
     },
     "metadata": {},
     "output_type": "display_data"
    }
   ],
   "source": [
    "#Plot this to find point where marginal gain in variance explains drops (elbow)\n",
    "import matplotlib.pyplot as plt\n",
    "\n",
    "r = []\n",
    "s = []\n",
    "for km, ss in k_tup:\n",
    "    r.append(km)\n",
    "    s.append(ss)\n",
    "\n",
    "plt.title('Determining optimal # of clusters')\n",
    "plt.ylabel('Total within-cluster sum of squares')\n",
    "plt.xlabel('Number of clusters')\n",
    "plt.scatter(r, s, linewidths = 1)\n",
    "plt.plot(r,s,'.g')\n",
    "plt.show()\n"
   ]
  },
  {
   "cell_type": "code",
   "execution_count": 24,
   "metadata": {
    "collapsed": false
   },
   "outputs": [
    {
     "name": "stdout",
     "output_type": "stream",
     "text": [
      "    new_yob  age outcome  nfor_posts  znevents  zndays_act  znchapters  \\\n",
      "4       NaN  NaN       0           0 -0.359106    1.605387   -0.512583   \n",
      "10      NaN  NaN       1           0 -0.310943   -0.228091   -0.229771   \n",
      "11      NaN  NaN       1           0 -0.268446   -0.359053   -0.088365   \n",
      "14      NaN  NaN       1           0 -0.138122    0.164797    0.053041   \n",
      "23      NaN  NaN       1           0 -0.316609   -0.228091   -0.229771   \n",
      "\n",
      "    znforum_posts  Cluster Class_KM  gd_f      ...        cty_Spain  \\\n",
      "4       -0.152364                 0     0      ...                0   \n",
      "10      -0.152364                 0     0      ...                0   \n",
      "11      -0.152364                 0     0      ...                0   \n",
      "14      -0.152364                 0     0      ...                0   \n",
      "23      -0.152364                 0     0      ...                0   \n",
      "\n",
      "    cty_Ukraine  cty_United Kingdom  cty_United States  cty_Unknown/Other  \\\n",
      "4             0                   0                  1                  0   \n",
      "10            0                   0                  1                  0   \n",
      "11            0                   0                  1                  0   \n",
      "14            0                   0                  1                  0   \n",
      "23            0                   0                  1                  0   \n",
      "\n",
      "    deg_Bachelor's  deg_Doctorate  deg_Less than Secondary  deg_Master's  \\\n",
      "4                0              0                        0             0   \n",
      "10               0              0                        0             0   \n",
      "11               0              0                        0             0   \n",
      "14               0              0                        0             0   \n",
      "23               0              0                        0             0   \n",
      "\n",
      "    deg_Secondary  \n",
      "4               0  \n",
      "10              0  \n",
      "11              0  \n",
      "14              0  \n",
      "23              0  \n",
      "\n",
      "[5 rows x 50 columns]\n"
     ]
    }
   ],
   "source": [
    "#Prediction\n",
    "#create dummies for country, female, highest degree\n",
    "attr = ['final_cc_cname_di', 'gender' ,'loe_di']\n",
    "for Q in range(0,len(attr)):\n",
    "    justice[attr[Q]].value_counts()\n",
    "\n",
    "justice.final_cc_cname_di.value_counts()\n",
    "dummies_gender=pd.get_dummies(justice.gender, prefix = 'gd')\n",
    "justice = pd.concat([justice, dummies_gender], axis = 1)\n",
    "\n",
    "dummies_country= pd.get_dummies(justice.final_cc_cname_di, prefix = 'cty')\n",
    "justice = pd.concat([justice, dummies_country], axis = 1)\n",
    "\n",
    "dummies_deg = pd.get_dummies(justice.loe_di, prefix = 'deg')\n",
    "justice = pd.concat([justice, dummies_deg], axis = 1)\n",
    "\n",
    "print justice.ix[:,20:].head()\n",
    "\n",
    "\n"
   ]
  },
  {
   "cell_type": "code",
   "execution_count": 25,
   "metadata": {
    "collapsed": false
   },
   "outputs": [
    {
     "name": "stdout",
     "output_type": "stream",
     "text": [
      "['cty_United States', 'cty_Unknown/Other', 'cty_Other Europe', 'cty_India', 'cty_United Kingdom', 'cty_Brazil', 'cty_Other East Asia', 'cty_Canada', 'cty_Other South Asia', 'cty_Other Middle East/Central Asia', 'cty_Other Africa', 'cty_Germany', 'cty_China', 'cty_Japan', 'cty_Spain', 'cty_Australia', 'cty_Other South America', 'cty_France', 'cty_Greece', 'cty_Russian Federation', 'cty_Pakistan', 'cty_Philippines', 'cty_Poland', 'cty_Nigeria', 'cty_Mexico', 'cty_Ukraine', 'cty_Colombia', 'cty_Other North & Central Amer., Caribbean', 'cty_Indonesia', 'cty_Egypt', 'cty_Morocco', 'cty_Bangladesh', 'cty_Portugal', 'cty_Other Oceania']\n"
     ]
    }
   ],
   "source": [
    "#create list for country dummies\n",
    "\n",
    "country = justice.final_cc_cname_di.value_counts()\n",
    "cty_list = []\n",
    "for index, values in pd.Series.iteritems(country):\n",
    "    cty1 = 'cty_' + index\n",
    "    cty_list.append(cty1)\n",
    "\n",
    "print cty_list\n"
   ]
  },
  {
   "cell_type": "code",
   "execution_count": 26,
   "metadata": {
    "collapsed": false
   },
   "outputs": [
    {
     "name": "stdout",
     "output_type": "stream",
     "text": [
      "['gd_f', 'deg_Doctorate', 'deg_Less than Secondary', \"deg_Master's\", 'deg_Secondary', \"deg_Bachelor's\", 'age', 'cty_United States', 'cty_Unknown/Other', 'cty_Other Europe', 'cty_India', 'cty_United Kingdom', 'cty_Brazil', 'cty_Other East Asia', 'cty_Canada', 'cty_Other South Asia', 'cty_Other Middle East/Central Asia', 'cty_Other Africa', 'cty_Germany', 'cty_China', 'cty_Japan', 'cty_Spain', 'cty_Australia', 'cty_Other South America', 'cty_France', 'cty_Greece', 'cty_Russian Federation', 'cty_Pakistan', 'cty_Philippines', 'cty_Poland', 'cty_Nigeria', 'cty_Mexico', 'cty_Ukraine', 'cty_Colombia', 'cty_Other North & Central Amer., Caribbean', 'cty_Indonesia', 'cty_Egypt', 'cty_Morocco', 'cty_Bangladesh', 'cty_Portugal', 'cty_Other Oceania']\n"
     ]
    }
   ],
   "source": [
    "#prepare other variables for prediction\n",
    "import copy\n",
    "list = ['gd_f', 'deg_Doctorate', 'deg_Less than Secondary', \"deg_Master's\", 'deg_Secondary', \"deg_Bachelor's\", \"age\"]\n",
    "\n",
    "for item in range(0,len(cty_list)):\n",
    "    list.append(cty_list[item])\n",
    "feature_cols = copy.copy(list)\n",
    "print feature_cols\n",
    "\n",
    "\n",
    "\n",
    "for what in range(0,len(list)):\n",
    "    justice[list[what]].fillna(0, inplace = True)\n"
   ]
  },
  {
   "cell_type": "code",
   "execution_count": 28,
   "metadata": {
    "collapsed": false
   },
   "outputs": [
    {
     "name": "stdout",
     "output_type": "stream",
     "text": [
      "gd_f                                          float64\n",
      "deg_Doctorate                                 float64\n",
      "deg_Less than Secondary                       float64\n",
      "deg_Master's                                  float64\n",
      "deg_Secondary                                 float64\n",
      "age                                           float64\n",
      "cty_Unknown/Other                             float64\n",
      "cty_Other Europe                              float64\n",
      "cty_India                                     float64\n",
      "cty_United Kingdom                            float64\n",
      "cty_Brazil                                    float64\n",
      "cty_Other East Asia                           float64\n",
      "cty_Canada                                    float64\n",
      "cty_Other South Asia                          float64\n",
      "cty_Other Middle East/Central Asia            float64\n",
      "cty_Other Africa                              float64\n",
      "cty_Germany                                   float64\n",
      "cty_China                                     float64\n",
      "cty_Japan                                     float64\n",
      "cty_Spain                                     float64\n",
      "cty_Australia                                 float64\n",
      "cty_Other South America                       float64\n",
      "cty_France                                    float64\n",
      "cty_Greece                                    float64\n",
      "cty_Russian Federation                        float64\n",
      "cty_Pakistan                                  float64\n",
      "cty_Philippines                               float64\n",
      "cty_Poland                                    float64\n",
      "cty_Nigeria                                   float64\n",
      "cty_Mexico                                    float64\n",
      "cty_Ukraine                                   float64\n",
      "cty_Colombia                                  float64\n",
      "cty_Other North & Central Amer., Caribbean    float64\n",
      "cty_Indonesia                                 float64\n",
      "cty_Egypt                                     float64\n",
      "cty_Morocco                                   float64\n",
      "cty_Bangladesh                                float64\n",
      "cty_Portugal                                  float64\n",
      "cty_Other Oceania                             float64\n",
      "dtype: object\n",
      "object\n",
      "1    28175\n",
      "0    25245\n",
      "3     2284\n",
      "2     1632\n",
      "Name: outcome, dtype: int64\n"
     ]
    }
   ],
   "source": [
    "#KNN Prediction - trial run\n",
    "from sklearn.neighbors import KNeighborsClassifier\n",
    "# make an instance of a KNeighborsClassifier object\n",
    "# feature_cols defined above\n",
    "feature_cols1 = ['gd_f', 'deg_Doctorate', 'deg_Less than Secondary', \"deg_Master's\", 'deg_Secondary', \n",
    "                 'age', 'cty_Unknown/Other', 'cty_Other Europe', \n",
    "                 'cty_India', 'cty_United Kingdom', 'cty_Brazil', 'cty_Other East Asia', 'cty_Canada', \n",
    "                 'cty_Other South Asia', 'cty_Other Middle East/Central Asia', 'cty_Other Africa', 'cty_Germany',\n",
    "                 'cty_China', 'cty_Japan', 'cty_Spain', 'cty_Australia', 'cty_Other South America', 'cty_France', \n",
    "                 'cty_Greece', 'cty_Russian Federation', 'cty_Pakistan', 'cty_Philippines', 'cty_Poland', \n",
    "                 'cty_Nigeria', \n",
    "                 'cty_Mexico', 'cty_Ukraine', 'cty_Colombia', 'cty_Other North & Central Amer., Caribbean', \n",
    "                 'cty_Indonesia', 'cty_Egypt', 'cty_Morocco', 'cty_Bangladesh', 'cty_Portugal', 'cty_Other Oceania']\n",
    "X = justice[feature_cols1]\n",
    "y = justice['outcome']\n",
    "\n",
    "knn = KNeighborsClassifier(n_neighbors=77)\n",
    "type(knn)\n",
    "knn.fit(X, y)\n",
    "y_pc = knn.predict(X)\n",
    "\n",
    "print X.dtypes\n",
    "print y.dtype\n",
    "yint=y.astype('int64')\n",
    "print y.value_counts()"
   ]
  },
  {
   "cell_type": "code",
   "execution_count": 29,
   "metadata": {
    "collapsed": false
   },
   "outputs": [
    {
     "name": "stdout",
     "output_type": "stream",
     "text": [
      "1    40757\n",
      "0    16579\n",
      "dtype: int64\n"
     ]
    }
   ],
   "source": [
    "print pd.Series(y_pc).value_counts()"
   ]
  },
  {
   "cell_type": "code",
   "execution_count": 30,
   "metadata": {
    "collapsed": false
   },
   "outputs": [
    {
     "data": {
      "text/plain": [
       "0.54562578484721636"
      ]
     },
     "execution_count": 30,
     "metadata": {},
     "output_type": "execute_result"
    }
   ],
   "source": [
    "# Evaluation KNN Predictions Using Train-Test Split\n",
    "#define function for 1 KNN evaluation using accuracy score\n",
    "from sklearn.cross_validation import train_test_split\n",
    "from sklearn import metrics\n",
    "def eval_knn(Xf, yf, rand, nn):\n",
    "    X_tr, X_te, y_tr, y_te = train_test_split(Xf, yf, random_state=rand)\n",
    "    knn = KNeighborsClassifier(n_neighbors=nn)\n",
    "    knn.fit(X_tr, y_tr)\n",
    "    y_pc = knn.predict(X_te)\n",
    "    met = (metrics.accuracy_score(y_te, y_pc))\n",
    "    return met\n",
    "eval_knn(X,yint,7, 5)"
   ]
  },
  {
   "cell_type": "code",
   "execution_count": 31,
   "metadata": {
    "collapsed": false
   },
   "outputs": [],
   "source": [
    "#Tuning\n",
    "#define function for multiple KNN evaluations, varying on n_neighbors, this time n_neighbors is an array\n",
    "\n",
    "def eval_knn_nn(Xf, yf, rand, nnl):\n",
    "    nmet_tuple = []\n",
    "    for value in nnl:\n",
    "        print value\n",
    "        measure = eval_knn(Xf, yf, rand, value)\n",
    "        nmet_tuple.append((value, measure))\n",
    "    return nmet_tuple\n",
    "    "
   ]
  },
  {
   "cell_type": "code",
   "execution_count": 32,
   "metadata": {
    "collapsed": false
   },
   "outputs": [
    {
     "name": "stdout",
     "output_type": "stream",
     "text": [
      "60\n",
      "61\n",
      "62\n",
      "63\n",
      "64\n",
      "65\n",
      "66\n",
      "67\n",
      "68\n",
      "69\n",
      "70\n",
      "71\n",
      "72\n",
      "73\n",
      "74\n",
      "75\n",
      "76\n",
      "77\n",
      "78\n",
      "79\n",
      "80\n",
      "81\n",
      "82\n",
      "83\n",
      "84\n",
      "85\n",
      "86\n",
      "87\n",
      "88\n",
      "89\n",
      "90\n",
      "91\n",
      "92\n",
      "93\n",
      "94\n",
      "95\n",
      "96\n",
      "97\n",
      "98\n",
      "99\n",
      "[(60, 0.58015906236919212), (61, 0.5816938747035022), (62, 0.58071717594530492), (63, 0.58008929817217803), (64, 0.581554346309474), (65, 0.58315892284079807), (66, 0.58392632900795316), (67, 0.58357750802288266), (68, 0.58281010185572768), (69, 0.5812752895214176), (70, 0.58553090553927722), (71, 0.5818334030975304), (72, 0.58413562159899535), (73, 0.5814148179154458), (74, 0.58406585740198136), (75, 0.58476349937212224), (76, 0.58308915864378397), (77, 0.58615878331240412), (78, 0.58476349937212224), (79, 0.58413562159899535), (80, 0.58490302776615044), (81, 0.58357750802288266), (82, 0.58287986605274178), (83, 0.58029859076322032), (84, 0.58190316729454439), (85, 0.58239151667364308), (86, 0.58099623273336121), (87, 0.58239151667364308), (88, 0.58050788335426262), (89, 0.58099623273336121), (90, 0.5816241105064881), (91, 0.57967071299009343), (92, 0.58064741174829082), (93, 0.57813590065578346), (94, 0.57981024138412163), (95, 0.58036835496023442), (96, 0.58008929817217803), (97, 0.57932189200502304), (98, 0.58092646853634711), (99, 0.57981024138412163)]\n"
     ]
    }
   ],
   "source": [
    "nnlist = np.arange(60,100)\n",
    "test = eval_knn_nn(X,yint,150,nnlist)\n",
    "print test\n"
   ]
  },
  {
   "cell_type": "code",
   "execution_count": 33,
   "metadata": {
    "collapsed": false
   },
   "outputs": [
    {
     "data": {
      "image/png": "[encoded data removed]",
      "text/plain": [
       "<matplotlib.figure.Figure at 0x10d936bd0>"
      ]
     },
     "metadata": {},
     "output_type": "display_data"
    }
   ],
   "source": [
    "#plot results\n",
    "import matplotlib.pyplot as plt\n",
    "n = []\n",
    "v = []\n",
    "for neigh, val in test:\n",
    "    n.append(neigh)\n",
    "    v.append(val)\n",
    "\n",
    "plt.title('Tuning KNN Model')\n",
    "plt.ylabel('Accuracy Score')\n",
    "plt.xlabel('Number of Neighbors')\n",
    "plt.scatter(n, v, linewidths = 1)\n",
    "plt.plot(n,v,'.b-')\n",
    "plt.show()\n"
   ]
  },
  {
   "cell_type": "code",
   "execution_count": 34,
   "metadata": {
    "collapsed": false
   },
   "outputs": [
    {
     "data": {
      "text/plain": [
       "1    48966\n",
       "0     8370\n",
       "Name: log_pred_class, dtype: int64"
      ]
     },
     "execution_count": 34,
     "metadata": {},
     "output_type": "execute_result"
    }
   ],
   "source": [
    "#Logistic  Regression Model\n",
    "# fit a logistic regression model and store the class predictions\n",
    "#feature_cols defined above\n",
    "from sklearn.linear_model import LogisticRegression\n",
    "logreg = LogisticRegression()\n",
    "feature_cols1 = ['gd_f', 'deg_Doctorate', 'deg_Less than Secondary',\n",
    "                  \"deg_Master's\", 'deg_Secondary', #\"deg_Bachelor's\",\n",
    " 'age', 'cty_Unknown/Other', #'cty_United States'\n",
    " 'cty_India', 'cty_Other Europe', 'cty_Other Africa', \n",
    " 'cty_United Kingdom', 'cty_Canada', 'cty_Brazil', 'cty_Other Middle East/Central Asia', 'cty_Other South Asia', \n",
    " 'cty_Russian Federation', 'cty_Pakistan', 'cty_Nigeria', 'cty_Australia', 'cty_Spain', 'cty_Other South America', \n",
    " 'cty_Philippines', 'cty_Egypt', 'cty_Germany', 'cty_Ukraine', 'cty_Other North & Central Amer., Caribbean', \n",
    " 'cty_France', 'cty_Mexico', 'cty_Morocco', 'cty_Other East Asia', 'cty_Poland', 'cty_Greece',\n",
    " 'cty_Colombia', 'cty_China', 'cty_Indonesia', 'cty_Bangladesh', 'cty_Portugal', 'cty_Japan', 'cty_Other Oceania']\n",
    "X = justice[feature_cols1]\n",
    "y = justice['outcome']\n",
    "logreg.fit(X, y)\n",
    "justice['log_pred_class'] = logreg.predict(X)\n",
    "justice['log_pred_class'].value_counts()"
   ]
  },
  {
   "cell_type": "code",
   "execution_count": 35,
   "metadata": {
    "collapsed": false
   },
   "outputs": [
    {
     "name": "stdout",
     "output_type": "stream",
     "text": [
      "['gd_f', 'deg_Doctorate', 'deg_Less than Secondary', \"deg_Master's\", 'deg_Secondary', 'age', 'cty_Unknown/Other', 'cty_India', 'cty_Other Europe', 'cty_Other Africa', 'cty_United Kingdom', 'cty_Canada', 'cty_Brazil', 'cty_Other Middle East/Central Asia', 'cty_Other South Asia', 'cty_Russian Federation', 'cty_Pakistan', 'cty_Nigeria', 'cty_Australia', 'cty_Spain', 'cty_Other South America', 'cty_Philippines', 'cty_Egypt', 'cty_Germany', 'cty_Ukraine', 'cty_Other North & Central Amer., Caribbean', 'cty_France', 'cty_Mexico', 'cty_Morocco', 'cty_Other East Asia', 'cty_Poland', 'cty_Greece', 'cty_Colombia', 'cty_China', 'cty_Indonesia', 'cty_Bangladesh', 'cty_Portugal', 'cty_Japan', 'cty_Other Oceania']\n",
      "39\n"
     ]
    },
    {
     "data": {
      "text/plain": [
       "[(array([  1.55613910e-01,  -3.17642817e-01,  -4.13509102e-01,\n",
       "          -8.56949315e-02,  -3.68792911e-02,   4.47790366e-03,\n",
       "           4.18759851e+00,  -1.89118742e-01,  -4.92067527e-01,\n",
       "           2.02117148e-01,  -1.86806506e-01,  -2.23434505e-01,\n",
       "          -3.08340593e-01,  -9.01655165e-02,  -3.51782646e-01,\n",
       "          -2.70105414e-01,   4.23196063e-01,   3.71337362e-01,\n",
       "          -2.49859686e-01,  -4.34611508e-01,  -1.93908800e-01,\n",
       "          -3.59514577e-03,  -4.42788024e-02,  -7.92118510e-01,\n",
       "          -2.91255084e-01,   5.93330963e-02,  -4.97231701e-01,\n",
       "          -1.14261866e-01,  -1.35852053e-01,  -2.64406824e-01,\n",
       "          -6.44172594e-01,  -4.58266418e-01,  -3.58347156e-01,\n",
       "          -1.61803304e-01,   2.17612896e-01,   4.47095390e-01,\n",
       "          -2.13343853e-01,  -4.77679475e-01,   6.38509178e-01]),),\n",
       " (array([-0.06512521,  0.25939572,  0.22072751,  0.06682197,  0.03484889,\n",
       "         -0.00433663, -4.07913734,  0.0890224 ,  0.23347972, -0.22988967,\n",
       "          0.07911808,  0.1669276 ,  0.2345004 ,  0.01110182,  0.19808906,\n",
       "          0.10992101, -0.37508148, -0.36266921,  0.14187577,  0.3070045 ,\n",
       "          0.17997176, -0.00909603,  0.01296046,  0.3895872 ,  0.25944589,\n",
       "         -0.08757428,  0.29783355,  0.10521743,  0.23127304,  0.34110247,\n",
       "          0.45301421,  0.01867979,  0.29824617,  0.29893366, -0.27354328,\n",
       "         -0.40034692,  0.12751763,  0.61397082, -0.54400944]),),\n",
       " (array([-0.41781921, -0.02071759, -0.06631323, -0.07150072, -0.23939865,\n",
       "          0.00917455, -3.36156981,  0.09705073,  0.38779312, -0.45772523,\n",
       "          0.01185087, -0.03656916, -0.37927768,  0.08587598,  0.18775546,\n",
       "          0.31403487, -0.45052063, -0.01436107,  0.09468799,  0.03131917,\n",
       "         -0.05377496,  0.05632044, -0.16194545,  0.50139473, -0.55685023,\n",
       "         -0.50246422,  0.40086863, -0.1488204 , -0.09085604, -0.82750186,\n",
       "          0.26550161,  0.59246377, -0.01232101, -1.19642313,  0.65068596,\n",
       "          0.11957709, -0.09178947, -0.62867227, -0.42233121]),),\n",
       " (array([-0.19585997,  0.27749297,  0.77542183,  0.17283946,  0.17373103,\n",
       "         -0.00892681, -2.4603881 ,  0.48835325,  0.85072978,  0.51228099,\n",
       "          0.58399832,  0.33383192,  0.59312752,  0.41965645,  0.61606183,\n",
       "          0.57876518,  0.04871848, -0.01822869,  0.51109768,  0.56131646,\n",
       "          0.08345458,  0.02127506,  0.33526745,  1.03508795,  0.40857245,\n",
       "          0.47854386,  0.56582004,  0.16837914, -0.64823487, -0.14471621,\n",
       "          0.55271913,  1.31706912,  0.27080386, -0.49742553, -0.46303073,\n",
       "         -0.32742971,  0.39594533, -1.04648401,  0.01627441]),)]"
      ]
     },
     "execution_count": 35,
     "metadata": {},
     "output_type": "execute_result"
    }
   ],
   "source": [
    "# Examine Coefficients\n",
    "print feature_cols1\n",
    "print len(feature_cols1)\n",
    "zip(logreg.coef_)"
   ]
  },
  {
   "cell_type": "code",
   "execution_count": 36,
   "metadata": {
    "collapsed": false
   },
   "outputs": [
    {
     "name": "stdout",
     "output_type": "stream",
     "text": [
      "0.589926049951\n"
     ]
    },
    {
     "data": {
      "text/plain": [
       "0.58992604995116504"
      ]
     },
     "execution_count": 36,
     "metadata": {},
     "output_type": "execute_result"
    }
   ],
   "source": [
    "#evaluate model\n",
    "#cross validation score - doesn't work with multiclass format\n",
    "#use accuracy score\n",
    "# Evaluation logistic model Using Train-Test Split and accuracy scores\n",
    "from sklearn.cross_validation import train_test_split\n",
    "from sklearn import metrics\n",
    "def eval_log(Xf, yf, rand):\n",
    "    X_tr, X_te, y_tr, y_te = train_test_split(Xf, yf, random_state=rand)\n",
    "    logreg = LogisticRegression()\n",
    "    logreg.fit(X_tr, y_tr)\n",
    "    y_pc = logreg.predict(X_te)\n",
    "    met = (metrics.accuracy_score(y_te, y_pc))\n",
    "    print metrics.accuracy_score(y_te, y_pc)\n",
    "    return met\n",
    "eval_log(X,yint,7)"
   ]
  },
  {
   "cell_type": "code",
   "execution_count": 37,
   "metadata": {
    "collapsed": false
   },
   "outputs": [
    {
     "name": "stdout",
     "output_type": "stream",
     "text": [
      "0.590832984512\n",
      "0.586716896889\n",
      "0.491698060555\n"
     ]
    },
    {
     "data": {
      "text/plain": [
       "0.491698060555323"
      ]
     },
     "execution_count": 37,
     "metadata": {},
     "output_type": "execute_result"
    }
   ],
   "source": [
    "#create different versions of feature vectors and test models\n",
    "feature_cols1 = ['gd_f', 'deg_Doctorate', #deg_Less than Secondary'\n",
    "                  \"deg_Master's\", 'deg_Secondary', #\"deg_Bachelor's\",\n",
    " 'age', 'cty_Unknown/Other', #'cty_United States'\n",
    " 'cty_India', 'cty_Other Europe', 'cty_Other Africa', \n",
    " 'cty_United Kingdom', 'cty_Canada', 'cty_Brazil', 'cty_Other Middle East/Central Asia', 'cty_Other South Asia', \n",
    " 'cty_Russian Federation', 'cty_Pakistan', 'cty_Nigeria', 'cty_Australia', 'cty_Spain', 'cty_Other South America', \n",
    " 'cty_Philippines', 'cty_Egypt', 'cty_Germany', 'cty_Ukraine', 'cty_Other North & Central Amer., Caribbean', \n",
    " 'cty_France', 'cty_Mexico', 'cty_Morocco', 'cty_Other East Asia', 'cty_Poland', 'cty_Greece',\n",
    " 'cty_Colombia', 'cty_China', 'cty_Indonesia', 'cty_Bangladesh', 'cty_Portugal', 'cty_Japan', 'cty_Other Oceania']\n",
    "feature_cols2 = ['gd_f', 'deg_Doctorate', 'deg_Less than Secondary',\n",
    "\"deg_Master's\", 'deg_Secondary', \"deg_Bachelor's\", 'age', 'cty_Unknown/Other', 'cty_United States']\n",
    "feature_cols3 = ['gd_f', 'deg_Doctorate', 'deg_Less than Secondary',\n",
    "\"deg_Master's\", 'deg_Secondary', \"deg_Bachelor's\", 'age', 'cty_United States']\n",
    "X1 = justice[feature_cols1]\n",
    "X2=justice[feature_cols2]\n",
    "X3 = justice[feature_cols3]\n",
    "eval_log(X1,yint,7)\n",
    "eval_log(X2,yint,7)\n",
    "eval_log(X3, yint,7)"
   ]
  },
  {
   "cell_type": "code",
   "execution_count": 38,
   "metadata": {
    "collapsed": false
   },
   "outputs": [
    {
     "data": {
      "text/plain": [
       "RandomForestClassifier(bootstrap=True, class_weight=None, criterion='gini',\n",
       "            max_depth=None, max_features='auto', max_leaf_nodes=None,\n",
       "            min_samples_leaf=1, min_samples_split=2,\n",
       "            min_weight_fraction_leaf=0.0, n_estimators=10, n_jobs=1,\n",
       "            oob_score=False, random_state=None, verbose=0,\n",
       "            warm_start=False)"
      ]
     },
     "execution_count": 38,
     "metadata": {},
     "output_type": "execute_result"
    }
   ],
   "source": [
    "#Try using random forest classifier to see if it's more accurate\n",
    "from sklearn.ensemble import RandomForestClassifier\n",
    "rfcl = RandomForestClassifier()\n",
    "rfcl"
   ]
  },
  {
   "cell_type": "code",
   "execution_count": 39,
   "metadata": {
    "collapsed": false
   },
   "outputs": [
    {
     "name": "stdout",
     "output_type": "stream",
     "text": [
      "[1 1 1 ..., 0 1 1]\n"
     ]
    }
   ],
   "source": [
    "X = justice[feature_cols1]\n",
    "y = justice['outcome']\n",
    "\n",
    "rfcl = RandomForestClassifier(n_estimators=240, random_state=1)\n",
    "rfcl.fit(X, y)\n",
    "y_pc = rfcl.predict(X)\n",
    "print y_pc"
   ]
  },
  {
   "cell_type": "code",
   "execution_count": 40,
   "metadata": {
    "collapsed": false
   },
   "outputs": [
    {
     "name": "stdout",
     "output_type": "stream",
     "text": [
      "1    40977\n",
      "0    16305\n",
      "3       28\n",
      "2       26\n",
      "dtype: int64\n"
     ]
    }
   ],
   "source": [
    "print pd.Series(y_pc).value_counts()"
   ]
  },
  {
   "cell_type": "code",
   "execution_count": 42,
   "metadata": {
    "collapsed": true
   },
   "outputs": [],
   "source": [
    "# list of values to try for n_estimators\n",
    "estimator_range = range(10, 310, 10)\n",
    "\n",
    "from sklearn.cross_validation import train_test_split\n",
    "from sklearn import metrics\n",
    "def eval_rf(Xf, yf, rand, est):\n",
    "    rf_tuple = []\n",
    "    X_tr, X_te, y_tr, y_te = train_test_split(Xf, yf, random_state=rand)\n",
    "    y_tr2=y_tr.astype(int)\n",
    "    y_te2=y_te.astype(int)\n",
    "    for r in est:\n",
    "        rfcl = RandomForestClassifier(n_estimators=r, random_state=1)\n",
    "        rfcl.fit(X_tr, y_tr2)\n",
    "        y_pc = rfcl.predict(X_te)\n",
    "        y_pc2 = y_pc.astype(int)\n",
    "        met = (metrics.accuracy_score(y_te2, y_pc2))\n",
    "        rf_tuple.append((r, met))\n",
    "        print r\n",
    "    return rf_tuple\n",
    "\n"
   ]
  },
  {
   "cell_type": "code",
   "execution_count": 43,
   "metadata": {
    "collapsed": false
   },
   "outputs": [
    {
     "name": "stdout",
     "output_type": "stream",
     "text": [
      "10\n",
      "20\n",
      "30\n",
      "40\n",
      "50\n",
      "60\n",
      "70\n",
      "80\n",
      "90\n",
      "100\n",
      "110\n",
      "120\n",
      "130\n",
      "140\n",
      "150\n",
      "160\n",
      "170\n",
      "180\n",
      "190\n",
      "200\n",
      "210\n",
      "220\n",
      "230\n",
      "240\n",
      "250\n",
      "260\n",
      "270\n",
      "280\n",
      "290\n",
      "300\n",
      "[(10, 0.57011301799916281), (20, 0.57227570810659967), (30, 0.57206641551555737), (40, 0.57213617971257147), (50, 0.57325240686479695), (60, 0.57353146365285335), (70, 0.57262452909167016), (80, 0.57297335007674066), (90, 0.57318264266778285), (100, 0.57269429328868426), (110, 0.57269429328868426), (120, 0.57283382168271246), (130, 0.57262452909167016), (140, 0.57213617971257147), (150, 0.57220594390958557), (160, 0.57276405748569836), (170, 0.57164783033347288), (180, 0.57143853774243059), (190, 0.57171759453048698), (200, 0.57129900934840239), (210, 0.57136877354541649), (220, 0.57178735872750108), (230, 0.57164783033347288), (240, 0.57088042416631779), (250, 0.57136877354541649), (260, 0.5706013673782615), (270, 0.57115948095437419), (280, 0.57101995256034599), (290, 0.57088042416631779), (300, 0.57150830193944469)]\n"
     ]
    }
   ],
   "source": [
    "test = eval_rf(X,y,150,estimator_range)\n",
    "print test"
   ]
  },
  {
   "cell_type": "code",
   "execution_count": 44,
   "metadata": {
    "collapsed": false
   },
   "outputs": [
    {
     "name": "stdout",
     "output_type": "stream",
     "text": [
      "[(10, 0.57011301799916281), (20, 0.57227570810659967), (30, 0.57206641551555737), (40, 0.57213617971257147), (50, 0.57325240686479695), (60, 0.57353146365285335), (70, 0.57262452909167016), (80, 0.57297335007674066), (90, 0.57318264266778285), (100, 0.57269429328868426), (110, 0.57269429328868426), (120, 0.57283382168271246), (130, 0.57262452909167016), (140, 0.57213617971257147), (150, 0.57220594390958557), (160, 0.57276405748569836), (170, 0.57164783033347288), (180, 0.57143853774243059), (190, 0.57171759453048698), (200, 0.57129900934840239), (210, 0.57136877354541649), (220, 0.57178735872750108), (230, 0.57164783033347288), (240, 0.57088042416631779), (250, 0.57136877354541649), (260, 0.5706013673782615), (270, 0.57115948095437419), (280, 0.57101995256034599), (290, 0.57088042416631779), (300, 0.57150830193944469)]\n",
      "[10, 20, 30, 40, 50, 60, 70, 80, 90, 100, 110, 120, 130, 140, 150, 160, 170, 180, 190, 200, 210, 220, 230, 240, 250, 260, 270, 280, 290, 300]\n",
      "[0.57011301799916281, 0.57227570810659967, 0.57206641551555737, 0.57213617971257147, 0.57325240686479695, 0.57353146365285335, 0.57262452909167016, 0.57297335007674066, 0.57318264266778285, 0.57269429328868426, 0.57269429328868426, 0.57283382168271246, 0.57262452909167016, 0.57213617971257147, 0.57220594390958557, 0.57276405748569836, 0.57164783033347288, 0.57143853774243059, 0.57171759453048698, 0.57129900934840239, 0.57136877354541649, 0.57178735872750108, 0.57164783033347288, 0.57088042416631779, 0.57136877354541649, 0.5706013673782615, 0.57115948095437419, 0.57101995256034599, 0.57088042416631779, 0.57150830193944469]\n"
     ]
    },
    {
     "data": {
      "image/png": "[encoded data removed]",
      "text/plain": [
       "<matplotlib.figure.Figure at 0x10cd4cd90>"
      ]
     },
     "metadata": {},
     "output_type": "display_data"
    }
   ],
   "source": [
    "#plot results\n",
    "print test\n",
    "import matplotlib.pyplot as plt\n",
    "n = []\n",
    "v = []\n",
    "for est, val in test:\n",
    "    n.append(est)\n",
    "    v.append(val)\n",
    "\n",
    "print n\n",
    "print v\n",
    "plt.title('Tuning Random Forest Model')\n",
    "plt.ylabel('Accuracy Score')\n",
    "plt.xlabel('Number of Estimators')\n",
    "plt.scatter(n, v, linewidths = 1)\n",
    "plt.plot(n,v,'.r-')\n",
    "plt.show()\n"
   ]
  },
  {
   "cell_type": "code",
   "execution_count": 45,
   "metadata": {
    "collapsed": false
   },
   "outputs": [],
   "source": [
    "# list of values to try for max_features\n",
    "X = justice[feature_cols1]\n",
    "feature_range = range(1, 23)\n",
    "\n",
    "# use 10-fold cross-validation with each value of max_features (WARNING: SLOW!)\n",
    "\n",
    "def eval_rf2(Xf, yf, rand, feature):\n",
    "    rf_tuple = []\n",
    "    X_tr, X_te, y_tr, y_te = train_test_split(Xf, yf, random_state=rand)\n",
    "    y_tr2=y_tr.astype(int)\n",
    "    y_te2=y_te.astype(int)\n",
    "    for f in feature:\n",
    "        rfcl = RandomForestClassifier(n_estimators=240, random_state=1, max_features=f)\n",
    "        rfcl.fit(X_tr, y_tr2)\n",
    "        y_pc = rfcl.predict(X_te)\n",
    "        y_pc2 = y_pc.astype(int)\n",
    "        met = (metrics.accuracy_score(y_te2, y_pc2))\n",
    "        rf_tuple.append((f, met))\n",
    "        print f\n",
    "    return rf_tuple\n"
   ]
  },
  {
   "cell_type": "code",
   "execution_count": 46,
   "metadata": {
    "collapsed": false
   },
   "outputs": [
    {
     "name": "stdout",
     "output_type": "stream",
     "text": [
      "1\n",
      "2\n",
      "3\n",
      "4\n",
      "5\n",
      "6\n",
      "7\n",
      "8\n",
      "9\n",
      "10\n",
      "11\n",
      "12\n",
      "13\n",
      "14\n",
      "15\n",
      "16\n",
      "17\n",
      "18\n",
      "19\n",
      "20\n",
      "21\n",
      "22\n",
      "[(1, 0.57095018836333189), (2, 0.57095018836333189), (3, 0.5708106599693038), (4, 0.5708106599693038), (5, 0.57088042416631779), (6, 0.57088042416631779), (7, 0.57088042416631779), (8, 0.57095018836333189), (9, 0.57088042416631779), (10, 0.57095018836333189), (11, 0.57101995256034599), (12, 0.57101995256034599), (13, 0.57129900934840239), (14, 0.57122924515138829), (15, 0.57115948095437419), (16, 0.57122924515138829), (17, 0.57101995256034599), (18, 0.57095018836333189), (19, 0.57095018836333189), (20, 0.57088042416631779), (21, 0.57101995256034599), (22, 0.57095018836333189)]\n"
     ]
    }
   ],
   "source": [
    "test2 = eval_rf2(X1,y,150,feature_range)\n",
    "print test2"
   ]
  },
  {
   "cell_type": "code",
   "execution_count": 48,
   "metadata": {
    "collapsed": false
   },
   "outputs": [
    {
     "data": {
      "image/png": "[encoded data removed]",
      "text/plain": [
       "<matplotlib.figure.Figure at 0x10cdeacd0>"
      ]
     },
     "metadata": {},
     "output_type": "display_data"
    }
   ],
   "source": [
    "#plot results\n",
    "import matplotlib.pyplot as plt\n",
    "n = []\n",
    "v = []\n",
    "for est, val in test2:\n",
    "    n.append(est)\n",
    "    v.append(val)\n",
    "\n",
    "plt.title('Tuning Random Forest Model: # of features')\n",
    "plt.ylabel('Accuracy Score')\n",
    "plt.xlabel('Number of Features')\n",
    "plt.scatter(n, v, linewidths = 1)\n",
    "plt.plot(n,v,'.g-')\n",
    "plt.show()"
   ]
  },
  {
   "cell_type": "code",
   "execution_count": 50,
   "metadata": {
    "collapsed": false
   },
   "outputs": [
    {
     "data": {
      "text/plain": [
       "RandomForestClassifier(bootstrap=True, class_weight=None, criterion='gini',\n",
       "            max_depth=None, max_features=12, max_leaf_nodes=None,\n",
       "            min_samples_leaf=1, min_samples_split=2,\n",
       "            min_weight_fraction_leaf=0.0, n_estimators=240, n_jobs=1,\n",
       "            oob_score=True, random_state=1, verbose=0, warm_start=False)"
      ]
     },
     "execution_count": 50,
     "metadata": {},
     "output_type": "execute_result"
    }
   ],
   "source": [
    "# max_features=12 is best and n_estimators=60 is sufficiently large\n",
    "feature_cols1 = ['gd_f', 'deg_Doctorate', 'deg_Less than Secondary',\n",
    "                  \"deg_Master's\", 'deg_Secondary', #\"deg_Bachelor's\",\n",
    " 'age', 'cty_Unknown/Other', #'cty_United States'\n",
    " 'cty_India', 'cty_Other Europe', 'cty_Other Africa', \n",
    " 'cty_United Kingdom', 'cty_Canada', 'cty_Brazil', 'cty_Other Middle East/Central Asia', 'cty_Other South Asia', \n",
    " 'cty_Russian Federation', 'cty_Pakistan', 'cty_Nigeria', 'cty_Australia', 'cty_Spain', 'cty_Other South America', \n",
    " 'cty_Philippines', 'cty_Egypt', 'cty_Germany', 'cty_Ukraine', 'cty_Other North & Central Amer., Caribbean', \n",
    " 'cty_France', 'cty_Mexico', 'cty_Morocco', 'cty_Other East Asia', 'cty_Poland', 'cty_Greece',\n",
    " 'cty_Colombia', 'cty_China', 'cty_Indonesia', 'cty_Bangladesh', 'cty_Portugal', 'cty_Japan', 'cty_Other Oceania']\n",
    "X=justice[feature_cols1]\n",
    "y = justice['outcome']\n",
    "rfcl = RandomForestClassifier(n_estimators=240, max_features=12, oob_score=True, random_state=1)\n",
    "rfcl.fit(X, y)"
   ]
  },
  {
   "cell_type": "code",
   "execution_count": 51,
   "metadata": {
    "collapsed": false
   },
   "outputs": [
    {
     "data": {
      "text/html": [
       "<div>\n",
       "<table border=\"1\" class=\"dataframe\">\n",
       "  <thead>\n",
       "    <tr style=\"text-align: right;\">\n",
       "      <th></th>\n",
       "      <th>feature</th>\n",
       "      <th>importance</th>\n",
       "    </tr>\n",
       "  </thead>\n",
       "  <tbody>\n",
       "    <tr>\n",
       "      <th>6</th>\n",
       "      <td>cty_Unknown/Other</td>\n",
       "      <td>0.529093</td>\n",
       "    </tr>\n",
       "    <tr>\n",
       "      <th>5</th>\n",
       "      <td>age</td>\n",
       "      <td>0.280267</td>\n",
       "    </tr>\n",
       "    <tr>\n",
       "      <th>4</th>\n",
       "      <td>deg_Secondary</td>\n",
       "      <td>0.017142</td>\n",
       "    </tr>\n",
       "    <tr>\n",
       "      <th>0</th>\n",
       "      <td>gd_f</td>\n",
       "      <td>0.016817</td>\n",
       "    </tr>\n",
       "    <tr>\n",
       "      <th>8</th>\n",
       "      <td>cty_Other Europe</td>\n",
       "      <td>0.013898</td>\n",
       "    </tr>\n",
       "    <tr>\n",
       "      <th>3</th>\n",
       "      <td>deg_Master's</td>\n",
       "      <td>0.012089</td>\n",
       "    </tr>\n",
       "    <tr>\n",
       "      <th>23</th>\n",
       "      <td>cty_Germany</td>\n",
       "      <td>0.007859</td>\n",
       "    </tr>\n",
       "    <tr>\n",
       "      <th>10</th>\n",
       "      <td>cty_United Kingdom</td>\n",
       "      <td>0.007578</td>\n",
       "    </tr>\n",
       "    <tr>\n",
       "      <th>7</th>\n",
       "      <td>cty_India</td>\n",
       "      <td>0.006909</td>\n",
       "    </tr>\n",
       "    <tr>\n",
       "      <th>29</th>\n",
       "      <td>cty_Other East Asia</td>\n",
       "      <td>0.006052</td>\n",
       "    </tr>\n",
       "    <tr>\n",
       "      <th>11</th>\n",
       "      <td>cty_Canada</td>\n",
       "      <td>0.006015</td>\n",
       "    </tr>\n",
       "    <tr>\n",
       "      <th>12</th>\n",
       "      <td>cty_Brazil</td>\n",
       "      <td>0.005916</td>\n",
       "    </tr>\n",
       "    <tr>\n",
       "      <th>13</th>\n",
       "      <td>cty_Other Middle East/Central Asia</td>\n",
       "      <td>0.005336</td>\n",
       "    </tr>\n",
       "    <tr>\n",
       "      <th>37</th>\n",
       "      <td>cty_Japan</td>\n",
       "      <td>0.005329</td>\n",
       "    </tr>\n",
       "    <tr>\n",
       "      <th>14</th>\n",
       "      <td>cty_Other South Asia</td>\n",
       "      <td>0.005153</td>\n",
       "    </tr>\n",
       "    <tr>\n",
       "      <th>9</th>\n",
       "      <td>cty_Other Africa</td>\n",
       "      <td>0.004735</td>\n",
       "    </tr>\n",
       "    <tr>\n",
       "      <th>18</th>\n",
       "      <td>cty_Australia</td>\n",
       "      <td>0.004384</td>\n",
       "    </tr>\n",
       "    <tr>\n",
       "      <th>19</th>\n",
       "      <td>cty_Spain</td>\n",
       "      <td>0.004279</td>\n",
       "    </tr>\n",
       "    <tr>\n",
       "      <th>20</th>\n",
       "      <td>cty_Other South America</td>\n",
       "      <td>0.004213</td>\n",
       "    </tr>\n",
       "    <tr>\n",
       "      <th>31</th>\n",
       "      <td>cty_Greece</td>\n",
       "      <td>0.004102</td>\n",
       "    </tr>\n",
       "    <tr>\n",
       "      <th>16</th>\n",
       "      <td>cty_Pakistan</td>\n",
       "      <td>0.003992</td>\n",
       "    </tr>\n",
       "    <tr>\n",
       "      <th>33</th>\n",
       "      <td>cty_China</td>\n",
       "      <td>0.003939</td>\n",
       "    </tr>\n",
       "    <tr>\n",
       "      <th>1</th>\n",
       "      <td>deg_Doctorate</td>\n",
       "      <td>0.003850</td>\n",
       "    </tr>\n",
       "    <tr>\n",
       "      <th>32</th>\n",
       "      <td>cty_Colombia</td>\n",
       "      <td>0.003611</td>\n",
       "    </tr>\n",
       "    <tr>\n",
       "      <th>15</th>\n",
       "      <td>cty_Russian Federation</td>\n",
       "      <td>0.003526</td>\n",
       "    </tr>\n",
       "    <tr>\n",
       "      <th>21</th>\n",
       "      <td>cty_Philippines</td>\n",
       "      <td>0.003522</td>\n",
       "    </tr>\n",
       "    <tr>\n",
       "      <th>26</th>\n",
       "      <td>cty_France</td>\n",
       "      <td>0.003410</td>\n",
       "    </tr>\n",
       "    <tr>\n",
       "      <th>25</th>\n",
       "      <td>cty_Other North &amp; Central Amer., Caribbean</td>\n",
       "      <td>0.003369</td>\n",
       "    </tr>\n",
       "    <tr>\n",
       "      <th>30</th>\n",
       "      <td>cty_Poland</td>\n",
       "      <td>0.003351</td>\n",
       "    </tr>\n",
       "    <tr>\n",
       "      <th>27</th>\n",
       "      <td>cty_Mexico</td>\n",
       "      <td>0.002950</td>\n",
       "    </tr>\n",
       "    <tr>\n",
       "      <th>24</th>\n",
       "      <td>cty_Ukraine</td>\n",
       "      <td>0.002826</td>\n",
       "    </tr>\n",
       "    <tr>\n",
       "      <th>17</th>\n",
       "      <td>cty_Nigeria</td>\n",
       "      <td>0.002707</td>\n",
       "    </tr>\n",
       "    <tr>\n",
       "      <th>34</th>\n",
       "      <td>cty_Indonesia</td>\n",
       "      <td>0.002384</td>\n",
       "    </tr>\n",
       "    <tr>\n",
       "      <th>2</th>\n",
       "      <td>deg_Less than Secondary</td>\n",
       "      <td>0.002280</td>\n",
       "    </tr>\n",
       "    <tr>\n",
       "      <th>35</th>\n",
       "      <td>cty_Bangladesh</td>\n",
       "      <td>0.002058</td>\n",
       "    </tr>\n",
       "    <tr>\n",
       "      <th>22</th>\n",
       "      <td>cty_Egypt</td>\n",
       "      <td>0.001925</td>\n",
       "    </tr>\n",
       "    <tr>\n",
       "      <th>28</th>\n",
       "      <td>cty_Morocco</td>\n",
       "      <td>0.001356</td>\n",
       "    </tr>\n",
       "    <tr>\n",
       "      <th>36</th>\n",
       "      <td>cty_Portugal</td>\n",
       "      <td>0.001327</td>\n",
       "    </tr>\n",
       "    <tr>\n",
       "      <th>38</th>\n",
       "      <td>cty_Other Oceania</td>\n",
       "      <td>0.000451</td>\n",
       "    </tr>\n",
       "  </tbody>\n",
       "</table>\n",
       "</div>"
      ],
      "text/plain": [
       "                                       feature  importance\n",
       "6                            cty_Unknown/Other    0.529093\n",
       "5                                          age    0.280267\n",
       "4                                deg_Secondary    0.017142\n",
       "0                                         gd_f    0.016817\n",
       "8                             cty_Other Europe    0.013898\n",
       "3                                 deg_Master's    0.012089\n",
       "23                                 cty_Germany    0.007859\n",
       "10                          cty_United Kingdom    0.007578\n",
       "7                                    cty_India    0.006909\n",
       "29                         cty_Other East Asia    0.006052\n",
       "11                                  cty_Canada    0.006015\n",
       "12                                  cty_Brazil    0.005916\n",
       "13          cty_Other Middle East/Central Asia    0.005336\n",
       "37                                   cty_Japan    0.005329\n",
       "14                        cty_Other South Asia    0.005153\n",
       "9                             cty_Other Africa    0.004735\n",
       "18                               cty_Australia    0.004384\n",
       "19                                   cty_Spain    0.004279\n",
       "20                     cty_Other South America    0.004213\n",
       "31                                  cty_Greece    0.004102\n",
       "16                                cty_Pakistan    0.003992\n",
       "33                                   cty_China    0.003939\n",
       "1                                deg_Doctorate    0.003850\n",
       "32                                cty_Colombia    0.003611\n",
       "15                      cty_Russian Federation    0.003526\n",
       "21                             cty_Philippines    0.003522\n",
       "26                                  cty_France    0.003410\n",
       "25  cty_Other North & Central Amer., Caribbean    0.003369\n",
       "30                                  cty_Poland    0.003351\n",
       "27                                  cty_Mexico    0.002950\n",
       "24                                 cty_Ukraine    0.002826\n",
       "17                                 cty_Nigeria    0.002707\n",
       "34                               cty_Indonesia    0.002384\n",
       "2                      deg_Less than Secondary    0.002280\n",
       "35                              cty_Bangladesh    0.002058\n",
       "22                                   cty_Egypt    0.001925\n",
       "28                                 cty_Morocco    0.001356\n",
       "36                                cty_Portugal    0.001327\n",
       "38                           cty_Other Oceania    0.000451"
      ]
     },
     "execution_count": 51,
     "metadata": {},
     "output_type": "execute_result"
    }
   ],
   "source": [
    "# compute feature importances\n",
    "pd.DataFrame({'feature':feature_cols1, 'importance':rfcl.feature_importances_}).sort_values('importance', ascending = False)"
   ]
  },
  {
   "cell_type": "code",
   "execution_count": 52,
   "metadata": {
    "collapsed": false
   },
   "outputs": [
    {
     "data": {
      "text/plain": [
       "0.57742081763638897"
      ]
     },
     "execution_count": 52,
     "metadata": {},
     "output_type": "execute_result"
    }
   ],
   "source": [
    "# compute the out-of-bag R-squared score\n",
    "rfcl.oob_score_"
   ]
  }
 ],
 "metadata": {
  "kernelspec": {
   "display_name": "Python 2",
   "language": "python",
   "name": "python2"
  },
  "language_info": {
   "codemirror_mode": {
    "name": "ipython",
    "version": 2
   },
   "file_extension": ".py",
   "mimetype": "text/x-python",
   "name": "python",
   "nbconvert_exporter": "python",
   "pygments_lexer": "ipython2",
   "version": "2.7.10"
  }
 },
 "nbformat": 4,
 "nbformat_minor": 0
}
