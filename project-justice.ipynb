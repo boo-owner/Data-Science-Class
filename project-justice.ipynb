{
 "cells": [
  {
   "cell_type": "code",
   "execution_count": 1,
   "metadata": {
    "collapsed": false
   },
   "outputs": [
    {
     "name": "stderr",
     "output_type": "stream",
     "text": [
      "/Users/TeddyandAlex/anaconda/lib/python2.7/site-packages/matplotlib/__init__.py:872: UserWarning: axes.color_cycle is deprecated and replaced with axes.prop_cycle; please use the latter.\n",
      "  warnings.warn(self.msg_depr % (key, alt_key))\n"
     ]
    },
    {
     "data": {
      "text/html": [
       "<div>\n",
       "<table border=\"1\" class=\"dataframe\">\n",
       "  <thead>\n",
       "    <tr style=\"text-align: right;\">\n",
       "      <th></th>\n",
       "      <th>course_id</th>\n",
       "      <th>userid_di</th>\n",
       "      <th>registered</th>\n",
       "      <th>viewed</th>\n",
       "      <th>explored</th>\n",
       "      <th>certified</th>\n",
       "      <th>final_cc_cname_di</th>\n",
       "      <th>loe_di</th>\n",
       "      <th>yob</th>\n",
       "      <th>gender</th>\n",
       "      <th>grade</th>\n",
       "      <th>start_time_di</th>\n",
       "      <th>last_event_di</th>\n",
       "      <th>nevents</th>\n",
       "      <th>ndays_act</th>\n",
       "      <th>nplay_video</th>\n",
       "      <th>nchapters</th>\n",
       "      <th>nforum_posts</th>\n",
       "      <th>roles</th>\n",
       "      <th>incomplete_flag</th>\n",
       "    </tr>\n",
       "  </thead>\n",
       "  <tbody>\n",
       "    <tr>\n",
       "      <th>0</th>\n",
       "      <td>HarvardX/CB22x/2013_Spring</td>\n",
       "      <td>MHxPC130442623</td>\n",
       "      <td>1</td>\n",
       "      <td>0</td>\n",
       "      <td>0</td>\n",
       "      <td>0</td>\n",
       "      <td>United States</td>\n",
       "      <td>NaN</td>\n",
       "      <td>NaN</td>\n",
       "      <td>NaN</td>\n",
       "      <td>0</td>\n",
       "      <td>2012-12-19</td>\n",
       "      <td>2013-11-17</td>\n",
       "      <td>NaN</td>\n",
       "      <td>9</td>\n",
       "      <td>NaN</td>\n",
       "      <td>NaN</td>\n",
       "      <td>0</td>\n",
       "      <td>NaN</td>\n",
       "      <td>1</td>\n",
       "    </tr>\n",
       "    <tr>\n",
       "      <th>1</th>\n",
       "      <td>HarvardX/CS50x/2012</td>\n",
       "      <td>MHxPC130442623</td>\n",
       "      <td>1</td>\n",
       "      <td>1</td>\n",
       "      <td>0</td>\n",
       "      <td>0</td>\n",
       "      <td>United States</td>\n",
       "      <td>NaN</td>\n",
       "      <td>NaN</td>\n",
       "      <td>NaN</td>\n",
       "      <td>0</td>\n",
       "      <td>2012-10-15</td>\n",
       "      <td>NaN</td>\n",
       "      <td>NaN</td>\n",
       "      <td>9</td>\n",
       "      <td>NaN</td>\n",
       "      <td>1</td>\n",
       "      <td>0</td>\n",
       "      <td>NaN</td>\n",
       "      <td>1</td>\n",
       "    </tr>\n",
       "    <tr>\n",
       "      <th>2</th>\n",
       "      <td>HarvardX/CB22x/2013_Spring</td>\n",
       "      <td>MHxPC130275857</td>\n",
       "      <td>1</td>\n",
       "      <td>0</td>\n",
       "      <td>0</td>\n",
       "      <td>0</td>\n",
       "      <td>United States</td>\n",
       "      <td>NaN</td>\n",
       "      <td>NaN</td>\n",
       "      <td>NaN</td>\n",
       "      <td>0</td>\n",
       "      <td>2013-02-08</td>\n",
       "      <td>2013-11-17</td>\n",
       "      <td>NaN</td>\n",
       "      <td>16</td>\n",
       "      <td>NaN</td>\n",
       "      <td>NaN</td>\n",
       "      <td>0</td>\n",
       "      <td>NaN</td>\n",
       "      <td>1</td>\n",
       "    </tr>\n",
       "    <tr>\n",
       "      <th>3</th>\n",
       "      <td>HarvardX/CS50x/2012</td>\n",
       "      <td>MHxPC130275857</td>\n",
       "      <td>1</td>\n",
       "      <td>0</td>\n",
       "      <td>0</td>\n",
       "      <td>0</td>\n",
       "      <td>United States</td>\n",
       "      <td>NaN</td>\n",
       "      <td>NaN</td>\n",
       "      <td>NaN</td>\n",
       "      <td>0</td>\n",
       "      <td>2012-09-17</td>\n",
       "      <td>NaN</td>\n",
       "      <td>NaN</td>\n",
       "      <td>16</td>\n",
       "      <td>NaN</td>\n",
       "      <td>NaN</td>\n",
       "      <td>0</td>\n",
       "      <td>NaN</td>\n",
       "      <td>1</td>\n",
       "    </tr>\n",
       "    <tr>\n",
       "      <th>4</th>\n",
       "      <td>HarvardX/ER22x/2013_Spring</td>\n",
       "      <td>MHxPC130275857</td>\n",
       "      <td>1</td>\n",
       "      <td>0</td>\n",
       "      <td>0</td>\n",
       "      <td>0</td>\n",
       "      <td>United States</td>\n",
       "      <td>NaN</td>\n",
       "      <td>NaN</td>\n",
       "      <td>NaN</td>\n",
       "      <td>0</td>\n",
       "      <td>2012-12-19</td>\n",
       "      <td>NaN</td>\n",
       "      <td>NaN</td>\n",
       "      <td>16</td>\n",
       "      <td>NaN</td>\n",
       "      <td>NaN</td>\n",
       "      <td>0</td>\n",
       "      <td>NaN</td>\n",
       "      <td>1</td>\n",
       "    </tr>\n",
       "  </tbody>\n",
       "</table>\n",
       "</div>"
      ],
      "text/plain": [
       "                    course_id       userid_di  registered  viewed  explored  \\\n",
       "0  HarvardX/CB22x/2013_Spring  MHxPC130442623           1       0         0   \n",
       "1         HarvardX/CS50x/2012  MHxPC130442623           1       1         0   \n",
       "2  HarvardX/CB22x/2013_Spring  MHxPC130275857           1       0         0   \n",
       "3         HarvardX/CS50x/2012  MHxPC130275857           1       0         0   \n",
       "4  HarvardX/ER22x/2013_Spring  MHxPC130275857           1       0         0   \n",
       "\n",
       "   certified final_cc_cname_di loe_di  yob gender grade start_time_di  \\\n",
       "0          0     United States    NaN  NaN    NaN     0    2012-12-19   \n",
       "1          0     United States    NaN  NaN    NaN     0    2012-10-15   \n",
       "2          0     United States    NaN  NaN    NaN     0    2013-02-08   \n",
       "3          0     United States    NaN  NaN    NaN     0    2012-09-17   \n",
       "4          0     United States    NaN  NaN    NaN     0    2012-12-19   \n",
       "\n",
       "  last_event_di  nevents  ndays_act  nplay_video  nchapters  nforum_posts  \\\n",
       "0    2013-11-17      NaN          9          NaN        NaN             0   \n",
       "1           NaN      NaN          9          NaN          1             0   \n",
       "2    2013-11-17      NaN         16          NaN        NaN             0   \n",
       "3           NaN      NaN         16          NaN        NaN             0   \n",
       "4           NaN      NaN         16          NaN        NaN             0   \n",
       "\n",
       "   roles  incomplete_flag  \n",
       "0    NaN                1  \n",
       "1    NaN                1  \n",
       "2    NaN                1  \n",
       "3    NaN                1  \n",
       "4    NaN                1  "
      ]
     },
     "execution_count": 1,
     "metadata": {},
     "output_type": "execute_result"
    }
   ],
   "source": [
    "import numpy as np\n",
    "import pandas as pd\n",
    "import matplotlib.pyplot as plt\n",
    "from mpl_toolkits.mplot3d import Axes3D\n",
    "import seaborn as sns\n",
    "from pandas import DataFrame\n",
    "\n",
    "path = '/users/teddyandalex/documents/data_science/'\n",
    "mooc_cols = ['course_id', 'userid_di', 'registered', 'viewed', 'explored', 'certified', 'final_cc_cname_di', 'loe_di', 'yob', 'gender', 'grade', 'start_time_di', \n",
    "'last_event_di', 'nevents', 'ndays_act', 'nplay_video', 'nchapters', 'nforum_posts', 'roles', 'incomplete_flag']\n",
    "mooc = path + 'HMXPC13_DI_v2_5-14-14.csv'\n",
    "mooc_data = pd.read_csv(mooc, header=0, names=mooc_cols, na_values='NAN')\n",
    "mooc_data.head()"
   ]
  },
  {
   "cell_type": "code",
   "execution_count": 2,
   "metadata": {
    "collapsed": false
   },
   "outputs": [
    {
     "name": "stderr",
     "output_type": "stream",
     "text": [
      "/Users/TeddyandAlex/anaconda/lib/python2.7/site-packages/IPython/kernel/__main__.py:4: FutureWarning: convert_objects is deprecated.  Use the data-type specific converters pd.to_datetime, pd.to_timedelta and pd.to_numeric.\n"
     ]
    }
   ],
   "source": [
    "# create age variable\n",
    "\n",
    "mooc_data['yob'].dtype\n",
    "mooc_data['new_yob']=mooc_data.yob.convert_objects(convert_numeric=True)\n",
    "\n",
    "mooc_data['age'] = 2013 - mooc_data['new_yob']"
   ]
  },
  {
   "cell_type": "code",
   "execution_count": 3,
   "metadata": {
    "collapsed": false
   },
   "outputs": [
    {
     "name": "stdout",
     "output_type": "stream",
     "text": [
      "0    240868\n",
      "1    359894\n",
      "2     22689\n",
      "3     17687\n",
      "Name: outcome, dtype: int64\n"
     ]
    }
   ],
   "source": [
    "mooc_data['outcome']=''\n",
    "\n",
    "mooc_data.loc[(mooc_data['viewed'] == 1) & (mooc_data['explored'] == 0) & (mooc_data['certified'] == 0),'outcome']=1\n",
    "mooc_data.loc[(mooc_data['viewed'] == 1) & (mooc_data['explored'] == 1) & (mooc_data['certified'] == 0),'outcome']=2\n",
    "mooc_data.loc[(mooc_data['viewed'] == 0) & (mooc_data['explored'] == 1) & (mooc_data['certified'] == 0),'outcome']=2\n",
    "mooc_data.loc[(mooc_data['viewed'] == 1) & (mooc_data['explored'] == 1) & (mooc_data['certified'] == 1),'outcome']=3\n",
    "mooc_data.loc[(mooc_data['viewed'] == 1) & (mooc_data['explored'] == 0) & (mooc_data['certified'] == 1),'outcome']=3\n",
    "mooc_data.loc[(mooc_data['viewed'] == 0) & (mooc_data['explored'] == 0) & (mooc_data['certified'] == 0),'outcome']=0\n",
    "\n",
    "counts = mooc_data['outcome'].value_counts(sort = False)  \n",
    "print counts"
   ]
  },
  {
   "cell_type": "code",
   "execution_count": 4,
   "metadata": {
    "collapsed": false
   },
   "outputs": [
    {
     "data": {
      "text/html": [
       "<div>\n",
       "<table border=\"1\" class=\"dataframe\">\n",
       "  <thead>\n",
       "    <tr style=\"text-align: right;\">\n",
       "      <th></th>\n",
       "      <th>registered</th>\n",
       "      <th>viewed</th>\n",
       "      <th>explored</th>\n",
       "      <th>certified</th>\n",
       "      <th>yob</th>\n",
       "      <th>nevents</th>\n",
       "      <th>ndays_act</th>\n",
       "      <th>nplay_video</th>\n",
       "      <th>nchapters</th>\n",
       "      <th>nforum_posts</th>\n",
       "      <th>roles</th>\n",
       "      <th>incomplete_flag</th>\n",
       "      <th>new_yob</th>\n",
       "      <th>age</th>\n",
       "    </tr>\n",
       "  </thead>\n",
       "  <tbody>\n",
       "    <tr>\n",
       "      <th>count</th>\n",
       "      <td>57406</td>\n",
       "      <td>57406.000000</td>\n",
       "      <td>57406.000000</td>\n",
       "      <td>57406.000000</td>\n",
       "      <td>50020.000000</td>\n",
       "      <td>42332.000000</td>\n",
       "      <td>44848.000000</td>\n",
       "      <td>0</td>\n",
       "      <td>32108.000000</td>\n",
       "      <td>57406.000000</td>\n",
       "      <td>0</td>\n",
       "      <td>2685</td>\n",
       "      <td>50020.000000</td>\n",
       "      <td>50020.000000</td>\n",
       "    </tr>\n",
       "    <tr>\n",
       "      <th>mean</th>\n",
       "      <td>1</td>\n",
       "      <td>0.560238</td>\n",
       "      <td>0.061527</td>\n",
       "      <td>0.040867</td>\n",
       "      <td>1983.372871</td>\n",
       "      <td>171.887626</td>\n",
       "      <td>4.789355</td>\n",
       "      <td>NaN</td>\n",
       "      <td>6.480970</td>\n",
       "      <td>0.048862</td>\n",
       "      <td>NaN</td>\n",
       "      <td>1</td>\n",
       "      <td>1983.372871</td>\n",
       "      <td>29.627129</td>\n",
       "    </tr>\n",
       "    <tr>\n",
       "      <th>std</th>\n",
       "      <td>0</td>\n",
       "      <td>0.496362</td>\n",
       "      <td>0.240296</td>\n",
       "      <td>0.197983</td>\n",
       "      <td>11.053471</td>\n",
       "      <td>401.490641</td>\n",
       "      <td>8.343541</td>\n",
       "      <td>NaN</td>\n",
       "      <td>8.420597</td>\n",
       "      <td>0.320698</td>\n",
       "      <td>NaN</td>\n",
       "      <td>0</td>\n",
       "      <td>11.053471</td>\n",
       "      <td>11.053471</td>\n",
       "    </tr>\n",
       "    <tr>\n",
       "      <th>min</th>\n",
       "      <td>1</td>\n",
       "      <td>0.000000</td>\n",
       "      <td>0.000000</td>\n",
       "      <td>0.000000</td>\n",
       "      <td>1931.000000</td>\n",
       "      <td>1.000000</td>\n",
       "      <td>1.000000</td>\n",
       "      <td>NaN</td>\n",
       "      <td>1.000000</td>\n",
       "      <td>0.000000</td>\n",
       "      <td>NaN</td>\n",
       "      <td>1</td>\n",
       "      <td>1931.000000</td>\n",
       "      <td>0.000000</td>\n",
       "    </tr>\n",
       "    <tr>\n",
       "      <th>25%</th>\n",
       "      <td>1</td>\n",
       "      <td>0.000000</td>\n",
       "      <td>0.000000</td>\n",
       "      <td>0.000000</td>\n",
       "      <td>1980.000000</td>\n",
       "      <td>4.000000</td>\n",
       "      <td>1.000000</td>\n",
       "      <td>NaN</td>\n",
       "      <td>2.000000</td>\n",
       "      <td>0.000000</td>\n",
       "      <td>NaN</td>\n",
       "      <td>1</td>\n",
       "      <td>1980.000000</td>\n",
       "      <td>22.000000</td>\n",
       "    </tr>\n",
       "    <tr>\n",
       "      <th>50%</th>\n",
       "      <td>1</td>\n",
       "      <td>1.000000</td>\n",
       "      <td>0.000000</td>\n",
       "      <td>0.000000</td>\n",
       "      <td>1987.000000</td>\n",
       "      <td>26.000000</td>\n",
       "      <td>2.000000</td>\n",
       "      <td>NaN</td>\n",
       "      <td>3.000000</td>\n",
       "      <td>0.000000</td>\n",
       "      <td>NaN</td>\n",
       "      <td>1</td>\n",
       "      <td>1987.000000</td>\n",
       "      <td>26.000000</td>\n",
       "    </tr>\n",
       "    <tr>\n",
       "      <th>75%</th>\n",
       "      <td>1</td>\n",
       "      <td>1.000000</td>\n",
       "      <td>0.000000</td>\n",
       "      <td>0.000000</td>\n",
       "      <td>1991.000000</td>\n",
       "      <td>128.000000</td>\n",
       "      <td>4.000000</td>\n",
       "      <td>NaN</td>\n",
       "      <td>6.000000</td>\n",
       "      <td>0.000000</td>\n",
       "      <td>NaN</td>\n",
       "      <td>1</td>\n",
       "      <td>1991.000000</td>\n",
       "      <td>33.000000</td>\n",
       "    </tr>\n",
       "    <tr>\n",
       "      <th>max</th>\n",
       "      <td>1</td>\n",
       "      <td>1.000000</td>\n",
       "      <td>1.000000</td>\n",
       "      <td>1.000000</td>\n",
       "      <td>2013.000000</td>\n",
       "      <td>5926.000000</td>\n",
       "      <td>128.000000</td>\n",
       "      <td>NaN</td>\n",
       "      <td>34.000000</td>\n",
       "      <td>7.000000</td>\n",
       "      <td>NaN</td>\n",
       "      <td>1</td>\n",
       "      <td>2013.000000</td>\n",
       "      <td>82.000000</td>\n",
       "    </tr>\n",
       "  </tbody>\n",
       "</table>\n",
       "</div>"
      ],
      "text/plain": [
       "       registered        viewed      explored     certified           yob  \\\n",
       "count       57406  57406.000000  57406.000000  57406.000000  50020.000000   \n",
       "mean            1      0.560238      0.061527      0.040867   1983.372871   \n",
       "std             0      0.496362      0.240296      0.197983     11.053471   \n",
       "min             1      0.000000      0.000000      0.000000   1931.000000   \n",
       "25%             1      0.000000      0.000000      0.000000   1980.000000   \n",
       "50%             1      1.000000      0.000000      0.000000   1987.000000   \n",
       "75%             1      1.000000      0.000000      0.000000   1991.000000   \n",
       "max             1      1.000000      1.000000      1.000000   2013.000000   \n",
       "\n",
       "            nevents     ndays_act  nplay_video     nchapters  nforum_posts  \\\n",
       "count  42332.000000  44848.000000            0  32108.000000  57406.000000   \n",
       "mean     171.887626      4.789355          NaN      6.480970      0.048862   \n",
       "std      401.490641      8.343541          NaN      8.420597      0.320698   \n",
       "min        1.000000      1.000000          NaN      1.000000      0.000000   \n",
       "25%        4.000000      1.000000          NaN      2.000000      0.000000   \n",
       "50%       26.000000      2.000000          NaN      3.000000      0.000000   \n",
       "75%      128.000000      4.000000          NaN      6.000000      0.000000   \n",
       "max     5926.000000    128.000000          NaN     34.000000      7.000000   \n",
       "\n",
       "       roles  incomplete_flag       new_yob           age  \n",
       "count      0             2685  50020.000000  50020.000000  \n",
       "mean     NaN                1   1983.372871     29.627129  \n",
       "std      NaN                0     11.053471     11.053471  \n",
       "min      NaN                1   1931.000000      0.000000  \n",
       "25%      NaN                1   1980.000000     22.000000  \n",
       "50%      NaN                1   1987.000000     26.000000  \n",
       "75%      NaN                1   1991.000000     33.000000  \n",
       "max      NaN                1   2013.000000     82.000000  "
      ]
     },
     "execution_count": 4,
     "metadata": {},
     "output_type": "execute_result"
    }
   ],
   "source": [
    "# look at courses - JUSTICE\n",
    "mooc_data.course_id.value_counts()   \n",
    "justice = mooc_data.loc[mooc_data.course_id == \"HarvardX/ER22x/2013_Spring\"]\n",
    "\n",
    "# Look at class interaction variables\n",
    " #'start_time_di', 'last_event_di', 'nevents', 'ndays_act', 'nplay_video', 'nchapters', 'nforum_posts', 'roles', 'time_elapse',  \n",
    "\n",
    "justice.describe()\n",
    "\n",
    "\n"
   ]
  },
  {
   "cell_type": "code",
   "execution_count": 5,
   "metadata": {
    "collapsed": false
   },
   "outputs": [
    {
     "name": "stdout",
     "output_type": "stream",
     "text": [
      "False    57406\n",
      "Name: nevents, dtype: int64\n",
      "False    57406\n",
      "Name: ndays_act, dtype: int64\n",
      "False    57406\n",
      "Name: nchapters, dtype: int64\n",
      "False    57406\n",
      "Name: nforum_posts, dtype: int64\n"
     ]
    },
    {
     "name": "stderr",
     "output_type": "stream",
     "text": [
      "/Users/TeddyandAlex/anaconda/lib/python2.7/site-packages/pandas/core/generic.py:2862: SettingWithCopyWarning: \n",
      "A value is trying to be set on a copy of a slice from a DataFrame\n",
      "\n",
      "See the caveats in the documentation: http://pandas.pydata.org/pandas-docs/stable/indexing.html#indexing-view-versus-copy\n",
      "  self._update_inplace(new_data)\n"
     ]
    }
   ],
   "source": [
    "#run model on Justice course dataset\n",
    "from pandas import DataFrame\n",
    "\n",
    "from sklearn.cluster import KMeans\n",
    "#preprocessing\n",
    "#replace NaNs to 0s\n",
    "\n",
    "list = ['nevents', 'ndays_act', 'nchapters', 'nforum_posts']\n",
    "for what in range(0,len(list)):\n",
    "    justice[list[what]].fillna(0, inplace = True)\n",
    "for what in range(0,len(list)):\n",
    "    print pd.isnull(justice[list[what]]).value_counts()\n"
   ]
  },
  {
   "cell_type": "code",
   "execution_count": 6,
   "metadata": {
    "collapsed": false
   },
   "outputs": [
    {
     "name": "stdout",
     "output_type": "stream",
     "text": [
      "count    5.740600e+04\n",
      "mean     1.856490e-16\n",
      "std      1.000009e+00\n",
      "min     -3.591058e-01\n",
      "25%     -3.591058e-01\n",
      "50%     -3.364408e-01\n",
      "75%     -1.522874e-01\n",
      "max      1.643001e+01\n",
      "Name: znevents, dtype: float64\n",
      "count    5.740600e+04\n",
      "mean     1.239116e-14\n",
      "std      1.000009e+00\n",
      "min     -4.900162e-01\n",
      "25%     -3.590535e-01\n",
      "50%     -3.590535e-01\n",
      "75%     -9.712811e-02\n",
      "max      1.627321e+01\n",
      "Name: zndays_act, dtype: float64\n",
      "count    5.740600e+04\n",
      "mean    -1.561590e-15\n",
      "std      1.000009e+00\n",
      "min     -5.125833e-01\n",
      "25%     -5.125833e-01\n",
      "50%     -3.711771e-01\n",
      "75%     -8.836470e-02\n",
      "max      4.295227e+00\n",
      "Name: znchapters, dtype: float64\n",
      "count    5.740600e+04\n",
      "mean    -1.091273e-14\n",
      "std      1.000009e+00\n",
      "min     -1.523643e-01\n",
      "25%     -1.523643e-01\n",
      "50%     -1.523643e-01\n",
      "75%     -1.523643e-01\n",
      "max      2.167522e+01\n",
      "Name: znforum_posts, dtype: float64\n"
     ]
    },
    {
     "name": "stderr",
     "output_type": "stream",
     "text": [
      "/Users/TeddyandAlex/anaconda/lib/python2.7/site-packages/IPython/kernel/__main__.py:2: SettingWithCopyWarning: \n",
      "A value is trying to be set on a copy of a slice from a DataFrame.\n",
      "Try using .loc[row_indexer,col_indexer] = value instead\n",
      "\n",
      "See the caveats in the documentation: http://pandas.pydata.org/pandas-docs/stable/indexing.html#indexing-view-versus-copy\n",
      "  from IPython.kernel.zmq import kernelapp as app\n",
      "/Users/TeddyandAlex/anaconda/lib/python2.7/site-packages/IPython/kernel/__main__.py:8: SettingWithCopyWarning: \n",
      "A value is trying to be set on a copy of a slice from a DataFrame.\n",
      "Try using .loc[row_indexer,col_indexer] = value instead\n",
      "\n",
      "See the caveats in the documentation: http://pandas.pydata.org/pandas-docs/stable/indexing.html#indexing-view-versus-copy\n"
     ]
    }
   ],
   "source": [
    "#converting variables into z-scores\n",
    "justice['nfor_posts']=pd.Series.astype(justice['nforum_posts'],'float64')\n",
    "list = ['nevents', 'ndays_act', 'nchapters', 'nfor_posts']\n",
    "from sklearn import preprocessing\n",
    "listz = ['znevents', 'zndays_act', 'znchapters', 'znforum_posts']\n",
    "\n",
    "for what in range(0,len(listz)):\n",
    "    justice[listz[what]] = preprocessing.scale(justice[list[what]])\n",
    "    \n",
    "for X in range(0, len(listz)):\n",
    "    print justice[listz[X]].describe()"
   ]
  },
  {
   "cell_type": "code",
   "execution_count": 19,
   "metadata": {
    "collapsed": false
   },
   "outputs": [
    {
     "name": "stdout",
     "output_type": "stream",
     "text": [
      "(2, 4)\n",
      "[[-0.2147447  -0.19421639 -0.22086969 -0.04183416]\n",
      " [ 3.15070276  2.84951452  3.24056772  0.6137847 ]]\n",
      "(57406,)\n"
     ]
    },
    {
     "name": "stderr",
     "output_type": "stream",
     "text": [
      "/Users/TeddyandAlex/anaconda/lib/python2.7/site-packages/IPython/kernel/__main__.py:12: SettingWithCopyWarning: \n",
      "A value is trying to be set on a copy of a slice from a DataFrame.\n",
      "Try using .loc[row_indexer,col_indexer] = value instead\n",
      "\n",
      "See the caveats in the documentation: http://pandas.pydata.org/pandas-docs/stable/indexing.html#indexing-view-versus-copy\n"
     ]
    }
   ],
   "source": [
    "#Run kmeans model\n",
    "from scipy.spatial import distance\n",
    "from sklearn.cluster import KMeans\n",
    "feature_cols = listz\n",
    "X = justice[feature_cols]\n",
    "k_means = KMeans(n_clusters=2)\n",
    "k_means.fit(X)\n",
    "labels = k_means.labels_\n",
    "centroids = k_means.cluster_centers_\n",
    "iner = k_means.inertia_\n",
    "pd.value_counts(labels)\n",
    "justice['Cluster Class_KM'] = pd.Series(labels, index=justice.index)\n",
    "print centroids.shape\n",
    "print centroids\n",
    "print labels.shape\n",
    "\n",
    "#tss = sum(distance.pdist(X)**2)/X.shape[0]\n"
   ]
  },
  {
   "cell_type": "code",
   "execution_count": 50,
   "metadata": {
    "collapsed": false
   },
   "outputs": [
    {
     "name": "stdout",
     "output_type": "stream",
     "text": [
      "0    25245\n",
      "1    28175\n",
      "2     1640\n",
      "3     2346\n",
      "Name: outcome, dtype: int64\n"
     ]
    },
    {
     "data": {
      "text/plain": [
       "0    53743\n",
       "1     3663\n",
       "Name: Cluster Class_KM, dtype: int64"
      ]
     },
     "execution_count": 50,
     "metadata": {},
     "output_type": "execute_result"
    }
   ],
   "source": [
    "#Set variables for plot\n",
    "#print tss\n",
    "rkm = justice['Cluster Class_KM']\n",
    "x=justice['znevents']\n",
    "y=justice['zndays_act']\n",
    "z=justice['znchapters']\n",
    "list = [x,y,z]\n",
    "print justice['outcome'].value_counts(sort = False)\n",
    "justice['Cluster Class_KM'].value_counts()"
   ]
  },
  {
   "cell_type": "code",
   "execution_count": 21,
   "metadata": {
    "collapsed": false
   },
   "outputs": [
    {
     "name": "stdout",
     "output_type": "stream",
     "text": [
      "<mpl_toolkits.mplot3d.art3d.Path3DCollection object at 0x10d792cd0>\n"
     ]
    },
    {
     "data": {
      "image/png": "[encoded data removed]",
      "text/plain": [
       "<matplotlib.figure.Figure at 0x10fb0c490>"
      ]
     },
     "metadata": {},
     "output_type": "display_data"
    }
   ],
   "source": [
    "#plot justice Kmeans results \n",
    "\n",
    "%matplotlib inline\n",
    "import matplotlib.pyplot as plt\n",
    "from mpl_toolkits.mplot3d import Axes3D\n",
    "fig = plt.figure()\n",
    "ax = Axes3D(fig)\n",
    "ax.set_xlabel('znevents')\n",
    "ax.set_ylabel('zndays_act')\n",
    "ax.set_zlabel('znchapters')\n",
    "print ax.scatter(x,y,z, c=rkm, cmap=plt.cm.Accent)\n"
   ]
  },
  {
   "cell_type": "code",
   "execution_count": 46,
   "metadata": {
    "collapsed": false
   },
   "outputs": [
    {
     "name": "stdout",
     "output_type": "stream",
     "text": [
      "nevents\n",
      "Cluster Class_KM       \n",
      "0                 count    53743.000000\n",
      "                  mean        50.954655\n",
      "                  std        101.721324\n",
      "                  min          0.000000\n",
      "                  25%          0.000000\n",
      "                  50%          6.000000\n",
      "                  75%         49.000000\n",
      "                  max       1022.000000\n",
      "1                 count     3663.000000\n",
      "                  mean      1238.845482\n",
      "                  std        692.647819\n",
      "                  min          0.000000\n",
      "                  25%        719.000000\n",
      "                  50%       1136.000000\n",
      "                  75%       1612.000000\n",
      "                  max       5926.000000\n",
      "dtype: float64\n",
      "Cluster Class_KM   \n",
      "0                 1    27796\n",
      "                  0    25195\n",
      "                  3      398\n",
      "                  2      354\n",
      "1                 3     1948\n",
      "                  2     1286\n",
      "                  1      379\n",
      "                  0       50\n",
      "dtype: int64\n",
      "ndays_act\n",
      "Cluster Class_KM       \n",
      "0                 count    53743.000000\n",
      "                  mean         2.258657\n",
      "                  std          3.283418\n",
      "                  min          0.000000\n",
      "                  25%          1.000000\n",
      "                  50%          1.000000\n",
      "                  75%          3.000000\n",
      "                  max         47.000000\n",
      "1                 count     3663.000000\n",
      "                  mean        25.499863\n",
      "                  std         15.809953\n",
      "                  min          1.000000\n",
      "                  25%         15.000000\n",
      "                  50%         22.000000\n",
      "                  75%         32.000000\n",
      "                  max        128.000000\n",
      "dtype: float64\n",
      "Cluster Class_KM   \n",
      "0                 1    27796\n",
      "                  0    25195\n",
      "                  3      398\n",
      "                  2      354\n",
      "1                 3     1948\n",
      "                  2     1286\n",
      "                  1      379\n",
      "                  0       50\n",
      "dtype: int64\n",
      "nchapters\n",
      "Cluster Class_KM       \n",
      "0                 count    53743.000000\n",
      "                  mean         2.062948\n",
      "                  std          3.374661\n",
      "                  min          0.000000\n",
      "                  25%          0.000000\n",
      "                  50%          1.000000\n",
      "                  75%          3.000000\n",
      "                  max         34.000000\n",
      "1                 count     3663.000000\n",
      "                  mean        26.541633\n",
      "                  std          7.464560\n",
      "                  min          0.000000\n",
      "                  25%         22.000000\n",
      "                  50%         30.000000\n",
      "                  75%         32.000000\n",
      "                  max         34.000000\n",
      "dtype: float64\n",
      "Cluster Class_KM   \n",
      "0                 1    27796\n",
      "                  0    25195\n",
      "                  3      398\n",
      "                  2      354\n",
      "1                 3     1948\n",
      "                  2     1286\n",
      "                  1      379\n",
      "                  0       50\n",
      "dtype: int64\n",
      "nforum_posts\n",
      "Cluster Class_KM       \n",
      "0                 count    53743.000000\n",
      "                  mean         0.035446\n",
      "                  std          0.252835\n",
      "                  min          0.000000\n",
      "                  25%          0.000000\n",
      "                  50%          0.000000\n",
      "                  75%          0.000000\n",
      "                  max          5.000000\n",
      "1                 count     3663.000000\n",
      "                  mean         0.245700\n",
      "                  std          0.795411\n",
      "                  min          0.000000\n",
      "                  25%          0.000000\n",
      "                  50%          0.000000\n",
      "                  75%          0.000000\n",
      "                  max          7.000000\n",
      "dtype: float64\n",
      "Cluster Class_KM   \n",
      "0                 1    27796\n",
      "                  0    25195\n",
      "                  3      398\n",
      "                  2      354\n",
      "1                 3     1948\n",
      "                  2     1286\n",
      "                  1      379\n",
      "                  0       50\n",
      "dtype: int64\n"
     ]
    }
   ],
   "source": [
    "#characterize kmeans groups\n",
    "\n",
    "#cs50.nevents.groupby('Cluster_labels').mean()\n",
    "list = ['nevents', 'ndays_act', 'nchapters', 'nforum_posts']\n",
    "for X in range(0,len(list)):\n",
    "    print list[X]\n",
    "    print justice[list[X]].groupby(justice['Cluster Class_KM']).describe()\n",
    "    print justice['outcome'].groupby(justice['Cluster Class_KM']).value_counts()"
   ]
  },
  {
   "cell_type": "code",
   "execution_count": 48,
   "metadata": {
    "collapsed": false
   },
   "outputs": [
    {
     "name": "stdout",
     "output_type": "stream",
     "text": [
      "0     25298\n",
      "1      5366\n",
      "2      8463\n",
      "3      5105\n",
      "4      2341\n",
      "5      1691\n",
      "6      1162\n",
      "7       966\n",
      "8       677\n",
      "9       530\n",
      "10      492\n",
      "11      398\n",
      "12      296\n",
      "13      257\n",
      "14      251\n",
      "15      229\n",
      "16      214\n",
      "17      146\n",
      "18      151\n",
      "19      123\n",
      "20      116\n",
      "21      107\n",
      "22      102\n",
      "23      114\n",
      "24      117\n",
      "25      157\n",
      "26      152\n",
      "27      198\n",
      "28      169\n",
      "29      158\n",
      "30      146\n",
      "31      352\n",
      "32      627\n",
      "33      480\n",
      "34      255\n",
      "Name: nchapters, dtype: int64\n"
     ]
    },
    {
     "ename": "NameError",
     "evalue": "name 'cs50' is not defined",
     "output_type": "error",
     "traceback": [
      "\u001b[0;31m---------------------------------------------------------------------------\u001b[0m",
      "\u001b[0;31mNameError\u001b[0m                                 Traceback (most recent call last)",
      "\u001b[0;32m<ipython-input-48-ff742e3bc51a>\u001b[0m in \u001b[0;36m<module>\u001b[0;34m()\u001b[0m\n\u001b[1;32m      4\u001b[0m \u001b[0mtable1\u001b[0m \u001b[0;34m=\u001b[0m \u001b[0mpd\u001b[0m\u001b[0;34m.\u001b[0m\u001b[0mSeries\u001b[0m\u001b[0;34m.\u001b[0m\u001b[0mvalue_counts\u001b[0m\u001b[0;34m(\u001b[0m\u001b[0mchapters\u001b[0m\u001b[0;34m,\u001b[0m \u001b[0msort\u001b[0m \u001b[0;34m=\u001b[0m \u001b[0mFalse\u001b[0m\u001b[0;34m)\u001b[0m\u001b[0;34m\u001b[0m\u001b[0m\n\u001b[1;32m      5\u001b[0m \u001b[0;32mprint\u001b[0m \u001b[0mtable1\u001b[0m\u001b[0;34m\u001b[0m\u001b[0m\n\u001b[0;32m----> 6\u001b[0;31m \u001b[0mcs50\u001b[0m\u001b[0;34m[\u001b[0m\u001b[0;34m'outcome'\u001b[0m\u001b[0;34m]\u001b[0m\u001b[0;34m.\u001b[0m\u001b[0mvalue_counts\u001b[0m\u001b[0;34m(\u001b[0m\u001b[0msort\u001b[0m \u001b[0;34m=\u001b[0m \u001b[0mFalse\u001b[0m\u001b[0;34m)\u001b[0m\u001b[0;34m\u001b[0m\u001b[0m\n\u001b[0m",
      "\u001b[0;31mNameError\u001b[0m: name 'cs50' is not defined"
     ]
    }
   ],
   "source": [
    "#create survival function\n",
    "%matplotlib inline \n",
    "chapters = justice['nchapters']\n",
    "table1 = pd.Series.value_counts(chapters, sort = False)\n",
    "print table1\n"
   ]
  },
  {
   "cell_type": "code",
   "execution_count": 42,
   "metadata": {
    "collapsed": false
   },
   "outputs": [
    {
     "name": "stdout",
     "output_type": "stream",
     "text": [
      "[(0, 0.44068564261575444), (1, 0.16712345832814252), (2, 0.31646847655373572), (3, 0.2792822364461951), (4, 0.17769849703962351), (5, 0.15609711068032864), (6, 0.12710566615620214), (7, 0.12105263157894737), (8, 0.096521243227830053), (9, 0.083635789805901847), (10, 0.084725331496469783), (11, 0.074882408278457199), (12, 0.06019930852145617), (13, 0.05561566760441463), (14, 0.057516040329972505), (15, 0.055677121322635546), (16, 0.055097837281153451), (17, 0.03978201634877384), (18, 0.042849035187287172), (19, 0.036466053957900979), (20, 0.03569230769230769), (21, 0.03414167198468411), (22, 0.033696729435084241), (23, 0.038974358974358976), (24, 0.041622198505869797), (25, 0.058277654046028214), (26, 0.059913283405597165), (27, 0.083018867924528297), (28, 0.0772748056698674), (29, 0.078295341922695744), (30, 0.078494623655913975), (31, 0.20536756126021002), (32, 0.46035242290748901), (33, 0.65306122448979587), (34, 1.0)]\n"
     ]
    }
   ],
   "source": [
    "sum1 = pd.Series.sum(table1)\n",
    "zero = 0\n",
    "sum = sum1\n",
    "table2 = []\n",
    "for k in range(0,35):\n",
    "    index_tot = (table1.ix[k:34].sum())\n",
    "    per_drop = table1.ix[k]/(index_tot*1.0)\n",
    "    table2.append((k,per_drop))\n",
    "print table2"
   ]
  },
  {
   "cell_type": "code",
   "execution_count": 43,
   "metadata": {
    "collapsed": false
   },
   "outputs": [
    {
     "data": {
      "text/plain": [
       "[<matplotlib.lines.Line2D at 0x10ee33dd0>]"
      ]
     },
     "execution_count": 43,
     "metadata": {},
     "output_type": "execute_result"
    },
    {
     "data": {
      "image/png": "[encoded data removed]",
      "text/plain": [
       "<matplotlib.figure.Figure at 0x10fcc1c50>"
      ]
     },
     "metadata": {},
     "output_type": "display_data"
    }
   ],
   "source": [
    "#plot survival function\n",
    "r = []\n",
    "s = []\n",
    "for i,va in table2:\n",
    "    r.append(i)\n",
    "    s.append(va)\n",
    "plt.minorticks_on()\n",
    "plt.title('Dropouts in Justice Course by chapter')\n",
    "plt.ylabel('% dropouts as proportion of students left in course')\n",
    "plt.xlim(xmax=33)\n",
    "plt.xlim(xmin=-.5)\n",
    "plt.xlabel('Chapters')\n",
    "plt.scatter(r, s, linewidths = 1)\n",
    "plt.plot(r,s,'.b',linestyle='solid')"
   ]
  },
  {
   "cell_type": "code",
   "execution_count": 47,
   "metadata": {
    "collapsed": false,
    "scrolled": true
   },
   "outputs": [
    {
     "name": "stdout",
     "output_type": "stream",
     "text": [
      "1\n"
     ]
    },
    {
     "ename": "ValueError",
     "evalue": "n_samples=1 should be >= n_clusters=2",
     "output_type": "error",
     "traceback": [
      "\u001b[0;31m---------------------------------------------------------------------------\u001b[0m",
      "\u001b[0;31mValueError\u001b[0m                                Traceback (most recent call last)",
      "\u001b[0;32m<ipython-input-47-01c00ecc61f4>\u001b[0m in \u001b[0;36m<module>\u001b[0;34m()\u001b[0m\n\u001b[1;32m     17\u001b[0m     \u001b[0;32mreturn\u001b[0m \u001b[0mkiner_tuple\u001b[0m\u001b[0;34m\u001b[0m\u001b[0m\n\u001b[1;32m     18\u001b[0m \u001b[0;34m\u001b[0m\u001b[0m\n\u001b[0;32m---> 19\u001b[0;31m \u001b[0mk_tup\u001b[0m \u001b[0;34m=\u001b[0m \u001b[0mk_var\u001b[0m\u001b[0;34m(\u001b[0m\u001b[0mX\u001b[0m\u001b[0;34m,\u001b[0m\u001b[0my\u001b[0m\u001b[0;34m,\u001b[0m\u001b[0mk_range\u001b[0m\u001b[0;34m)\u001b[0m\u001b[0;34m\u001b[0m\u001b[0m\n\u001b[0m",
      "\u001b[0;32m<ipython-input-47-01c00ecc61f4>\u001b[0m in \u001b[0;36mk_var\u001b[0;34m(xv, yv, kran)\u001b[0m\n\u001b[1;32m      8\u001b[0m     \u001b[0;32mfor\u001b[0m \u001b[0mkr\u001b[0m \u001b[0;32min\u001b[0m \u001b[0mkran\u001b[0m\u001b[0;34m:\u001b[0m\u001b[0;34m\u001b[0m\u001b[0m\n\u001b[1;32m      9\u001b[0m         \u001b[0mk_means\u001b[0m \u001b[0;34m=\u001b[0m \u001b[0mKMeans\u001b[0m\u001b[0;34m(\u001b[0m\u001b[0mn_clusters\u001b[0m \u001b[0;34m=\u001b[0m \u001b[0mkr\u001b[0m\u001b[0;34m)\u001b[0m\u001b[0;34m\u001b[0m\u001b[0m\n\u001b[0;32m---> 10\u001b[0;31m         \u001b[0mk_means\u001b[0m\u001b[0;34m.\u001b[0m\u001b[0mfit\u001b[0m\u001b[0;34m(\u001b[0m\u001b[0mxv\u001b[0m\u001b[0;34m)\u001b[0m\u001b[0;34m\u001b[0m\u001b[0m\n\u001b[0m\u001b[1;32m     11\u001b[0m         \u001b[0miner\u001b[0m \u001b[0;34m=\u001b[0m \u001b[0mk_means\u001b[0m\u001b[0;34m.\u001b[0m\u001b[0minertia_\u001b[0m\u001b[0;34m\u001b[0m\u001b[0m\n\u001b[1;32m     12\u001b[0m         \u001b[0;31m#perc = iner/tss\u001b[0m\u001b[0;34m\u001b[0m\u001b[0;34m\u001b[0m\u001b[0m\n",
      "\u001b[0;32m/Users/TeddyandAlex/anaconda/lib/python2.7/site-packages/sklearn/cluster/k_means_.pyc\u001b[0m in \u001b[0;36mfit\u001b[0;34m(self, X, y)\u001b[0m\n\u001b[1;32m    783\u001b[0m         \"\"\"\n\u001b[1;32m    784\u001b[0m         \u001b[0mrandom_state\u001b[0m \u001b[0;34m=\u001b[0m \u001b[0mcheck_random_state\u001b[0m\u001b[0;34m(\u001b[0m\u001b[0mself\u001b[0m\u001b[0;34m.\u001b[0m\u001b[0mrandom_state\u001b[0m\u001b[0;34m)\u001b[0m\u001b[0;34m\u001b[0m\u001b[0m\n\u001b[0;32m--> 785\u001b[0;31m         \u001b[0mX\u001b[0m \u001b[0;34m=\u001b[0m \u001b[0mself\u001b[0m\u001b[0;34m.\u001b[0m\u001b[0m_check_fit_data\u001b[0m\u001b[0;34m(\u001b[0m\u001b[0mX\u001b[0m\u001b[0;34m)\u001b[0m\u001b[0;34m\u001b[0m\u001b[0m\n\u001b[0m\u001b[1;32m    786\u001b[0m \u001b[0;34m\u001b[0m\u001b[0m\n\u001b[1;32m    787\u001b[0m         \u001b[0mself\u001b[0m\u001b[0;34m.\u001b[0m\u001b[0mcluster_centers_\u001b[0m\u001b[0;34m,\u001b[0m \u001b[0mself\u001b[0m\u001b[0;34m.\u001b[0m\u001b[0mlabels_\u001b[0m\u001b[0;34m,\u001b[0m \u001b[0mself\u001b[0m\u001b[0;34m.\u001b[0m\u001b[0minertia_\u001b[0m\u001b[0;34m,\u001b[0m \u001b[0mself\u001b[0m\u001b[0;34m.\u001b[0m\u001b[0mn_iter_\u001b[0m \u001b[0;34m=\u001b[0m\u001b[0;31m \u001b[0m\u001b[0;31m\\\u001b[0m\u001b[0;34m\u001b[0m\u001b[0m\n",
      "\u001b[0;32m/Users/TeddyandAlex/anaconda/lib/python2.7/site-packages/sklearn/cluster/k_means_.pyc\u001b[0m in \u001b[0;36m_check_fit_data\u001b[0;34m(self, X)\u001b[0m\n\u001b[1;32m    756\u001b[0m         \u001b[0;32mif\u001b[0m \u001b[0mX\u001b[0m\u001b[0;34m.\u001b[0m\u001b[0mshape\u001b[0m\u001b[0;34m[\u001b[0m\u001b[0;36m0\u001b[0m\u001b[0;34m]\u001b[0m \u001b[0;34m<\u001b[0m \u001b[0mself\u001b[0m\u001b[0;34m.\u001b[0m\u001b[0mn_clusters\u001b[0m\u001b[0;34m:\u001b[0m\u001b[0;34m\u001b[0m\u001b[0m\n\u001b[1;32m    757\u001b[0m             raise ValueError(\"n_samples=%d should be >= n_clusters=%d\" % (\n\u001b[0;32m--> 758\u001b[0;31m                 X.shape[0], self.n_clusters))\n\u001b[0m\u001b[1;32m    759\u001b[0m         \u001b[0;32mreturn\u001b[0m \u001b[0mX\u001b[0m\u001b[0;34m\u001b[0m\u001b[0m\n\u001b[1;32m    760\u001b[0m \u001b[0;34m\u001b[0m\u001b[0m\n",
      "\u001b[0;31mValueError\u001b[0m: n_samples=1 should be >= n_clusters=2"
     ]
    }
   ],
   "source": [
    "# determining optimal number of clusters\n",
    "from sklearn.cluster import KMeans\n",
    "k_range = range(2,10)\n",
    "\n",
    "def k_var(xv,yv,kran):\n",
    "    kiner_tuple = []\n",
    "    kiner_perc = []\n",
    "    for kr in kran:\n",
    "        k_means = KMeans(n_clusters = kr)\n",
    "        k_means.fit(xv)\n",
    "        iner = k_means.inertia_\n",
    "        #perc = iner/tss\n",
    "        kiner_tuple.append((kr,iner))\n",
    "        #kiner_perc.append(perc)\n",
    "        print kr\n",
    "        #print perc\n",
    "    return kiner_tuple\n",
    "    \n",
    "k_tup = k_var(X,y,k_range)\n"
   ]
  },
  {
   "cell_type": "code",
   "execution_count": null,
   "metadata": {
    "collapsed": false
   },
   "outputs": [],
   "source": [
    "#Plot this to find point where marginal gain in variance explains drops (elbow)\n",
    "import matplotlib.pyplot as plt\n",
    "\n",
    "r = []\n",
    "s = []\n",
    "for km, ss in k_tup:\n",
    "    r.append(km)\n",
    "    s.append(ss)\n",
    "\n",
    "plt.title('Determining optimal # of clusters')\n",
    "plt.ylabel('Total within-cluster sum of squares')\n",
    "plt.xlabel('Number of clusters')\n",
    "plt.scatter(r, s, linewidths = 1)\n",
    "plt.plot(r,s,'.g')\n",
    "plt.show()\n"
   ]
  },
  {
   "cell_type": "code",
   "execution_count": 1,
   "metadata": {
    "collapsed": false
   },
   "outputs": [
    {
     "ename": "NameError",
     "evalue": "name 'X' is not defined",
     "output_type": "error",
     "traceback": [
      "\u001b[0;31m---------------------------------------------------------------------------\u001b[0m",
      "\u001b[0;31mNameError\u001b[0m                                 Traceback (most recent call last)",
      "\u001b[0;32m<ipython-input-1-5d899f341aba>\u001b[0m in \u001b[0;36m<module>\u001b[0;34m()\u001b[0m\n\u001b[1;32m      3\u001b[0m \u001b[0;32mfrom\u001b[0m \u001b[0msklearn\u001b[0m\u001b[0;34m.\u001b[0m\u001b[0mmetrics\u001b[0m \u001b[0;32mimport\u001b[0m \u001b[0msilhouette_samples\u001b[0m\u001b[0;34m,\u001b[0m \u001b[0msilhouette_score\u001b[0m\u001b[0;34m\u001b[0m\u001b[0m\n\u001b[1;32m      4\u001b[0m \u001b[0;34m\u001b[0m\u001b[0m\n\u001b[0;32m----> 5\u001b[0;31m \u001b[0msilhouette_avg\u001b[0m \u001b[0;34m=\u001b[0m \u001b[0msilhouette_score\u001b[0m\u001b[0;34m(\u001b[0m\u001b[0mX\u001b[0m\u001b[0;34m,\u001b[0m \u001b[0mlabels\u001b[0m\u001b[0;34m)\u001b[0m\u001b[0;34m\u001b[0m\u001b[0m\n\u001b[0m",
      "\u001b[0;31mNameError\u001b[0m: name 'X' is not defined"
     ]
    }
   ],
   "source": [
    "# use silouette scores: average distance between points within cluster as compared to average distance \n",
    "#between points in cluster to points in nearest cluster\n",
    "from sklearn.metrics import silhouette_samples, silhouette_score\n",
    "    \n",
    "silhouette_avg = silhouette_score(X, labels)"
   ]
  },
  {
   "cell_type": "code",
   "execution_count": null,
   "metadata": {
    "collapsed": true
   },
   "outputs": [],
   "source": []
  },
  {
   "cell_type": "code",
   "execution_count": 53,
   "metadata": {
    "collapsed": false
   },
   "outputs": [
    {
     "name": "stdout",
     "output_type": "stream",
     "text": [
      "    new_yob  age outcome  nfor_posts  znevents  zndays_act  znchapters  \\\n",
      "4       NaN  NaN       0           0 -0.359106    1.605387   -0.512583   \n",
      "10      NaN  NaN       1           0 -0.310943   -0.228091   -0.229771   \n",
      "11      NaN  NaN       1           0 -0.268446   -0.359053   -0.088365   \n",
      "14      NaN  NaN       1           0 -0.138122    0.164797    0.053041   \n",
      "23      NaN  NaN       1           0 -0.316609   -0.228091   -0.229771   \n",
      "\n",
      "    znforum_posts  Cluster Class_KM  gd_f      ...        cty_Spain  \\\n",
      "4       -0.152364                 0     0      ...                0   \n",
      "10      -0.152364                 0     0      ...                0   \n",
      "11      -0.152364                 0     0      ...                0   \n",
      "14      -0.152364                 0     0      ...                0   \n",
      "23      -0.152364                 0     0      ...                0   \n",
      "\n",
      "    cty_Ukraine  cty_United Kingdom  cty_United States  cty_Unknown/Other  \\\n",
      "4             0                   0                  1                  0   \n",
      "10            0                   0                  1                  0   \n",
      "11            0                   0                  1                  0   \n",
      "14            0                   0                  1                  0   \n",
      "23            0                   0                  1                  0   \n",
      "\n",
      "    deg_Bachelor's  deg_Doctorate  deg_Less than Secondary  deg_Master's  \\\n",
      "4                0              0                        0             0   \n",
      "10               0              0                        0             0   \n",
      "11               0              0                        0             0   \n",
      "14               0              0                        0             0   \n",
      "23               0              0                        0             0   \n",
      "\n",
      "    deg_Secondary  \n",
      "4               0  \n",
      "10              0  \n",
      "11              0  \n",
      "14              0  \n",
      "23              0  \n",
      "\n",
      "[5 rows x 50 columns]\n"
     ]
    }
   ],
   "source": [
    "#Prediction\n",
    "#create dummies for country, female, highest degree\n",
    "attr = ['final_cc_cname_di', 'gender' ,'loe_di']\n",
    "for X in range(0,len(attr)):\n",
    "    justice[attr[X]].value_counts()\n",
    "\n",
    "justice.final_cc_cname_di.value_counts()\n",
    "dummies_gender=pd.get_dummies(justice.gender, prefix = 'gd')\n",
    "justice = pd.concat([justice, dummies_gender], axis = 1)\n",
    "\n",
    "dummies_country= pd.get_dummies(justice.final_cc_cname_di, prefix = 'cty')\n",
    "justice = pd.concat([justice, dummies_country], axis = 1)\n",
    "\n",
    "dummies_deg = pd.get_dummies(justice.loe_di, prefix = 'deg')\n",
    "justice = pd.concat([justice, dummies_deg], axis = 1)\n",
    "\n",
    "print justice.ix[:,20:].head()\n",
    "\n",
    "\n"
   ]
  },
  {
   "cell_type": "code",
   "execution_count": 54,
   "metadata": {
    "collapsed": false
   },
   "outputs": [
    {
     "name": "stdout",
     "output_type": "stream",
     "text": [
      "['cty_United States', 'cty_Unknown/Other', 'cty_Other Europe', 'cty_India', 'cty_United Kingdom', 'cty_Brazil', 'cty_Other East Asia', 'cty_Canada', 'cty_Other South Asia', 'cty_Other Middle East/Central Asia', 'cty_Other Africa', 'cty_Germany', 'cty_China', 'cty_Japan', 'cty_Spain', 'cty_Australia', 'cty_Other South America', 'cty_France', 'cty_Greece', 'cty_Russian Federation', 'cty_Pakistan', 'cty_Philippines', 'cty_Poland', 'cty_Nigeria', 'cty_Mexico', 'cty_Ukraine', 'cty_Colombia', 'cty_Other North & Central Amer., Caribbean', 'cty_Indonesia', 'cty_Egypt', 'cty_Morocco', 'cty_Bangladesh', 'cty_Portugal', 'cty_Other Oceania']\n"
     ]
    }
   ],
   "source": [
    "#create list for country dummies\n",
    "\n",
    "country = justice.final_cc_cname_di.value_counts()\n",
    "cty_list = []\n",
    "for index, values in pd.Series.iteritems(country):\n",
    "    cty1 = 'cty_' + index\n",
    "    cty_list.append(cty1)\n",
    "\n",
    "print cty_list\n"
   ]
  },
  {
   "cell_type": "code",
   "execution_count": 55,
   "metadata": {
    "collapsed": false
   },
   "outputs": [
    {
     "name": "stdout",
     "output_type": "stream",
     "text": [
      "['gd_f', 'deg_Doctorate', 'deg_Less than Secondary', \"deg_Master's\", 'deg_Secondary', \"deg_Bachelor's\", 'age', 'cty_United States', 'cty_Unknown/Other', 'cty_Other Europe', 'cty_India', 'cty_United Kingdom', 'cty_Brazil', 'cty_Other East Asia', 'cty_Canada', 'cty_Other South Asia', 'cty_Other Middle East/Central Asia', 'cty_Other Africa', 'cty_Germany', 'cty_China', 'cty_Japan', 'cty_Spain', 'cty_Australia', 'cty_Other South America', 'cty_France', 'cty_Greece', 'cty_Russian Federation', 'cty_Pakistan', 'cty_Philippines', 'cty_Poland', 'cty_Nigeria', 'cty_Mexico', 'cty_Ukraine', 'cty_Colombia', 'cty_Other North & Central Amer., Caribbean', 'cty_Indonesia', 'cty_Egypt', 'cty_Morocco', 'cty_Bangladesh', 'cty_Portugal', 'cty_Other Oceania']\n"
     ]
    }
   ],
   "source": [
    "#prepare other variables for prediction\n",
    "import copy\n",
    "list = ['gd_f', 'deg_Doctorate', 'deg_Less than Secondary', \"deg_Master's\", 'deg_Secondary', \"deg_Bachelor's\", \"age\"]\n",
    "\n",
    "for item in range(0,len(cty_list)):\n",
    "    list.append(cty_list[item])\n",
    "feature_cols = copy.copy(list)\n",
    "print feature_cols\n",
    "\n",
    "\n",
    "\n",
    "for what in range(0,len(list)):\n",
    "    justice[list[what]].fillna(0, inplace = True)\n"
   ]
  },
  {
   "cell_type": "code",
   "execution_count": 56,
   "metadata": {
    "collapsed": false
   },
   "outputs": [
    {
     "name": "stdout",
     "output_type": "stream",
     "text": [
      "gd_f                                          float64\n",
      "deg_Doctorate                                 float64\n",
      "deg_Less than Secondary                       float64\n",
      "deg_Master's                                  float64\n",
      "deg_Secondary                                 float64\n",
      "age                                           float64\n",
      "cty_Unknown/Other                             float64\n",
      "cty_Other Europe                              float64\n",
      "cty_India                                     float64\n",
      "cty_United Kingdom                            float64\n",
      "cty_Brazil                                    float64\n",
      "cty_Other East Asia                           float64\n",
      "cty_Canada                                    float64\n",
      "cty_Other South Asia                          float64\n",
      "cty_Other Middle East/Central Asia            float64\n",
      "cty_Other Africa                              float64\n",
      "cty_Germany                                   float64\n",
      "cty_China                                     float64\n",
      "cty_Japan                                     float64\n",
      "cty_Spain                                     float64\n",
      "cty_Australia                                 float64\n",
      "cty_Other South America                       float64\n",
      "cty_France                                    float64\n",
      "cty_Greece                                    float64\n",
      "cty_Russian Federation                        float64\n",
      "cty_Pakistan                                  float64\n",
      "cty_Philippines                               float64\n",
      "cty_Poland                                    float64\n",
      "cty_Nigeria                                   float64\n",
      "cty_Mexico                                    float64\n",
      "cty_Ukraine                                   float64\n",
      "cty_Colombia                                  float64\n",
      "cty_Other North & Central Amer., Caribbean    float64\n",
      "cty_Indonesia                                 float64\n",
      "cty_Egypt                                     float64\n",
      "cty_Morocco                                   float64\n",
      "cty_Bangladesh                                float64\n",
      "cty_Portugal                                  float64\n",
      "cty_Other Oceania                             float64\n",
      "dtype: object\n",
      "object\n",
      "1    28175\n",
      "0    25245\n",
      "3     2346\n",
      "2     1640\n",
      "Name: outcome, dtype: int64\n"
     ]
    }
   ],
   "source": [
    "#KNN Prediction - trial run\n",
    "from sklearn.neighbors import KNeighborsClassifier\n",
    "# make an instance of a KNeighborsClassifier object\n",
    "# feature_cols defined above\n",
    "feature_cols1 = ['gd_f', 'deg_Doctorate', 'deg_Less than Secondary', \"deg_Master's\", 'deg_Secondary', \n",
    "                 'age', 'cty_Unknown/Other', 'cty_Other Europe', \n",
    "                 'cty_India', 'cty_United Kingdom', 'cty_Brazil', 'cty_Other East Asia', 'cty_Canada', \n",
    "                 'cty_Other South Asia', 'cty_Other Middle East/Central Asia', 'cty_Other Africa', 'cty_Germany',\n",
    "                 'cty_China', 'cty_Japan', 'cty_Spain', 'cty_Australia', 'cty_Other South America', 'cty_France', \n",
    "                 'cty_Greece', 'cty_Russian Federation', 'cty_Pakistan', 'cty_Philippines', 'cty_Poland', \n",
    "                 'cty_Nigeria', \n",
    "                 'cty_Mexico', 'cty_Ukraine', 'cty_Colombia', 'cty_Other North & Central Amer., Caribbean', \n",
    "                 'cty_Indonesia', 'cty_Egypt', 'cty_Morocco', 'cty_Bangladesh', 'cty_Portugal', 'cty_Other Oceania']\n",
    "X = justice[feature_cols1]\n",
    "y = justice['outcome']\n",
    "\n",
    "knn = KNeighborsClassifier(n_neighbors=5)\n",
    "type(knn)\n",
    "knn.fit(X, y)\n",
    "pred = knn.predict(X)\n",
    "print X.dtypes\n",
    "print y.dtype\n",
    "yint=y.astype('int64')\n",
    "print y.value_counts()"
   ]
  },
  {
   "cell_type": "code",
   "execution_count": 57,
   "metadata": {
    "collapsed": false
   },
   "outputs": [
    {
     "data": {
      "text/plain": [
       "0.54145763656633217"
      ]
     },
     "execution_count": 57,
     "metadata": {},
     "output_type": "execute_result"
    }
   ],
   "source": [
    "# Evaluation KNN Predictions Using Train-Test Split\n",
    "#define function for 1 KNN evaluation using accuracy score\n",
    "from sklearn.cross_validation import train_test_split\n",
    "from sklearn import metrics\n",
    "def eval_knn(Xf, yf, rand, nn):\n",
    "    X_tr, X_te, y_tr, y_te = train_test_split(Xf, yf, random_state=rand)\n",
    "    knn = KNeighborsClassifier(n_neighbors=nn)\n",
    "    knn.fit(X_tr, y_tr)\n",
    "    y_pc = knn.predict(X_te)\n",
    "    met = (metrics.accuracy_score(y_te, y_pc))\n",
    "    return met\n",
    "eval_knn(X,yint,7, 5)"
   ]
  },
  {
   "cell_type": "code",
   "execution_count": 59,
   "metadata": {
    "collapsed": false
   },
   "outputs": [],
   "source": [
    "#Tuning\n",
    "#define function for multiple KNN evaluations, varying on n_neighbors, this time n_neighbors is an array\n",
    "\n",
    "def eval_knn_nn(Xf, yf, rand, nnl):\n",
    "    nmet_tuple = []\n",
    "    for value in nnl:\n",
    "        print value\n",
    "        measure = eval_knn(Xf, yf, rand, value)\n",
    "        nmet_tuple.append((value, measure))\n",
    "    return nmet_tuple\n",
    "    "
   ]
  },
  {
   "cell_type": "code",
   "execution_count": 60,
   "metadata": {
    "collapsed": false
   },
   "outputs": [
    {
     "name": "stdout",
     "output_type": "stream",
     "text": [
      "60\n",
      "61\n",
      "62\n",
      "63\n",
      "64\n",
      "65\n",
      "66\n",
      "67\n",
      "68\n",
      "69\n",
      "70\n",
      "71\n",
      "72\n",
      "73\n",
      "74\n",
      "75\n",
      "76\n",
      "77\n",
      "78\n",
      "79\n",
      "80\n",
      "81\n",
      "82\n",
      "83\n",
      "84\n",
      "85\n",
      "86\n",
      "87\n",
      "88\n",
      "89\n",
      "90\n",
      "91\n",
      "92\n",
      "93\n",
      "94\n",
      "95\n",
      "96\n",
      "97\n",
      "98\n",
      "99\n",
      "[(60, 0.58340301003344486), (61, 0.5831939799331104), (62, 0.58340301003344486), (63, 0.58416945373467111), (64, 0.58235785953177255), (65, 0.58228818283166106), (66, 0.58228818283166106), (67, 0.58075529542920845), (68, 0.5804765886287625), (69, 0.58284559643255296), (70, 0.58437848383500557), (71, 0.5831939799331104), (72, 0.58242753623188404), (73, 0.58187012263099225), (74, 0.58340301003344486), (75, 0.58005852842809369), (76, 0.5836817168338907), (77, 0.58242753623188404), (78, 0.5836817168338907), (79, 0.5820791527313266), (80, 0.58542363433667777), (81, 0.58437848383500557), (82, 0.58646878483835008), (83, 0.58639910813823859), (84, 0.586886845039019), (85, 0.58591137123745818), (86, 0.58591137123745818), (87, 0.58660813823857305), (88, 0.58730490523968781), (89, 0.58507525083612044), (90, 0.58444816053511706), (91, 0.58674749163879603), (92, 0.58479654403567449), (93, 0.58625975473801561), (94, 0.58396042363433665), (95, 0.58375139353400218), (96, 0.58507525083612044), (97, 0.58535395763656628), (98, 0.58396042363433665), (99, 0.58465719063545152)]\n"
     ]
    }
   ],
   "source": [
    "nnlist = np.arange(60,100)\n",
    "test = eval_knn_nn(X,yint,150,nnlist)\n",
    "print test\n"
   ]
  },
  {
   "cell_type": "code",
   "execution_count": 46,
   "metadata": {
    "collapsed": false
   },
   "outputs": [
    {
     "data": {
      "image/png": "[encoded data removed]",
      "text/plain": [
       "<matplotlib.figure.Figure at 0x10d923e50>"
      ]
     },
     "metadata": {},
     "output_type": "display_data"
    }
   ],
   "source": [
    "#plot results\n",
    "import matplotlib.pyplot as plt\n",
    "n = []\n",
    "v = []\n",
    "for neigh, val in test:\n",
    "    n.append(neigh)\n",
    "    v.append(val)\n",
    "\n",
    "plt.title('Tuning KNN Model')\n",
    "plt.ylabel('Accuracy Score')\n",
    "plt.xlabel('Number of Neighbors')\n",
    "plt.scatter(n, v, linewidths = 1)\n",
    "plt.plot(n,v,'.b-')\n",
    "plt.show()\n"
   ]
  },
  {
   "cell_type": "code",
   "execution_count": 34,
   "metadata": {
    "collapsed": false
   },
   "outputs": [
    {
     "data": {
      "text/plain": [
       "1    49034\n",
       "0     8372\n",
       "Name: log_pred_class, dtype: int64"
      ]
     },
     "execution_count": 34,
     "metadata": {},
     "output_type": "execute_result"
    }
   ],
   "source": [
    "#Logistic  Regression Model\n",
    "# fit a logistic regression model and store the class predictions\n",
    "#feature_cols defined above\n",
    "from sklearn.linear_model import LogisticRegression\n",
    "logreg = LogisticRegression()\n",
    "feature_cols1 = ['gd_f', 'deg_Doctorate', 'deg_Less than Secondary',\n",
    "                  \"deg_Master's\", 'deg_Secondary', #\"deg_Bachelor's\",\n",
    " 'age', 'cty_Unknown/Other', #'cty_United States'\n",
    " 'cty_India', 'cty_Other Europe', 'cty_Other Africa', \n",
    " 'cty_United Kingdom', 'cty_Canada', 'cty_Brazil', 'cty_Other Middle East/Central Asia', 'cty_Other South Asia', \n",
    " 'cty_Russian Federation', 'cty_Pakistan', 'cty_Nigeria', 'cty_Australia', 'cty_Spain', 'cty_Other South America', \n",
    " 'cty_Philippines', 'cty_Egypt', 'cty_Germany', 'cty_Ukraine', 'cty_Other North & Central Amer., Caribbean', \n",
    " 'cty_France', 'cty_Mexico', 'cty_Morocco', 'cty_Other East Asia', 'cty_Poland', 'cty_Greece',\n",
    " 'cty_Colombia', 'cty_China', 'cty_Indonesia', 'cty_Bangladesh', 'cty_Portugal', 'cty_Japan', 'cty_Other Oceania']\n",
    "X = justice[feature_cols1]\n",
    "y = justice['outcome']\n",
    "logreg.fit(X, y)\n",
    "justice['log_pred_class'] = logreg.predict(X)\n",
    "justice['log_pred_class'].value_counts()"
   ]
  },
  {
   "cell_type": "code",
   "execution_count": 36,
   "metadata": {
    "collapsed": false
   },
   "outputs": [
    {
     "name": "stdout",
     "output_type": "stream",
     "text": [
      "['gd_f', 'deg_Doctorate', 'deg_Less than Secondary', \"deg_Master's\", 'deg_Secondary', 'age', 'cty_Unknown/Other', 'cty_India', 'cty_Other Europe', 'cty_Other Africa', 'cty_United Kingdom', 'cty_Canada', 'cty_Brazil', 'cty_Other Middle East/Central Asia', 'cty_Other South Asia', 'cty_Russian Federation', 'cty_Pakistan', 'cty_Nigeria', 'cty_Australia', 'cty_Spain', 'cty_Other South America', 'cty_Philippines', 'cty_Egypt', 'cty_Germany', 'cty_Ukraine', 'cty_Other North & Central Amer., Caribbean', 'cty_France', 'cty_Mexico', 'cty_Morocco', 'cty_Other East Asia', 'cty_Poland', 'cty_Greece', 'cty_Colombia', 'cty_China', 'cty_Indonesia', 'cty_Bangladesh', 'cty_Portugal', 'cty_Japan', 'cty_Other Oceania']\n",
      "39\n"
     ]
    },
    {
     "data": {
      "text/plain": [
       "[(array([ 0.15630535, -0.31531147, -0.41138227, -0.08508838, -0.03490294,\n",
       "          0.00444878,  4.19328513, -0.18781394, -0.49285982,  0.20214279,\n",
       "         -0.18525822, -0.22546405, -0.30829881, -0.08839041, -0.34997728,\n",
       "         -0.27021117,  0.42226946,  0.37252805, -0.24699691, -0.43781705,\n",
       "         -0.19343255, -0.00471611, -0.04479154, -0.79194292, -0.29321442,\n",
       "          0.05386884, -0.49691923, -0.11594575, -0.13501485, -0.26228831,\n",
       "         -0.63951218, -0.4664627 , -0.35662377, -0.16046954,  0.21843491,\n",
       "          0.44551191, -0.20094743, -0.47709887,  0.63838856]),),\n",
       " (array([-0.06414114,  0.26036741,  0.22412999,  0.06734254,  0.03682458,\n",
       "         -0.00434856, -4.07575419,  0.09027986,  0.23091541, -0.22996475,\n",
       "          0.08108969,  0.16366837,  0.23324448,  0.01219407,  0.19921212,\n",
       "          0.10903839, -0.37576101, -0.35901821,  0.14488391,  0.29959142,\n",
       "          0.17930148, -0.01110076,  0.01594421,  0.3901035 ,  0.25454123,\n",
       "         -0.0915211 ,  0.29705248,  0.10194059,  0.23649877,  0.34214992,\n",
       "          0.45499432,  0.00770906,  0.30066724,  0.30156191, -0.27228516,\n",
       "         -0.39813641,  0.12912539,  0.61327621, -0.54289469]),),\n",
       " (array([-0.41623244, -0.02353696, -0.06842144, -0.06883387, -0.24027897,\n",
       "          0.00916325, -3.3670085 ,  0.09414559,  0.38314523, -0.4259716 ,\n",
       "          0.00895727, -0.04218429, -0.36236839,  0.08252536,  0.18475424,\n",
       "          0.30898567, -0.45425892, -0.01596389,  0.09228874,  0.06771648,\n",
       "         -0.05741384,  0.11933225, -0.16364753,  0.49762899, -0.41207452,\n",
       "         -0.50856252,  0.39649136, -0.15389984, -0.09263803, -0.83061289,\n",
       "          0.26298362,  0.61719558, -0.01474802, -1.19840596,  0.64888567,\n",
       "          0.11848639, -0.09402883, -0.63148875, -0.42687085]),),\n",
       " (array([ -2.00765358e-01,   2.61911764e-01,   7.35833404e-01,\n",
       "           1.57186513e-01,   1.49711670e-01,  -8.28230540e-03,\n",
       "          -2.49229137e+00,   4.71582205e-01,   8.49589913e-01,\n",
       "           4.90968423e-01,   5.63182960e-01,   3.60944016e-01,\n",
       "           5.78404340e-01,   4.01568983e-01,   5.96431397e-01,\n",
       "           5.76219281e-01,   7.27145975e-02,  -5.65208952e-02,\n",
       "           4.78516419e-01,   5.76999605e-01,   9.41620956e-02,\n",
       "          -6.30186302e-03,   3.12695988e-01,   1.01782572e+00,\n",
       "           3.87246403e-01,   5.16036150e-01,   5.61248063e-01,\n",
       "           2.06295103e-01,  -6.62270316e-01,  -1.54466600e-01,\n",
       "           5.19250326e-01,   1.33487285e+00,   2.50864569e-01,\n",
       "          -5.25482634e-01,  -4.93830791e-01,  -3.49254463e-01,\n",
       "           3.66079837e-01,  -9.86489391e-01,   1.95678750e-03]),)]"
      ]
     },
     "execution_count": 36,
     "metadata": {},
     "output_type": "execute_result"
    }
   ],
   "source": [
    "# Examine Coefficients\n",
    "print feature_cols1\n",
    "print len(feature_cols1)\n",
    "zip(logreg.coef_)"
   ]
  },
  {
   "cell_type": "code",
   "execution_count": 37,
   "metadata": {
    "collapsed": false
   },
   "outputs": [
    {
     "name": "stdout",
     "output_type": "stream",
     "text": [
      "0.594551282051\n"
     ]
    },
    {
     "data": {
      "text/plain": [
       "0.59455128205128205"
      ]
     },
     "execution_count": 37,
     "metadata": {},
     "output_type": "execute_result"
    }
   ],
   "source": [
    "#evaluate model\n",
    "#cross validation score - doesn't work with multiclass format\n",
    "#use accuracy score\n",
    "# Evaluation logistic model Using Train-Test Split and accuracy scores\n",
    "from sklearn.cross_validation import train_test_split\n",
    "from sklearn import metrics\n",
    "def eval_log(Xf, yf, rand):\n",
    "    X_tr, X_te, y_tr, y_te = train_test_split(Xf, yf, random_state=rand)\n",
    "    logreg = LogisticRegression()\n",
    "    logreg.fit(X_tr, y_tr)\n",
    "    y_pc = logreg.predict(X_te)\n",
    "    met = (metrics.accuracy_score(y_te, y_pc))\n",
    "    print metrics.accuracy_score(y_te, y_pc)\n",
    "    return met\n",
    "eval_log(X,yint,7)"
   ]
  },
  {
   "cell_type": "code",
   "execution_count": 39,
   "metadata": {
    "collapsed": false
   },
   "outputs": [
    {
     "name": "stdout",
     "output_type": "stream",
     "text": [
      "0.595317725753\n",
      "0.591694537347\n",
      "0.492892976589\n"
     ]
    },
    {
     "data": {
      "text/plain": [
       "0.49289297658862874"
      ]
     },
     "execution_count": 39,
     "metadata": {},
     "output_type": "execute_result"
    }
   ],
   "source": [
    "#create different versions of feature vectors and test models\n",
    "feature_cols1 = ['gd_f', 'deg_Doctorate', #'deg_Less than Secondary'#\n",
    "                  \"deg_Master's\", 'deg_Secondary', \"deg_Bachelor's\",\n",
    " 'age', 'cty_Unknown/Other', #'cty_United States'\n",
    " 'cty_India', 'cty_Other Europe', 'cty_Other Africa', \n",
    " 'cty_United Kingdom', 'cty_Canada', 'cty_Brazil', 'cty_Other Middle East/Central Asia', 'cty_Other South Asia', \n",
    " 'cty_Russian Federation', 'cty_Pakistan', 'cty_Nigeria', 'cty_Australia', 'cty_Spain', 'cty_Other South America', \n",
    " 'cty_Philippines', 'cty_Egypt', 'cty_Germany', 'cty_Ukraine', 'cty_Other North & Central Amer., Caribbean', \n",
    " 'cty_France', 'cty_Mexico', 'cty_Morocco', 'cty_Other East Asia', 'cty_Poland', 'cty_Greece',\n",
    " 'cty_Colombia', 'cty_China', 'cty_Indonesia', 'cty_Bangladesh', 'cty_Portugal', 'cty_Japan', 'cty_Other Oceania']\n",
    "feature_cols2 = ['gd_f', 'deg_Doctorate', 'deg_Less than Secondary',\n",
    "\"deg_Master's\", 'deg_Secondary', \"deg_Bachelor's\", 'age', 'cty_Unknown/Other', 'cty_United States']\n",
    "feature_cols3 = ['gd_f', 'deg_Doctorate', 'deg_Less than Secondary',\n",
    "\"deg_Master's\", 'deg_Secondary', \"deg_Bachelor's\", 'age', 'cty_United States']\n",
    "X1 = justice[feature_cols1]\n",
    "X2=justice[feature_cols2]\n",
    "X3 = justice[feature_cols3]\n",
    "eval_log(X1,yint,7)\n",
    "eval_log(X2,yint,7)\n",
    "eval_log(X3, yint,7)"
   ]
  }
 ],
 "metadata": {
  "kernelspec": {
   "display_name": "Python 2",
   "language": "python",
   "name": "python2"
  },
  "language_info": {
   "codemirror_mode": {
    "name": "ipython",
    "version": 2
   },
   "file_extension": ".py",
   "mimetype": "text/x-python",
   "name": "python",
   "nbconvert_exporter": "python",
   "pygments_lexer": "ipython2",
   "version": "2.7.10"
  }
 },
 "nbformat": 4,
 "nbformat_minor": 0
}
