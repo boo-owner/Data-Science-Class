{
 "cells": [
  {
   "cell_type": "code",
   "execution_count": 1,
   "metadata": {
    "collapsed": false
   },
   "outputs": [
    {
     "name": "stderr",
     "output_type": "stream",
     "text": [
      "/Users/TeddyandAlex/anaconda/lib/python2.7/site-packages/matplotlib/__init__.py:872: UserWarning: axes.color_cycle is deprecated and replaced with axes.prop_cycle; please use the latter.\n",
      "  warnings.warn(self.msg_depr % (key, alt_key))\n"
     ]
    },
    {
     "data": {
      "text/html": [
       "<div>\n",
       "<table border=\"1\" class=\"dataframe\">\n",
       "  <thead>\n",
       "    <tr style=\"text-align: right;\">\n",
       "      <th></th>\n",
       "      <th>course_id</th>\n",
       "      <th>userid_di</th>\n",
       "      <th>registered</th>\n",
       "      <th>viewed</th>\n",
       "      <th>explored</th>\n",
       "      <th>certified</th>\n",
       "      <th>final_cc_cname_di</th>\n",
       "      <th>loe_di</th>\n",
       "      <th>yob</th>\n",
       "      <th>gender</th>\n",
       "      <th>grade</th>\n",
       "      <th>start_time_di</th>\n",
       "      <th>last_event_di</th>\n",
       "      <th>nevents</th>\n",
       "      <th>ndays_act</th>\n",
       "      <th>nplay_video</th>\n",
       "      <th>nchapters</th>\n",
       "      <th>nforum_posts</th>\n",
       "      <th>roles</th>\n",
       "      <th>incomplete_flag</th>\n",
       "    </tr>\n",
       "  </thead>\n",
       "  <tbody>\n",
       "    <tr>\n",
       "      <th>0</th>\n",
       "      <td>HarvardX/CB22x/2013_Spring</td>\n",
       "      <td>MHxPC130442623</td>\n",
       "      <td>1</td>\n",
       "      <td>0</td>\n",
       "      <td>0</td>\n",
       "      <td>0</td>\n",
       "      <td>United States</td>\n",
       "      <td>NaN</td>\n",
       "      <td>NaN</td>\n",
       "      <td>NaN</td>\n",
       "      <td>0</td>\n",
       "      <td>2012-12-19</td>\n",
       "      <td>2013-11-17</td>\n",
       "      <td>NaN</td>\n",
       "      <td>9</td>\n",
       "      <td>NaN</td>\n",
       "      <td>NaN</td>\n",
       "      <td>0</td>\n",
       "      <td>NaN</td>\n",
       "      <td>1</td>\n",
       "    </tr>\n",
       "    <tr>\n",
       "      <th>1</th>\n",
       "      <td>HarvardX/CS50x/2012</td>\n",
       "      <td>MHxPC130442623</td>\n",
       "      <td>1</td>\n",
       "      <td>1</td>\n",
       "      <td>0</td>\n",
       "      <td>0</td>\n",
       "      <td>United States</td>\n",
       "      <td>NaN</td>\n",
       "      <td>NaN</td>\n",
       "      <td>NaN</td>\n",
       "      <td>0</td>\n",
       "      <td>2012-10-15</td>\n",
       "      <td>NaN</td>\n",
       "      <td>NaN</td>\n",
       "      <td>9</td>\n",
       "      <td>NaN</td>\n",
       "      <td>1</td>\n",
       "      <td>0</td>\n",
       "      <td>NaN</td>\n",
       "      <td>1</td>\n",
       "    </tr>\n",
       "    <tr>\n",
       "      <th>2</th>\n",
       "      <td>HarvardX/CB22x/2013_Spring</td>\n",
       "      <td>MHxPC130275857</td>\n",
       "      <td>1</td>\n",
       "      <td>0</td>\n",
       "      <td>0</td>\n",
       "      <td>0</td>\n",
       "      <td>United States</td>\n",
       "      <td>NaN</td>\n",
       "      <td>NaN</td>\n",
       "      <td>NaN</td>\n",
       "      <td>0</td>\n",
       "      <td>2013-02-08</td>\n",
       "      <td>2013-11-17</td>\n",
       "      <td>NaN</td>\n",
       "      <td>16</td>\n",
       "      <td>NaN</td>\n",
       "      <td>NaN</td>\n",
       "      <td>0</td>\n",
       "      <td>NaN</td>\n",
       "      <td>1</td>\n",
       "    </tr>\n",
       "    <tr>\n",
       "      <th>3</th>\n",
       "      <td>HarvardX/CS50x/2012</td>\n",
       "      <td>MHxPC130275857</td>\n",
       "      <td>1</td>\n",
       "      <td>0</td>\n",
       "      <td>0</td>\n",
       "      <td>0</td>\n",
       "      <td>United States</td>\n",
       "      <td>NaN</td>\n",
       "      <td>NaN</td>\n",
       "      <td>NaN</td>\n",
       "      <td>0</td>\n",
       "      <td>2012-09-17</td>\n",
       "      <td>NaN</td>\n",
       "      <td>NaN</td>\n",
       "      <td>16</td>\n",
       "      <td>NaN</td>\n",
       "      <td>NaN</td>\n",
       "      <td>0</td>\n",
       "      <td>NaN</td>\n",
       "      <td>1</td>\n",
       "    </tr>\n",
       "    <tr>\n",
       "      <th>4</th>\n",
       "      <td>HarvardX/ER22x/2013_Spring</td>\n",
       "      <td>MHxPC130275857</td>\n",
       "      <td>1</td>\n",
       "      <td>0</td>\n",
       "      <td>0</td>\n",
       "      <td>0</td>\n",
       "      <td>United States</td>\n",
       "      <td>NaN</td>\n",
       "      <td>NaN</td>\n",
       "      <td>NaN</td>\n",
       "      <td>0</td>\n",
       "      <td>2012-12-19</td>\n",
       "      <td>NaN</td>\n",
       "      <td>NaN</td>\n",
       "      <td>16</td>\n",
       "      <td>NaN</td>\n",
       "      <td>NaN</td>\n",
       "      <td>0</td>\n",
       "      <td>NaN</td>\n",
       "      <td>1</td>\n",
       "    </tr>\n",
       "  </tbody>\n",
       "</table>\n",
       "</div>"
      ],
      "text/plain": [
       "                    course_id       userid_di  registered  viewed  explored  \\\n",
       "0  HarvardX/CB22x/2013_Spring  MHxPC130442623           1       0         0   \n",
       "1         HarvardX/CS50x/2012  MHxPC130442623           1       1         0   \n",
       "2  HarvardX/CB22x/2013_Spring  MHxPC130275857           1       0         0   \n",
       "3         HarvardX/CS50x/2012  MHxPC130275857           1       0         0   \n",
       "4  HarvardX/ER22x/2013_Spring  MHxPC130275857           1       0         0   \n",
       "\n",
       "   certified final_cc_cname_di loe_di  yob gender grade start_time_di  \\\n",
       "0          0     United States    NaN  NaN    NaN     0    2012-12-19   \n",
       "1          0     United States    NaN  NaN    NaN     0    2012-10-15   \n",
       "2          0     United States    NaN  NaN    NaN     0    2013-02-08   \n",
       "3          0     United States    NaN  NaN    NaN     0    2012-09-17   \n",
       "4          0     United States    NaN  NaN    NaN     0    2012-12-19   \n",
       "\n",
       "  last_event_di  nevents  ndays_act  nplay_video  nchapters  nforum_posts  \\\n",
       "0    2013-11-17      NaN          9          NaN        NaN             0   \n",
       "1           NaN      NaN          9          NaN          1             0   \n",
       "2    2013-11-17      NaN         16          NaN        NaN             0   \n",
       "3           NaN      NaN         16          NaN        NaN             0   \n",
       "4           NaN      NaN         16          NaN        NaN             0   \n",
       "\n",
       "   roles  incomplete_flag  \n",
       "0    NaN                1  \n",
       "1    NaN                1  \n",
       "2    NaN                1  \n",
       "3    NaN                1  \n",
       "4    NaN                1  "
      ]
     },
     "execution_count": 1,
     "metadata": {},
     "output_type": "execute_result"
    }
   ],
   "source": [
    "import numpy as np\n",
    "import pandas as pd\n",
    "import matplotlib.pyplot as plt\n",
    "from mpl_toolkits.mplot3d import Axes3D\n",
    "import seaborn as sns\n",
    "from pandas import DataFrame\n",
    "%matplotlib inline \n",
    "# read in the drinks data\n",
    "\n",
    "path = '/users/teddyandalex/documents/data_science/'\n",
    "mooc_cols = ['course_id', 'userid_di', 'registered', 'viewed', 'explored', 'certified', 'final_cc_cname_di', 'loe_di', 'yob', 'gender', 'grade', 'start_time_di', \n",
    "'last_event_di', 'nevents', 'ndays_act', 'nplay_video', 'nchapters', 'nforum_posts', 'roles', 'incomplete_flag']\n",
    "mooc = path + 'HMXPC13_DI_v2_5-14-14.csv'\n",
    "mooc_data = pd.read_csv(mooc, header=0, names=mooc_cols, na_values='NAN')\n",
    "mooc_data.head()"
   ]
  },
  {
   "cell_type": "code",
   "execution_count": 3,
   "metadata": {
    "collapsed": false
   },
   "outputs": [
    {
     "name": "stderr",
     "output_type": "stream",
     "text": [
      "/Users/TeddyandAlex/anaconda/lib/python2.7/site-packages/IPython/kernel/__main__.py:4: FutureWarning: convert_objects is deprecated.  Use the data-type specific converters pd.to_datetime, pd.to_timedelta and pd.to_numeric.\n"
     ]
    }
   ],
   "source": [
    "# create age variable\n",
    "\n",
    "mooc_data['yob'].dtype\n",
    "mooc_data['new_yob']=mooc_data.yob.convert_objects(convert_numeric=True)\n",
    "\n",
    "mooc_data['age'] = 2013 - mooc_data['new_yob']"
   ]
  },
  {
   "cell_type": "code",
   "execution_count": 4,
   "metadata": {
    "collapsed": false
   },
   "outputs": [
    {
     "name": "stdout",
     "output_type": "stream",
     "text": [
      "0    240868\n",
      "1    359894\n",
      "2     22689\n",
      "3     17687\n",
      "Name: outcome, dtype: int64\n"
     ]
    }
   ],
   "source": [
    "mooc_data['outcome']=''\n",
    "\n",
    "mooc_data.loc[(mooc_data['viewed'] == 1) & (mooc_data['explored'] == 0) & (mooc_data['certified'] == 0),'outcome']=1\n",
    "mooc_data.loc[(mooc_data['viewed'] == 1) & (mooc_data['explored'] == 1) & (mooc_data['certified'] == 0),'outcome']=2\n",
    "mooc_data.loc[(mooc_data['viewed'] == 0) & (mooc_data['explored'] == 1) & (mooc_data['certified'] == 0),'outcome']=2\n",
    "mooc_data.loc[(mooc_data['viewed'] == 1) & (mooc_data['explored'] == 1) & (mooc_data['certified'] == 1),'outcome']=3\n",
    "mooc_data.loc[(mooc_data['viewed'] == 1) & (mooc_data['explored'] == 0) & (mooc_data['certified'] == 1),'outcome']=3\n",
    "mooc_data.loc[(mooc_data['viewed'] == 0) & (mooc_data['explored'] == 0) & (mooc_data['certified'] == 0),'outcome']=0\n",
    "\n",
    "counts = mooc_data['outcome'].value_counts(sort = False)  \n",
    "print counts"
   ]
  },
  {
   "cell_type": "code",
   "execution_count": 5,
   "metadata": {
    "collapsed": false
   },
   "outputs": [
    {
     "data": {
      "text/html": [
       "<div>\n",
       "<table border=\"1\" class=\"dataframe\">\n",
       "  <thead>\n",
       "    <tr style=\"text-align: right;\">\n",
       "      <th></th>\n",
       "      <th>registered</th>\n",
       "      <th>viewed</th>\n",
       "      <th>explored</th>\n",
       "      <th>certified</th>\n",
       "      <th>yob</th>\n",
       "      <th>nevents</th>\n",
       "      <th>ndays_act</th>\n",
       "      <th>nplay_video</th>\n",
       "      <th>nchapters</th>\n",
       "      <th>nforum_posts</th>\n",
       "      <th>roles</th>\n",
       "      <th>incomplete_flag</th>\n",
       "      <th>new_yob</th>\n",
       "      <th>age</th>\n",
       "    </tr>\n",
       "  </thead>\n",
       "  <tbody>\n",
       "    <tr>\n",
       "      <th>count</th>\n",
       "      <td>169621</td>\n",
       "      <td>169621.000000</td>\n",
       "      <td>169621.000000</td>\n",
       "      <td>169621.000000</td>\n",
       "      <td>149828.000000</td>\n",
       "      <td>49680.000000</td>\n",
       "      <td>58306.00000</td>\n",
       "      <td>0</td>\n",
       "      <td>106489.000000</td>\n",
       "      <td>169621</td>\n",
       "      <td>0</td>\n",
       "      <td>68862</td>\n",
       "      <td>149828.000000</td>\n",
       "      <td>149828.000000</td>\n",
       "    </tr>\n",
       "    <tr>\n",
       "      <th>mean</th>\n",
       "      <td>1</td>\n",
       "      <td>0.625430</td>\n",
       "      <td>0.064986</td>\n",
       "      <td>0.007588</td>\n",
       "      <td>1984.892604</td>\n",
       "      <td>39.547806</td>\n",
       "      <td>4.31784</td>\n",
       "      <td>NaN</td>\n",
       "      <td>2.565598</td>\n",
       "      <td>0</td>\n",
       "      <td>NaN</td>\n",
       "      <td>1</td>\n",
       "      <td>1984.892604</td>\n",
       "      <td>28.107396</td>\n",
       "    </tr>\n",
       "    <tr>\n",
       "      <th>std</th>\n",
       "      <td>0</td>\n",
       "      <td>0.484013</td>\n",
       "      <td>0.246502</td>\n",
       "      <td>0.086775</td>\n",
       "      <td>9.081319</td>\n",
       "      <td>89.655333</td>\n",
       "      <td>8.26345</td>\n",
       "      <td>NaN</td>\n",
       "      <td>2.768481</td>\n",
       "      <td>0</td>\n",
       "      <td>NaN</td>\n",
       "      <td>0</td>\n",
       "      <td>9.081319</td>\n",
       "      <td>9.081319</td>\n",
       "    </tr>\n",
       "    <tr>\n",
       "      <th>min</th>\n",
       "      <td>1</td>\n",
       "      <td>0.000000</td>\n",
       "      <td>0.000000</td>\n",
       "      <td>0.000000</td>\n",
       "      <td>1935.000000</td>\n",
       "      <td>1.000000</td>\n",
       "      <td>1.00000</td>\n",
       "      <td>NaN</td>\n",
       "      <td>1.000000</td>\n",
       "      <td>0</td>\n",
       "      <td>NaN</td>\n",
       "      <td>1</td>\n",
       "      <td>1935.000000</td>\n",
       "      <td>0.000000</td>\n",
       "    </tr>\n",
       "    <tr>\n",
       "      <th>25%</th>\n",
       "      <td>1</td>\n",
       "      <td>0.000000</td>\n",
       "      <td>0.000000</td>\n",
       "      <td>0.000000</td>\n",
       "      <td>1981.000000</td>\n",
       "      <td>3.000000</td>\n",
       "      <td>1.00000</td>\n",
       "      <td>NaN</td>\n",
       "      <td>1.000000</td>\n",
       "      <td>0</td>\n",
       "      <td>NaN</td>\n",
       "      <td>1</td>\n",
       "      <td>1981.000000</td>\n",
       "      <td>22.000000</td>\n",
       "    </tr>\n",
       "    <tr>\n",
       "      <th>50%</th>\n",
       "      <td>1</td>\n",
       "      <td>1.000000</td>\n",
       "      <td>0.000000</td>\n",
       "      <td>0.000000</td>\n",
       "      <td>1987.000000</td>\n",
       "      <td>10.000000</td>\n",
       "      <td>2.00000</td>\n",
       "      <td>NaN</td>\n",
       "      <td>1.000000</td>\n",
       "      <td>0</td>\n",
       "      <td>NaN</td>\n",
       "      <td>1</td>\n",
       "      <td>1987.000000</td>\n",
       "      <td>26.000000</td>\n",
       "    </tr>\n",
       "    <tr>\n",
       "      <th>75%</th>\n",
       "      <td>1</td>\n",
       "      <td>1.000000</td>\n",
       "      <td>0.000000</td>\n",
       "      <td>0.000000</td>\n",
       "      <td>1991.000000</td>\n",
       "      <td>31.000000</td>\n",
       "      <td>3.00000</td>\n",
       "      <td>NaN</td>\n",
       "      <td>3.000000</td>\n",
       "      <td>0</td>\n",
       "      <td>NaN</td>\n",
       "      <td>1</td>\n",
       "      <td>1991.000000</td>\n",
       "      <td>32.000000</td>\n",
       "    </tr>\n",
       "    <tr>\n",
       "      <th>max</th>\n",
       "      <td>1</td>\n",
       "      <td>1.000000</td>\n",
       "      <td>1.000000</td>\n",
       "      <td>1.000000</td>\n",
       "      <td>2013.000000</td>\n",
       "      <td>3491.000000</td>\n",
       "      <td>176.00000</td>\n",
       "      <td>NaN</td>\n",
       "      <td>12.000000</td>\n",
       "      <td>0</td>\n",
       "      <td>NaN</td>\n",
       "      <td>1</td>\n",
       "      <td>2013.000000</td>\n",
       "      <td>78.000000</td>\n",
       "    </tr>\n",
       "  </tbody>\n",
       "</table>\n",
       "</div>"
      ],
      "text/plain": [
       "       registered         viewed       explored      certified            yob  \\\n",
       "count      169621  169621.000000  169621.000000  169621.000000  149828.000000   \n",
       "mean            1       0.625430       0.064986       0.007588    1984.892604   \n",
       "std             0       0.484013       0.246502       0.086775       9.081319   \n",
       "min             1       0.000000       0.000000       0.000000    1935.000000   \n",
       "25%             1       0.000000       0.000000       0.000000    1981.000000   \n",
       "50%             1       1.000000       0.000000       0.000000    1987.000000   \n",
       "75%             1       1.000000       0.000000       0.000000    1991.000000   \n",
       "max             1       1.000000       1.000000       1.000000    2013.000000   \n",
       "\n",
       "            nevents    ndays_act  nplay_video      nchapters  nforum_posts  \\\n",
       "count  49680.000000  58306.00000            0  106489.000000        169621   \n",
       "mean      39.547806      4.31784          NaN       2.565598             0   \n",
       "std       89.655333      8.26345          NaN       2.768481             0   \n",
       "min        1.000000      1.00000          NaN       1.000000             0   \n",
       "25%        3.000000      1.00000          NaN       1.000000             0   \n",
       "50%       10.000000      2.00000          NaN       1.000000             0   \n",
       "75%       31.000000      3.00000          NaN       3.000000             0   \n",
       "max     3491.000000    176.00000          NaN      12.000000             0   \n",
       "\n",
       "       roles  incomplete_flag        new_yob            age  \n",
       "count      0            68862  149828.000000  149828.000000  \n",
       "mean     NaN                1    1984.892604      28.107396  \n",
       "std      NaN                0       9.081319       9.081319  \n",
       "min      NaN                1    1935.000000       0.000000  \n",
       "25%      NaN                1    1981.000000      22.000000  \n",
       "50%      NaN                1    1987.000000      26.000000  \n",
       "75%      NaN                1    1991.000000      32.000000  \n",
       "max      NaN                1    2013.000000      78.000000  "
      ]
     },
     "execution_count": 5,
     "metadata": {},
     "output_type": "execute_result"
    }
   ],
   "source": [
    "# look at courses\n",
    "mooc_data.course_id.value_counts()   \n",
    "cs50 = mooc_data.loc[mooc_data.course_id == \"HarvardX/CS50x/2012\"]\n",
    "# Look at class interaction variables\n",
    " #'start_time_di', 'last_event_di', 'nevents', 'ndays_act', 'nplay_video', 'nchapters', 'nforum_posts', 'roles', 'time_elapse',  \n",
    "\n",
    "cs50.describe()\n"
   ]
  },
  {
   "cell_type": "code",
   "execution_count": 6,
   "metadata": {
    "collapsed": false
   },
   "outputs": [],
   "source": [
    "#run model on CS50 course dataset\n",
    "from pandas import DataFrame\n",
    "\n",
    "from sklearn.cluster import KMeans\n",
    "#preprocessing\n",
    "#replace NaNs to 0s\n",
    "\n",
    "list = ['nevents', 'ndays_act', 'nplay_video', 'nchapters', 'nforum_posts']\n",
    "#for what in range(0,5):\n",
    "    #print list[what]\n",
    "    #print cs50[list[what]].value_counts()\n"
   ]
  },
  {
   "cell_type": "code",
   "execution_count": 7,
   "metadata": {
    "collapsed": false
   },
   "outputs": [
    {
     "name": "stderr",
     "output_type": "stream",
     "text": [
      "/Users/TeddyandAlex/anaconda/lib/python2.7/site-packages/pandas/core/generic.py:2862: SettingWithCopyWarning: \n",
      "A value is trying to be set on a copy of a slice from a DataFrame\n",
      "\n",
      "See the caveats in the documentation: http://pandas.pydata.org/pandas-docs/stable/indexing.html#indexing-view-versus-copy\n",
      "  self._update_inplace(new_data)\n",
      "/Users/TeddyandAlex/anaconda/lib/python2.7/site-packages/IPython/kernel/__main__.py:13: SettingWithCopyWarning: \n",
      "A value is trying to be set on a copy of a slice from a DataFrame.\n",
      "Try using .loc[row_indexer,col_indexer] = value instead\n",
      "\n",
      "See the caveats in the documentation: http://pandas.pydata.org/pandas-docs/stable/indexing.html#indexing-view-versus-copy\n"
     ]
    },
    {
     "name": "stdout",
     "output_type": "stream",
     "text": [
      "False    169621\n",
      "Name: nevents, dtype: int64\n",
      "False    169621\n",
      "Name: ndays_act, dtype: int64\n",
      "False    169621\n",
      "Name: nchapters, dtype: int64\n",
      "count    1.696210e+05\n",
      "mean     5.007667e-14\n",
      "std      1.000003e+00\n",
      "min     -2.238250e-01\n",
      "25%     -2.238250e-01\n",
      "50%     -2.238250e-01\n",
      "75%     -1.851781e-01\n",
      "max      6.723427e+01\n",
      "Name: znevents, dtype: float64\n",
      "count    1.696210e+05\n",
      "mean     2.631122e-14\n",
      "std      1.000003e+00\n",
      "min     -2.821211e-01\n",
      "25%     -2.821211e-01\n",
      "50%     -2.821211e-01\n",
      "75%     -9.204155e-02\n",
      "max      3.317187e+01\n",
      "Name: zndays_act, dtype: float64\n",
      "count    1.696210e+05\n",
      "mean    -3.472878e-14\n",
      "std      1.000003e+00\n",
      "min     -6.391946e-01\n",
      "25%     -6.391946e-01\n",
      "50%     -2.423511e-01\n",
      "75%      1.544925e-01\n",
      "max      4.122928e+00\n",
      "Name: znchapters, dtype: float64\n"
     ]
    }
   ],
   "source": [
    "list2 = ['nevents', 'ndays_act', 'nchapters']\n",
    "mooc_data.loc[(mooc_data['viewed'] == 1) & (mooc_data['explored'] == 0) & (mooc_data['certified'] == 0),'outcome']=1\n",
    "for what in range(0,len(list2)):\n",
    "    cs50[list2[what]].fillna(0, inplace = True)\n",
    "      \n",
    "for what in range(0,len(list2)):\n",
    "    print pd.isnull(cs50[list2[what]]).value_counts()\n",
    "\n",
    "#converting variables into z-scores\n",
    "from sklearn import preprocessing\n",
    "listz = ['znevents', 'zndays_act', 'znchapters']\n",
    "for what in range(0,len(listz)):\n",
    "    cs50[listz[what]] = preprocessing.scale(cs50[list2[what]])\n",
    "\n",
    "for X in range(0, len(listz)):\n",
    "    print cs50[listz[X]].describe()"
   ]
  },
  {
   "cell_type": "code",
   "execution_count": 8,
   "metadata": {
    "collapsed": false
   },
   "outputs": [
    {
     "data": {
      "text/html": [
       "<div>\n",
       "<table border=\"1\" class=\"dataframe\">\n",
       "  <thead>\n",
       "    <tr style=\"text-align: right;\">\n",
       "      <th></th>\n",
       "      <th>course_id</th>\n",
       "      <th>userid_di</th>\n",
       "      <th>registered</th>\n",
       "      <th>viewed</th>\n",
       "      <th>explored</th>\n",
       "      <th>certified</th>\n",
       "      <th>final_cc_cname_di</th>\n",
       "      <th>loe_di</th>\n",
       "      <th>yob</th>\n",
       "      <th>gender</th>\n",
       "      <th>...</th>\n",
       "      <th>nchapters</th>\n",
       "      <th>nforum_posts</th>\n",
       "      <th>roles</th>\n",
       "      <th>incomplete_flag</th>\n",
       "      <th>outcome</th>\n",
       "      <th>new_yob</th>\n",
       "      <th>age</th>\n",
       "      <th>znevents</th>\n",
       "      <th>zndays_act</th>\n",
       "      <th>znchapters</th>\n",
       "    </tr>\n",
       "  </thead>\n",
       "  <tbody>\n",
       "    <tr>\n",
       "      <th>1</th>\n",
       "      <td>HarvardX/CS50x/2012</td>\n",
       "      <td>MHxPC130442623</td>\n",
       "      <td>1</td>\n",
       "      <td>1</td>\n",
       "      <td>0</td>\n",
       "      <td>0</td>\n",
       "      <td>United States</td>\n",
       "      <td>NaN</td>\n",
       "      <td>NaN</td>\n",
       "      <td>NaN</td>\n",
       "      <td>...</td>\n",
       "      <td>1</td>\n",
       "      <td>0</td>\n",
       "      <td>NaN</td>\n",
       "      <td>1</td>\n",
       "      <td>1</td>\n",
       "      <td>NaN</td>\n",
       "      <td>NaN</td>\n",
       "      <td>-0.223825</td>\n",
       "      <td>1.428594</td>\n",
       "      <td>-0.242351</td>\n",
       "    </tr>\n",
       "    <tr>\n",
       "      <th>3</th>\n",
       "      <td>HarvardX/CS50x/2012</td>\n",
       "      <td>MHxPC130275857</td>\n",
       "      <td>1</td>\n",
       "      <td>0</td>\n",
       "      <td>0</td>\n",
       "      <td>0</td>\n",
       "      <td>United States</td>\n",
       "      <td>NaN</td>\n",
       "      <td>NaN</td>\n",
       "      <td>NaN</td>\n",
       "      <td>...</td>\n",
       "      <td>0</td>\n",
       "      <td>0</td>\n",
       "      <td>NaN</td>\n",
       "      <td>1</td>\n",
       "      <td>0</td>\n",
       "      <td>NaN</td>\n",
       "      <td>NaN</td>\n",
       "      <td>-0.223825</td>\n",
       "      <td>2.759151</td>\n",
       "      <td>-0.639195</td>\n",
       "    </tr>\n",
       "    <tr>\n",
       "      <th>9</th>\n",
       "      <td>HarvardX/CS50x/2012</td>\n",
       "      <td>MHxPC130088379</td>\n",
       "      <td>1</td>\n",
       "      <td>1</td>\n",
       "      <td>0</td>\n",
       "      <td>0</td>\n",
       "      <td>United States</td>\n",
       "      <td>NaN</td>\n",
       "      <td>NaN</td>\n",
       "      <td>NaN</td>\n",
       "      <td>...</td>\n",
       "      <td>3</td>\n",
       "      <td>0</td>\n",
       "      <td>NaN</td>\n",
       "      <td>1</td>\n",
       "      <td>1</td>\n",
       "      <td>NaN</td>\n",
       "      <td>NaN</td>\n",
       "      <td>-0.223825</td>\n",
       "      <td>1.998833</td>\n",
       "      <td>0.551336</td>\n",
       "    </tr>\n",
       "    <tr>\n",
       "      <th>13</th>\n",
       "      <td>HarvardX/CS50x/2012</td>\n",
       "      <td>MHxPC130024894</td>\n",
       "      <td>1</td>\n",
       "      <td>1</td>\n",
       "      <td>0</td>\n",
       "      <td>0</td>\n",
       "      <td>United States</td>\n",
       "      <td>NaN</td>\n",
       "      <td>NaN</td>\n",
       "      <td>NaN</td>\n",
       "      <td>...</td>\n",
       "      <td>2</td>\n",
       "      <td>0</td>\n",
       "      <td>NaN</td>\n",
       "      <td>1</td>\n",
       "      <td>1</td>\n",
       "      <td>NaN</td>\n",
       "      <td>NaN</td>\n",
       "      <td>-0.223825</td>\n",
       "      <td>0.098038</td>\n",
       "      <td>0.154492</td>\n",
       "    </tr>\n",
       "    <tr>\n",
       "      <th>17</th>\n",
       "      <td>HarvardX/CS50x/2012</td>\n",
       "      <td>MHxPC130080986</td>\n",
       "      <td>1</td>\n",
       "      <td>1</td>\n",
       "      <td>0</td>\n",
       "      <td>0</td>\n",
       "      <td>United States</td>\n",
       "      <td>NaN</td>\n",
       "      <td>NaN</td>\n",
       "      <td>NaN</td>\n",
       "      <td>...</td>\n",
       "      <td>1</td>\n",
       "      <td>0</td>\n",
       "      <td>NaN</td>\n",
       "      <td>1</td>\n",
       "      <td>1</td>\n",
       "      <td>NaN</td>\n",
       "      <td>NaN</td>\n",
       "      <td>-0.223825</td>\n",
       "      <td>1.808753</td>\n",
       "      <td>-0.242351</td>\n",
       "    </tr>\n",
       "  </tbody>\n",
       "</table>\n",
       "<p>5 rows × 26 columns</p>\n",
       "</div>"
      ],
      "text/plain": [
       "              course_id       userid_di  registered  viewed  explored  \\\n",
       "1   HarvardX/CS50x/2012  MHxPC130442623           1       1         0   \n",
       "3   HarvardX/CS50x/2012  MHxPC130275857           1       0         0   \n",
       "9   HarvardX/CS50x/2012  MHxPC130088379           1       1         0   \n",
       "13  HarvardX/CS50x/2012  MHxPC130024894           1       1         0   \n",
       "17  HarvardX/CS50x/2012  MHxPC130080986           1       1         0   \n",
       "\n",
       "    certified final_cc_cname_di loe_di  yob gender     ...     nchapters  \\\n",
       "1           0     United States    NaN  NaN    NaN     ...             1   \n",
       "3           0     United States    NaN  NaN    NaN     ...             0   \n",
       "9           0     United States    NaN  NaN    NaN     ...             3   \n",
       "13          0     United States    NaN  NaN    NaN     ...             2   \n",
       "17          0     United States    NaN  NaN    NaN     ...             1   \n",
       "\n",
       "   nforum_posts roles  incomplete_flag  outcome  new_yob  age  znevents  \\\n",
       "1             0   NaN                1        1      NaN  NaN -0.223825   \n",
       "3             0   NaN                1        0      NaN  NaN -0.223825   \n",
       "9             0   NaN                1        1      NaN  NaN -0.223825   \n",
       "13            0   NaN                1        1      NaN  NaN -0.223825   \n",
       "17            0   NaN                1        1      NaN  NaN -0.223825   \n",
       "\n",
       "    zndays_act  znchapters  \n",
       "1     1.428594   -0.242351  \n",
       "3     2.759151   -0.639195  \n",
       "9     1.998833    0.551336  \n",
       "13    0.098038    0.154492  \n",
       "17    1.808753   -0.242351  \n",
       "\n",
       "[5 rows x 26 columns]"
      ]
     },
     "execution_count": 8,
     "metadata": {},
     "output_type": "execute_result"
    }
   ],
   "source": [
    "cs50.head()"
   ]
  },
  {
   "cell_type": "code",
   "execution_count": 119,
   "metadata": {
    "collapsed": false
   },
   "outputs": [
    {
     "name": "stderr",
     "output_type": "stream",
     "text": [
      "/Users/TeddyandAlex/anaconda/lib/python2.7/site-packages/IPython/kernel/__main__.py:11: SettingWithCopyWarning: \n",
      "A value is trying to be set on a copy of a slice from a DataFrame.\n",
      "Try using .loc[row_indexer,col_indexer] = value instead\n",
      "\n",
      "See the caveats in the documentation: http://pandas.pydata.org/pandas-docs/stable/indexing.html#indexing-view-versus-copy\n"
     ]
    }
   ],
   "source": [
    "#Run kmeans model\n",
    "from sklearn.cluster import KMeans\n",
    "feature_cols = ['znevents', 'zndays_act', 'znchapters']\n",
    "X = cs50[feature_cols]\n",
    "k_means = KMeans(n_clusters=3)\n",
    "k_means.fit(X)\n",
    "labels = k_means.labels_\n",
    "iner = k_means.inertia_\n",
    "centroids = k_means.cluster_centers_\n",
    "pd.value_counts(labels)\n",
    "cs50['Cluster_labels'] = pd.Series(labels, index=cs50.index)\n",
    "\n"
   ]
  },
  {
   "cell_type": "code",
   "execution_count": 10,
   "metadata": {
    "collapsed": false
   },
   "outputs": [
    {
     "data": {
      "text/html": [
       "<div>\n",
       "<table border=\"1\" class=\"dataframe\">\n",
       "  <thead>\n",
       "    <tr style=\"text-align: right;\">\n",
       "      <th></th>\n",
       "      <th>registered</th>\n",
       "      <th>viewed</th>\n",
       "      <th>explored</th>\n",
       "      <th>certified</th>\n",
       "      <th>yob</th>\n",
       "      <th>nevents</th>\n",
       "      <th>ndays_act</th>\n",
       "      <th>nplay_video</th>\n",
       "      <th>nchapters</th>\n",
       "      <th>nforum_posts</th>\n",
       "      <th>roles</th>\n",
       "      <th>incomplete_flag</th>\n",
       "      <th>new_yob</th>\n",
       "      <th>age</th>\n",
       "      <th>znevents</th>\n",
       "      <th>zndays_act</th>\n",
       "      <th>znchapters</th>\n",
       "      <th>Cluster_labels</th>\n",
       "    </tr>\n",
       "  </thead>\n",
       "  <tbody>\n",
       "    <tr>\n",
       "      <th>count</th>\n",
       "      <td>169621</td>\n",
       "      <td>169621.000000</td>\n",
       "      <td>169621.000000</td>\n",
       "      <td>169621.000000</td>\n",
       "      <td>149828.000000</td>\n",
       "      <td>169621.000000</td>\n",
       "      <td>169621.000000</td>\n",
       "      <td>0</td>\n",
       "      <td>169621.000000</td>\n",
       "      <td>169621</td>\n",
       "      <td>0</td>\n",
       "      <td>68862</td>\n",
       "      <td>149828.000000</td>\n",
       "      <td>149828.000000</td>\n",
       "      <td>1.696210e+05</td>\n",
       "      <td>1.696210e+05</td>\n",
       "      <td>1.696210e+05</td>\n",
       "      <td>169621.000000</td>\n",
       "    </tr>\n",
       "    <tr>\n",
       "      <th>mean</th>\n",
       "      <td>1</td>\n",
       "      <td>0.625430</td>\n",
       "      <td>0.064986</td>\n",
       "      <td>0.007588</td>\n",
       "      <td>1984.892604</td>\n",
       "      <td>11.583088</td>\n",
       "      <td>1.484227</td>\n",
       "      <td>NaN</td>\n",
       "      <td>1.610697</td>\n",
       "      <td>0</td>\n",
       "      <td>NaN</td>\n",
       "      <td>1</td>\n",
       "      <td>1984.892604</td>\n",
       "      <td>28.107396</td>\n",
       "      <td>5.007667e-14</td>\n",
       "      <td>2.631122e-14</td>\n",
       "      <td>-3.472878e-14</td>\n",
       "      <td>0.228680</td>\n",
       "    </tr>\n",
       "    <tr>\n",
       "      <th>std</th>\n",
       "      <td>0</td>\n",
       "      <td>0.484013</td>\n",
       "      <td>0.246502</td>\n",
       "      <td>0.086775</td>\n",
       "      <td>9.081319</td>\n",
       "      <td>51.750798</td>\n",
       "      <td>5.260972</td>\n",
       "      <td>NaN</td>\n",
       "      <td>2.519892</td>\n",
       "      <td>0</td>\n",
       "      <td>NaN</td>\n",
       "      <td>0</td>\n",
       "      <td>9.081319</td>\n",
       "      <td>9.081319</td>\n",
       "      <td>1.000003e+00</td>\n",
       "      <td>1.000003e+00</td>\n",
       "      <td>1.000003e+00</td>\n",
       "      <td>0.760582</td>\n",
       "    </tr>\n",
       "    <tr>\n",
       "      <th>min</th>\n",
       "      <td>1</td>\n",
       "      <td>0.000000</td>\n",
       "      <td>0.000000</td>\n",
       "      <td>0.000000</td>\n",
       "      <td>1935.000000</td>\n",
       "      <td>0.000000</td>\n",
       "      <td>0.000000</td>\n",
       "      <td>NaN</td>\n",
       "      <td>0.000000</td>\n",
       "      <td>0</td>\n",
       "      <td>NaN</td>\n",
       "      <td>1</td>\n",
       "      <td>1935.000000</td>\n",
       "      <td>0.000000</td>\n",
       "      <td>-2.238250e-01</td>\n",
       "      <td>-2.821211e-01</td>\n",
       "      <td>-6.391946e-01</td>\n",
       "      <td>0.000000</td>\n",
       "    </tr>\n",
       "    <tr>\n",
       "      <th>25%</th>\n",
       "      <td>1</td>\n",
       "      <td>0.000000</td>\n",
       "      <td>0.000000</td>\n",
       "      <td>0.000000</td>\n",
       "      <td>1981.000000</td>\n",
       "      <td>0.000000</td>\n",
       "      <td>0.000000</td>\n",
       "      <td>NaN</td>\n",
       "      <td>0.000000</td>\n",
       "      <td>0</td>\n",
       "      <td>NaN</td>\n",
       "      <td>1</td>\n",
       "      <td>1981.000000</td>\n",
       "      <td>22.000000</td>\n",
       "      <td>-2.238250e-01</td>\n",
       "      <td>-2.821211e-01</td>\n",
       "      <td>-6.391946e-01</td>\n",
       "      <td>0.000000</td>\n",
       "    </tr>\n",
       "    <tr>\n",
       "      <th>50%</th>\n",
       "      <td>1</td>\n",
       "      <td>1.000000</td>\n",
       "      <td>0.000000</td>\n",
       "      <td>0.000000</td>\n",
       "      <td>1987.000000</td>\n",
       "      <td>0.000000</td>\n",
       "      <td>0.000000</td>\n",
       "      <td>NaN</td>\n",
       "      <td>1.000000</td>\n",
       "      <td>0</td>\n",
       "      <td>NaN</td>\n",
       "      <td>1</td>\n",
       "      <td>1987.000000</td>\n",
       "      <td>26.000000</td>\n",
       "      <td>-2.238250e-01</td>\n",
       "      <td>-2.821211e-01</td>\n",
       "      <td>-2.423511e-01</td>\n",
       "      <td>0.000000</td>\n",
       "    </tr>\n",
       "    <tr>\n",
       "      <th>75%</th>\n",
       "      <td>1</td>\n",
       "      <td>1.000000</td>\n",
       "      <td>0.000000</td>\n",
       "      <td>0.000000</td>\n",
       "      <td>1991.000000</td>\n",
       "      <td>2.000000</td>\n",
       "      <td>1.000000</td>\n",
       "      <td>NaN</td>\n",
       "      <td>2.000000</td>\n",
       "      <td>0</td>\n",
       "      <td>NaN</td>\n",
       "      <td>1</td>\n",
       "      <td>1991.000000</td>\n",
       "      <td>32.000000</td>\n",
       "      <td>-1.851781e-01</td>\n",
       "      <td>-9.204155e-02</td>\n",
       "      <td>1.544925e-01</td>\n",
       "      <td>0.000000</td>\n",
       "    </tr>\n",
       "    <tr>\n",
       "      <th>max</th>\n",
       "      <td>1</td>\n",
       "      <td>1.000000</td>\n",
       "      <td>1.000000</td>\n",
       "      <td>1.000000</td>\n",
       "      <td>2013.000000</td>\n",
       "      <td>3491.000000</td>\n",
       "      <td>176.000000</td>\n",
       "      <td>NaN</td>\n",
       "      <td>12.000000</td>\n",
       "      <td>0</td>\n",
       "      <td>NaN</td>\n",
       "      <td>1</td>\n",
       "      <td>2013.000000</td>\n",
       "      <td>78.000000</td>\n",
       "      <td>6.723427e+01</td>\n",
       "      <td>3.317187e+01</td>\n",
       "      <td>4.122928e+00</td>\n",
       "      <td>3.000000</td>\n",
       "    </tr>\n",
       "  </tbody>\n",
       "</table>\n",
       "</div>"
      ],
      "text/plain": [
       "       registered         viewed       explored      certified            yob  \\\n",
       "count      169621  169621.000000  169621.000000  169621.000000  149828.000000   \n",
       "mean            1       0.625430       0.064986       0.007588    1984.892604   \n",
       "std             0       0.484013       0.246502       0.086775       9.081319   \n",
       "min             1       0.000000       0.000000       0.000000    1935.000000   \n",
       "25%             1       0.000000       0.000000       0.000000    1981.000000   \n",
       "50%             1       1.000000       0.000000       0.000000    1987.000000   \n",
       "75%             1       1.000000       0.000000       0.000000    1991.000000   \n",
       "max             1       1.000000       1.000000       1.000000    2013.000000   \n",
       "\n",
       "             nevents      ndays_act  nplay_video      nchapters  nforum_posts  \\\n",
       "count  169621.000000  169621.000000            0  169621.000000        169621   \n",
       "mean       11.583088       1.484227          NaN       1.610697             0   \n",
       "std        51.750798       5.260972          NaN       2.519892             0   \n",
       "min         0.000000       0.000000          NaN       0.000000             0   \n",
       "25%         0.000000       0.000000          NaN       0.000000             0   \n",
       "50%         0.000000       0.000000          NaN       1.000000             0   \n",
       "75%         2.000000       1.000000          NaN       2.000000             0   \n",
       "max      3491.000000     176.000000          NaN      12.000000             0   \n",
       "\n",
       "       roles  incomplete_flag        new_yob            age      znevents  \\\n",
       "count      0            68862  149828.000000  149828.000000  1.696210e+05   \n",
       "mean     NaN                1    1984.892604      28.107396  5.007667e-14   \n",
       "std      NaN                0       9.081319       9.081319  1.000003e+00   \n",
       "min      NaN                1    1935.000000       0.000000 -2.238250e-01   \n",
       "25%      NaN                1    1981.000000      22.000000 -2.238250e-01   \n",
       "50%      NaN                1    1987.000000      26.000000 -2.238250e-01   \n",
       "75%      NaN                1    1991.000000      32.000000 -1.851781e-01   \n",
       "max      NaN                1    2013.000000      78.000000  6.723427e+01   \n",
       "\n",
       "         zndays_act    znchapters  Cluster_labels  \n",
       "count  1.696210e+05  1.696210e+05   169621.000000  \n",
       "mean   2.631122e-14 -3.472878e-14        0.228680  \n",
       "std    1.000003e+00  1.000003e+00        0.760582  \n",
       "min   -2.821211e-01 -6.391946e-01        0.000000  \n",
       "25%   -2.821211e-01 -6.391946e-01        0.000000  \n",
       "50%   -2.821211e-01 -2.423511e-01        0.000000  \n",
       "75%   -9.204155e-02  1.544925e-01        0.000000  \n",
       "max    3.317187e+01  4.122928e+00        3.000000  "
      ]
     },
     "execution_count": 10,
     "metadata": {},
     "output_type": "execute_result"
    }
   ],
   "source": [
    "cs50.describe()"
   ]
  },
  {
   "cell_type": "code",
   "execution_count": 31,
   "metadata": {
    "collapsed": false
   },
   "outputs": [
    {
     "name": "stdout",
     "output_type": "stream",
     "text": [
      "1\n",
      "2\n",
      "3\n",
      "4\n",
      "5\n",
      "6\n",
      "7\n",
      "8\n",
      "9\n",
      "10\n",
      "11\n",
      "12\n",
      "13\n",
      "14\n",
      "15\n",
      "16\n",
      "17\n",
      "18\n",
      "19\n"
     ]
    }
   ],
   "source": [
    "# determining optimal number of clusters\n",
    "from sklearn.cluster import KMeans\n",
    "k_range = range(1,3)\n",
    "\n",
    "def k_var(xv,kran):\n",
    "    kiner_tuple = []\n",
    "    kiner_perc = []\n",
    "    for kr in kran:\n",
    "        k_means = KMeans(n_clusters = kr)\n",
    "        k_means.fit(xv)\n",
    "        iner = k_means.inertia_\n",
    "        #perc = iner/tss\n",
    "        kiner_tuple.append((kr,iner))\n",
    "        #kiner_perc.append(perc)\n",
    "        print kr\n",
    "        #print perc\n",
    "    return kiner_tuple\n",
    "    \n",
    "k_tup = k_var(X,k_range)\n"
   ]
  },
  {
   "cell_type": "code",
   "execution_count": 32,
   "metadata": {
    "collapsed": false
   },
   "outputs": [
    {
     "name": "stdout",
     "output_type": "stream",
     "text": [
      "[(1, 508862.99999999988), (2, 260991.87892762126), (3, 167809.26784937241), (4, 135888.78853677819), (5, 111923.40232998632), (6, 95722.760444308369), (7, 82229.994751948208), (8, 72076.092357941423), (9, 64814.679652792991), (10, 59354.94271435542), (11, 55226.187830071933), (12, 51456.091260009292), (13, 47742.842074047388), (14, 44412.025752833142), (15, 41503.940984690678), (16, 38966.916554521318), (17, 36983.65297980691), (18, 35239.782663305225), (19, 33548.834604829441)]\n"
     ]
    }
   ],
   "source": [
    "print k_tup"
   ]
  },
  {
   "cell_type": "code",
   "execution_count": 9,
   "metadata": {
    "collapsed": false
   },
   "outputs": [
    {
     "ename": "NameError",
     "evalue": "name 'k_tup' is not defined",
     "output_type": "error",
     "traceback": [
      "\u001b[0;31m---------------------------------------------------------------------------\u001b[0m",
      "\u001b[0;31mNameError\u001b[0m                                 Traceback (most recent call last)",
      "\u001b[0;32m<ipython-input-9-31925b545fb4>\u001b[0m in \u001b[0;36m<module>\u001b[0;34m()\u001b[0m\n\u001b[1;32m      5\u001b[0m \u001b[0mr\u001b[0m \u001b[0;34m=\u001b[0m \u001b[0;34m[\u001b[0m\u001b[0;34m]\u001b[0m\u001b[0;34m\u001b[0m\u001b[0m\n\u001b[1;32m      6\u001b[0m \u001b[0ms\u001b[0m \u001b[0;34m=\u001b[0m \u001b[0;34m[\u001b[0m\u001b[0;34m]\u001b[0m\u001b[0;34m\u001b[0m\u001b[0m\n\u001b[0;32m----> 7\u001b[0;31m \u001b[0;32mfor\u001b[0m \u001b[0mkm\u001b[0m\u001b[0;34m,\u001b[0m \u001b[0mss\u001b[0m \u001b[0;32min\u001b[0m \u001b[0mk_tup\u001b[0m\u001b[0;34m:\u001b[0m\u001b[0;34m\u001b[0m\u001b[0m\n\u001b[0m\u001b[1;32m      8\u001b[0m     \u001b[0mr\u001b[0m\u001b[0;34m.\u001b[0m\u001b[0mappend\u001b[0m\u001b[0;34m(\u001b[0m\u001b[0mkm\u001b[0m\u001b[0;34m)\u001b[0m\u001b[0;34m\u001b[0m\u001b[0m\n\u001b[1;32m      9\u001b[0m     \u001b[0ms\u001b[0m\u001b[0;34m.\u001b[0m\u001b[0mappend\u001b[0m\u001b[0;34m(\u001b[0m\u001b[0mss\u001b[0m\u001b[0;34m)\u001b[0m\u001b[0;34m\u001b[0m\u001b[0m\n",
      "\u001b[0;31mNameError\u001b[0m: name 'k_tup' is not defined"
     ]
    }
   ],
   "source": [
    "#graph total within cluster variance by # of clusters\n",
    "#Plot this to find point where marginal gain in variance explains drops (elbow)\n",
    "import matplotlib.pyplot as plt\n",
    "\n",
    "r = []\n",
    "s = []\n",
    "for km, ss in k_tup:\n",
    "    r.append(km)\n",
    "    s.append(ss)\n",
    "\n",
    "plt.title('Determining optimal # of clusters')\n",
    "plt.ylabel('Total within-cluster sum of squares')\n",
    "plt.xlabel('Number of clusters')\n",
    "plt.scatter(r, s, linewidths = 1)\n",
    "plt.plot(r,s,'.g')\n",
    "\n"
   ]
  },
  {
   "cell_type": "code",
   "execution_count": null,
   "metadata": {
    "collapsed": true
   },
   "outputs": [],
   "source": [
    "# use silouette scores: average distance between points within cluster as compared to average distance \n",
    "#between points in cluster to points in nearest cluster\n",
    "from sklearn.metrics import silhouette_samples, silhouette_score\n",
    "    \n",
    "silhouette_avg = silhouette_score(X, labels)"
   ]
  },
  {
   "cell_type": "code",
   "execution_count": 125,
   "metadata": {
    "collapsed": false
   },
   "outputs": [
    {
     "data": {
      "text/plain": [
       "0    63535\n",
       "1    95058\n",
       "2     9741\n",
       "3     1287\n",
       "Name: outcome, dtype: int64"
      ]
     },
     "execution_count": 125,
     "metadata": {},
     "output_type": "execute_result"
    }
   ],
   "source": [
    "#Set variables for plot\n",
    "\n",
    "rkm = cs50['Cluster_labels']\n",
    "x=cs50['znevents']\n",
    "y=cs50['zndays_act']\n",
    "z=cs50['znchapters']\n",
    "list = [x,y,z]\n",
    "\n",
    "cs50['Cluster_labels'].value_counts()\n",
    "cs50['outcome'].value_counts(sort = False)"
   ]
  },
  {
   "cell_type": "code",
   "execution_count": 121,
   "metadata": {
    "collapsed": false
   },
   "outputs": [
    {
     "name": "stdout",
     "output_type": "stream",
     "text": [
      "<mpl_toolkits.mplot3d.art3d.Path3DCollection object at 0x11632e450>\n"
     ]
    },
    {
     "data": {
      "image/png": "[encoded data removed]",
      "text/plain": [
       "<matplotlib.figure.Figure at 0x110d75a90>"
      ]
     },
     "metadata": {},
     "output_type": "display_data"
    }
   ],
   "source": [
    "#plot CS50 Kmeans results - \n",
    "%matplotlib inline\n",
    "import matplotlib.pyplot as plt\n",
    "from mpl_toolkits.mplot3d import Axes3D\n",
    "fig = plt.figure()\n",
    "ax = Axes3D(fig)\n",
    "ax.set_xlabel('znevents')\n",
    "ax.set_ylabel('zndays_act')\n",
    "ax.set_zlabel('znchapters')\n",
    "print ax.scatter(x,y,z, c=rkm, cmap=plt.cm.Accent)\n"
   ]
  },
  {
   "cell_type": "code",
   "execution_count": 124,
   "metadata": {
    "collapsed": false
   },
   "outputs": [
    {
     "name": "stdout",
     "output_type": "stream",
     "text": [
      "nevents\n",
      "Cluster_labels\n",
      "0      3.197771\n",
      "1    349.726592\n",
      "2     67.176421\n",
      "Name: nevents, dtype: float64\n",
      "ndays_act\n",
      "Cluster_labels\n",
      "0     0.616364\n",
      "1    37.432584\n",
      "2     7.047458\n",
      "Name: ndays_act, dtype: float64\n",
      "nchapters\n",
      "Cluster_labels\n",
      "0     1.013091\n",
      "1    10.169476\n",
      "2     8.685988\n",
      "Name: nchapters, dtype: float64\n"
     ]
    }
   ],
   "source": [
    "#characterize kmeans groups\n",
    "\n",
    "#cs50.nevents.groupby('Cluster_labels').mean()\n",
    "list = ['nevents', 'ndays_act', 'nchapters']\n",
    "for X in range(0,len(list)):\n",
    "    print list[X]\n",
    "    print cs50[list[X]].groupby(cs50['Cluster_labels']).mean()\n",
    "    \n"
   ]
  },
  {
   "cell_type": "code",
   "execution_count": 87,
   "metadata": {
    "collapsed": false
   },
   "outputs": [
    {
     "name": "stdout",
     "output_type": "stream",
     "text": [
      "0     63132\n",
      "1     54112\n",
      "2     25093\n",
      "3      8198\n",
      "4      4945\n",
      "5      2888\n",
      "6      1536\n",
      "7      1290\n",
      "8       925\n",
      "9       954\n",
      "10     1008\n",
      "11      696\n",
      "12     4844\n",
      "Name: nchapters, dtype: int64\n",
      "[(0, 0.372194480636242), (1, 0.50814638131638012), (2, 0.47908433090860492), (3, 0.30046913942237208), (4, 0.25909043277795241), (5, 0.20422883813025952), (6, 0.13649693415089309), (7, 0.13275702377276938), (8, 0.10976622760175626), (9, 0.1271660890429219), (10, 0.15394013439218082), (11, 0.1256317689530686)]\n"
     ]
    }
   ],
   "source": [
    "#create survival function\n",
    "%matplotlib inline \n",
    "chapters = cs50['nchapters']\n",
    "table1 = pd.Series.value_counts(chapters, sort = False)\n",
    "print table1\n",
    "sum1 = pd.Series.sum(table)\n",
    "zero = 0\n",
    "sum = sum1\n",
    "table2 = []\n",
    "for k in range(0,12):\n",
    "    index_tot = (table1.ix[k:13].sum())\n",
    "    per_drop = table1.ix[k]/(index_tot*1.0)\n",
    "    table2.append((k,per_drop))\n",
    "print table2"
   ]
  },
  {
   "cell_type": "code",
   "execution_count": 90,
   "metadata": {
    "collapsed": false
   },
   "outputs": [
    {
     "data": {
      "text/plain": [
       "[<matplotlib.lines.Line2D at 0x113221c50>]"
      ]
     },
     "execution_count": 90,
     "metadata": {},
     "output_type": "execute_result"
    },
    {
     "data": {
      "image/png": "[encoded data removed]",
      "text/plain": [
       "<matplotlib.figure.Figure at 0x1130542d0>"
      ]
     },
     "metadata": {},
     "output_type": "display_data"
    }
   ],
   "source": [
    "#plot survival function\n",
    "r = []\n",
    "s = []\n",
    "for i,va in table2:\n",
    "    r.append(i)\n",
    "    s.append(va)\n",
    "plt.minorticks_on()\n",
    "plt.title('Dropouts in CS50 Course by chapter')\n",
    "plt.ylabel('% dropouts as proportion of students left in course')\n",
    "plt.xlim(xmax=11.5)\n",
    "plt.xlim(xmin=-.5)\n",
    "plt.xlabel('Chapters')\n",
    "plt.scatter(r, s, linewidths = 1)\n",
    "plt.plot(r,s,'.y',linestyle='solid')"
   ]
  },
  {
   "cell_type": "code",
   "execution_count": 70,
   "metadata": {
    "collapsed": false
   },
   "outputs": [
    {
     "name": "stdout",
     "output_type": "stream",
     "text": [
      "0     63132\n",
      "1     54112\n",
      "2     25093\n",
      "3      8198\n",
      "4      4945\n",
      "12     4844\n",
      "5      2888\n",
      "6      1536\n",
      "7      1290\n",
      "10     1008\n",
      "9       954\n",
      "8       925\n",
      "11      696\n",
      "Name: nchapters, dtype: int64\n"
     ]
    },
    {
     "data": {
      "image/png": "[encoded data removed]",
      "text/plain": [
       "<matplotlib.figure.Figure at 0x110c27a10>"
      ]
     },
     "metadata": {},
     "output_type": "display_data"
    }
   ],
   "source": [
    "\n",
    "chapters.plot(kind='density')\n",
    "plt.locator_params(nbins = 15)\n",
    "plt.xlim(xmax=13)\n",
    "plt.xlim(xmin=0)\n",
    "plt.xlabel('Course Chapter')\n",
    "plt.ylabel('% of students')\n",
    "print chapters.value_counts()"
   ]
  },
  {
   "cell_type": "code",
   "execution_count": 123,
   "metadata": {
    "collapsed": false
   },
   "outputs": [
    {
     "name": "stdout",
     "output_type": "stream",
     "text": [
      "    new_yob  age outcome  znevents  zndays_act  znchapters  Cluster_labels  \\\n",
      "1       NaN  NaN       1 -0.223825    1.428594   -0.242351               0   \n",
      "3       NaN  NaN       0 -0.223825    2.759151   -0.639195               0   \n",
      "9       NaN  NaN       1 -0.223825    1.998833    0.551336               0   \n",
      "13      NaN  NaN       1 -0.223825    0.098038    0.154492               0   \n",
      "17      NaN  NaN       1 -0.223825    1.808753   -0.242351               0   \n",
      "\n",
      "    gd_f  gd_m  gd_o      ...        cty_Spain  cty_Ukraine  \\\n",
      "1      0     0     0      ...                0            0   \n",
      "3      0     0     0      ...                0            0   \n",
      "9      0     0     0      ...                0            0   \n",
      "13     0     0     0      ...                0            0   \n",
      "17     0     0     0      ...                0            0   \n",
      "\n",
      "    cty_United Kingdom  cty_United States  cty_Unknown/Other  deg_Bachelor's  \\\n",
      "1                    0                  1                  0               0   \n",
      "3                    0                  1                  0               0   \n",
      "9                    0                  1                  0               0   \n",
      "13                   0                  1                  0               0   \n",
      "17                   0                  1                  0               0   \n",
      "\n",
      "    deg_Doctorate  deg_Less than Secondary  deg_Master's  deg_Secondary  \n",
      "1               0                        0             0              0  \n",
      "3               0                        0             0              0  \n",
      "9               0                        0             0              0  \n",
      "13              0                        0             0              0  \n",
      "17              0                        0             0              0  \n",
      "\n",
      "[5 rows x 49 columns]\n"
     ]
    }
   ],
   "source": [
    "#Prediction\n",
    "#create dummies for country, female, highest degree\n",
    "attr = ['final_cc_cname_di', 'gender' ,'loe_di']\n",
    "for X in range(0,2):\n",
    "    cs50[attr[X]].value_counts()\n",
    "\n",
    "cs50.final_cc_cname_di.value_counts()\n",
    "dummies_gender=pd.get_dummies(cs50.gender, prefix = 'gd')\n",
    "cs50 = pd.concat([cs50, dummies_gender], axis = 1)\n",
    "\n",
    "dummies_country= pd.get_dummies(cs50.final_cc_cname_di, prefix = 'cty')\n",
    "cs50 = pd.concat([cs50, dummies_country], axis = 1)\n",
    "\n",
    "dummies_deg = pd.get_dummies(cs50.loe_di, prefix = 'deg')\n",
    "cs50 = pd.concat([cs50, dummies_deg], axis = 1)\n",
    "\n",
    "print cs50.ix[:,20:].head()\n",
    "\n",
    "\n"
   ]
  },
  {
   "cell_type": "code",
   "execution_count": 124,
   "metadata": {
    "collapsed": false
   },
   "outputs": [
    {
     "name": "stdout",
     "output_type": "stream",
     "text": [
      "['cty_Unknown/Other', 'cty_United States', 'cty_India', 'cty_Other Europe', 'cty_Other Africa', 'cty_United Kingdom', 'cty_Canada', 'cty_Brazil', 'cty_Other Middle East/Central Asia', 'cty_Other South Asia', 'cty_Russian Federation', 'cty_Pakistan', 'cty_Nigeria', 'cty_Australia', 'cty_Spain', 'cty_Other South America', 'cty_Philippines', 'cty_Egypt', 'cty_Germany', 'cty_Ukraine', 'cty_Other North & Central Amer., Caribbean', 'cty_France', 'cty_Mexico', 'cty_Morocco', 'cty_Other East Asia', 'cty_Poland', 'cty_Greece', 'cty_Colombia', 'cty_China', 'cty_Indonesia', 'cty_Bangladesh', 'cty_Portugal', 'cty_Japan', 'cty_Other Oceania']\n"
     ]
    }
   ],
   "source": [
    "#create list for country dummies\n",
    "\n",
    "country = cs50.final_cc_cname_di.value_counts()\n",
    "listcty = []\n",
    "for index, values in pd.Series.iteritems(country):\n",
    "    cty1 = 'cty_' + str(index)\n",
    "    listcty.append(cty1)\n",
    "\n",
    "print listcty"
   ]
  },
  {
   "cell_type": "code",
   "execution_count": 125,
   "metadata": {
    "collapsed": false
   },
   "outputs": [
    {
     "name": "stdout",
     "output_type": "stream",
     "text": [
      "41\n",
      "['gd_f', 'deg_Doctorate', 'deg_Less than Secondary', \"deg_Master's\", 'deg_Secondary', \"deg_Bachelor's\", 'age', 'cty_Unknown/Other', 'cty_United States', 'cty_India', 'cty_Other Europe', 'cty_Other Africa', 'cty_United Kingdom', 'cty_Canada', 'cty_Brazil', 'cty_Other Middle East/Central Asia', 'cty_Other South Asia', 'cty_Russian Federation', 'cty_Pakistan', 'cty_Nigeria', 'cty_Australia', 'cty_Spain', 'cty_Other South America', 'cty_Philippines', 'cty_Egypt', 'cty_Germany', 'cty_Ukraine', 'cty_Other North & Central Amer., Caribbean', 'cty_France', 'cty_Mexico', 'cty_Morocco', 'cty_Other East Asia', 'cty_Poland', 'cty_Greece', 'cty_Colombia', 'cty_China', 'cty_Indonesia', 'cty_Bangladesh', 'cty_Portugal', 'cty_Japan', 'cty_Other Oceania']\n",
      "1    95058\n",
      "0    63535\n",
      "2     9741\n",
      "3     1287\n",
      "Name: outcome, dtype: int64\n"
     ]
    }
   ],
   "source": [
    "#prepare other variables for prediction\n",
    "list = ['gd_f', 'deg_Doctorate', 'deg_Less than Secondary', \"deg_Master's\", 'deg_Secondary', \"deg_Bachelor's\", \"age\"]\n",
    "for item in range(0,len(listcty)):\n",
    "    list.append(listcty[item])\n",
    "import copy\n",
    "feature_cols = copy.copy(list)\n",
    "list = []\n",
    "print len(feature_cols)\n",
    "print feature_cols\n",
    "print cs50.outcome.value_counts()\n",
    "\n",
    "\n",
    "for what in range(0,len(feature_cols)):\n",
    "    cs50[feature_cols[what]].fillna(0, inplace = True)\n"
   ]
  },
  {
   "cell_type": "code",
   "execution_count": 127,
   "metadata": {
    "collapsed": false
   },
   "outputs": [
    {
     "name": "stdout",
     "output_type": "stream",
     "text": [
      "<bound method Series.value_counts of 1         False\n",
      "3         False\n",
      "9         False\n",
      "13        False\n",
      "17        False\n",
      "19        False\n",
      "20        False\n",
      "21        False\n",
      "22        False\n",
      "24        False\n",
      "25        False\n",
      "26        False\n",
      "27        False\n",
      "28        False\n",
      "30        False\n",
      "33        False\n",
      "34        False\n",
      "35        False\n",
      "37        False\n",
      "40        False\n",
      "45        False\n",
      "47        False\n",
      "49        False\n",
      "50        False\n",
      "51        False\n",
      "53        False\n",
      "54        False\n",
      "56        False\n",
      "57        False\n",
      "59        False\n",
      "          ...  \n",
      "338151    False\n",
      "338152    False\n",
      "338154    False\n",
      "338163    False\n",
      "338165    False\n",
      "338167    False\n",
      "338169    False\n",
      "338171    False\n",
      "338173    False\n",
      "338177    False\n",
      "338184    False\n",
      "338185    False\n",
      "338187    False\n",
      "338188    False\n",
      "338189    False\n",
      "338190    False\n",
      "338191    False\n",
      "338196    False\n",
      "338197    False\n",
      "338199    False\n",
      "338201    False\n",
      "338203    False\n",
      "338211    False\n",
      "338212    False\n",
      "338214    False\n",
      "338217    False\n",
      "338219    False\n",
      "338220    False\n",
      "338221    False\n",
      "338222    False\n",
      "Name: gd_f, dtype: bool>\n"
     ]
    }
   ],
   "source": [
    "cs50.gd_f.describe()\n",
    "print pd.isnull(cs50['gd_f']).value_counts"
   ]
  },
  {
   "cell_type": "code",
   "execution_count": 68,
   "metadata": {
    "collapsed": false
   },
   "outputs": [
    {
     "name": "stdout",
     "output_type": "stream",
     "text": [
      "cty_Unknown/Other                             float64\n",
      "cty_United States                             float64\n",
      "cty_India                                     float64\n",
      "cty_Other Europe                              float64\n",
      "cty_Other Africa                              float64\n",
      "cty_United Kingdom                            float64\n",
      "cty_Canada                                    float64\n",
      "cty_Brazil                                    float64\n",
      "cty_Other Middle East/Central Asia            float64\n",
      "cty_Other South Asia                          float64\n",
      "cty_Russian Federation                        float64\n",
      "cty_Pakistan                                  float64\n",
      "cty_Nigeria                                   float64\n",
      "cty_Australia                                 float64\n",
      "cty_Spain                                     float64\n",
      "cty_Other South America                       float64\n",
      "cty_Philippines                               float64\n",
      "cty_Egypt                                     float64\n",
      "cty_Germany                                   float64\n",
      "cty_Ukraine                                   float64\n",
      "cty_Other North & Central Amer., Caribbean    float64\n",
      "cty_France                                    float64\n",
      "cty_Mexico                                    float64\n",
      "cty_Morocco                                   float64\n",
      "cty_Other East Asia                           float64\n",
      "cty_Poland                                    float64\n",
      "cty_Greece                                    float64\n",
      "cty_Colombia                                  float64\n",
      "cty_China                                     float64\n",
      "cty_Indonesia                                 float64\n",
      "cty_Bangladesh                                float64\n",
      "cty_Portugal                                  float64\n",
      "cty_Japan                                     float64\n",
      "cty_Other Oceania                             float64\n",
      "dtype: object\n",
      "object\n"
     ]
    }
   ],
   "source": [
    "#KNN Prediction - trial run\n",
    "from sklearn.neighbors import KNeighborsClassifier\n",
    "# make an instance of a KNeighborsClassifier object\n",
    "\n",
    "X = cs50[feature_cols]\n",
    "y = cs50['outcome']\n",
    "knn = KNeighborsClassifier(n_neighbors=5)\n",
    "type(knn)\n",
    "knn.fit(X, y)\n",
    "pred = knn.predict(X)\n",
    "print X.dtypes\n",
    "print y.dtype\n",
    "yint=y.astype('int64')\n"
   ]
  },
  {
   "cell_type": "code",
   "execution_count": 18,
   "metadata": {
    "collapsed": false
   },
   "outputs": [
    {
     "data": {
      "text/plain": [
       "0.50358439843418379"
      ]
     },
     "execution_count": 18,
     "metadata": {},
     "output_type": "execute_result"
    }
   ],
   "source": [
    "# Evaluation KNN Predictions Using Train-Test Split\n",
    "#define function for 1 KNN evaluation using accuracy score\n",
    "from sklearn.cross_validation import train_test_split\n",
    "from sklearn import metrics\n",
    "def eval_knn(Xf, yf, rand, nn):\n",
    "    X_tr, X_te, y_tr, y_te = train_test_split(Xf, yf, random_state=rand)\n",
    "    knn = KNeighborsClassifier(n_neighbors=nn)\n",
    "    knn.fit(X_tr, y_tr)\n",
    "    y_pc = knn.predict(X_te)\n",
    "    met = (metrics.accuracy_score(y_te, y_pc))\n",
    "    return met\n",
    "eval_knn(X,yint,7, 5)"
   ]
  },
  {
   "cell_type": "code",
   "execution_count": 19,
   "metadata": {
    "collapsed": false
   },
   "outputs": [],
   "source": [
    "#Tuning\n",
    "#define function for multiple KNN evaluations, varying on n_neighbors, this time n_neighbors is an array\n",
    "\n",
    "def eval_knn_nn(Xf, yf, rand, nnl):\n",
    "    nmet_tuple = []\n",
    "    for value in nnl:\n",
    "        print value\n",
    "        measure = eval_knn(Xf, yf, rand, value)\n",
    "        nmet_tuple.append((value, measure))\n",
    "    return nmet_tuple\n",
    "    "
   ]
  },
  {
   "cell_type": "code",
   "execution_count": null,
   "metadata": {
    "collapsed": false
   },
   "outputs": [
    {
     "name": "stdout",
     "output_type": "stream",
     "text": [
      "1\n",
      "0.4630712635\n",
      "2\n",
      "0.456940055653\n",
      "3\n",
      "0.486110456068\n",
      "4\n",
      "0.484389001556\n",
      "5\n",
      "0.489576946658\n",
      "6\n",
      "0.497877658822\n",
      "7\n",
      "0.504999292553\n",
      "8\n",
      "0.510753195303\n",
      "9\n",
      "0.513700891383\n",
      "10\n",
      "0.514078196482\n",
      "11\n",
      "0.516625005895\n",
      "12\n",
      "0.51759185021\n",
      "13\n",
      "0.522331745508\n",
      "14\n",
      "0.522095929821\n",
      "15\n",
      "0.526930151394\n",
      "16\n",
      "0.527260293355\n",
      "17\n",
      "0.534499834929\n",
      "18\n",
      "0.535490260812\n",
      "19\n",
      "0.538249304344\n",
      "20\n",
      "0.540631042777\n",
      "21\n",
      "0.541597887091\n",
      "22\n",
      "0.541031929444\n",
      "23\n",
      "0.541244163562\n",
      "24\n",
      "0.541008347875\n",
      "25\n",
      "0.541149837287\n",
      "26\n",
      "0.540324482385\n",
      "27\n",
      "0.543932462387\n",
      "28\n",
      "0.544097533368\n",
      "29\n",
      "0.544427675329\n",
      "30\n",
      "0.542187426308\n",
      "31\n",
      "0.54388529925\n",
      "32\n",
      "0.542918454936\n",
      "33\n",
      "0.543437249446\n",
      "34\n",
      "0.544262604348\n",
      "35\n",
      "0.545913314154\n",
      "36\n",
      "0.546573598076\n",
      "37\n",
      "0.546927321605\n",
      "38\n",
      "0.546408527095\n",
      "39\n",
      "0.545394519643\n",
      "40\n",
      "0.548389378861\n",
      "41\n",
      "0.547351789841\n",
      "42\n",
      "0.548743102391\n",
      "43\n",
      "0.548884591803\n",
      "44\n",
      "0.549709946706\n",
      "45\n",
      "0.548012073763\n",
      "46\n",
      "0.549992925529\n",
      "47\n",
      "0.550016507098\n",
      "48\n",
      "0.553365089846\n",
      "49\n",
      "0.552256756119\n",
      "50\n",
      "0.552516153375\n",
      "51\n",
      "0.551879451021\n",
      "52\n",
      "0.552563316512\n",
      "53\n",
      "0.55277555063\n",
      "54\n",
      "0.553577323964\n",
      "55\n",
      "0.552539734943\n",
      "56\n",
      "0.552115266708\n",
      "57\n",
      "0.551690798472\n",
      "58\n",
      "0.552964203179\n",
      "59\n",
      "0.551737961609\n",
      "60\n",
      "0.552516153375\n",
      "61\n",
      "0.551525727491\n",
      "62\n",
      "0.554732820827\n",
      "63\n",
      "0.554143281611\n",
      "64\n",
      "0.554119700042\n",
      "65\n",
      "0.553506579258\n",
      "66\n",
      "0.553176437297\n",
      "67\n",
      "0.553011366316\n",
      "68\n",
      "0.553553742395\n",
      "69\n",
      "0.552869876904\n",
      "70\n",
      "0.552751969061\n",
      "71\n",
      "0.552091685139\n",
      "72\n",
      "0.554520586709\n",
      "73\n",
      "0.55277555063\n",
      "74\n",
      "0.554308352592\n",
      "75\n",
      "0.554803565533\n",
      "76\n",
      "0.553954629062\n",
      "77\n",
      "0.554756402396\n",
      "78\n",
      "0.554379097298\n",
      "79\n",
      "0.554237607886\n",
      "80\n",
      "0.555982643965\n",
      "81\n",
      "0.553200018865\n",
      "82\n",
      "0.553860302787\n",
      "83\n",
      "0.553435834552\n",
      "84\n",
      "0.554827147102\n",
      "85\n",
      "0.552728387492\n",
      "86\n",
      "0.555110125926\n",
      "87\n",
      "0.553954629062\n",
      "88\n",
      "0.554001792199\n",
      "89\n",
      "0.553365089846\n",
      "90\n",
      "0.554379097298\n",
      "91\n",
      "0.554001792199\n",
      "92\n",
      "0.554402678866\n",
      "93\n",
      "0.554308352592\n",
      "94\n",
      "0.556760835731\n",
      "95\n",
      "0.554779983965\n",
      "96\n",
      "0.557491864359"
     ]
    }
   ],
   "source": [
    "nnlist = np.arange(1,101)\n",
    "test = eval_knn_nn(X,yint,150,nnlist)\n",
    "print test\n"
   ]
  },
  {
   "cell_type": "code",
   "execution_count": 212,
   "metadata": {
    "collapsed": false
   },
   "outputs": [
    {
     "data": {
      "image/png": "[encoded data removed]",
      "text/plain": [
       "<matplotlib.figure.Figure at 0x10d604390>"
      ]
     },
     "metadata": {},
     "output_type": "display_data"
    }
   ],
   "source": [
    "#plot results\n",
    "import matplotlib.pyplot as plt\n",
    "n = []\n",
    "v = []\n",
    "for neigh, val in test:\n",
    "    n.append(neigh)\n",
    "    v.append(val)\n",
    "\n",
    "plt.title('Tuning KNN Model')\n",
    "plt.ylabel('Accuracy Score')\n",
    "plt.xlabel('Number of Neighbors')\n",
    "plt.scatter(n, v, linewidths = 1)\n",
    "plt.plot(n,v,'.r-')\n",
    "plt.show()\n"
   ]
  },
  {
   "cell_type": "code",
   "execution_count": null,
   "metadata": {
    "collapsed": true
   },
   "outputs": [],
   "source": [
    "'gd_f', 'deg_Doctorate', 'deg_Less than Secondary', \"deg_Master's\", 'deg_Secondary', \"deg_Bachelor's\", \"age\" "
   ]
  },
  {
   "cell_type": "code",
   "execution_count": 128,
   "metadata": {
    "collapsed": false
   },
   "outputs": [
    {
     "name": "stdout",
     "output_type": "stream",
     "text": [
      "41\n",
      "False    169621\n",
      "Name: age, dtype: int64\n"
     ]
    }
   ],
   "source": [
    "print len(feature_cols)\n",
    "cs50.describe()\n",
    "#for what in range(0,len(feature_cols)):\n",
    "    #cs50[fe]\n",
    "   \n",
    "print pd.isnull(cs50['age']).value_counts()\n",
    "\n",
    "    #print pd.isnull(cs50[feature_cols[what]]).value_counts()"
   ]
  },
  {
   "cell_type": "code",
   "execution_count": 145,
   "metadata": {
    "collapsed": false
   },
   "outputs": [
    {
     "data": {
      "text/plain": [
       "1    146501\n",
       "0     23120\n",
       "Name: log_pred_class, dtype: int64"
      ]
     },
     "execution_count": 145,
     "metadata": {},
     "output_type": "execute_result"
    }
   ],
   "source": [
    "#Logistic  Regression Model\n",
    "# fit a logistic regression model and store the class predictions\n",
    "#feature_cols already defined above\n",
    "from sklearn.linear_model import LogisticRegression\n",
    "feature_cols1 = ['gd_f', 'deg_Doctorate', #'deg_Less than Secondary'#\n",
    "                  \"deg_Master's\", 'deg_Secondary', \"deg_Bachelor's\",\n",
    " 'age', 'cty_Unknown/Other', #'cty_United States'\n",
    " 'cty_India', 'cty_Other Europe', 'cty_Other Africa', \n",
    " 'cty_United Kingdom', 'cty_Canada', 'cty_Brazil', 'cty_Other Middle East/Central Asia', 'cty_Other South Asia', \n",
    " 'cty_Russian Federation', 'cty_Pakistan', 'cty_Nigeria', 'cty_Australia', 'cty_Spain', 'cty_Other South America', \n",
    " 'cty_Philippines', 'cty_Egypt', 'cty_Germany', 'cty_Ukraine', 'cty_Other North & Central Amer., Caribbean', \n",
    " 'cty_France', 'cty_Mexico', 'cty_Morocco', 'cty_Other East Asia', 'cty_Poland', 'cty_Greece',\n",
    " 'cty_Colombia', 'cty_China', 'cty_Indonesia', 'cty_Bangladesh', 'cty_Portugal', 'cty_Japan', 'cty_Other Oceania']\n",
    "\n",
    "logreg = LogisticRegression()\n",
    "\n",
    "X = cs50[feature_cols1]\n",
    "y = cs50['outcome']\n",
    "logreg.fit(X, y)\n",
    "cs50['log_pred_class'] = logreg.predict(X)\n",
    "cs50['log_pred_class'].value_counts()"
   ]
  },
  {
   "cell_type": "code",
   "execution_count": 146,
   "metadata": {
    "collapsed": false
   },
   "outputs": [
    {
     "name": "stdout",
     "output_type": "stream",
     "text": [
      "['gd_f', 'deg_Doctorate', 'deg_Less than Secondary', \"deg_Master's\", 'deg_Secondary', \"deg_Bachelor's\", 'age', 'cty_Unknown/Other', 'cty_United States', 'cty_India', 'cty_Other Europe', 'cty_Other Africa', 'cty_United Kingdom', 'cty_Canada', 'cty_Brazil', 'cty_Other Middle East/Central Asia', 'cty_Other South Asia', 'cty_Russian Federation', 'cty_Pakistan', 'cty_Nigeria', 'cty_Australia', 'cty_Spain', 'cty_Other South America', 'cty_Philippines', 'cty_Egypt', 'cty_Germany', 'cty_Ukraine', 'cty_Other North & Central Amer., Caribbean', 'cty_France', 'cty_Mexico', 'cty_Morocco', 'cty_Other East Asia', 'cty_Poland', 'cty_Greece', 'cty_Colombia', 'cty_China', 'cty_Indonesia', 'cty_Bangladesh', 'cty_Portugal', 'cty_Japan', 'cty_Other Oceania']\n",
      "41\n"
     ]
    },
    {
     "data": {
      "text/plain": [
       "[(array([  1.57582071e-01,   4.13732882e-02,   8.39062420e-02,\n",
       "          -4.80020913e-02,   1.25610818e-01,   4.83190685e-04,\n",
       "           6.16257706e-01,  -1.50168273e-01,  -4.17179570e-01,\n",
       "           1.19202520e-01,  -2.39972873e-01,  -9.85232956e-02,\n",
       "           7.49016656e-03,   9.11737362e-02,  -6.88275654e-02,\n",
       "           1.79102856e-01,   3.43826005e-01,   1.54768785e-01,\n",
       "           2.15067700e-01,  -4.09007027e-01,  -1.09249610e-03,\n",
       "           1.48660707e-02,   2.15684522e-01,  -3.32567750e-01,\n",
       "          -2.10206194e-01,  -9.00132678e-02,  -1.33174421e-01,\n",
       "          -1.84138028e-01,  -2.33602970e-01,  -1.94610438e-01,\n",
       "          -4.59834794e-01,  -5.31168385e-01,  -9.68831137e-02,\n",
       "           2.06535947e-01,   1.53171687e-01,   2.16053315e-01,\n",
       "          -1.79977172e-01,  -3.33627791e-01,  -3.65114952e-01]),),\n",
       " (array([ -4.34772327e-02,  -5.06702288e-02,  -4.17835043e-02,\n",
       "           6.62292349e-02,  -6.95359640e-02,  -6.06111598e-05,\n",
       "          -4.10812111e-01,  -1.03240361e-01,   2.04375180e-02,\n",
       "          -1.93805456e-01,  -2.34981855e-02,  -7.22868365e-03,\n",
       "          -7.78716249e-02,  -2.33907580e-01,  -7.91523291e-02,\n",
       "          -3.50430698e-01,  -3.47952093e-01,  -1.98010376e-01,\n",
       "          -3.00033132e-01,   4.84334255e-02,  -8.86907096e-02,\n",
       "          -1.24495974e-03,  -3.58337626e-01,  -6.74631180e-02,\n",
       "          -1.50764940e-01,   4.01777410e-02,  -1.00675126e-01,\n",
       "           1.29541779e-02,   5.94137558e-02,  -6.97268026e-03,\n",
       "          -3.63386956e-02,   1.14383349e-01,  -3.03407203e-03,\n",
       "          -2.53947429e-01,  -2.21280220e-01,  -3.20634590e-01,\n",
       "          -1.39036412e-01,   1.17986514e-01,   1.61786855e-01]),),\n",
       " (array([-0.59771096,  0.10597199, -0.11745591, -0.03748566, -0.16074012,\n",
       "         -0.00227083, -1.33099532,  0.6855601 ,  0.84932229,  0.32472837,\n",
       "          0.57617571,  0.35221933,  0.22187141,  0.53557905,  0.41025348,\n",
       "          0.49629046,  0.12412944,  0.23841057,  0.25670308,  0.71914025,\n",
       "          0.31024515, -0.14153689,  0.49397456,  0.81618546,  0.83893242,\n",
       "          0.16353361,  0.48674505,  0.51571193,  0.51851771,  0.57112382,\n",
       "          1.04927114,  0.68628278,  0.24305054,  0.28258736,  0.26432093,\n",
       "          0.45138887,  0.67822368,  0.37564424,  0.42025173]),),\n",
       " (array([ -2.98784303e-01,   6.24166178e-02,  -1.36263488e-01,\n",
       "          -2.35169440e-01,  -2.76569658e-01,   4.86905088e-03,\n",
       "          -4.04250533e+00,   6.07184964e-01,   1.06212487e+00,\n",
       "          -3.41029635e-02,   1.11632050e+00,   1.14730546e-01,\n",
       "           2.98469013e-01,   2.38820198e-03,   6.68577979e-01,\n",
       "           9.49770527e-01,  -5.06228507e-01,  -4.00744417e-01,\n",
       "           6.82582390e-01,   1.23678752e+00,  -1.86704106e-02,\n",
       "           4.32824759e-01,   4.91318731e-01,   1.32369288e+00,\n",
       "           1.24751891e+00,   1.16164280e-01,   1.25798472e+00,\n",
       "          -8.06687347e-02,   5.50446719e-03,   3.96882261e-01,\n",
       "           6.92845814e-01,   1.45375231e+00,   4.91136604e-01,\n",
       "          -3.50378164e-01,   3.20538420e-01,  -2.58903192e-01,\n",
       "           1.21682328e+00,   6.26291020e-01,  -8.72651074e-02]),)]"
      ]
     },
     "execution_count": 146,
     "metadata": {},
     "output_type": "execute_result"
    }
   ],
   "source": [
    "# Examine Coefficients\n",
    "print feature_cols\n",
    "print len(feature_cols)\n",
    "zip(logreg.coef_)"
   ]
  },
  {
   "cell_type": "code",
   "execution_count": 133,
   "metadata": {
    "collapsed": false
   },
   "outputs": [
    {
     "name": "stdout",
     "output_type": "stream",
     "text": [
      "0.559850021223\n"
     ]
    },
    {
     "data": {
      "text/plain": [
       "0.55985002122341176"
      ]
     },
     "execution_count": 133,
     "metadata": {},
     "output_type": "execute_result"
    }
   ],
   "source": [
    "#evaluate model\n",
    "#cross validation score - doesn't work with multiclass format\n",
    "#use accuracy score\n",
    "# Evaluation logistic model Using Train-Test Split and accuracy scores\n",
    "from sklearn.cross_validation import train_test_split\n",
    "from sklearn import metrics\n",
    "def eval_log(Xf, yf, rand):\n",
    "    X_tr, X_te, y_tr, y_te = train_test_split(Xf, yf, random_state=rand)\n",
    "    logreg = LogisticRegression()\n",
    "    logreg.fit(X_tr, y_tr)\n",
    "    y_pc = logreg.predict(X_te)\n",
    "    met = (metrics.accuracy_score(y_te, y_pc))\n",
    "    print metrics.accuracy_score(y_te, y_pc)\n",
    "    return met\n",
    "eval_log(X,yint,7)"
   ]
  },
  {
   "cell_type": "code",
   "execution_count": 137,
   "metadata": {
    "collapsed": false
   },
   "outputs": [
    {
     "name": "stdout",
     "output_type": "stream",
     "text": [
      "['gd_f', 'deg_Doctorate', 'deg_Less than Secondary', \"deg_Master's\", 'deg_Secondary', \"deg_Bachelor's\", 'age', 'cty_Unknown/Other', 'cty_United States', 'cty_India', 'cty_Other Europe', 'cty_Other Africa', 'cty_United Kingdom', 'cty_Canada', 'cty_Brazil', 'cty_Other Middle East/Central Asia', 'cty_Other South Asia', 'cty_Russian Federation', 'cty_Pakistan', 'cty_Nigeria', 'cty_Australia', 'cty_Spain', 'cty_Other South America', 'cty_Philippines', 'cty_Egypt', 'cty_Germany', 'cty_Ukraine', 'cty_Other North & Central Amer., Caribbean', 'cty_France', 'cty_Mexico', 'cty_Morocco', 'cty_Other East Asia', 'cty_Poland', 'cty_Greece', 'cty_Colombia', 'cty_China', 'cty_Indonesia', 'cty_Bangladesh', 'cty_Portugal', 'cty_Japan', 'cty_Other Oceania']\n"
     ]
    }
   ],
   "source": [
    "print feature_cols"
   ]
  },
  {
   "cell_type": "code",
   "execution_count": 142,
   "metadata": {
    "collapsed": false
   },
   "outputs": [
    {
     "name": "stdout",
     "output_type": "stream",
     "text": [
      "0.559967929067\n",
      "0.560203744753\n",
      "0.558529453379\n"
     ]
    },
    {
     "data": {
      "text/plain": [
       "0.55852945337923876"
      ]
     },
     "execution_count": 142,
     "metadata": {},
     "output_type": "execute_result"
    }
   ],
   "source": [
    "#create different versions of feature vectors and test models\n",
    "feature_cols1 = ['gd_f', 'deg_Doctorate', #'deg_Less than Secondary'#\n",
    "                  \"deg_Master's\", 'deg_Secondary', \"deg_Bachelor's\",\n",
    " 'age', 'cty_Unknown/Other', #'cty_United States'\n",
    " 'cty_India', 'cty_Other Europe', 'cty_Other Africa', \n",
    " 'cty_United Kingdom', 'cty_Canada', 'cty_Brazil', 'cty_Other Middle East/Central Asia', 'cty_Other South Asia', \n",
    " 'cty_Russian Federation', 'cty_Pakistan', 'cty_Nigeria', 'cty_Australia', 'cty_Spain', 'cty_Other South America', \n",
    " 'cty_Philippines', 'cty_Egypt', 'cty_Germany', 'cty_Ukraine', 'cty_Other North & Central Amer., Caribbean', \n",
    " 'cty_France', 'cty_Mexico', 'cty_Morocco', 'cty_Other East Asia', 'cty_Poland', 'cty_Greece',\n",
    " 'cty_Colombia', 'cty_China', 'cty_Indonesia', 'cty_Bangladesh', 'cty_Portugal', 'cty_Japan', 'cty_Other Oceania']\n",
    "feature_cols2 = ['gd_f', 'deg_Doctorate', 'deg_Less than Secondary',\n",
    "\"deg_Master's\", 'deg_Secondary', \"deg_Bachelor's\", 'age', 'cty_Unknown/Other', 'cty_United States']\n",
    "feature_cols3 = ['gd_f', 'deg_Doctorate', 'deg_Less than Secondary',\n",
    "\"deg_Master's\", 'deg_Secondary', \"deg_Bachelor's\", 'age', 'cty_United States']\n",
    "X1 = cs50[feature_cols1]\n",
    "X2=cs50[feature_cols2]\n",
    "X3 = cs50[feature_cols3]\n",
    "eval_log(X1,yint,7)\n",
    "eval_log(X2,yint,7)\n",
    "eval_log(X3, yint,7)"
   ]
  }
 ],
 "metadata": {
  "kernelspec": {
   "display_name": "Python 2",
   "language": "python",
   "name": "python2"
  },
  "language_info": {
   "codemirror_mode": {
    "name": "ipython",
    "version": 2
   },
   "file_extension": ".py",
   "mimetype": "text/x-python",
   "name": "python",
   "nbconvert_exporter": "python",
   "pygments_lexer": "ipython2",
   "version": "2.7.10"
  }
 },
 "nbformat": 4,
 "nbformat_minor": 0
}
