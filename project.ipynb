{
 "cells": [
  {
   "cell_type": "code",
   "execution_count": 1,
   "metadata": {
    "collapsed": false
   },
   "outputs": [
    {
     "name": "stderr",
     "output_type": "stream",
     "text": [
      "/Users/TeddyandAlex/anaconda/lib/python2.7/site-packages/matplotlib/__init__.py:872: UserWarning: axes.color_cycle is deprecated and replaced with axes.prop_cycle; please use the latter.\n",
      "  warnings.warn(self.msg_depr % (key, alt_key))\n"
     ]
    },
    {
     "data": {
      "text/html": [
       "<div>\n",
       "<table border=\"1\" class=\"dataframe\">\n",
       "  <thead>\n",
       "    <tr style=\"text-align: right;\">\n",
       "      <th></th>\n",
       "      <th>course_id</th>\n",
       "      <th>userid_di</th>\n",
       "      <th>registered</th>\n",
       "      <th>viewed</th>\n",
       "      <th>explored</th>\n",
       "      <th>certified</th>\n",
       "      <th>final_cc_cname_di</th>\n",
       "      <th>loe_di</th>\n",
       "      <th>yob</th>\n",
       "      <th>gender</th>\n",
       "      <th>grade</th>\n",
       "      <th>start_time_di</th>\n",
       "      <th>last_event_di</th>\n",
       "      <th>nevents</th>\n",
       "      <th>ndays_act</th>\n",
       "      <th>nplay_video</th>\n",
       "      <th>nchapters</th>\n",
       "      <th>nforum_posts</th>\n",
       "      <th>roles</th>\n",
       "      <th>incomplete_flag</th>\n",
       "    </tr>\n",
       "  </thead>\n",
       "  <tbody>\n",
       "    <tr>\n",
       "      <th>0</th>\n",
       "      <td>HarvardX/CB22x/2013_Spring</td>\n",
       "      <td>MHxPC130442623</td>\n",
       "      <td>1</td>\n",
       "      <td>0</td>\n",
       "      <td>0</td>\n",
       "      <td>0</td>\n",
       "      <td>United States</td>\n",
       "      <td>NaN</td>\n",
       "      <td>NaN</td>\n",
       "      <td>NaN</td>\n",
       "      <td>0</td>\n",
       "      <td>2012-12-19</td>\n",
       "      <td>2013-11-17</td>\n",
       "      <td>NaN</td>\n",
       "      <td>9</td>\n",
       "      <td>NaN</td>\n",
       "      <td>NaN</td>\n",
       "      <td>0</td>\n",
       "      <td>NaN</td>\n",
       "      <td>1</td>\n",
       "    </tr>\n",
       "    <tr>\n",
       "      <th>1</th>\n",
       "      <td>HarvardX/CS50x/2012</td>\n",
       "      <td>MHxPC130442623</td>\n",
       "      <td>1</td>\n",
       "      <td>1</td>\n",
       "      <td>0</td>\n",
       "      <td>0</td>\n",
       "      <td>United States</td>\n",
       "      <td>NaN</td>\n",
       "      <td>NaN</td>\n",
       "      <td>NaN</td>\n",
       "      <td>0</td>\n",
       "      <td>2012-10-15</td>\n",
       "      <td>NaN</td>\n",
       "      <td>NaN</td>\n",
       "      <td>9</td>\n",
       "      <td>NaN</td>\n",
       "      <td>1</td>\n",
       "      <td>0</td>\n",
       "      <td>NaN</td>\n",
       "      <td>1</td>\n",
       "    </tr>\n",
       "    <tr>\n",
       "      <th>2</th>\n",
       "      <td>HarvardX/CB22x/2013_Spring</td>\n",
       "      <td>MHxPC130275857</td>\n",
       "      <td>1</td>\n",
       "      <td>0</td>\n",
       "      <td>0</td>\n",
       "      <td>0</td>\n",
       "      <td>United States</td>\n",
       "      <td>NaN</td>\n",
       "      <td>NaN</td>\n",
       "      <td>NaN</td>\n",
       "      <td>0</td>\n",
       "      <td>2013-02-08</td>\n",
       "      <td>2013-11-17</td>\n",
       "      <td>NaN</td>\n",
       "      <td>16</td>\n",
       "      <td>NaN</td>\n",
       "      <td>NaN</td>\n",
       "      <td>0</td>\n",
       "      <td>NaN</td>\n",
       "      <td>1</td>\n",
       "    </tr>\n",
       "    <tr>\n",
       "      <th>3</th>\n",
       "      <td>HarvardX/CS50x/2012</td>\n",
       "      <td>MHxPC130275857</td>\n",
       "      <td>1</td>\n",
       "      <td>0</td>\n",
       "      <td>0</td>\n",
       "      <td>0</td>\n",
       "      <td>United States</td>\n",
       "      <td>NaN</td>\n",
       "      <td>NaN</td>\n",
       "      <td>NaN</td>\n",
       "      <td>0</td>\n",
       "      <td>2012-09-17</td>\n",
       "      <td>NaN</td>\n",
       "      <td>NaN</td>\n",
       "      <td>16</td>\n",
       "      <td>NaN</td>\n",
       "      <td>NaN</td>\n",
       "      <td>0</td>\n",
       "      <td>NaN</td>\n",
       "      <td>1</td>\n",
       "    </tr>\n",
       "    <tr>\n",
       "      <th>4</th>\n",
       "      <td>HarvardX/ER22x/2013_Spring</td>\n",
       "      <td>MHxPC130275857</td>\n",
       "      <td>1</td>\n",
       "      <td>0</td>\n",
       "      <td>0</td>\n",
       "      <td>0</td>\n",
       "      <td>United States</td>\n",
       "      <td>NaN</td>\n",
       "      <td>NaN</td>\n",
       "      <td>NaN</td>\n",
       "      <td>0</td>\n",
       "      <td>2012-12-19</td>\n",
       "      <td>NaN</td>\n",
       "      <td>NaN</td>\n",
       "      <td>16</td>\n",
       "      <td>NaN</td>\n",
       "      <td>NaN</td>\n",
       "      <td>0</td>\n",
       "      <td>NaN</td>\n",
       "      <td>1</td>\n",
       "    </tr>\n",
       "  </tbody>\n",
       "</table>\n",
       "</div>"
      ],
      "text/plain": [
       "                    course_id       userid_di  registered  viewed  explored  \\\n",
       "0  HarvardX/CB22x/2013_Spring  MHxPC130442623           1       0         0   \n",
       "1         HarvardX/CS50x/2012  MHxPC130442623           1       1         0   \n",
       "2  HarvardX/CB22x/2013_Spring  MHxPC130275857           1       0         0   \n",
       "3         HarvardX/CS50x/2012  MHxPC130275857           1       0         0   \n",
       "4  HarvardX/ER22x/2013_Spring  MHxPC130275857           1       0         0   \n",
       "\n",
       "   certified final_cc_cname_di loe_di  yob gender grade start_time_di  \\\n",
       "0          0     United States    NaN  NaN    NaN     0    2012-12-19   \n",
       "1          0     United States    NaN  NaN    NaN     0    2012-10-15   \n",
       "2          0     United States    NaN  NaN    NaN     0    2013-02-08   \n",
       "3          0     United States    NaN  NaN    NaN     0    2012-09-17   \n",
       "4          0     United States    NaN  NaN    NaN     0    2012-12-19   \n",
       "\n",
       "  last_event_di  nevents  ndays_act  nplay_video  nchapters  nforum_posts  \\\n",
       "0    2013-11-17      NaN          9          NaN        NaN             0   \n",
       "1           NaN      NaN          9          NaN          1             0   \n",
       "2    2013-11-17      NaN         16          NaN        NaN             0   \n",
       "3           NaN      NaN         16          NaN        NaN             0   \n",
       "4           NaN      NaN         16          NaN        NaN             0   \n",
       "\n",
       "   roles  incomplete_flag  \n",
       "0    NaN                1  \n",
       "1    NaN                1  \n",
       "2    NaN                1  \n",
       "3    NaN                1  \n",
       "4    NaN                1  "
      ]
     },
     "execution_count": 1,
     "metadata": {},
     "output_type": "execute_result"
    }
   ],
   "source": [
    "import numpy as np\n",
    "import pandas as pd\n",
    "import matplotlib.pyplot as plt\n",
    "from mpl_toolkits.mplot3d import Axes3D\n",
    "import seaborn as sns\n",
    "from pandas import DataFrame\n",
    "%matplotlib inline \n",
    "# read in the MOOC data\n",
    "\n",
    "path = '/users/teddyandalex/documents/data_science/'\n",
    "mooc_cols = ['course_id', 'userid_di', 'registered', 'viewed', 'explored', 'certified', 'final_cc_cname_di', 'loe_di', 'yob', 'gender', 'grade', 'start_time_di', \n",
    "'last_event_di', 'nevents', 'ndays_act', 'nplay_video', 'nchapters', 'nforum_posts', 'roles', 'incomplete_flag']\n",
    "mooc = path + 'HMXPC13_DI_v2_5-14-14.csv'\n",
    "mooc_data = pd.read_csv(mooc, header=0, names=mooc_cols, na_values='NAN')\n",
    "mooc_data.head()"
   ]
  },
  {
   "cell_type": "code",
   "execution_count": 2,
   "metadata": {
    "collapsed": false
   },
   "outputs": [
    {
     "name": "stderr",
     "output_type": "stream",
     "text": [
      "/Users/TeddyandAlex/anaconda/lib/python2.7/site-packages/IPython/kernel/__main__.py:4: FutureWarning: convert_objects is deprecated.  Use the data-type specific converters pd.to_datetime, pd.to_timedelta and pd.to_numeric.\n"
     ]
    }
   ],
   "source": [
    "# create age variable\n",
    "\n",
    "mooc_data['yob'].dtype\n",
    "mooc_data['new_yob']=mooc_data.yob.convert_objects(convert_numeric=True)\n",
    "mooc_data['age'] = 2013 - mooc_data['new_yob']"
   ]
  },
  {
   "cell_type": "code",
   "execution_count": 3,
   "metadata": {
    "collapsed": false
   },
   "outputs": [
    {
     "name": "stdout",
     "output_type": "stream",
     "text": [
      "0    240868\n",
      "1    359894\n",
      "2     22689\n",
      "3     17687\n",
      "Name: outcome, dtype: int64\n"
     ]
    }
   ],
   "source": [
    "# create outcome variable (out of three outcome dummies)\n",
    "mooc_data['outcome']=''\n",
    "\n",
    "mooc_data.loc[(mooc_data['viewed'] == 1) & (mooc_data['explored'] == 0) & (mooc_data['certified'] == 0),'outcome']=1\n",
    "mooc_data.loc[(mooc_data['viewed'] == 1) & (mooc_data['explored'] == 1) & (mooc_data['certified'] == 0),'outcome']=2\n",
    "mooc_data.loc[(mooc_data['viewed'] == 0) & (mooc_data['explored'] == 1) & (mooc_data['certified'] == 0),'outcome']=2\n",
    "mooc_data.loc[(mooc_data['viewed'] == 1) & (mooc_data['explored'] == 1) & (mooc_data['certified'] == 1),'outcome']=3\n",
    "mooc_data.loc[(mooc_data['viewed'] == 1) & (mooc_data['explored'] == 0) & (mooc_data['certified'] == 1),'outcome']=3\n",
    "mooc_data.loc[(mooc_data['viewed'] == 0) & (mooc_data['explored'] == 0) & (mooc_data['certified'] == 0),'outcome']=0\n",
    "\n",
    "counts = mooc_data['outcome'].value_counts(sort = False)  \n",
    "print counts"
   ]
  },
  {
   "cell_type": "code",
   "execution_count": 4,
   "metadata": {
    "collapsed": false
   },
   "outputs": [
    {
     "data": {
      "text/html": [
       "<div>\n",
       "<table border=\"1\" class=\"dataframe\">\n",
       "  <thead>\n",
       "    <tr style=\"text-align: right;\">\n",
       "      <th></th>\n",
       "      <th>registered</th>\n",
       "      <th>viewed</th>\n",
       "      <th>explored</th>\n",
       "      <th>certified</th>\n",
       "      <th>yob</th>\n",
       "      <th>nevents</th>\n",
       "      <th>ndays_act</th>\n",
       "      <th>nplay_video</th>\n",
       "      <th>nchapters</th>\n",
       "      <th>nforum_posts</th>\n",
       "      <th>roles</th>\n",
       "      <th>incomplete_flag</th>\n",
       "      <th>new_yob</th>\n",
       "      <th>age</th>\n",
       "    </tr>\n",
       "  </thead>\n",
       "  <tbody>\n",
       "    <tr>\n",
       "      <th>count</th>\n",
       "      <td>169621</td>\n",
       "      <td>169621.000000</td>\n",
       "      <td>169621.000000</td>\n",
       "      <td>169621.000000</td>\n",
       "      <td>149828.000000</td>\n",
       "      <td>49680.000000</td>\n",
       "      <td>58306.00000</td>\n",
       "      <td>0</td>\n",
       "      <td>106489.000000</td>\n",
       "      <td>169621</td>\n",
       "      <td>0</td>\n",
       "      <td>68862</td>\n",
       "      <td>149828.000000</td>\n",
       "      <td>149828.000000</td>\n",
       "    </tr>\n",
       "    <tr>\n",
       "      <th>mean</th>\n",
       "      <td>1</td>\n",
       "      <td>0.625430</td>\n",
       "      <td>0.064986</td>\n",
       "      <td>0.007588</td>\n",
       "      <td>1984.892604</td>\n",
       "      <td>39.547806</td>\n",
       "      <td>4.31784</td>\n",
       "      <td>NaN</td>\n",
       "      <td>2.565598</td>\n",
       "      <td>0</td>\n",
       "      <td>NaN</td>\n",
       "      <td>1</td>\n",
       "      <td>1984.892604</td>\n",
       "      <td>28.107396</td>\n",
       "    </tr>\n",
       "    <tr>\n",
       "      <th>std</th>\n",
       "      <td>0</td>\n",
       "      <td>0.484013</td>\n",
       "      <td>0.246502</td>\n",
       "      <td>0.086775</td>\n",
       "      <td>9.081319</td>\n",
       "      <td>89.655333</td>\n",
       "      <td>8.26345</td>\n",
       "      <td>NaN</td>\n",
       "      <td>2.768481</td>\n",
       "      <td>0</td>\n",
       "      <td>NaN</td>\n",
       "      <td>0</td>\n",
       "      <td>9.081319</td>\n",
       "      <td>9.081319</td>\n",
       "    </tr>\n",
       "    <tr>\n",
       "      <th>min</th>\n",
       "      <td>1</td>\n",
       "      <td>0.000000</td>\n",
       "      <td>0.000000</td>\n",
       "      <td>0.000000</td>\n",
       "      <td>1935.000000</td>\n",
       "      <td>1.000000</td>\n",
       "      <td>1.00000</td>\n",
       "      <td>NaN</td>\n",
       "      <td>1.000000</td>\n",
       "      <td>0</td>\n",
       "      <td>NaN</td>\n",
       "      <td>1</td>\n",
       "      <td>1935.000000</td>\n",
       "      <td>0.000000</td>\n",
       "    </tr>\n",
       "    <tr>\n",
       "      <th>25%</th>\n",
       "      <td>1</td>\n",
       "      <td>0.000000</td>\n",
       "      <td>0.000000</td>\n",
       "      <td>0.000000</td>\n",
       "      <td>1981.000000</td>\n",
       "      <td>3.000000</td>\n",
       "      <td>1.00000</td>\n",
       "      <td>NaN</td>\n",
       "      <td>1.000000</td>\n",
       "      <td>0</td>\n",
       "      <td>NaN</td>\n",
       "      <td>1</td>\n",
       "      <td>1981.000000</td>\n",
       "      <td>22.000000</td>\n",
       "    </tr>\n",
       "    <tr>\n",
       "      <th>50%</th>\n",
       "      <td>1</td>\n",
       "      <td>1.000000</td>\n",
       "      <td>0.000000</td>\n",
       "      <td>0.000000</td>\n",
       "      <td>1987.000000</td>\n",
       "      <td>10.000000</td>\n",
       "      <td>2.00000</td>\n",
       "      <td>NaN</td>\n",
       "      <td>1.000000</td>\n",
       "      <td>0</td>\n",
       "      <td>NaN</td>\n",
       "      <td>1</td>\n",
       "      <td>1987.000000</td>\n",
       "      <td>26.000000</td>\n",
       "    </tr>\n",
       "    <tr>\n",
       "      <th>75%</th>\n",
       "      <td>1</td>\n",
       "      <td>1.000000</td>\n",
       "      <td>0.000000</td>\n",
       "      <td>0.000000</td>\n",
       "      <td>1991.000000</td>\n",
       "      <td>31.000000</td>\n",
       "      <td>3.00000</td>\n",
       "      <td>NaN</td>\n",
       "      <td>3.000000</td>\n",
       "      <td>0</td>\n",
       "      <td>NaN</td>\n",
       "      <td>1</td>\n",
       "      <td>1991.000000</td>\n",
       "      <td>32.000000</td>\n",
       "    </tr>\n",
       "    <tr>\n",
       "      <th>max</th>\n",
       "      <td>1</td>\n",
       "      <td>1.000000</td>\n",
       "      <td>1.000000</td>\n",
       "      <td>1.000000</td>\n",
       "      <td>2013.000000</td>\n",
       "      <td>3491.000000</td>\n",
       "      <td>176.00000</td>\n",
       "      <td>NaN</td>\n",
       "      <td>12.000000</td>\n",
       "      <td>0</td>\n",
       "      <td>NaN</td>\n",
       "      <td>1</td>\n",
       "      <td>2013.000000</td>\n",
       "      <td>78.000000</td>\n",
       "    </tr>\n",
       "  </tbody>\n",
       "</table>\n",
       "</div>"
      ],
      "text/plain": [
       "       registered         viewed       explored      certified            yob  \\\n",
       "count      169621  169621.000000  169621.000000  169621.000000  149828.000000   \n",
       "mean            1       0.625430       0.064986       0.007588    1984.892604   \n",
       "std             0       0.484013       0.246502       0.086775       9.081319   \n",
       "min             1       0.000000       0.000000       0.000000    1935.000000   \n",
       "25%             1       0.000000       0.000000       0.000000    1981.000000   \n",
       "50%             1       1.000000       0.000000       0.000000    1987.000000   \n",
       "75%             1       1.000000       0.000000       0.000000    1991.000000   \n",
       "max             1       1.000000       1.000000       1.000000    2013.000000   \n",
       "\n",
       "            nevents    ndays_act  nplay_video      nchapters  nforum_posts  \\\n",
       "count  49680.000000  58306.00000            0  106489.000000        169621   \n",
       "mean      39.547806      4.31784          NaN       2.565598             0   \n",
       "std       89.655333      8.26345          NaN       2.768481             0   \n",
       "min        1.000000      1.00000          NaN       1.000000             0   \n",
       "25%        3.000000      1.00000          NaN       1.000000             0   \n",
       "50%       10.000000      2.00000          NaN       1.000000             0   \n",
       "75%       31.000000      3.00000          NaN       3.000000             0   \n",
       "max     3491.000000    176.00000          NaN      12.000000             0   \n",
       "\n",
       "       roles  incomplete_flag        new_yob            age  \n",
       "count      0            68862  149828.000000  149828.000000  \n",
       "mean     NaN                1    1984.892604      28.107396  \n",
       "std      NaN                0       9.081319       9.081319  \n",
       "min      NaN                1    1935.000000       0.000000  \n",
       "25%      NaN                1    1981.000000      22.000000  \n",
       "50%      NaN                1    1987.000000      26.000000  \n",
       "75%      NaN                1    1991.000000      32.000000  \n",
       "max      NaN                1    2013.000000      78.000000  "
      ]
     },
     "execution_count": 4,
     "metadata": {},
     "output_type": "execute_result"
    }
   ],
   "source": [
    "# look at courses\n",
    "mooc_data.course_id.value_counts()   \n",
    "cs50 = mooc_data.loc[mooc_data.course_id == \"HarvardX/CS50x/2012\"]\n",
    "# Look at class interaction variables\n",
    " #'start_time_di', 'last_event_di', 'nevents', 'ndays_act', 'nplay_video', 'nchapters', 'nforum_posts', 'roles', 'time_elapse',  \n",
    "\n",
    "cs50.describe()\n"
   ]
  },
  {
   "cell_type": "code",
   "execution_count": 5,
   "metadata": {
    "collapsed": false
   },
   "outputs": [],
   "source": [
    "#run model on CS50 course dataset\n",
    "from pandas import DataFrame\n",
    "\n",
    "from sklearn.cluster import KMeans\n",
    "#preprocessing\n",
    "#replace NaNs to 0s\n",
    "\n",
    "list = ['nevents', 'ndays_act', 'nplay_video', 'nchapters', 'nforum_posts']\n",
    "#for what in range(0,5):\n",
    "    #print list[what]\n",
    "    #print cs50[list[what]].value_counts()\n"
   ]
  },
  {
   "cell_type": "code",
   "execution_count": 6,
   "metadata": {
    "collapsed": false
   },
   "outputs": [
    {
     "name": "stderr",
     "output_type": "stream",
     "text": [
      "/Users/TeddyandAlex/anaconda/lib/python2.7/site-packages/pandas/core/generic.py:2862: SettingWithCopyWarning: \n",
      "A value is trying to be set on a copy of a slice from a DataFrame\n",
      "\n",
      "See the caveats in the documentation: http://pandas.pydata.org/pandas-docs/stable/indexing.html#indexing-view-versus-copy\n",
      "  self._update_inplace(new_data)\n",
      "/Users/TeddyandAlex/anaconda/lib/python2.7/site-packages/IPython/kernel/__main__.py:13: SettingWithCopyWarning: \n",
      "A value is trying to be set on a copy of a slice from a DataFrame.\n",
      "Try using .loc[row_indexer,col_indexer] = value instead\n",
      "\n",
      "See the caveats in the documentation: http://pandas.pydata.org/pandas-docs/stable/indexing.html#indexing-view-versus-copy\n"
     ]
    },
    {
     "name": "stdout",
     "output_type": "stream",
     "text": [
      "False    169621\n",
      "Name: nevents, dtype: int64\n",
      "False    169621\n",
      "Name: ndays_act, dtype: int64\n",
      "False    169621\n",
      "Name: nchapters, dtype: int64\n",
      "count    1.696210e+05\n",
      "mean     5.007667e-14\n",
      "std      1.000003e+00\n",
      "min     -2.238250e-01\n",
      "25%     -2.238250e-01\n",
      "50%     -2.238250e-01\n",
      "75%     -1.851781e-01\n",
      "max      6.723427e+01\n",
      "Name: znevents, dtype: float64\n",
      "count    1.696210e+05\n",
      "mean     2.631122e-14\n",
      "std      1.000003e+00\n",
      "min     -2.821211e-01\n",
      "25%     -2.821211e-01\n",
      "50%     -2.821211e-01\n",
      "75%     -9.204155e-02\n",
      "max      3.317187e+01\n",
      "Name: zndays_act, dtype: float64\n",
      "count    1.696210e+05\n",
      "mean    -3.472878e-14\n",
      "std      1.000003e+00\n",
      "min     -6.391946e-01\n",
      "25%     -6.391946e-01\n",
      "50%     -2.423511e-01\n",
      "75%      1.544925e-01\n",
      "max      4.122928e+00\n",
      "Name: znchapters, dtype: float64\n"
     ]
    }
   ],
   "source": [
    "list2 = ['nevents', 'ndays_act', 'nchapters']\n",
    "mooc_data.loc[(mooc_data['viewed'] == 1) & (mooc_data['explored'] == 0) & (mooc_data['certified'] == 0),'outcome']=1\n",
    "for what in range(0,len(list2)):\n",
    "    cs50[list2[what]].fillna(0, inplace = True)\n",
    "      \n",
    "for what in range(0,len(list2)):\n",
    "    print pd.isnull(cs50[list2[what]]).value_counts()\n",
    "\n",
    "#converting variables into z-scores\n",
    "from sklearn import preprocessing\n",
    "listz = ['znevents', 'zndays_act', 'znchapters']\n",
    "for what in range(0,len(listz)):\n",
    "    cs50[listz[what]] = preprocessing.scale(cs50[list2[what]])\n",
    "\n",
    "for X in range(0, len(listz)):\n",
    "    print cs50[listz[X]].describe()"
   ]
  },
  {
   "cell_type": "code",
   "execution_count": 7,
   "metadata": {
    "collapsed": false
   },
   "outputs": [
    {
     "data": {
      "text/html": [
       "<div>\n",
       "<table border=\"1\" class=\"dataframe\">\n",
       "  <thead>\n",
       "    <tr style=\"text-align: right;\">\n",
       "      <th></th>\n",
       "      <th>course_id</th>\n",
       "      <th>userid_di</th>\n",
       "      <th>registered</th>\n",
       "      <th>viewed</th>\n",
       "      <th>explored</th>\n",
       "      <th>certified</th>\n",
       "      <th>final_cc_cname_di</th>\n",
       "      <th>loe_di</th>\n",
       "      <th>yob</th>\n",
       "      <th>gender</th>\n",
       "      <th>...</th>\n",
       "      <th>nchapters</th>\n",
       "      <th>nforum_posts</th>\n",
       "      <th>roles</th>\n",
       "      <th>incomplete_flag</th>\n",
       "      <th>new_yob</th>\n",
       "      <th>age</th>\n",
       "      <th>outcome</th>\n",
       "      <th>znevents</th>\n",
       "      <th>zndays_act</th>\n",
       "      <th>znchapters</th>\n",
       "    </tr>\n",
       "  </thead>\n",
       "  <tbody>\n",
       "    <tr>\n",
       "      <th>1</th>\n",
       "      <td>HarvardX/CS50x/2012</td>\n",
       "      <td>MHxPC130442623</td>\n",
       "      <td>1</td>\n",
       "      <td>1</td>\n",
       "      <td>0</td>\n",
       "      <td>0</td>\n",
       "      <td>United States</td>\n",
       "      <td>NaN</td>\n",
       "      <td>NaN</td>\n",
       "      <td>NaN</td>\n",
       "      <td>...</td>\n",
       "      <td>1</td>\n",
       "      <td>0</td>\n",
       "      <td>NaN</td>\n",
       "      <td>1</td>\n",
       "      <td>NaN</td>\n",
       "      <td>NaN</td>\n",
       "      <td>1</td>\n",
       "      <td>-0.223825</td>\n",
       "      <td>1.428594</td>\n",
       "      <td>-0.242351</td>\n",
       "    </tr>\n",
       "    <tr>\n",
       "      <th>3</th>\n",
       "      <td>HarvardX/CS50x/2012</td>\n",
       "      <td>MHxPC130275857</td>\n",
       "      <td>1</td>\n",
       "      <td>0</td>\n",
       "      <td>0</td>\n",
       "      <td>0</td>\n",
       "      <td>United States</td>\n",
       "      <td>NaN</td>\n",
       "      <td>NaN</td>\n",
       "      <td>NaN</td>\n",
       "      <td>...</td>\n",
       "      <td>0</td>\n",
       "      <td>0</td>\n",
       "      <td>NaN</td>\n",
       "      <td>1</td>\n",
       "      <td>NaN</td>\n",
       "      <td>NaN</td>\n",
       "      <td>0</td>\n",
       "      <td>-0.223825</td>\n",
       "      <td>2.759151</td>\n",
       "      <td>-0.639195</td>\n",
       "    </tr>\n",
       "    <tr>\n",
       "      <th>9</th>\n",
       "      <td>HarvardX/CS50x/2012</td>\n",
       "      <td>MHxPC130088379</td>\n",
       "      <td>1</td>\n",
       "      <td>1</td>\n",
       "      <td>0</td>\n",
       "      <td>0</td>\n",
       "      <td>United States</td>\n",
       "      <td>NaN</td>\n",
       "      <td>NaN</td>\n",
       "      <td>NaN</td>\n",
       "      <td>...</td>\n",
       "      <td>3</td>\n",
       "      <td>0</td>\n",
       "      <td>NaN</td>\n",
       "      <td>1</td>\n",
       "      <td>NaN</td>\n",
       "      <td>NaN</td>\n",
       "      <td>1</td>\n",
       "      <td>-0.223825</td>\n",
       "      <td>1.998833</td>\n",
       "      <td>0.551336</td>\n",
       "    </tr>\n",
       "    <tr>\n",
       "      <th>13</th>\n",
       "      <td>HarvardX/CS50x/2012</td>\n",
       "      <td>MHxPC130024894</td>\n",
       "      <td>1</td>\n",
       "      <td>1</td>\n",
       "      <td>0</td>\n",
       "      <td>0</td>\n",
       "      <td>United States</td>\n",
       "      <td>NaN</td>\n",
       "      <td>NaN</td>\n",
       "      <td>NaN</td>\n",
       "      <td>...</td>\n",
       "      <td>2</td>\n",
       "      <td>0</td>\n",
       "      <td>NaN</td>\n",
       "      <td>1</td>\n",
       "      <td>NaN</td>\n",
       "      <td>NaN</td>\n",
       "      <td>1</td>\n",
       "      <td>-0.223825</td>\n",
       "      <td>0.098038</td>\n",
       "      <td>0.154492</td>\n",
       "    </tr>\n",
       "    <tr>\n",
       "      <th>17</th>\n",
       "      <td>HarvardX/CS50x/2012</td>\n",
       "      <td>MHxPC130080986</td>\n",
       "      <td>1</td>\n",
       "      <td>1</td>\n",
       "      <td>0</td>\n",
       "      <td>0</td>\n",
       "      <td>United States</td>\n",
       "      <td>NaN</td>\n",
       "      <td>NaN</td>\n",
       "      <td>NaN</td>\n",
       "      <td>...</td>\n",
       "      <td>1</td>\n",
       "      <td>0</td>\n",
       "      <td>NaN</td>\n",
       "      <td>1</td>\n",
       "      <td>NaN</td>\n",
       "      <td>NaN</td>\n",
       "      <td>1</td>\n",
       "      <td>-0.223825</td>\n",
       "      <td>1.808753</td>\n",
       "      <td>-0.242351</td>\n",
       "    </tr>\n",
       "  </tbody>\n",
       "</table>\n",
       "<p>5 rows × 26 columns</p>\n",
       "</div>"
      ],
      "text/plain": [
       "              course_id       userid_di  registered  viewed  explored  \\\n",
       "1   HarvardX/CS50x/2012  MHxPC130442623           1       1         0   \n",
       "3   HarvardX/CS50x/2012  MHxPC130275857           1       0         0   \n",
       "9   HarvardX/CS50x/2012  MHxPC130088379           1       1         0   \n",
       "13  HarvardX/CS50x/2012  MHxPC130024894           1       1         0   \n",
       "17  HarvardX/CS50x/2012  MHxPC130080986           1       1         0   \n",
       "\n",
       "    certified final_cc_cname_di loe_di  yob gender     ...     nchapters  \\\n",
       "1           0     United States    NaN  NaN    NaN     ...             1   \n",
       "3           0     United States    NaN  NaN    NaN     ...             0   \n",
       "9           0     United States    NaN  NaN    NaN     ...             3   \n",
       "13          0     United States    NaN  NaN    NaN     ...             2   \n",
       "17          0     United States    NaN  NaN    NaN     ...             1   \n",
       "\n",
       "   nforum_posts roles  incomplete_flag  new_yob  age  outcome  znevents  \\\n",
       "1             0   NaN                1      NaN  NaN        1 -0.223825   \n",
       "3             0   NaN                1      NaN  NaN        0 -0.223825   \n",
       "9             0   NaN                1      NaN  NaN        1 -0.223825   \n",
       "13            0   NaN                1      NaN  NaN        1 -0.223825   \n",
       "17            0   NaN                1      NaN  NaN        1 -0.223825   \n",
       "\n",
       "    zndays_act  znchapters  \n",
       "1     1.428594   -0.242351  \n",
       "3     2.759151   -0.639195  \n",
       "9     1.998833    0.551336  \n",
       "13    0.098038    0.154492  \n",
       "17    1.808753   -0.242351  \n",
       "\n",
       "[5 rows x 26 columns]"
      ]
     },
     "execution_count": 7,
     "metadata": {},
     "output_type": "execute_result"
    }
   ],
   "source": [
    "cs50.head()"
   ]
  },
  {
   "cell_type": "code",
   "execution_count": 8,
   "metadata": {
    "collapsed": false
   },
   "outputs": [
    {
     "name": "stdout",
     "output_type": "stream",
     "text": [
      "(169621, 26)\n",
      "(169616, 26)\n"
     ]
    }
   ],
   "source": [
    "#drop outliers\n",
    "print cs50.shape\n",
    "cs50['nevents'].describe()\n",
    "cs50 = cs50[cs50['nevents'] < 1500]\n",
    "print cs50.shape"
   ]
  },
  {
   "cell_type": "code",
   "execution_count": 9,
   "metadata": {
    "collapsed": false
   },
   "outputs": [],
   "source": [
    "#Run kmeans model\n",
    "from sklearn.cluster import KMeans\n",
    "feature_cols = ['znevents', 'zndays_act', 'znchapters']\n",
    "X = cs50[feature_cols]\n",
    "k_means = KMeans(n_clusters=2)\n",
    "k_means.fit(X)\n",
    "labels = k_means.labels_\n",
    "iner = k_means.inertia_\n",
    "centroids = k_means.cluster_centers_\n",
    "pd.value_counts(labels)\n",
    "cs50['Cluster_labels'] = pd.Series(labels, index=cs50.index)\n",
    "\n"
   ]
  },
  {
   "cell_type": "code",
   "execution_count": 10,
   "metadata": {
    "collapsed": false
   },
   "outputs": [
    {
     "name": "stdout",
     "output_type": "stream",
     "text": [
      "[[-0.13499196 -0.13724862 -0.10809468]\n",
      " [ 4.01354793  4.10204127  3.23936882]]\n"
     ]
    }
   ],
   "source": [
    "cs50.describe()\n",
    "print centroids"
   ]
  },
  {
   "cell_type": "code",
   "execution_count": 11,
   "metadata": {
    "collapsed": false
   },
   "outputs": [
    {
     "name": "stdout",
     "output_type": "stream",
     "text": [
      "1\n",
      "2\n",
      "3\n",
      "4\n",
      "5\n",
      "6\n",
      "7\n",
      "8\n",
      "9\n",
      "10\n"
     ]
    }
   ],
   "source": [
    "# determining optimal number of clusters\n",
    "from sklearn.cluster import KMeans\n",
    "k_range = range(1,11)\n",
    "\n",
    "def k_var(xv,kran):\n",
    "    kiner_tuple = []\n",
    "    kiner_perc = []\n",
    "    for kr in kran:\n",
    "        k_means = KMeans(n_clusters = kr)\n",
    "        k_means.fit(xv)\n",
    "        iner = k_means.inertia_\n",
    "        #perc = iner/tss\n",
    "        kiner_tuple.append((kr,iner))\n",
    "        #kiner_perc.append(perc)\n",
    "        print kr\n",
    "        #print perc\n",
    "    return kiner_tuple\n",
    "    \n",
    "k_tup = k_var(X,k_range)\n"
   ]
  },
  {
   "cell_type": "code",
   "execution_count": 12,
   "metadata": {
    "collapsed": false
   },
   "outputs": [
    {
     "name": "stdout",
     "output_type": "stream",
     "text": [
      "[(1, 498266.91485142149), (2, 252667.4864048459), (3, 160623.36706727688), (4, 129789.0300113509), (5, 105963.69294719222), (6, 89763.284775944616), (7, 76502.470776827089), (8, 67296.163914579491), (9, 60066.963292778142), (10, 55396.158245799394)]\n"
     ]
    }
   ],
   "source": [
    "print k_tup"
   ]
  },
  {
   "cell_type": "code",
   "execution_count": 13,
   "metadata": {
    "collapsed": false,
    "scrolled": true
   },
   "outputs": [
    {
     "data": {
      "text/plain": [
       "[<matplotlib.lines.Line2D at 0x1077e61d0>]"
      ]
     },
     "execution_count": 13,
     "metadata": {},
     "output_type": "execute_result"
    },
    {
     "data": {
      "image/png": "[encoded data removed]",
      "text/plain": [
       "<matplotlib.figure.Figure at 0x10e9cbcd0>"
      ]
     },
     "metadata": {},
     "output_type": "display_data"
    }
   ],
   "source": [
    "#graph total within cluster variance by # of clusters\n",
    "#Plot this to find point where marginal gain in variance explains drops (elbow)\n",
    "import matplotlib.pyplot as plt\n",
    "\n",
    "r = []\n",
    "s = []\n",
    "for km, ss in k_tup:\n",
    "    r.append(km)\n",
    "    s.append(ss)\n",
    "\n",
    "plt.title('Determining optimal # of clusters')\n",
    "plt.ylabel('Total within-cluster sum of squares')\n",
    "plt.xlabel('Number of clusters')\n",
    "plt.scatter(r, s, linewidths = 1)\n",
    "plt.plot(r,s,'.g')\n",
    "\n"
   ]
  },
  {
   "cell_type": "code",
   "execution_count": 14,
   "metadata": {
    "collapsed": false
   },
   "outputs": [
    {
     "name": "stdout",
     "output_type": "stream",
     "text": [
      "       znevents  zndays_act  znchapters  Cluster_labels\n",
      "0     -0.069238   -0.092042   -0.242351               0\n",
      "1     -0.223825   -0.282121    0.551336               0\n",
      "2     -0.223825   -0.282121   -0.639195               0\n",
      "3     -0.223825   -0.282121   -0.242351               0\n",
      "4     -0.223825   -0.282121   -0.242351               0\n",
      "5     -0.223825   -0.282121   -0.639195               0\n",
      "6     -0.223825   -0.282121   -0.639195               0\n",
      "7     -0.223825   -0.282121    0.154492               0\n",
      "8     -0.223825   -0.282121   -0.639195               0\n",
      "9     -0.165855    0.098038   -0.639195               0\n",
      "10    -0.223825   -0.282121   -0.242351               0\n",
      "11    -0.223825    3.899628   -0.242351               0\n",
      "12     0.220614    0.288117   -0.242351               0\n",
      "13    -0.223825   -0.282121   -0.242351               0\n",
      "14    -0.223825   -0.282121    0.154492               0\n",
      "15    -0.223825   -0.282121   -0.639195               0\n",
      "16    -0.223825   -0.282121   -0.639195               0\n",
      "17    -0.223825   -0.282121   -0.639195               0\n",
      "18    -0.223825   -0.282121   -0.639195               0\n",
      "19     0.066026   -0.092042   -0.242351               0\n",
      "20    -0.223825   -0.282121   -0.242351               0\n",
      "21    -0.223825   -0.282121   -0.242351               0\n",
      "22    -0.223825   -0.282121    0.154492               0\n",
      "23    -0.165855    0.098038   -0.639195               0\n",
      "24     0.046703   -0.092042    2.535554               0\n",
      "25    -0.223825   -0.282121   -0.242351               0\n",
      "26    -0.223825   -0.282121   -0.242351               0\n",
      "27    -0.223825   -0.282121    0.154492               0\n",
      "28    -0.223825   -0.282121   -0.639195               0\n",
      "29    -0.223825   -0.282121    0.154492               0\n",
      "...         ...         ...         ...             ...\n",
      "9970  11.022412    2.949230    4.122928               1\n",
      "9971  -0.223825   -0.282121   -0.242351               0\n",
      "9972  -0.223825   -0.282121   -0.639195               0\n",
      "9973  -0.223825   -0.282121   -0.242351               0\n",
      "9974  -0.204502   -0.092042   -0.639195               0\n",
      "9975  -0.011267    0.098038    0.154492               0\n",
      "9976  -0.223825   -0.282121   -0.639195               0\n",
      "9977  -0.223825   -0.282121   -0.242351               0\n",
      "9978  -0.165855   -0.092042   -0.242351               0\n",
      "9979  -0.223825   -0.282121   -0.639195               0\n",
      "9980   0.433172    0.668276    0.948180               0\n",
      "9981  -0.049914    0.098038    0.154492               0\n",
      "9982  -0.223825   -0.282121    0.948180               0\n",
      "9983  -0.127208   -0.092042   -0.242351               0\n",
      "9984   1.747165    0.478197    4.122928               1\n",
      "9985  -0.185178   -0.092042   -0.242351               0\n",
      "9986  -0.127208   -0.092042    0.154492               0\n",
      "9987   4.433122    2.569071    3.726084               1\n",
      "9988  -0.204502   -0.092042   -0.242351               0\n",
      "9989   1.128815    3.329389    3.329241               1\n",
      "9990  -0.204502   -0.092042    0.154492               0\n",
      "9991  -0.223825   -0.282121   -0.242351               0\n",
      "9992  -0.223825   -0.282121   -0.242351               0\n",
      "9993  -0.223825   -0.282121    0.154492               0\n",
      "9994  -0.223825   -0.282121   -0.639195               0\n",
      "9995  -0.223825   -0.282121    4.122928               0\n",
      "9996  -0.223825   -0.282121   -0.639195               0\n",
      "9997   0.336554    1.048435   -0.242351               0\n",
      "9998  -0.185178   -0.092042    0.551336               0\n",
      "9999  -0.223825   -0.282121    0.154492               0\n",
      "\n",
      "[10000 rows x 4 columns]\n"
     ]
    },
    {
     "data": {
      "text/plain": [
       "0.85774304798977408"
      ]
     },
     "execution_count": 14,
     "metadata": {},
     "output_type": "execute_result"
    }
   ],
   "source": [
    "# # determining optimal number of clusters\n",
    "# by calculating silhouette score for sample (can't do for full sample bc it's too big)\n",
    "import random\n",
    "from sklearn import metrics\n",
    "cols = ['znevents', 'zndays_act', 'znchapters', 'Cluster_labels']\n",
    "X = cs50[cols]\n",
    "X_samp = X.sample(n=10000, replace=False, random_state=1, axis=0)\n",
    "X_samp.shape\n",
    "ran = range(0,10000)\n",
    "key = [ran]\n",
    "X_samp.set_index(key, drop=True, inplace = True)\n",
    "print X_samp        \n",
    "vrs = ['znevents', 'zndays_act', 'znchapters']\n",
    "labs = X_samp['Cluster_labels']\n",
    "labels = labs.as_matrix()\n",
    "metrics.silhouette_score(X_samp[vrs], labels)"
   ]
  },
  {
   "cell_type": "code",
   "execution_count": 15,
   "metadata": {
    "collapsed": false
   },
   "outputs": [],
   "source": [
    "# set up function to plot silhouette score against number of clusters\n",
    "from sklearn.cluster import KMeans\n",
    "feature_cols = ['znevents', 'zndays_act', 'znchapters']\n",
    "X = cs50[feature_cols]\n",
    "X_samp = X.sample(n=20000, replace=False, random_state=27, axis=0)\n",
    "ran = range(0,20000)\n",
    "key = [ran]\n",
    "X_samp.set_index(key, drop=True, inplace = True)\n",
    "\n",
    "def k_sil(xv,kran):\n",
    "    ksil_tuple = []\n",
    "    for kr in kran:\n",
    "        k_means = KMeans(n_clusters = kr)\n",
    "        k_means.fit(xv)\n",
    "        labels = k_means.labels_\n",
    "        sil = metrics.silhouette_score(xv, labels)\n",
    "        ksil_tuple.append((kr,sil))\n",
    "        print kr\n",
    "    return ksil_tuple\n"
   ]
  },
  {
   "cell_type": "code",
   "execution_count": 16,
   "metadata": {
    "collapsed": false
   },
   "outputs": [
    {
     "name": "stdout",
     "output_type": "stream",
     "text": [
      "2\n",
      "3\n",
      "4\n",
      "5\n",
      "6\n",
      "7\n",
      "8\n",
      "9\n",
      "10\n",
      "[(2, 0.86040708062008942), (3, 0.78783199948873661), (4, 0.75858382291971105), (5, 0.56170147268105031), (6, 0.57300589828812487), (7, 0.57668871737909999), (8, 0.57775781502262824), (9, 0.56969409829879769), (10, 0.57601540647041094)]\n"
     ]
    }
   ],
   "source": [
    "k_range = range(2,11)\n",
    "k_sil2 = k_sil(X_samp,k_range)\n",
    "print k_sil2"
   ]
  },
  {
   "cell_type": "code",
   "execution_count": 17,
   "metadata": {
    "collapsed": false
   },
   "outputs": [
    {
     "data": {
      "text/plain": [
       "[<matplotlib.lines.Line2D at 0x10cf319d0>]"
      ]
     },
     "execution_count": 17,
     "metadata": {},
     "output_type": "execute_result"
    },
    {
     "data": {
      "image/png": "[encoded data removed]",
      "text/plain": [
       "<matplotlib.figure.Figure at 0x10e91e410>"
      ]
     },
     "metadata": {},
     "output_type": "display_data"
    }
   ],
   "source": [
    "#graph silhouette score against # of clusters\n",
    "import matplotlib.pyplot as plt\n",
    "%matplotlib inline \n",
    "r = []\n",
    "s = []\n",
    "for km, ss in k_sil2:\n",
    "    r.append(km)\n",
    "    s.append(ss)\n",
    "\n",
    "plt.title('Determining optimal # of clusters using silhouette score')\n",
    "plt.ylabel('Silhouette Score')\n",
    "plt.xlabel('Number of clusters')\n",
    "plt.scatter(r, s, linewidths = 1)\n",
    "plt.plot(r,s,'.g')"
   ]
  },
  {
   "cell_type": "code",
   "execution_count": 18,
   "metadata": {
    "collapsed": false
   },
   "outputs": [
    {
     "name": "stdout",
     "output_type": "stream",
     "text": [
      "0    164145\n",
      "1      5471\n",
      "Name: Cluster_labels, dtype: int64\n"
     ]
    },
    {
     "data": {
      "text/plain": [
       "0    63535\n",
       "1    95058\n",
       "2     9738\n",
       "3     1285\n",
       "Name: outcome, dtype: int64"
      ]
     },
     "execution_count": 18,
     "metadata": {},
     "output_type": "execute_result"
    }
   ],
   "source": [
    "#Set variables for plot\n",
    "\n",
    "rkm = cs50['Cluster_labels']\n",
    "x=cs50['znevents']\n",
    "y=cs50['zndays_act']\n",
    "z=cs50['znchapters']\n",
    "list = [x,y,z]\n",
    "\n",
    "print cs50['Cluster_labels'].value_counts()\n",
    "cs50['outcome'].value_counts(sort = False)"
   ]
  },
  {
   "cell_type": "code",
   "execution_count": 19,
   "metadata": {
    "collapsed": false
   },
   "outputs": [
    {
     "name": "stdout",
     "output_type": "stream",
     "text": [
      "<mpl_toolkits.mplot3d.art3d.Path3DCollection object at 0x1080a0350>\n"
     ]
    },
    {
     "data": {
      "image/png": "[encoded data removed]",
      "text/plain": [
       "<matplotlib.figure.Figure at 0x1077a4350>"
      ]
     },
     "metadata": {},
     "output_type": "display_data"
    }
   ],
   "source": [
    "#plot CS50 Kmeans results - \n",
    "%matplotlib inline\n",
    "import matplotlib.pyplot as plt\n",
    "from mpl_toolkits.mplot3d import Axes3D\n",
    "fig = plt.figure()\n",
    "ax = Axes3D(fig)\n",
    "ax.set_xlabel('znevents')\n",
    "ax.set_ylabel('zndays_act')\n",
    "ax.set_zlabel('znchapters')\n",
    "print ax.scatter(x,y,z, c=rkm, cmap=plt.cm.Accent)\n"
   ]
  },
  {
   "cell_type": "code",
   "execution_count": 20,
   "metadata": {
    "collapsed": false
   },
   "outputs": [
    {
     "name": "stdout",
     "output_type": "stream",
     "text": [
      "(164145,)\n",
      "(5471,)\n"
     ]
    },
    {
     "data": {
      "image/png": "[encoded data removed]",
      "text/plain": [
       "<matplotlib.figure.Figure at 0x1080726d0>"
      ]
     },
     "metadata": {},
     "output_type": "display_data"
    }
   ],
   "source": [
    "#show clusters separately: cluster 1\n",
    "\n",
    "r0 = cs50[cs50['Cluster_labels']==0]\n",
    "r1 = cs50[cs50['Cluster_labels']==1]\n",
    "x0 = r0['znevents']\n",
    "x1 = r1['znevents']\n",
    "y0 = r0['zndays_act']\n",
    "y1 = r1['zndays_act']\n",
    "z0 = r0['znchapters']\n",
    "z1 = r1['znchapters']\n",
    "rout0 = r0['outcome']\n",
    "rout1 = r1['outcome']\n",
    "print y0.shape\n",
    "print y1.shape\n",
    "fig = plt.figure()\n",
    "ax = Axes3D(fig)\n",
    "ax.set_xlim([-5,30])\n",
    "ax.set_ylim([-5, 35])\n",
    "ax.set_xlabel('znevents')\n",
    "ax.set_ylabel('zndays_act')\n",
    "ax.set_zlabel('znchapters')\n",
    "first =  ax.scatter(x0,y0,z0, c='y')\n",
    "plt.show()\n"
   ]
  },
  {
   "cell_type": "code",
   "execution_count": 21,
   "metadata": {
    "collapsed": false
   },
   "outputs": [
    {
     "data": {
      "image/png": "[encoded data removed]",
      "text/plain": [
       "<matplotlib.figure.Figure at 0x1117943d0>"
      ]
     },
     "metadata": {},
     "output_type": "display_data"
    }
   ],
   "source": [
    "# Show second cluster separately\n",
    "fig = plt.figure()\n",
    "ax = Axes3D(fig)\n",
    "ax.set_xlim([-5,30])\n",
    "ax.set_ylim([-5, 35])\n",
    "ax.set_xlabel('znevents')\n",
    "ax.set_ylabel('zndays_act')\n",
    "ax.set_zlabel('znchapters')\n",
    "second =  ax.scatter(x1,y1,z1, c='b')\n",
    "#plt.legend((first, second),('first cluster','second cluster'))\n",
    "plt.show()"
   ]
  },
  {
   "cell_type": "code",
   "execution_count": 22,
   "metadata": {
    "collapsed": false
   },
   "outputs": [
    {
     "data": {
      "text/plain": [
       "0    63535\n",
       "1    95058\n",
       "2     9738\n",
       "3     1285\n",
       "Name: outcome, dtype: int64"
      ]
     },
     "execution_count": 22,
     "metadata": {},
     "output_type": "execute_result"
    }
   ],
   "source": [
    "# Compare clusters with course outcomes\n",
    "#Set variables for plot\n",
    "\n",
    "rkm = cs50['outcome']\n",
    "x=cs50['znevents']\n",
    "y=cs50['zndays_act']\n",
    "z=cs50['znchapters']\n",
    "list = [x,y,z]\n",
    "\n",
    "cs50['Cluster_labels'].value_counts()\n",
    "cs50['outcome'].value_counts(sort = False)\n"
   ]
  },
  {
   "cell_type": "code",
   "execution_count": 23,
   "metadata": {
    "collapsed": false
   },
   "outputs": [
    {
     "name": "stdout",
     "output_type": "stream",
     "text": [
      "<mpl_toolkits.mplot3d.art3d.Path3DCollection object at 0x111f2bf50>\n"
     ]
    },
    {
     "name": "stderr",
     "output_type": "stream",
     "text": [
      "/Users/TeddyandAlex/anaconda/lib/python2.7/site-packages/matplotlib/axes/_axes.py:519: UserWarning: No labelled objects found. Use label='...' kwarg on individual plots.\n",
      "  warnings.warn(\"No labelled objects found. \"\n"
     ]
    },
    {
     "data": {
      "image/png": "[encoded data removed]",
      "text/plain": [
       "<matplotlib.figure.Figure at 0x1117942d0>"
      ]
     },
     "metadata": {},
     "output_type": "display_data"
    }
   ],
   "source": [
    "#plot CS50 outcomes against course interaction vars - \n",
    "%matplotlib inline\n",
    "import matplotlib.pyplot as plt\n",
    "from mpl_toolkits.mplot3d import Axes3D\n",
    "fig = plt.figure()\n",
    "plt.title('CS50 Course Outcomes against Course Interaction Vars')\n",
    "ax = Axes3D(fig)\n",
    "ax.set_xlabel('znevents')\n",
    "ax.set_ylabel('zndays_act')\n",
    "ax.set_zlabel('znchapters')\n",
    "print ax.scatter(x,y,z, c=rkm, cmap=plt.cm.Accent)\n",
    "plt.grid(True)\n",
    "plt.legend()\n",
    "plt.show()\n",
    "\n"
   ]
  },
  {
   "cell_type": "code",
   "execution_count": 24,
   "metadata": {
    "collapsed": false
   },
   "outputs": [
    {
     "name": "stdout",
     "output_type": "stream",
     "text": [
      "(63535,)\n",
      "(1285,)\n"
     ]
    },
    {
     "data": {
      "image/png": "[encoded data removed]",
      "text/plain": [
       "<matplotlib.figure.Figure at 0x110b93c90>"
      ]
     },
     "metadata": {},
     "output_type": "display_data"
    }
   ],
   "source": [
    "r0 = cs50[cs50['outcome']==0]\n",
    "r1 = cs50[cs50['outcome']==1]\n",
    "r2 = cs50[cs50['outcome']==2]\n",
    "r3 = cs50[cs50['outcome']==3]\n",
    "x0 = r0['znevents']\n",
    "x1 = r1['znevents']\n",
    "x2 = r2['znevents']\n",
    "x3 = r3['znevents']\n",
    "y0 = r0['zndays_act']\n",
    "y1 = r1['zndays_act']\n",
    "y2 = r2['zndays_act']\n",
    "y3 = r3['zndays_act']\n",
    "z0 = r0['znchapters']\n",
    "z1 = r1['znchapters']\n",
    "z2 = r2['znchapters']\n",
    "z3 = r3['znchapters']\n",
    "print y0.shape\n",
    "print y3.shape\n",
    "colors = ['blue', 'green', 'magenta', 'cyan']\n",
    "fig = plt.figure()\n",
    "ax = Axes3D(fig)\n",
    "ax.set_xlim([-5,30])\n",
    "ax.set_ylim([-5, 35])\n",
    "ax.set_xlabel('znevents')\n",
    "ax.set_ylabel('zndays_act')\n",
    "ax.set_zlabel('znchapters')\n",
    "first =  ax.scatter(x0,y0,z0, c = 'r')\n",
    "#second = ax.scatter(x1,y1,z1,  c = 'y')\n",
    "#third = ax.scatter(x2,y2,z2, c = 'g')\n",
    "fourth = ax.scatter(x3,y3,z3, c = 'b')\n",
    "plt.legend((first, fourth),('registered','certified'))\n",
    "plt.show()\n",
    "#'b', 'c', 'y', 'm', 'r'"
   ]
  },
  {
   "cell_type": "code",
   "execution_count": 25,
   "metadata": {
    "collapsed": false
   },
   "outputs": [
    {
     "name": "stdout",
     "output_type": "stream",
     "text": [
      "nevents\n",
      "Cluster_labels\n",
      "0      4.597167\n",
      "1    219.286785\n",
      "Name: nevents, dtype: float64\n",
      "Cluster_labels\n",
      "0    0\n",
      "1    0\n",
      "Name: nevents, dtype: float64\n",
      "Cluster_labels\n",
      "0     236\n",
      "1    1380\n",
      "Name: nevents, dtype: float64\n",
      "ndays_act\n",
      "Cluster_labels\n",
      "0     0.762168\n",
      "1    23.064888\n",
      "Name: ndays_act, dtype: float64\n",
      "Cluster_labels\n",
      "0    0\n",
      "1    1\n",
      "Name: ndays_act, dtype: float64\n",
      "Cluster_labels\n",
      "0     32\n",
      "1    176\n",
      "Name: ndays_act, dtype: float64\n",
      "nchapters\n",
      "Cluster_labels\n",
      "0    1.338311\n",
      "1    9.773533\n",
      "Name: nchapters, dtype: float64\n",
      "Cluster_labels\n",
      "0    0\n",
      "1    0\n",
      "Name: nchapters, dtype: float64\n",
      "Cluster_labels\n",
      "0    12\n",
      "1    12\n",
      "Name: nchapters, dtype: float64\n",
      "Cluster_labels   \n",
      "0               1    94264\n",
      "                0    63510\n",
      "                2     6320\n",
      "                3       51\n",
      "1               2     3418\n",
      "                3     1234\n",
      "                1      794\n",
      "                0       25\n",
      "dtype: int64\n",
      "nevents\n",
      "outcome\n",
      "0      0.259573\n",
      "1      7.366818\n",
      "2     89.932840\n",
      "3    281.546304\n",
      "Name: nevents, dtype: float64\n",
      "outcome\n",
      "0    0\n",
      "1    0\n",
      "2    0\n",
      "3    0\n",
      "Name: nevents, dtype: float64\n",
      "outcome\n",
      "0      48\n",
      "1    1380\n",
      "2    1351\n",
      "3    1178\n",
      "Name: nevents, dtype: float64\n",
      "ndays_act\n",
      "outcome\n",
      "0     0.310081\n",
      "1     1.194124\n",
      "2     7.648593\n",
      "3    33.929961\n",
      "Name: ndays_act, dtype: float64\n",
      "outcome\n",
      "0    0\n",
      "1    0\n",
      "2    0\n",
      "3    0\n",
      "Name: ndays_act, dtype: float64\n",
      "outcome\n",
      "0    105\n",
      "1    176\n",
      "2    116\n",
      "3    119\n",
      "Name: ndays_act, dtype: float64\n",
      "nchapters\n",
      "outcome\n",
      "0     0.014464\n",
      "1     1.726767\n",
      "2     9.586157\n",
      "3    11.467704\n",
      "Name: nchapters, dtype: float64\n",
      "outcome\n",
      "0    0\n",
      "1    0\n",
      "2    6\n",
      "3    1\n",
      "Name: nchapters, dtype: float64\n",
      "outcome\n",
      "0    12\n",
      "1    12\n",
      "2    12\n",
      "3    12\n",
      "Name: nchapters, dtype: float64\n"
     ]
    }
   ],
   "source": [
    "#characterize kmeans and outcome groups\n",
    "\n",
    "#cs50.nevents.groupby('Cluster_labels').mean()\n",
    "list = ['nevents', 'ndays_act', 'nchapters']\n",
    "for X in range(0,len(list)):\n",
    "    print list[X]\n",
    "    print cs50[list[X]].groupby(cs50['Cluster_labels']).mean()\n",
    "    print cs50[list[X]].groupby(cs50['Cluster_labels']).min()\n",
    "    print cs50[list[X]].groupby(cs50['Cluster_labels']).max()\n",
    "\n",
    "print cs50['outcome'].groupby(cs50['Cluster_labels']).value_counts()   \n",
    "\n",
    "list = ['nevents', 'ndays_act', 'nchapters']\n",
    "for X in range(0,len(list)):\n",
    "    print list[X]\n",
    "    print cs50[list[X]].groupby(cs50['outcome']).mean()\n",
    "    print cs50[list[X]].groupby(cs50['outcome']).min()\n",
    "    print cs50[list[X]].groupby(cs50['outcome']).max()    \n",
    "    \n",
    "    "
   ]
  },
  {
   "cell_type": "code",
   "execution_count": 26,
   "metadata": {
    "collapsed": false
   },
   "outputs": [
    {
     "name": "stdout",
     "output_type": "stream",
     "text": [
      "0     63132\n",
      "1     54112\n",
      "2     25093\n",
      "3      8198\n",
      "4      4945\n",
      "5      2888\n",
      "6      1536\n",
      "7      1290\n",
      "8       925\n",
      "9       954\n",
      "10     1008\n",
      "11      696\n",
      "12     4839\n",
      "Name: nchapters, dtype: int64\n",
      "[(0, 0.37220545231581925), (1, 0.50817024153863488), (2, 0.47913006950278775), (3, 0.3005242127643975), (4, 0.2591583250353755), (5, 0.20430107526881722), (6, 0.13655761024182078), (7, 0.13282537067545305), (8, 0.10983139396817858), (9, 0.12725090036014405), (10, 0.15405777166437415), (11, 0.12574525745257453)]\n"
     ]
    }
   ],
   "source": [
    "#create survival function\n",
    "%matplotlib inline \n",
    "chapters = cs50['nchapters']\n",
    "table1 = pd.Series.value_counts(chapters, sort = False)\n",
    "print table1\n",
    "sum1 = pd.Series.sum(table1)\n",
    "zero = 0\n",
    "sum = sum1\n",
    "table2 = []\n",
    "for k in range(0,12):\n",
    "    index_tot = (table1.ix[k:13].sum())\n",
    "    per_drop = table1.ix[k]/(index_tot*1.0)\n",
    "    table2.append((k,per_drop))\n",
    "print table2"
   ]
  },
  {
   "cell_type": "code",
   "execution_count": 27,
   "metadata": {
    "collapsed": false
   },
   "outputs": [
    {
     "data": {
      "text/plain": [
       "[<matplotlib.lines.Line2D at 0x111f2b290>]"
      ]
     },
     "execution_count": 27,
     "metadata": {},
     "output_type": "execute_result"
    },
    {
     "data": {
      "image/png": "[encoded data removed]",
      "text/plain": [
       "<matplotlib.figure.Figure at 0x1077a4210>"
      ]
     },
     "metadata": {},
     "output_type": "display_data"
    }
   ],
   "source": [
    "#plot survival function\n",
    "r = []\n",
    "s = []\n",
    "for i,va in table2:\n",
    "    r.append(i)\n",
    "    s.append(va)\n",
    "plt.minorticks_on()\n",
    "plt.title('Dropouts in CS50 Course by chapter')\n",
    "plt.ylabel('% dropouts as proportion of students left in course')\n",
    "plt.xlim(xmax=12)\n",
    "plt.xlim(xmin=-.5)\n",
    "plt.xlabel('Chapters')\n",
    "plt.scatter(r, s, linewidths = 1)\n",
    "plt.plot(r,s,'.y',linestyle='solid')"
   ]
  },
  {
   "cell_type": "code",
   "execution_count": 28,
   "metadata": {
    "collapsed": false
   },
   "outputs": [
    {
     "name": "stdout",
     "output_type": "stream",
     "text": [
      "0     63132\n",
      "1     54112\n",
      "2     25093\n",
      "3      8198\n",
      "4      4945\n",
      "12     4839\n",
      "5      2888\n",
      "6      1536\n",
      "7      1290\n",
      "10     1008\n",
      "9       954\n",
      "8       925\n",
      "11      696\n",
      "Name: nchapters, dtype: int64\n"
     ]
    },
    {
     "data": {
      "image/png": "[encoded data removed]",
      "text/plain": [
       "<matplotlib.figure.Figure at 0x108072e10>"
      ]
     },
     "metadata": {},
     "output_type": "display_data"
    }
   ],
   "source": [
    "#plot dropout rates by chapter\n",
    "chapters.plot(kind='hist')\n",
    "plt.locator_params(nbins = 15)\n",
    "plt.xlim(xmax=13)\n",
    "plt.xlim(xmin=0)\n",
    "plt.xlabel('Course Chapter')\n",
    "plt.ylabel('% of students')\n",
    "print chapters.value_counts()"
   ]
  },
  {
   "cell_type": "code",
   "execution_count": 29,
   "metadata": {
    "collapsed": false
   },
   "outputs": [
    {
     "name": "stdout",
     "output_type": "stream",
     "text": [
      "    new_yob  age outcome  znevents  zndays_act  znchapters  Cluster_labels  \\\n",
      "1       NaN  NaN       1 -0.223825    1.428594   -0.242351               0   \n",
      "3       NaN  NaN       0 -0.223825    2.759151   -0.639195               0   \n",
      "9       NaN  NaN       1 -0.223825    1.998833    0.551336               0   \n",
      "13      NaN  NaN       1 -0.223825    0.098038    0.154492               0   \n",
      "17      NaN  NaN       1 -0.223825    1.808753   -0.242351               0   \n",
      "\n",
      "    gd_f  gd_m  gd_o      ...        cty_Spain  cty_Ukraine  \\\n",
      "1      0     0     0      ...                0            0   \n",
      "3      0     0     0      ...                0            0   \n",
      "9      0     0     0      ...                0            0   \n",
      "13     0     0     0      ...                0            0   \n",
      "17     0     0     0      ...                0            0   \n",
      "\n",
      "    cty_United Kingdom  cty_United States  cty_Unknown/Other  deg_Bachelor's  \\\n",
      "1                    0                  1                  0               0   \n",
      "3                    0                  1                  0               0   \n",
      "9                    0                  1                  0               0   \n",
      "13                   0                  1                  0               0   \n",
      "17                   0                  1                  0               0   \n",
      "\n",
      "    deg_Doctorate  deg_Less than Secondary  deg_Master's  deg_Secondary  \n",
      "1               0                        0             0              0  \n",
      "3               0                        0             0              0  \n",
      "9               0                        0             0              0  \n",
      "13              0                        0             0              0  \n",
      "17              0                        0             0              0  \n",
      "\n",
      "[5 rows x 49 columns]\n"
     ]
    }
   ],
   "source": [
    "#Prediction\n",
    "#create dummies for country, female, highest degree\n",
    "attr = ['final_cc_cname_di', 'gender' ,'loe_di']\n",
    "for X in range(0,2):\n",
    "    cs50[attr[X]].value_counts()\n",
    "\n",
    "cs50.final_cc_cname_di.value_counts()\n",
    "dummies_gender=pd.get_dummies(cs50.gender, prefix = 'gd')\n",
    "cs50 = pd.concat([cs50, dummies_gender], axis = 1)\n",
    "\n",
    "dummies_country= pd.get_dummies(cs50.final_cc_cname_di, prefix = 'cty')\n",
    "cs50 = pd.concat([cs50, dummies_country], axis = 1)\n",
    "\n",
    "dummies_deg = pd.get_dummies(cs50.loe_di, prefix = 'deg')\n",
    "cs50 = pd.concat([cs50, dummies_deg], axis = 1)\n",
    "\n",
    "print cs50.ix[:,20:].head()\n",
    "\n",
    "\n"
   ]
  },
  {
   "cell_type": "code",
   "execution_count": 30,
   "metadata": {
    "collapsed": false
   },
   "outputs": [
    {
     "name": "stdout",
     "output_type": "stream",
     "text": [
      "['cty_Unknown/Other', 'cty_United States', 'cty_India', 'cty_Other Europe', 'cty_Other Africa', 'cty_United Kingdom', 'cty_Canada', 'cty_Brazil', 'cty_Other Middle East/Central Asia', 'cty_Other South Asia', 'cty_Russian Federation', 'cty_Pakistan', 'cty_Nigeria', 'cty_Australia', 'cty_Spain', 'cty_Other South America', 'cty_Philippines', 'cty_Egypt', 'cty_Germany', 'cty_Ukraine', 'cty_Other North & Central Amer., Caribbean', 'cty_France', 'cty_Mexico', 'cty_Morocco', 'cty_Other East Asia', 'cty_Poland', 'cty_Greece', 'cty_Colombia', 'cty_China', 'cty_Indonesia', 'cty_Bangladesh', 'cty_Portugal', 'cty_Japan', 'cty_Other Oceania']\n"
     ]
    }
   ],
   "source": [
    "#create list for country dummies\n",
    "\n",
    "country = cs50.final_cc_cname_di.value_counts()\n",
    "listcty = []\n",
    "for index, values in pd.Series.iteritems(country):\n",
    "    cty1 = 'cty_' + str(index)\n",
    "    listcty.append(cty1)\n",
    "\n",
    "print listcty"
   ]
  },
  {
   "cell_type": "code",
   "execution_count": 31,
   "metadata": {
    "collapsed": false
   },
   "outputs": [
    {
     "name": "stdout",
     "output_type": "stream",
     "text": [
      "41\n",
      "['gd_f', 'deg_Doctorate', 'deg_Less than Secondary', \"deg_Master's\", 'deg_Secondary', \"deg_Bachelor's\", 'age', 'cty_Unknown/Other', 'cty_United States', 'cty_India', 'cty_Other Europe', 'cty_Other Africa', 'cty_United Kingdom', 'cty_Canada', 'cty_Brazil', 'cty_Other Middle East/Central Asia', 'cty_Other South Asia', 'cty_Russian Federation', 'cty_Pakistan', 'cty_Nigeria', 'cty_Australia', 'cty_Spain', 'cty_Other South America', 'cty_Philippines', 'cty_Egypt', 'cty_Germany', 'cty_Ukraine', 'cty_Other North & Central Amer., Caribbean', 'cty_France', 'cty_Mexico', 'cty_Morocco', 'cty_Other East Asia', 'cty_Poland', 'cty_Greece', 'cty_Colombia', 'cty_China', 'cty_Indonesia', 'cty_Bangladesh', 'cty_Portugal', 'cty_Japan', 'cty_Other Oceania']\n",
      "1    95058\n",
      "0    63535\n",
      "2     9738\n",
      "3     1285\n",
      "Name: outcome, dtype: int64\n"
     ]
    }
   ],
   "source": [
    "#prepare other variables for prediction\n",
    "list = ['gd_f', 'deg_Doctorate', 'deg_Less than Secondary', \"deg_Master's\", 'deg_Secondary', \"deg_Bachelor's\", \"age\"]\n",
    "for item in range(0,len(listcty)):\n",
    "    list.append(listcty[item])\n",
    "import copy\n",
    "feature_cols = copy.copy(list)\n",
    "list = []\n",
    "print len(feature_cols)\n",
    "print feature_cols\n",
    "print cs50.outcome.value_counts()\n",
    "\n",
    "\n",
    "for what in range(0,len(feature_cols)):\n",
    "    cs50[feature_cols[what]].fillna(0, inplace = True)\n"
   ]
  },
  {
   "cell_type": "code",
   "execution_count": 32,
   "metadata": {
    "collapsed": false
   },
   "outputs": [
    {
     "name": "stdout",
     "output_type": "stream",
     "text": [
      "<bound method Series.value_counts of 1         False\n",
      "3         False\n",
      "9         False\n",
      "13        False\n",
      "17        False\n",
      "19        False\n",
      "20        False\n",
      "21        False\n",
      "22        False\n",
      "24        False\n",
      "25        False\n",
      "26        False\n",
      "27        False\n",
      "28        False\n",
      "30        False\n",
      "33        False\n",
      "34        False\n",
      "35        False\n",
      "37        False\n",
      "40        False\n",
      "45        False\n",
      "47        False\n",
      "49        False\n",
      "50        False\n",
      "51        False\n",
      "53        False\n",
      "54        False\n",
      "56        False\n",
      "57        False\n",
      "59        False\n",
      "          ...  \n",
      "338151    False\n",
      "338152    False\n",
      "338154    False\n",
      "338163    False\n",
      "338165    False\n",
      "338167    False\n",
      "338169    False\n",
      "338171    False\n",
      "338173    False\n",
      "338177    False\n",
      "338184    False\n",
      "338185    False\n",
      "338187    False\n",
      "338188    False\n",
      "338189    False\n",
      "338190    False\n",
      "338191    False\n",
      "338196    False\n",
      "338197    False\n",
      "338199    False\n",
      "338201    False\n",
      "338203    False\n",
      "338211    False\n",
      "338212    False\n",
      "338214    False\n",
      "338217    False\n",
      "338219    False\n",
      "338220    False\n",
      "338221    False\n",
      "338222    False\n",
      "Name: gd_f, dtype: bool>\n"
     ]
    }
   ],
   "source": [
    "cs50.gd_f.describe()\n",
    "print pd.isnull(cs50['gd_f']).value_counts"
   ]
  },
  {
   "cell_type": "code",
   "execution_count": 33,
   "metadata": {
    "collapsed": false
   },
   "outputs": [
    {
     "name": "stdout",
     "output_type": "stream",
     "text": [
      "gd_f                                          float64\n",
      "deg_Doctorate                                 float64\n",
      "deg_Less than Secondary                       float64\n",
      "deg_Master's                                  float64\n",
      "deg_Secondary                                 float64\n",
      "deg_Bachelor's                                float64\n",
      "age                                           float64\n",
      "cty_Unknown/Other                             float64\n",
      "cty_United States                             float64\n",
      "cty_India                                     float64\n",
      "cty_Other Europe                              float64\n",
      "cty_Other Africa                              float64\n",
      "cty_United Kingdom                            float64\n",
      "cty_Canada                                    float64\n",
      "cty_Brazil                                    float64\n",
      "cty_Other Middle East/Central Asia            float64\n",
      "cty_Other South Asia                          float64\n",
      "cty_Russian Federation                        float64\n",
      "cty_Pakistan                                  float64\n",
      "cty_Nigeria                                   float64\n",
      "cty_Australia                                 float64\n",
      "cty_Spain                                     float64\n",
      "cty_Other South America                       float64\n",
      "cty_Philippines                               float64\n",
      "cty_Egypt                                     float64\n",
      "cty_Germany                                   float64\n",
      "cty_Ukraine                                   float64\n",
      "cty_Other North & Central Amer., Caribbean    float64\n",
      "cty_France                                    float64\n",
      "cty_Mexico                                    float64\n",
      "cty_Morocco                                   float64\n",
      "cty_Other East Asia                           float64\n",
      "cty_Poland                                    float64\n",
      "cty_Greece                                    float64\n",
      "cty_Colombia                                  float64\n",
      "cty_China                                     float64\n",
      "cty_Indonesia                                 float64\n",
      "cty_Bangladesh                                float64\n",
      "cty_Portugal                                  float64\n",
      "cty_Japan                                     float64\n",
      "cty_Other Oceania                             float64\n",
      "dtype: object\n",
      "object\n"
     ]
    }
   ],
   "source": [
    "#KNN Prediction - trial run\n",
    "from sklearn.neighbors import KNeighborsClassifier\n",
    "# make an instance of a KNeighborsClassifier object\n",
    "\n",
    "X = cs50[feature_cols]\n",
    "y = cs50['outcome']\n",
    "knn = KNeighborsClassifier(n_neighbors=45)\n",
    "type(knn)\n",
    "knn.fit(X, y)\n",
    "y_pc = knn.predict(X)\n",
    "print X.dtypes\n",
    "print y.dtype\n",
    "yint=y.astype('int64')\n"
   ]
  },
  {
   "cell_type": "code",
   "execution_count": 34,
   "metadata": {
    "collapsed": false
   },
   "outputs": [
    {
     "name": "stdout",
     "output_type": "stream",
     "text": [
      "1    136174\n",
      "0     33442\n",
      "dtype: int64\n"
     ]
    }
   ],
   "source": [
    "print pd.Series(y_pc).value_counts()"
   ]
  },
  {
   "cell_type": "code",
   "execution_count": 35,
   "metadata": {
    "collapsed": false
   },
   "outputs": [
    {
     "data": {
      "text/plain": [
       "0.55381567776624852"
      ]
     },
     "execution_count": 35,
     "metadata": {},
     "output_type": "execute_result"
    }
   ],
   "source": [
    "# Evaluation KNN Predictions Using Train-Test Split\n",
    "#define function for 1 KNN evaluation using accuracy score\n",
    "from sklearn.cross_validation import train_test_split\n",
    "from sklearn import metrics\n",
    "def eval_knn(Xf, yf, rand, nn):\n",
    "    X_tr, X_te, y_tr, y_te = train_test_split(Xf, yf, random_state=43)\n",
    "    knn = KNeighborsClassifier(n_neighbors=nn)\n",
    "    knn.fit(X_tr, y_tr)\n",
    "    y_pc = knn.predict(X_te)\n",
    "    met = (metrics.accuracy_score(y_te, y_pc))\n",
    "    return met\n",
    "eval_knn(X,yint,7, 45)"
   ]
  },
  {
   "cell_type": "code",
   "execution_count": 36,
   "metadata": {
    "collapsed": false
   },
   "outputs": [],
   "source": [
    "#Tuning\n",
    "#define function for multiple KNN evaluations, varying on n_neighbors, this time n_neighbors is an array\n",
    "\n",
    "def eval_knn_nn(Xf, yf, rand, nnl):\n",
    "    nmet_tuple = []\n",
    "    for value in nnl:\n",
    "        print value\n",
    "        measure = eval_knn(Xf, yf, rand, value)\n",
    "        nmet_tuple.append((value, measure))\n",
    "    return nmet_tuple\n",
    "    "
   ]
  },
  {
   "cell_type": "code",
   "execution_count": 37,
   "metadata": {
    "collapsed": false
   },
   "outputs": [],
   "source": [
    "#nnlist = np.arange(1,101)\n",
    "#test = eval_knn_nn(X,yint,150,nnlist)\n",
    "#print test\n"
   ]
  },
  {
   "cell_type": "code",
   "execution_count": 38,
   "metadata": {
    "collapsed": false
   },
   "outputs": [],
   "source": [
    "#plot results\n",
    "#import matplotlib.pyplot as plt\n",
    "#n = []\n",
    "#v = []\n",
    "#for neigh, val in test:\n",
    " #   n.append(neigh)\n",
    "  #  v.append(val)\n",
    "\n",
    "#plt.title('Tuning KNN Model')\n",
    "#plt.ylabel('Accuracy Score')\n",
    "#plt.xlabel('Number of Neighbors')\n",
    "#plt.scatter(n, v, linewidths = 1)\n",
    "#plt.plot(n,v,'.r-')\n",
    "#plt.show()\n"
   ]
  },
  {
   "cell_type": "code",
   "execution_count": 39,
   "metadata": {
    "collapsed": false
   },
   "outputs": [
    {
     "name": "stdout",
     "output_type": "stream",
     "text": [
      "41\n",
      "False    169616\n",
      "Name: age, dtype: int64\n"
     ]
    }
   ],
   "source": [
    "print len(feature_cols)\n",
    "cs50.describe()\n",
    "#for what in range(0,len(feature_cols)):\n",
    "    #cs50[fe]\n",
    "   \n",
    "print pd.isnull(cs50['age']).value_counts()\n",
    "\n",
    "    #print pd.isnull(cs50[feature_cols[what]]).value_counts()"
   ]
  },
  {
   "cell_type": "code",
   "execution_count": 40,
   "metadata": {
    "collapsed": false
   },
   "outputs": [
    {
     "data": {
      "text/plain": [
       "1    146496\n",
       "0     23120\n",
       "Name: log_pred_class, dtype: int64"
      ]
     },
     "execution_count": 40,
     "metadata": {},
     "output_type": "execute_result"
    }
   ],
   "source": [
    "#Logistic  Regression Model\n",
    "# fit a logistic regression model and store the class predictions\n",
    "#feature_cols already defined above\n",
    "from sklearn.linear_model import LogisticRegression\n",
    "feature_cols1 = ['gd_f', 'deg_Doctorate', #'deg_Less than Secondary'#\n",
    "                  \"deg_Master's\", 'deg_Secondary', \"deg_Bachelor's\",\n",
    " 'age', 'cty_Unknown/Other', #'cty_United States'\n",
    " 'cty_India', 'cty_Other Europe', 'cty_Other Africa', \n",
    " 'cty_United Kingdom', 'cty_Canada', 'cty_Brazil', 'cty_Other Middle East/Central Asia', 'cty_Other South Asia', \n",
    " 'cty_Russian Federation', 'cty_Pakistan', 'cty_Nigeria', 'cty_Australia', 'cty_Spain', 'cty_Other South America', \n",
    " 'cty_Philippines', 'cty_Egypt', 'cty_Germany', 'cty_Ukraine', 'cty_Other North & Central Amer., Caribbean', \n",
    " 'cty_France', 'cty_Mexico', 'cty_Morocco', 'cty_Other East Asia', 'cty_Poland', 'cty_Greece',\n",
    " 'cty_Colombia', 'cty_China', 'cty_Indonesia', 'cty_Bangladesh', 'cty_Portugal', 'cty_Japan', 'cty_Other Oceania']\n",
    "\n",
    "logreg = LogisticRegression()\n",
    "\n",
    "X = cs50[feature_cols1]\n",
    "y = cs50['outcome']\n",
    "logreg.fit(X, y)\n",
    "cs50['log_pred_class'] = logreg.predict(X)\n",
    "cs50['log_pred_class'].value_counts()"
   ]
  },
  {
   "cell_type": "code",
   "execution_count": 41,
   "metadata": {
    "collapsed": false
   },
   "outputs": [
    {
     "name": "stdout",
     "output_type": "stream",
     "text": [
      "['gd_f', 'deg_Doctorate', 'deg_Less than Secondary', \"deg_Master's\", 'deg_Secondary', \"deg_Bachelor's\", 'age', 'cty_Unknown/Other', 'cty_United States', 'cty_India', 'cty_Other Europe', 'cty_Other Africa', 'cty_United Kingdom', 'cty_Canada', 'cty_Brazil', 'cty_Other Middle East/Central Asia', 'cty_Other South Asia', 'cty_Russian Federation', 'cty_Pakistan', 'cty_Nigeria', 'cty_Australia', 'cty_Spain', 'cty_Other South America', 'cty_Philippines', 'cty_Egypt', 'cty_Germany', 'cty_Ukraine', 'cty_Other North & Central Amer., Caribbean', 'cty_France', 'cty_Mexico', 'cty_Morocco', 'cty_Other East Asia', 'cty_Poland', 'cty_Greece', 'cty_Colombia', 'cty_China', 'cty_Indonesia', 'cty_Bangladesh', 'cty_Portugal', 'cty_Japan', 'cty_Other Oceania']\n",
      "41\n"
     ]
    },
    {
     "data": {
      "text/plain": [
       "[(array([  1.57572326e-01,   4.09720416e-02,   8.43216712e-02,\n",
       "          -4.77660080e-02,   1.25911907e-01,   4.88902331e-04,\n",
       "           6.16450612e-01,  -1.50046070e-01,  -4.16912442e-01,\n",
       "           1.18853197e-01,  -2.39046362e-01,  -9.78218679e-02,\n",
       "           6.74728915e-03,   9.19745657e-02,  -6.79043405e-02,\n",
       "           1.79019802e-01,   3.43493498e-01,   1.55117331e-01,\n",
       "           2.16115493e-01,  -4.08215794e-01,  -1.53988166e-03,\n",
       "           1.39306526e-02,   2.15544359e-01,  -3.29585386e-01,\n",
       "          -2.08296484e-01,  -8.80660935e-02,  -1.31933704e-01,\n",
       "          -1.83176571e-01,  -2.33104180e-01,  -1.93691295e-01,\n",
       "          -4.57595106e-01,  -5.25755116e-01,  -9.25221170e-02,\n",
       "           2.12891153e-01,   1.57183319e-01,   2.18290268e-01,\n",
       "          -1.69962064e-01,  -3.30481152e-01,  -3.90230474e-01]),),\n",
       " (array([ -4.34782125e-02,  -5.06802268e-02,  -4.17070207e-02,\n",
       "           6.63100897e-02,  -6.94739390e-02,  -5.94442439e-05,\n",
       "          -4.10923394e-01,  -1.03347309e-01,   2.03293629e-02,\n",
       "          -1.93918956e-01,  -2.30587762e-02,  -7.34069092e-03,\n",
       "          -7.79803718e-02,  -2.34019084e-01,  -7.82779539e-02,\n",
       "          -3.50540873e-01,  -3.48059341e-01,  -1.98131887e-01,\n",
       "          -3.00147738e-01,   4.83292085e-02,  -8.87816909e-02,\n",
       "          -1.35884329e-03,  -3.58445223e-01,  -6.75629339e-02,\n",
       "          -1.50874017e-01,   4.23480958e-02,  -1.00782800e-01,\n",
       "           1.28506463e-02,   5.92962043e-02,  -7.07909598e-03,\n",
       "          -3.64406987e-02,   1.14285980e-01,  -3.11043862e-03,\n",
       "          -2.54040894e-01,  -2.21395961e-01,  -3.20739715e-01,\n",
       "          -1.39151843e-01,   1.17886372e-01,   1.61680600e-01]),),\n",
       " (array([-0.59719592,  0.10661785, -0.11771229, -0.03750647, -0.16066591,\n",
       "         -0.00229307, -1.33063733,  0.68583294,  0.8496721 ,  0.32510073,\n",
       "          0.57429393,  0.3525736 ,  0.22219054,  0.5358926 ,  0.40547805,\n",
       "          0.49660229,  0.12441378,  0.2388301 ,  0.25706305,  0.71950327,\n",
       "          0.31050238, -0.14129145,  0.49425146,  0.81651943,  0.83931742,\n",
       "          0.16472574,  0.48714153,  0.51598457,  0.51886389,  0.57139636,\n",
       "          1.04960504,  0.68651191,  0.24320223,  0.28281649,  0.26463383,\n",
       "          0.4516703 ,  0.67865111,  0.37590714,  0.42046416]),),\n",
       " (array([-0.30364215,  0.06040365, -0.13823685, -0.238783  , -0.28042807,\n",
       "          0.00497308, -4.03913013,  0.61089125,  1.06528546, -0.03143952,\n",
       "          1.11981077,  0.11764503,  0.30152458,  0.00580924,  0.67242011,\n",
       "          0.95328386, -0.50285691, -0.39748812,  0.68579245,  1.23961237,\n",
       "         -0.01598389,  0.43734621,  0.49505848,  1.32650816,  1.25059295,\n",
       "          0.01369217,  1.26035083, -0.07756463,  0.0087356 ,  0.40012961,\n",
       "          0.69571741,  1.45633883,  0.49374206, -0.34791858,  0.32478505,\n",
       "         -0.25639043,  1.21941452,  0.63069137, -0.08590936]),)]"
      ]
     },
     "execution_count": 41,
     "metadata": {},
     "output_type": "execute_result"
    }
   ],
   "source": [
    "# Examine Coefficients\n",
    "print feature_cols\n",
    "print len(feature_cols)\n",
    "zip(logreg.coef_)"
   ]
  },
  {
   "cell_type": "code",
   "execution_count": 42,
   "metadata": {
    "collapsed": false
   },
   "outputs": [
    {
     "name": "stdout",
     "output_type": "stream",
     "text": [
      "0.561833789265\n"
     ]
    },
    {
     "data": {
      "text/plain": [
       "0.5618337892651637"
      ]
     },
     "execution_count": 42,
     "metadata": {},
     "output_type": "execute_result"
    }
   ],
   "source": [
    "#evaluate model\n",
    "#cross validation score - doesn't work with multiclass format\n",
    "#use accuracy score\n",
    "# Evaluation logistic model Using Train-Test Split and accuracy scores\n",
    "from sklearn.cross_validation import train_test_split\n",
    "from sklearn import metrics\n",
    "def eval_log(Xf, yf, rand):\n",
    "    X_tr, X_te, y_tr, y_te = train_test_split(Xf, yf, random_state=rand)\n",
    "    logreg = LogisticRegression()\n",
    "    logreg.fit(X_tr, y_tr)\n",
    "    y_pc = logreg.predict(X_te)\n",
    "    met = (metrics.accuracy_score(y_te, y_pc))\n",
    "    print metrics.accuracy_score(y_te, y_pc)\n",
    "    return met\n",
    "eval_log(X,yint,7)"
   ]
  },
  {
   "cell_type": "code",
   "execution_count": 43,
   "metadata": {
    "collapsed": false
   },
   "outputs": [
    {
     "name": "stdout",
     "output_type": "stream",
     "text": [
      "['gd_f', 'deg_Doctorate', 'deg_Less than Secondary', \"deg_Master's\", 'deg_Secondary', \"deg_Bachelor's\", 'age', 'cty_Unknown/Other', 'cty_United States', 'cty_India', 'cty_Other Europe', 'cty_Other Africa', 'cty_United Kingdom', 'cty_Canada', 'cty_Brazil', 'cty_Other Middle East/Central Asia', 'cty_Other South Asia', 'cty_Russian Federation', 'cty_Pakistan', 'cty_Nigeria', 'cty_Australia', 'cty_Spain', 'cty_Other South America', 'cty_Philippines', 'cty_Egypt', 'cty_Germany', 'cty_Ukraine', 'cty_Other North & Central Amer., Caribbean', 'cty_France', 'cty_Mexico', 'cty_Morocco', 'cty_Other East Asia', 'cty_Poland', 'cty_Greece', 'cty_Colombia', 'cty_China', 'cty_Indonesia', 'cty_Bangladesh', 'cty_Portugal', 'cty_Japan', 'cty_Other Oceania']\n"
     ]
    }
   ],
   "source": [
    "print feature_cols"
   ]
  },
  {
   "cell_type": "code",
   "execution_count": 44,
   "metadata": {
    "collapsed": false
   },
   "outputs": [
    {
     "name": "stdout",
     "output_type": "stream",
     "text": [
      "0.561833789265\n",
      "0.563814734459\n",
      "0.557518158664\n"
     ]
    },
    {
     "data": {
      "text/plain": [
       "0.55751815866427701"
      ]
     },
     "execution_count": 44,
     "metadata": {},
     "output_type": "execute_result"
    }
   ],
   "source": [
    "#create different versions of feature vectors and test models\n",
    "feature_cols1 = ['gd_f', 'deg_Doctorate', #'deg_Less than Secondary'#\n",
    "                  \"deg_Master's\", 'deg_Secondary', \"deg_Bachelor's\",\n",
    " 'age', 'cty_Unknown/Other', #'cty_United States'\n",
    " 'cty_India', 'cty_Other Europe', 'cty_Other Africa', \n",
    " 'cty_United Kingdom', 'cty_Canada', 'cty_Brazil', 'cty_Other Middle East/Central Asia', 'cty_Other South Asia', \n",
    " 'cty_Russian Federation', 'cty_Pakistan', 'cty_Nigeria', 'cty_Australia', 'cty_Spain', 'cty_Other South America', \n",
    " 'cty_Philippines', 'cty_Egypt', 'cty_Germany', 'cty_Ukraine', 'cty_Other North & Central Amer., Caribbean', \n",
    " 'cty_France', 'cty_Mexico', 'cty_Morocco', 'cty_Other East Asia', 'cty_Poland', 'cty_Greece',\n",
    " 'cty_Colombia', 'cty_China', 'cty_Indonesia', 'cty_Bangladesh', 'cty_Portugal', 'cty_Japan', 'cty_Other Oceania']\n",
    "feature_cols2 = ['gd_f', 'deg_Doctorate', 'deg_Less than Secondary',\n",
    "\"deg_Master's\", 'deg_Secondary', \"deg_Bachelor's\", 'age', 'cty_Unknown/Other', 'cty_United States']\n",
    "feature_cols3 = ['gd_f', 'deg_Doctorate', 'deg_Less than Secondary',\n",
    "\"deg_Master's\", 'deg_Secondary', \"deg_Bachelor's\", 'age', 'cty_United States']\n",
    "X1 = cs50[feature_cols1]\n",
    "X2=cs50[feature_cols2]\n",
    "X3 = cs50[feature_cols3]\n",
    "eval_log(X1,yint,7)\n",
    "eval_log(X2,yint,7)\n",
    "eval_log(X3, yint,7)"
   ]
  },
  {
   "cell_type": "code",
   "execution_count": 45,
   "metadata": {
    "collapsed": false
   },
   "outputs": [
    {
     "name": "stdout",
     "output_type": "stream",
     "text": [
      "0    169616\n",
      "Name: log_pred_class, dtype: int64\n"
     ]
    }
   ],
   "source": [
    "#run logistic regression for cluster labels\n",
    "from sklearn.linear_model import LogisticRegression\n",
    "feature_cols1 = ['gd_f', 'deg_Doctorate', #'deg_Less than Secondary'#\n",
    "                  \"deg_Master's\", 'deg_Secondary', \"deg_Bachelor's\",\n",
    " 'age', 'cty_Unknown/Other', #'cty_United States'\n",
    " 'cty_India', 'cty_Other Europe', 'cty_Other Africa', \n",
    " 'cty_United Kingdom', 'cty_Canada', 'cty_Brazil', 'cty_Other Middle East/Central Asia', 'cty_Other South Asia', \n",
    " 'cty_Russian Federation', 'cty_Pakistan', 'cty_Nigeria', 'cty_Australia', 'cty_Spain', 'cty_Other South America', \n",
    " 'cty_Philippines', 'cty_Egypt', 'cty_Germany', 'cty_Ukraine', 'cty_Other North & Central Amer., Caribbean', \n",
    " 'cty_France', 'cty_Mexico', 'cty_Morocco', 'cty_Other East Asia', 'cty_Poland', 'cty_Greece',\n",
    " 'cty_Colombia', 'cty_China', 'cty_Indonesia', 'cty_Bangladesh', 'cty_Portugal', 'cty_Japan', 'cty_Other Oceania']\n",
    "\n",
    "logreg = LogisticRegression()\n",
    "\n",
    "X = cs50[feature_cols1]\n",
    "y = cs50['Cluster_labels']\n",
    "logreg.fit(X, y)\n",
    "cs50['log_pred_class'] = logreg.predict(X)\n",
    "print cs50['log_pred_class'].value_counts()\n",
    "yint=y.astype('int64')\n",
    "\n"
   ]
  },
  {
   "cell_type": "code",
   "execution_count": 46,
   "metadata": {
    "collapsed": false
   },
   "outputs": [
    {
     "name": "stdout",
     "output_type": "stream",
     "text": [
      "1         0\n",
      "3         0\n",
      "9         0\n",
      "13        0\n",
      "17        0\n",
      "19        0\n",
      "20        0\n",
      "21        0\n",
      "22        0\n",
      "24        0\n",
      "25        0\n",
      "26        0\n",
      "27        0\n",
      "28        0\n",
      "30        0\n",
      "33        0\n",
      "34        0\n",
      "35        0\n",
      "37        0\n",
      "40        0\n",
      "45        0\n",
      "47        0\n",
      "49        0\n",
      "50        0\n",
      "51        0\n",
      "53        0\n",
      "54        0\n",
      "56        0\n",
      "57        0\n",
      "59        0\n",
      "         ..\n",
      "338151    0\n",
      "338152    0\n",
      "338154    0\n",
      "338163    0\n",
      "338165    0\n",
      "338167    0\n",
      "338169    0\n",
      "338171    0\n",
      "338173    0\n",
      "338177    0\n",
      "338184    0\n",
      "338185    0\n",
      "338187    0\n",
      "338188    0\n",
      "338189    0\n",
      "338190    0\n",
      "338191    0\n",
      "338196    0\n",
      "338197    0\n",
      "338199    0\n",
      "338201    0\n",
      "338203    0\n",
      "338211    0\n",
      "338212    0\n",
      "338214    0\n",
      "338217    0\n",
      "338219    0\n",
      "338220    0\n",
      "338221    0\n",
      "338222    0\n",
      "Name: Cluster_labels, dtype: int32\n"
     ]
    }
   ],
   "source": [
    "print cs50['Cluster_labels']"
   ]
  },
  {
   "cell_type": "code",
   "execution_count": 47,
   "metadata": {
    "collapsed": false
   },
   "outputs": [
    {
     "name": "stdout",
     "output_type": "stream",
     "text": [
      "0.968045467409\n"
     ]
    },
    {
     "data": {
      "text/plain": [
       "0.96804546740873498"
      ]
     },
     "execution_count": 47,
     "metadata": {},
     "output_type": "execute_result"
    }
   ],
   "source": [
    "def eval_logcl(Xf, yf, rand):\n",
    "    X_tr, X_te, y_tr, y_te = train_test_split(Xf, yf, random_state=rand)\n",
    "    logreg = LogisticRegression()\n",
    "    logreg.fit(X_tr, y_tr)\n",
    "    y_pc = logreg.predict(X_te)\n",
    "    met = (metrics.accuracy_score(y_te, y_pc))\n",
    "    print metrics.accuracy_score(y_te, y_pc)\n",
    "    return met\n",
    "eval_logcl(X,yint,7)"
   ]
  },
  {
   "cell_type": "code",
   "execution_count": 48,
   "metadata": {
    "collapsed": false
   },
   "outputs": [
    {
     "data": {
      "text/plain": [
       "RandomForestClassifier(bootstrap=True, class_weight=None, criterion='gini',\n",
       "            max_depth=None, max_features='auto', max_leaf_nodes=None,\n",
       "            min_samples_leaf=1, min_samples_split=2,\n",
       "            min_weight_fraction_leaf=0.0, n_estimators=10, n_jobs=1,\n",
       "            oob_score=False, random_state=None, verbose=0,\n",
       "            warm_start=False)"
      ]
     },
     "execution_count": 48,
     "metadata": {},
     "output_type": "execute_result"
    }
   ],
   "source": [
    "#Try using random forest classifier to see if it's more accurate\n",
    "from sklearn.ensemble import RandomForestClassifier\n",
    "rfcl = RandomForestClassifier()\n",
    "rfcl"
   ]
  },
  {
   "cell_type": "code",
   "execution_count": 49,
   "metadata": {
    "collapsed": false
   },
   "outputs": [
    {
     "data": {
      "text/plain": [
       "RandomForestClassifier(bootstrap=True, class_weight=None, criterion='gini',\n",
       "            max_depth=None, max_features='auto', max_leaf_nodes=None,\n",
       "            min_samples_leaf=1, min_samples_split=2,\n",
       "            min_weight_fraction_leaf=0.0, n_estimators=240, n_jobs=1,\n",
       "            oob_score=False, random_state=1, verbose=0, warm_start=False)"
      ]
     },
     "execution_count": 49,
     "metadata": {},
     "output_type": "execute_result"
    }
   ],
   "source": [
    "X = cs50[feature_cols1]\n",
    "y = cs50['outcome']\n",
    "\n",
    "rfcl = RandomForestClassifier(n_estimators=240, random_state=1)\n",
    "rfcl.fit(X, y)"
   ]
  },
  {
   "cell_type": "code",
   "execution_count": 50,
   "metadata": {
    "collapsed": true
   },
   "outputs": [],
   "source": [
    "y_pc = rfcl.predict(X)"
   ]
  },
  {
   "cell_type": "code",
   "execution_count": 58,
   "metadata": {
    "collapsed": false
   },
   "outputs": [
    {
     "name": "stdout",
     "output_type": "stream",
     "text": [
      "1         1\n",
      "3         0\n",
      "9         1\n",
      "13        1\n",
      "17        1\n",
      "19        1\n",
      "20        1\n",
      "21        1\n",
      "22        1\n",
      "24        1\n",
      "25        0\n",
      "26        0\n",
      "27        1\n",
      "28        1\n",
      "30        0\n",
      "33        1\n",
      "34        1\n",
      "35        0\n",
      "37        1\n",
      "40        0\n",
      "45        0\n",
      "47        1\n",
      "49        0\n",
      "50        1\n",
      "51        1\n",
      "53        0\n",
      "54        1\n",
      "56        1\n",
      "57        0\n",
      "59        1\n",
      "         ..\n",
      "338151    1\n",
      "338152    1\n",
      "338154    1\n",
      "338163    0\n",
      "338165    1\n",
      "338167    1\n",
      "338169    1\n",
      "338171    1\n",
      "338173    0\n",
      "338177    0\n",
      "338184    0\n",
      "338185    0\n",
      "338187    0\n",
      "338188    1\n",
      "338189    0\n",
      "338190    1\n",
      "338191    1\n",
      "338196    0\n",
      "338197    0\n",
      "338199    1\n",
      "338201    0\n",
      "338203    0\n",
      "338211    0\n",
      "338212    1\n",
      "338214    1\n",
      "338217    0\n",
      "338219    0\n",
      "338220    0\n",
      "338221    0\n",
      "338222    0\n",
      "Name: outcome, dtype: object\n",
      "[1 1 1 ..., 1 0 1]\n"
     ]
    }
   ],
   "source": [
    "print y\n",
    "print y_pc"
   ]
  },
  {
   "cell_type": "code",
   "execution_count": 51,
   "metadata": {
    "collapsed": false
   },
   "outputs": [
    {
     "name": "stdout",
     "output_type": "stream",
     "text": [
      "1    138807\n",
      "0     30664\n",
      "2       145\n",
      "dtype: int64\n"
     ]
    }
   ],
   "source": [
    "print pd.Series(y_pc).value_counts()"
   ]
  },
  {
   "cell_type": "code",
   "execution_count": 52,
   "metadata": {
    "collapsed": false
   },
   "outputs": [],
   "source": [
    "\n",
    "\n",
    "# list of values to try for n_estimators\n",
    "estimator_range = range(10, 310, 10)\n",
    "\n",
    "from sklearn.cross_validation import train_test_split\n",
    "from sklearn import metrics\n",
    "def eval_rf(Xf, yf, rand, est):\n",
    "    rf_tuple = []\n",
    "    X_tr, X_te, y_tr, y_te = train_test_split(Xf, yf, random_state=rand)\n",
    "    y_tr2=y_tr.astype(int)\n",
    "    y_te2=y_te.astype(int)\n",
    "    for r in est:\n",
    "        rfcl = RandomForestClassifier(n_estimators=r, random_state=1)\n",
    "        rfcl.fit(X_tr, y_tr2)\n",
    "        y_pc = rfcl.predict(X_te)\n",
    "        y_pc2 = y_pc.astype(int)\n",
    "        met = (metrics.accuracy_score(y_te2, y_pc2))\n",
    "        rf_tuple.append((r, met))\n",
    "        print r\n",
    "    return rf_tuple\n",
    "\n"
   ]
  },
  {
   "cell_type": "code",
   "execution_count": 53,
   "metadata": {
    "collapsed": false
   },
   "outputs": [],
   "source": [
    "#test = eval_rf(X,y,150,estimator_range)\n",
    "#print test"
   ]
  },
  {
   "cell_type": "code",
   "execution_count": 54,
   "metadata": {
    "collapsed": false
   },
   "outputs": [],
   "source": [
    "#plot results\n",
    "#print test\n",
    "#import matplotlib.pyplot as plt\n",
    "#n = []\n",
    "#v = []\n",
    "#for est, val in test:\n",
    "   # n.append(est)\n",
    "    #v.append(val)\n",
    "\n",
    "#print n\n",
    "#print v\n",
    "#plt.title('Tuning Random Forest Model')\n",
    "#plt.ylabel('Accuracy Score')\n",
    "#plt.xlabel('Number of Estimators')\n",
    "#plt.scatter(n, v, linewidths = 1)\n",
    "#plt.plot(n,v,'.r-')\n",
    "#plt.show()\n"
   ]
  },
  {
   "cell_type": "code",
   "execution_count": 55,
   "metadata": {
    "collapsed": false
   },
   "outputs": [],
   "source": [
    "\n",
    "\n",
    "\n",
    "# list of values to try for max_features\n",
    "X = cs50[feature_cols1]\n",
    "feature_range = range(1, 12)\n",
    "\n",
    "# use 10-fold cross-validation with each value of max_features (WARNING: SLOW!)\n",
    "\n",
    "def eval_rf2(Xf, yf, rand, feature):\n",
    "    rf_tuple = []\n",
    "    X_tr, X_te, y_tr, y_te = train_test_split(Xf, yf, random_state=rand)\n",
    "    y_tr2=y_tr.astype(int)\n",
    "    y_te2=y_te.astype(int)\n",
    "    for f in feature:\n",
    "        rfcl = RandomForestClassifier(n_estimators=240, random_state=1, max_features=f)\n",
    "        rfcl.fit(X_tr, y_tr2)\n",
    "        y_pc = rfcl.predict(X_te)\n",
    "        y_pc2 = y_pc.astype(int)\n",
    "        met = (metrics.accuracy_score(y_te2, y_pc2))\n",
    "        rf_tuple.append((f, met))\n",
    "        print f\n",
    "    return rf_tuple\n",
    "\n"
   ]
  },
  {
   "cell_type": "code",
   "execution_count": 56,
   "metadata": {
    "collapsed": false
   },
   "outputs": [],
   "source": [
    "#test2 = eval_rf2(X1,y,150,feature_range)\n",
    "#print test2"
   ]
  },
  {
   "cell_type": "code",
   "execution_count": 63,
   "metadata": {
    "collapsed": false
   },
   "outputs": [
    {
     "data": {
      "image/png": "[encoded data removed]",
      "text/plain": [
       "<matplotlib.figure.Figure at 0x11271b350>"
      ]
     },
     "metadata": {},
     "output_type": "display_data"
    }
   ],
   "source": [
    "#plot results\n",
    "#import matplotlib.pyplot as plt\n",
    "#n = []\n",
    "#v = []\n",
    "#for est, val in test2:\n",
    "   # n.append(est)\n",
    "    #v.append(val)\n",
    "\n",
    "#plt.title('Tuning Random Forest Model: # of features')\n",
    "#plt.ylabel('Accuracy Score')\n",
    "#plt.xlabel('Number of Features')\n",
    "#plt.scatter(n, v, linewidths = 1)\n",
    "#plt.plot(n,v,'.g-')\n",
    "#plt.show()"
   ]
  },
  {
   "cell_type": "code",
   "execution_count": 57,
   "metadata": {
    "collapsed": false
   },
   "outputs": [
    {
     "data": {
      "text/plain": [
       "RandomForestClassifier(bootstrap=True, class_weight=None, criterion='gini',\n",
       "            max_depth=None, max_features=12, max_leaf_nodes=None,\n",
       "            min_samples_leaf=1, min_samples_split=2,\n",
       "            min_weight_fraction_leaf=0.0, n_estimators=240, n_jobs=1,\n",
       "            oob_score=True, random_state=1, verbose=0, warm_start=False)"
      ]
     },
     "execution_count": 57,
     "metadata": {},
     "output_type": "execute_result"
    }
   ],
   "source": [
    "# max_features=12 is best and n_estimators=240 is sufficiently large\n",
    "feature_cols1 = ['gd_f', 'deg_Doctorate', 'deg_Less than Secondary',\n",
    "                  \"deg_Master's\", 'deg_Secondary', #\"deg_Bachelor's\",\n",
    " 'age', 'cty_Unknown/Other', #'cty_United States'\n",
    " 'cty_India', 'cty_Other Europe', 'cty_Other Africa', \n",
    " 'cty_United Kingdom', 'cty_Canada', 'cty_Brazil', 'cty_Other Middle East/Central Asia', 'cty_Other South Asia', \n",
    " 'cty_Russian Federation', 'cty_Pakistan', 'cty_Nigeria', 'cty_Australia', 'cty_Spain', 'cty_Other South America', \n",
    " 'cty_Philippines', 'cty_Egypt', 'cty_Germany', 'cty_Ukraine', 'cty_Other North & Central Amer., Caribbean', \n",
    " 'cty_France', 'cty_Mexico', 'cty_Morocco', 'cty_Other East Asia', 'cty_Poland', 'cty_Greece',\n",
    " 'cty_Colombia', 'cty_China', 'cty_Indonesia', 'cty_Bangladesh', 'cty_Portugal', 'cty_Japan', 'cty_Other Oceania']\n",
    "X=cs50[feature_cols1]\n",
    "y = cs50['outcome']\n",
    "rfcl = RandomForestClassifier(n_estimators=240, max_features=12, oob_score=True, random_state=1)\n",
    "rfcl.fit(X, y)"
   ]
  },
  {
   "cell_type": "code",
   "execution_count": 58,
   "metadata": {
    "collapsed": false
   },
   "outputs": [
    {
     "data": {
      "text/html": [
       "<div>\n",
       "<table border=\"1\" class=\"dataframe\">\n",
       "  <thead>\n",
       "    <tr style=\"text-align: right;\">\n",
       "      <th></th>\n",
       "      <th>feature</th>\n",
       "      <th>importance</th>\n",
       "    </tr>\n",
       "  </thead>\n",
       "  <tbody>\n",
       "    <tr>\n",
       "      <th>5</th>\n",
       "      <td>age</td>\n",
       "      <td>0.483829</td>\n",
       "    </tr>\n",
       "    <tr>\n",
       "      <th>6</th>\n",
       "      <td>cty_Unknown/Other</td>\n",
       "      <td>0.216577</td>\n",
       "    </tr>\n",
       "    <tr>\n",
       "      <th>4</th>\n",
       "      <td>deg_Secondary</td>\n",
       "      <td>0.029530</td>\n",
       "    </tr>\n",
       "    <tr>\n",
       "      <th>3</th>\n",
       "      <td>deg_Master's</td>\n",
       "      <td>0.029061</td>\n",
       "    </tr>\n",
       "    <tr>\n",
       "      <th>8</th>\n",
       "      <td>cty_Other Europe</td>\n",
       "      <td>0.020682</td>\n",
       "    </tr>\n",
       "    <tr>\n",
       "      <th>0</th>\n",
       "      <td>gd_f</td>\n",
       "      <td>0.020544</td>\n",
       "    </tr>\n",
       "    <tr>\n",
       "      <th>2</th>\n",
       "      <td>deg_Less than Secondary</td>\n",
       "      <td>0.016253</td>\n",
       "    </tr>\n",
       "    <tr>\n",
       "      <th>7</th>\n",
       "      <td>cty_India</td>\n",
       "      <td>0.015519</td>\n",
       "    </tr>\n",
       "    <tr>\n",
       "      <th>16</th>\n",
       "      <td>cty_Pakistan</td>\n",
       "      <td>0.008651</td>\n",
       "    </tr>\n",
       "    <tr>\n",
       "      <th>11</th>\n",
       "      <td>cty_Canada</td>\n",
       "      <td>0.008492</td>\n",
       "    </tr>\n",
       "    <tr>\n",
       "      <th>12</th>\n",
       "      <td>cty_Brazil</td>\n",
       "      <td>0.008324</td>\n",
       "    </tr>\n",
       "    <tr>\n",
       "      <th>9</th>\n",
       "      <td>cty_Other Africa</td>\n",
       "      <td>0.008184</td>\n",
       "    </tr>\n",
       "    <tr>\n",
       "      <th>10</th>\n",
       "      <td>cty_United Kingdom</td>\n",
       "      <td>0.008095</td>\n",
       "    </tr>\n",
       "    <tr>\n",
       "      <th>13</th>\n",
       "      <td>cty_Other Middle East/Central Asia</td>\n",
       "      <td>0.007025</td>\n",
       "    </tr>\n",
       "    <tr>\n",
       "      <th>15</th>\n",
       "      <td>cty_Russian Federation</td>\n",
       "      <td>0.006902</td>\n",
       "    </tr>\n",
       "    <tr>\n",
       "      <th>1</th>\n",
       "      <td>deg_Doctorate</td>\n",
       "      <td>0.006886</td>\n",
       "    </tr>\n",
       "    <tr>\n",
       "      <th>14</th>\n",
       "      <td>cty_Other South Asia</td>\n",
       "      <td>0.006747</td>\n",
       "    </tr>\n",
       "    <tr>\n",
       "      <th>18</th>\n",
       "      <td>cty_Australia</td>\n",
       "      <td>0.006260</td>\n",
       "    </tr>\n",
       "    <tr>\n",
       "      <th>19</th>\n",
       "      <td>cty_Spain</td>\n",
       "      <td>0.006201</td>\n",
       "    </tr>\n",
       "    <tr>\n",
       "      <th>22</th>\n",
       "      <td>cty_Egypt</td>\n",
       "      <td>0.005911</td>\n",
       "    </tr>\n",
       "    <tr>\n",
       "      <th>20</th>\n",
       "      <td>cty_Other South America</td>\n",
       "      <td>0.005773</td>\n",
       "    </tr>\n",
       "    <tr>\n",
       "      <th>21</th>\n",
       "      <td>cty_Philippines</td>\n",
       "      <td>0.005666</td>\n",
       "    </tr>\n",
       "    <tr>\n",
       "      <th>17</th>\n",
       "      <td>cty_Nigeria</td>\n",
       "      <td>0.005642</td>\n",
       "    </tr>\n",
       "    <tr>\n",
       "      <th>25</th>\n",
       "      <td>cty_Other North &amp; Central Amer., Caribbean</td>\n",
       "      <td>0.005484</td>\n",
       "    </tr>\n",
       "    <tr>\n",
       "      <th>31</th>\n",
       "      <td>cty_Greece</td>\n",
       "      <td>0.004826</td>\n",
       "    </tr>\n",
       "    <tr>\n",
       "      <th>26</th>\n",
       "      <td>cty_France</td>\n",
       "      <td>0.004684</td>\n",
       "    </tr>\n",
       "    <tr>\n",
       "      <th>27</th>\n",
       "      <td>cty_Mexico</td>\n",
       "      <td>0.004482</td>\n",
       "    </tr>\n",
       "    <tr>\n",
       "      <th>34</th>\n",
       "      <td>cty_Indonesia</td>\n",
       "      <td>0.004454</td>\n",
       "    </tr>\n",
       "    <tr>\n",
       "      <th>29</th>\n",
       "      <td>cty_Other East Asia</td>\n",
       "      <td>0.004426</td>\n",
       "    </tr>\n",
       "    <tr>\n",
       "      <th>23</th>\n",
       "      <td>cty_Germany</td>\n",
       "      <td>0.004376</td>\n",
       "    </tr>\n",
       "    <tr>\n",
       "      <th>24</th>\n",
       "      <td>cty_Ukraine</td>\n",
       "      <td>0.004263</td>\n",
       "    </tr>\n",
       "    <tr>\n",
       "      <th>30</th>\n",
       "      <td>cty_Poland</td>\n",
       "      <td>0.003981</td>\n",
       "    </tr>\n",
       "    <tr>\n",
       "      <th>33</th>\n",
       "      <td>cty_China</td>\n",
       "      <td>0.003887</td>\n",
       "    </tr>\n",
       "    <tr>\n",
       "      <th>28</th>\n",
       "      <td>cty_Morocco</td>\n",
       "      <td>0.003771</td>\n",
       "    </tr>\n",
       "    <tr>\n",
       "      <th>36</th>\n",
       "      <td>cty_Portugal</td>\n",
       "      <td>0.003703</td>\n",
       "    </tr>\n",
       "    <tr>\n",
       "      <th>32</th>\n",
       "      <td>cty_Colombia</td>\n",
       "      <td>0.003411</td>\n",
       "    </tr>\n",
       "    <tr>\n",
       "      <th>35</th>\n",
       "      <td>cty_Bangladesh</td>\n",
       "      <td>0.003216</td>\n",
       "    </tr>\n",
       "    <tr>\n",
       "      <th>38</th>\n",
       "      <td>cty_Other Oceania</td>\n",
       "      <td>0.002235</td>\n",
       "    </tr>\n",
       "    <tr>\n",
       "      <th>37</th>\n",
       "      <td>cty_Japan</td>\n",
       "      <td>0.002047</td>\n",
       "    </tr>\n",
       "  </tbody>\n",
       "</table>\n",
       "</div>"
      ],
      "text/plain": [
       "                                       feature  importance\n",
       "5                                          age    0.483829\n",
       "6                            cty_Unknown/Other    0.216577\n",
       "4                                deg_Secondary    0.029530\n",
       "3                                 deg_Master's    0.029061\n",
       "8                             cty_Other Europe    0.020682\n",
       "0                                         gd_f    0.020544\n",
       "2                      deg_Less than Secondary    0.016253\n",
       "7                                    cty_India    0.015519\n",
       "16                                cty_Pakistan    0.008651\n",
       "11                                  cty_Canada    0.008492\n",
       "12                                  cty_Brazil    0.008324\n",
       "9                             cty_Other Africa    0.008184\n",
       "10                          cty_United Kingdom    0.008095\n",
       "13          cty_Other Middle East/Central Asia    0.007025\n",
       "15                      cty_Russian Federation    0.006902\n",
       "1                                deg_Doctorate    0.006886\n",
       "14                        cty_Other South Asia    0.006747\n",
       "18                               cty_Australia    0.006260\n",
       "19                                   cty_Spain    0.006201\n",
       "22                                   cty_Egypt    0.005911\n",
       "20                     cty_Other South America    0.005773\n",
       "21                             cty_Philippines    0.005666\n",
       "17                                 cty_Nigeria    0.005642\n",
       "25  cty_Other North & Central Amer., Caribbean    0.005484\n",
       "31                                  cty_Greece    0.004826\n",
       "26                                  cty_France    0.004684\n",
       "27                                  cty_Mexico    0.004482\n",
       "34                               cty_Indonesia    0.004454\n",
       "29                         cty_Other East Asia    0.004426\n",
       "23                                 cty_Germany    0.004376\n",
       "24                                 cty_Ukraine    0.004263\n",
       "30                                  cty_Poland    0.003981\n",
       "33                                   cty_China    0.003887\n",
       "28                                 cty_Morocco    0.003771\n",
       "36                                cty_Portugal    0.003703\n",
       "32                                cty_Colombia    0.003411\n",
       "35                              cty_Bangladesh    0.003216\n",
       "38                           cty_Other Oceania    0.002235\n",
       "37                                   cty_Japan    0.002047"
      ]
     },
     "execution_count": 58,
     "metadata": {},
     "output_type": "execute_result"
    }
   ],
   "source": [
    "# compute feature importances\n",
    "pd.DataFrame({'feature':feature_cols1, 'importance':rfcl.feature_importances_}).sort_values('importance', ascending = False)"
   ]
  },
  {
   "cell_type": "code",
   "execution_count": 59,
   "metadata": {
    "collapsed": false
   },
   "outputs": [
    {
     "data": {
      "text/plain": [
       "0.55568460522592211"
      ]
     },
     "execution_count": 59,
     "metadata": {},
     "output_type": "execute_result"
    }
   ],
   "source": [
    "# compute the out-of-bag R-squared score\n",
    "rfcl.oob_score_"
   ]
  },
  {
   "cell_type": "code",
   "execution_count": 60,
   "metadata": {
    "collapsed": false
   },
   "outputs": [
    {
     "name": "stdout",
     "output_type": "stream",
     "text": [
      "1    109138\n",
      "0     52099\n",
      "2      7094\n",
      "3      1285\n",
      "dtype: int64\n"
     ]
    }
   ],
   "source": [
    "# ADD Course interaction variables w/max_features=12 is best and n_estimators=240 is sufficiently large\n",
    "feature_cols1 = ['gd_f', 'deg_Doctorate', 'deg_Less than Secondary',\n",
    "                  \"deg_Master's\", 'deg_Secondary', #\"deg_Bachelor's\",\n",
    " 'age', 'cty_Unknown/Other', #'cty_United States'\n",
    " 'cty_India', 'cty_Other Europe', 'cty_Other Africa', \n",
    " 'cty_United Kingdom', 'cty_Canada', 'cty_Brazil', 'cty_Other Middle East/Central Asia', 'cty_Other South Asia', \n",
    " 'cty_Russian Federation', 'cty_Pakistan', 'cty_Nigeria', 'cty_Australia', 'cty_Spain', 'cty_Other South America', \n",
    " 'cty_Philippines', 'cty_Egypt', 'cty_Germany', 'cty_Ukraine', 'cty_Other North & Central Amer., Caribbean', \n",
    " 'cty_France', 'cty_Mexico', 'cty_Morocco', 'cty_Other East Asia', 'cty_Poland', 'cty_Greece',\n",
    " 'cty_Colombia', 'cty_China', 'cty_Indonesia', 'cty_Bangladesh', 'cty_Portugal', 'cty_Japan', 'cty_Other Oceania' ,'nevents', 'ndays_act' ]\n",
    "X=cs50[feature_cols1]\n",
    "y = cs50['outcome']\n",
    "rfcl = RandomForestClassifier(n_estimators=240, max_features=12, oob_score=True, random_state=1)\n",
    "rfcl.fit(X, y)\n",
    "y_pc = rfcl.predict(X)\n",
    "print pd.Series(y_pc).value_counts()"
   ]
  },
  {
   "cell_type": "code",
   "execution_count": 61,
   "metadata": {
    "collapsed": false
   },
   "outputs": [
    {
     "data": {
      "text/html": [
       "<div>\n",
       "<table border=\"1\" class=\"dataframe\">\n",
       "  <thead>\n",
       "    <tr style=\"text-align: right;\">\n",
       "      <th></th>\n",
       "      <th>feature</th>\n",
       "      <th>importance</th>\n",
       "    </tr>\n",
       "  </thead>\n",
       "  <tbody>\n",
       "    <tr>\n",
       "      <th>39</th>\n",
       "      <td>nevents</td>\n",
       "      <td>0.389663</td>\n",
       "    </tr>\n",
       "    <tr>\n",
       "      <th>5</th>\n",
       "      <td>age</td>\n",
       "      <td>0.231881</td>\n",
       "    </tr>\n",
       "    <tr>\n",
       "      <th>40</th>\n",
       "      <td>ndays_act</td>\n",
       "      <td>0.165923</td>\n",
       "    </tr>\n",
       "    <tr>\n",
       "      <th>4</th>\n",
       "      <td>deg_Secondary</td>\n",
       "      <td>0.017370</td>\n",
       "    </tr>\n",
       "    <tr>\n",
       "      <th>3</th>\n",
       "      <td>deg_Master's</td>\n",
       "      <td>0.016801</td>\n",
       "    </tr>\n",
       "    <tr>\n",
       "      <th>6</th>\n",
       "      <td>cty_Unknown/Other</td>\n",
       "      <td>0.016491</td>\n",
       "    </tr>\n",
       "    <tr>\n",
       "      <th>0</th>\n",
       "      <td>gd_f</td>\n",
       "      <td>0.015461</td>\n",
       "    </tr>\n",
       "    <tr>\n",
       "      <th>7</th>\n",
       "      <td>cty_India</td>\n",
       "      <td>0.008599</td>\n",
       "    </tr>\n",
       "    <tr>\n",
       "      <th>10</th>\n",
       "      <td>cty_United Kingdom</td>\n",
       "      <td>0.008316</td>\n",
       "    </tr>\n",
       "    <tr>\n",
       "      <th>11</th>\n",
       "      <td>cty_Canada</td>\n",
       "      <td>0.007880</td>\n",
       "    </tr>\n",
       "    <tr>\n",
       "      <th>8</th>\n",
       "      <td>cty_Other Europe</td>\n",
       "      <td>0.007686</td>\n",
       "    </tr>\n",
       "    <tr>\n",
       "      <th>9</th>\n",
       "      <td>cty_Other Africa</td>\n",
       "      <td>0.007116</td>\n",
       "    </tr>\n",
       "    <tr>\n",
       "      <th>12</th>\n",
       "      <td>cty_Brazil</td>\n",
       "      <td>0.006313</td>\n",
       "    </tr>\n",
       "    <tr>\n",
       "      <th>13</th>\n",
       "      <td>cty_Other Middle East/Central Asia</td>\n",
       "      <td>0.006173</td>\n",
       "    </tr>\n",
       "    <tr>\n",
       "      <th>14</th>\n",
       "      <td>cty_Other South Asia</td>\n",
       "      <td>0.005952</td>\n",
       "    </tr>\n",
       "    <tr>\n",
       "      <th>2</th>\n",
       "      <td>deg_Less than Secondary</td>\n",
       "      <td>0.005334</td>\n",
       "    </tr>\n",
       "    <tr>\n",
       "      <th>15</th>\n",
       "      <td>cty_Russian Federation</td>\n",
       "      <td>0.004782</td>\n",
       "    </tr>\n",
       "    <tr>\n",
       "      <th>18</th>\n",
       "      <td>cty_Australia</td>\n",
       "      <td>0.004595</td>\n",
       "    </tr>\n",
       "    <tr>\n",
       "      <th>16</th>\n",
       "      <td>cty_Pakistan</td>\n",
       "      <td>0.004497</td>\n",
       "    </tr>\n",
       "    <tr>\n",
       "      <th>17</th>\n",
       "      <td>cty_Nigeria</td>\n",
       "      <td>0.004449</td>\n",
       "    </tr>\n",
       "    <tr>\n",
       "      <th>20</th>\n",
       "      <td>cty_Other South America</td>\n",
       "      <td>0.004331</td>\n",
       "    </tr>\n",
       "    <tr>\n",
       "      <th>23</th>\n",
       "      <td>cty_Germany</td>\n",
       "      <td>0.004312</td>\n",
       "    </tr>\n",
       "    <tr>\n",
       "      <th>19</th>\n",
       "      <td>cty_Spain</td>\n",
       "      <td>0.004147</td>\n",
       "    </tr>\n",
       "    <tr>\n",
       "      <th>1</th>\n",
       "      <td>deg_Doctorate</td>\n",
       "      <td>0.004104</td>\n",
       "    </tr>\n",
       "    <tr>\n",
       "      <th>25</th>\n",
       "      <td>cty_Other North &amp; Central Amer., Caribbean</td>\n",
       "      <td>0.003864</td>\n",
       "    </tr>\n",
       "    <tr>\n",
       "      <th>21</th>\n",
       "      <td>cty_Philippines</td>\n",
       "      <td>0.003848</td>\n",
       "    </tr>\n",
       "    <tr>\n",
       "      <th>22</th>\n",
       "      <td>cty_Egypt</td>\n",
       "      <td>0.003800</td>\n",
       "    </tr>\n",
       "    <tr>\n",
       "      <th>24</th>\n",
       "      <td>cty_Ukraine</td>\n",
       "      <td>0.003693</td>\n",
       "    </tr>\n",
       "    <tr>\n",
       "      <th>26</th>\n",
       "      <td>cty_France</td>\n",
       "      <td>0.003465</td>\n",
       "    </tr>\n",
       "    <tr>\n",
       "      <th>27</th>\n",
       "      <td>cty_Mexico</td>\n",
       "      <td>0.003314</td>\n",
       "    </tr>\n",
       "    <tr>\n",
       "      <th>29</th>\n",
       "      <td>cty_Other East Asia</td>\n",
       "      <td>0.003298</td>\n",
       "    </tr>\n",
       "    <tr>\n",
       "      <th>30</th>\n",
       "      <td>cty_Poland</td>\n",
       "      <td>0.002910</td>\n",
       "    </tr>\n",
       "    <tr>\n",
       "      <th>28</th>\n",
       "      <td>cty_Morocco</td>\n",
       "      <td>0.002683</td>\n",
       "    </tr>\n",
       "    <tr>\n",
       "      <th>31</th>\n",
       "      <td>cty_Greece</td>\n",
       "      <td>0.002681</td>\n",
       "    </tr>\n",
       "    <tr>\n",
       "      <th>33</th>\n",
       "      <td>cty_China</td>\n",
       "      <td>0.002521</td>\n",
       "    </tr>\n",
       "    <tr>\n",
       "      <th>34</th>\n",
       "      <td>cty_Indonesia</td>\n",
       "      <td>0.002448</td>\n",
       "    </tr>\n",
       "    <tr>\n",
       "      <th>32</th>\n",
       "      <td>cty_Colombia</td>\n",
       "      <td>0.002442</td>\n",
       "    </tr>\n",
       "    <tr>\n",
       "      <th>36</th>\n",
       "      <td>cty_Portugal</td>\n",
       "      <td>0.002419</td>\n",
       "    </tr>\n",
       "    <tr>\n",
       "      <th>35</th>\n",
       "      <td>cty_Bangladesh</td>\n",
       "      <td>0.001947</td>\n",
       "    </tr>\n",
       "    <tr>\n",
       "      <th>37</th>\n",
       "      <td>cty_Japan</td>\n",
       "      <td>0.001395</td>\n",
       "    </tr>\n",
       "    <tr>\n",
       "      <th>38</th>\n",
       "      <td>cty_Other Oceania</td>\n",
       "      <td>0.001094</td>\n",
       "    </tr>\n",
       "  </tbody>\n",
       "</table>\n",
       "</div>"
      ],
      "text/plain": [
       "                                       feature  importance\n",
       "39                                     nevents    0.389663\n",
       "5                                          age    0.231881\n",
       "40                                   ndays_act    0.165923\n",
       "4                                deg_Secondary    0.017370\n",
       "3                                 deg_Master's    0.016801\n",
       "6                            cty_Unknown/Other    0.016491\n",
       "0                                         gd_f    0.015461\n",
       "7                                    cty_India    0.008599\n",
       "10                          cty_United Kingdom    0.008316\n",
       "11                                  cty_Canada    0.007880\n",
       "8                             cty_Other Europe    0.007686\n",
       "9                             cty_Other Africa    0.007116\n",
       "12                                  cty_Brazil    0.006313\n",
       "13          cty_Other Middle East/Central Asia    0.006173\n",
       "14                        cty_Other South Asia    0.005952\n",
       "2                      deg_Less than Secondary    0.005334\n",
       "15                      cty_Russian Federation    0.004782\n",
       "18                               cty_Australia    0.004595\n",
       "16                                cty_Pakistan    0.004497\n",
       "17                                 cty_Nigeria    0.004449\n",
       "20                     cty_Other South America    0.004331\n",
       "23                                 cty_Germany    0.004312\n",
       "19                                   cty_Spain    0.004147\n",
       "1                                deg_Doctorate    0.004104\n",
       "25  cty_Other North & Central Amer., Caribbean    0.003864\n",
       "21                             cty_Philippines    0.003848\n",
       "22                                   cty_Egypt    0.003800\n",
       "24                                 cty_Ukraine    0.003693\n",
       "26                                  cty_France    0.003465\n",
       "27                                  cty_Mexico    0.003314\n",
       "29                         cty_Other East Asia    0.003298\n",
       "30                                  cty_Poland    0.002910\n",
       "28                                 cty_Morocco    0.002683\n",
       "31                                  cty_Greece    0.002681\n",
       "33                                   cty_China    0.002521\n",
       "34                               cty_Indonesia    0.002448\n",
       "32                                cty_Colombia    0.002442\n",
       "36                                cty_Portugal    0.002419\n",
       "35                              cty_Bangladesh    0.001947\n",
       "37                                   cty_Japan    0.001395\n",
       "38                           cty_Other Oceania    0.001094"
      ]
     },
     "execution_count": 61,
     "metadata": {},
     "output_type": "execute_result"
    }
   ],
   "source": [
    "# compute feature importances\n",
    "pd.DataFrame({'feature':feature_cols1, 'importance':rfcl.feature_importances_}).sort_values('importance', ascending = False)"
   ]
  },
  {
   "cell_type": "code",
   "execution_count": 62,
   "metadata": {
    "collapsed": false
   },
   "outputs": [
    {
     "data": {
      "text/plain": [
       "0.58116569191585699"
      ]
     },
     "execution_count": 62,
     "metadata": {},
     "output_type": "execute_result"
    }
   ],
   "source": [
    "# compute the out-of-bag R-squared score\n",
    "rfcl.oob_score_"
   ]
  },
  {
   "cell_type": "code",
   "execution_count": 65,
   "metadata": {
    "collapsed": false
   },
   "outputs": [
    {
     "name": "stderr",
     "output_type": "stream",
     "text": [
      "/Users/TeddyandAlex/anaconda/lib/python2.7/site-packages/pandas/core/indexing.py:266: SettingWithCopyWarning: \n",
      "A value is trying to be set on a copy of a slice from a DataFrame.\n",
      "Try using .loc[row_indexer,col_indexer] = value instead\n",
      "\n",
      "See the caveats in the documentation: http://pandas.pydata.org/pandas-docs/stable/indexing.html#indexing-view-versus-copy\n",
      "  self.obj[key] = _infer_fill_value(value)\n",
      "/Users/TeddyandAlex/anaconda/lib/python2.7/site-packages/pandas/core/indexing.py:426: SettingWithCopyWarning: \n",
      "A value is trying to be set on a copy of a slice from a DataFrame.\n",
      "Try using .loc[row_indexer,col_indexer] = value instead\n",
      "\n",
      "See the caveats in the documentation: http://pandas.pydata.org/pandas-docs/stable/indexing.html#indexing-view-versus-copy\n",
      "  self.obj[item] = s\n"
     ]
    },
    {
     "name": "stdout",
     "output_type": "stream",
     "text": [
      "(106484, 71)\n",
      "(6543, 71)\n"
     ]
    }
   ],
   "source": [
    "# Predicting who drops out after chapters 1 and 10\n",
    "drop1 = cs50[(cs50['nchapters'] >= 1)]\n",
    "drop10 = cs50[(cs50['nchapters'] >= 10)]\n",
    "drop1.loc[(drop1['nchapters'] == 1), 'drop_ch1']=1\n",
    "drop1.loc[(drop1['nchapters'] != 1), 'drop_ch1']=0\n",
    "drop10.loc[(drop10['nchapters'] == 10), 'drop_ch10']=1\n",
    "drop10.loc[(drop10['nchapters'] != 10), 'drop_ch10']=0\n",
    "print drop1.shape\n",
    "print drop10.shape"
   ]
  }
 ],
 "metadata": {
  "kernelspec": {
   "display_name": "Python 2",
   "language": "python",
   "name": "python2"
  },
  "language_info": {
   "codemirror_mode": {
    "name": "ipython",
    "version": 2
   },
   "file_extension": ".py",
   "mimetype": "text/x-python",
   "name": "python",
   "nbconvert_exporter": "python",
   "pygments_lexer": "ipython2",
   "version": "2.7.10"
  }
 },
 "nbformat": 4,
 "nbformat_minor": 0
}
